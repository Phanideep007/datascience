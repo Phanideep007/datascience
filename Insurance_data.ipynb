{
 "cells": [
  {
   "cell_type": "code",
   "execution_count": 1,
   "metadata": {
    "collapsed": true
   },
   "outputs": [],
   "source": [
    "import pandas as pd\n",
    "import numpy as np\n",
    "import matplotlib.pyplot as plt\n",
    "%matplotlib inline"
   ]
  },
  {
   "cell_type": "code",
   "execution_count": 2,
   "metadata": {
    "collapsed": true
   },
   "outputs": [],
   "source": [
    "insurdata=pd.read_csv(\"/Users/Phani deep/Insurance_Data.csv\")"
   ]
  },
  {
   "cell_type": "code",
   "execution_count": 3,
   "metadata": {
    "collapsed": false
   },
   "outputs": [
    {
     "data": {
      "text/html": [
       "<div>\n",
       "<table border=\"1\" class=\"dataframe\">\n",
       "  <thead>\n",
       "    <tr style=\"text-align: right;\">\n",
       "      <th></th>\n",
       "      <th>Policy Number</th>\n",
       "      <th>Number of Vehicles</th>\n",
       "      <th>Average Age</th>\n",
       "      <th>Gender Dummy</th>\n",
       "      <th>Married Dummy</th>\n",
       "      <th>Avg Veh Age</th>\n",
       "      <th>Fuel Type Dummy</th>\n",
       "      <th>Losses</th>\n",
       "    </tr>\n",
       "  </thead>\n",
       "  <tbody>\n",
       "    <tr>\n",
       "      <th>count</th>\n",
       "      <td>15290.000000</td>\n",
       "      <td>15290.000000</td>\n",
       "      <td>15290.000000</td>\n",
       "      <td>15290.000000</td>\n",
       "      <td>15290.000000</td>\n",
       "      <td>15290.000000</td>\n",
       "      <td>15290.000000</td>\n",
       "      <td>15290.000000</td>\n",
       "    </tr>\n",
       "    <tr>\n",
       "      <th>mean</th>\n",
       "      <td>149910.276651</td>\n",
       "      <td>2.495880</td>\n",
       "      <td>42.341969</td>\n",
       "      <td>0.493329</td>\n",
       "      <td>0.490974</td>\n",
       "      <td>8.656579</td>\n",
       "      <td>0.236756</td>\n",
       "      <td>389.859718</td>\n",
       "    </tr>\n",
       "    <tr>\n",
       "      <th>std</th>\n",
       "      <td>28948.806631</td>\n",
       "      <td>0.953776</td>\n",
       "      <td>16.976615</td>\n",
       "      <td>0.499972</td>\n",
       "      <td>0.499935</td>\n",
       "      <td>4.084988</td>\n",
       "      <td>0.425105</td>\n",
       "      <td>253.729433</td>\n",
       "    </tr>\n",
       "    <tr>\n",
       "      <th>min</th>\n",
       "      <td>100002.000000</td>\n",
       "      <td>1.000000</td>\n",
       "      <td>20.600000</td>\n",
       "      <td>0.000000</td>\n",
       "      <td>0.000000</td>\n",
       "      <td>2.500000</td>\n",
       "      <td>0.000000</td>\n",
       "      <td>12.534521</td>\n",
       "    </tr>\n",
       "    <tr>\n",
       "      <th>25%</th>\n",
       "      <td>124842.000000</td>\n",
       "      <td>2.000000</td>\n",
       "      <td>20.600000</td>\n",
       "      <td>0.000000</td>\n",
       "      <td>0.000000</td>\n",
       "      <td>8.020000</td>\n",
       "      <td>0.000000</td>\n",
       "      <td>226.434217</td>\n",
       "    </tr>\n",
       "    <tr>\n",
       "      <th>50%</th>\n",
       "      <td>149872.000000</td>\n",
       "      <td>2.000000</td>\n",
       "      <td>42.400000</td>\n",
       "      <td>0.000000</td>\n",
       "      <td>0.000000</td>\n",
       "      <td>8.020000</td>\n",
       "      <td>0.000000</td>\n",
       "      <td>354.937874</td>\n",
       "    </tr>\n",
       "    <tr>\n",
       "      <th>75%</th>\n",
       "      <td>175011.000000</td>\n",
       "      <td>3.000000</td>\n",
       "      <td>65.100000</td>\n",
       "      <td>1.000000</td>\n",
       "      <td>1.000000</td>\n",
       "      <td>12.970000</td>\n",
       "      <td>0.000000</td>\n",
       "      <td>488.676927</td>\n",
       "    </tr>\n",
       "    <tr>\n",
       "      <th>max</th>\n",
       "      <td>200000.000000</td>\n",
       "      <td>4.000000</td>\n",
       "      <td>65.100000</td>\n",
       "      <td>1.000000</td>\n",
       "      <td>1.000000</td>\n",
       "      <td>12.970000</td>\n",
       "      <td>1.000000</td>\n",
       "      <td>3500.000000</td>\n",
       "    </tr>\n",
       "  </tbody>\n",
       "</table>\n",
       "</div>"
      ],
      "text/plain": [
       "       Policy Number  Number of Vehicles   Average Age  Gender Dummy  \\\n",
       "count   15290.000000        15290.000000  15290.000000  15290.000000   \n",
       "mean   149910.276651            2.495880     42.341969      0.493329   \n",
       "std     28948.806631            0.953776     16.976615      0.499972   \n",
       "min    100002.000000            1.000000     20.600000      0.000000   \n",
       "25%    124842.000000            2.000000     20.600000      0.000000   \n",
       "50%    149872.000000            2.000000     42.400000      0.000000   \n",
       "75%    175011.000000            3.000000     65.100000      1.000000   \n",
       "max    200000.000000            4.000000     65.100000      1.000000   \n",
       "\n",
       "       Married Dummy   Avg Veh Age  Fuel Type Dummy        Losses  \n",
       "count   15290.000000  15290.000000     15290.000000  15290.000000  \n",
       "mean        0.490974      8.656579         0.236756    389.859718  \n",
       "std         0.499935      4.084988         0.425105    253.729433  \n",
       "min         0.000000      2.500000         0.000000     12.534521  \n",
       "25%         0.000000      8.020000         0.000000    226.434217  \n",
       "50%         0.000000      8.020000         0.000000    354.937874  \n",
       "75%         1.000000     12.970000         0.000000    488.676927  \n",
       "max         1.000000     12.970000         1.000000   3500.000000  "
      ]
     },
     "execution_count": 3,
     "metadata": {},
     "output_type": "execute_result"
    }
   ],
   "source": [
    "insurdata.describe()"
   ]
  },
  {
   "cell_type": "code",
   "execution_count": 4,
   "metadata": {
    "collapsed": false
   },
   "outputs": [
    {
     "data": {
      "text/plain": [
       "<matplotlib.axes._subplots.AxesSubplot at 0x128873b62b0>"
      ]
     },
     "execution_count": 4,
     "metadata": {},
     "output_type": "execute_result"
    },
    {
     "data": {
      "image/png": "[encoded data removed]",
      "text/plain": [
       "<matplotlib.figure.Figure at 0x12887394be0>"
      ]
     },
     "metadata": {},
     "output_type": "display_data"
    }
   ],
   "source": [
    "insurdata['Losses'].plot(kind=\"hist\")"
   ]
  },
  {
   "cell_type": "code",
   "execution_count": 7,
   "metadata": {
    "collapsed": false
   },
   "outputs": [
    {
     "name": "stderr",
     "output_type": "stream",
     "text": [
      "C:\\Users\\Phani deep\\Anaconda3\\lib\\site-packages\\ipykernel\\__main__.py:1: FutureWarning: \n",
      "The default value for 'return_type' will change to 'axes' in a future release.\n",
      " To use the future behavior now, set return_type='axes'.\n",
      " To keep the previous behavior and silence this warning, set return_type='dict'.\n",
      "  if __name__ == '__main__':\n"
     ]
    },
    {
     "data": {
      "text/plain": [
       "{'boxes': [<matplotlib.lines.Line2D at 0x12889544be0>],\n",
       " 'caps': [<matplotlib.lines.Line2D at 0x12889536f98>,\n",
       "  <matplotlib.lines.Line2D at 0x128895a5a58>],\n",
       " 'fliers': [<matplotlib.lines.Line2D at 0x128895e5358>],\n",
       " 'means': [],\n",
       " 'medians': [<matplotlib.lines.Line2D at 0x128895c8f60>],\n",
       " 'whiskers': [<matplotlib.lines.Line2D at 0x12889549a58>,\n",
       "  <matplotlib.lines.Line2D at 0x1288956dcf8>]}"
      ]
     },
     "execution_count": 7,
     "metadata": {},
     "output_type": "execute_result"
    },
    {
     "data": {
      "image/png": "[encoded data removed]",
      "text/plain": [
       "<matplotlib.figure.Figure at 0x1288920e6d8>"
      ]
     },
     "metadata": {},
     "output_type": "display_data"
    }
   ],
   "source": [
    "insurdata.boxplot('Losses', vert=False)"
   ]
  },
  {
   "cell_type": "code",
   "execution_count": 8,
   "metadata": {
    "collapsed": false
   },
   "outputs": [
    {
     "data": {
      "text/plain": [
       "<matplotlib.axes._subplots.AxesSubplot at 0x1288937f898>"
      ]
     },
     "execution_count": 8,
     "metadata": {},
     "output_type": "execute_result"
    },
    {
     "data": {
      "image/png": "[encoded data removed]",
      "text/plain": [
       "<matplotlib.figure.Figure at 0x1288965ff60>"
      ]
     },
     "metadata": {},
     "output_type": "display_data"
    }
   ],
   "source": [
    "insurdata[\"Losses\"].plot(kind=\"density\")"
   ]
  },
  {
   "cell_type": "code",
   "execution_count": 10,
   "metadata": {
    "collapsed": false
   },
   "outputs": [
    {
     "data": {
      "text/plain": [
       "<matplotlib.axes._subplots.AxesSubplot at 0x128a0a657f0>"
      ]
     },
     "execution_count": 10,
     "metadata": {},
     "output_type": "execute_result"
    },
    {
     "data": {
      "image/png": "[encoded data removed]",
      "text/plain": [
       "<matplotlib.figure.Figure at 0x128958040b8>"
      ]
     },
     "metadata": {},
     "output_type": "display_data"
    }
   ],
   "source": [
    "np.log(insurdata['Losses']).plot(kind=\"density\")"
   ]
  },
  {
   "cell_type": "code",
   "execution_count": 14,
   "metadata": {
    "collapsed": false
   },
   "outputs": [
    {
     "data": {
      "text/plain": [
       "0    7747\n",
       "1    7543\n",
       "Name: Gender Dummy, dtype: int64"
      ]
     },
     "execution_count": 14,
     "metadata": {},
     "output_type": "execute_result"
    }
   ],
   "source": [
    "pd.value_counts(insurdata['Gender Dummy'])"
   ]
  },
  {
   "cell_type": "code",
   "execution_count": 15,
   "metadata": {
    "collapsed": false
   },
   "outputs": [
    {
     "data": {
      "text/plain": [
       "0    7783\n",
       "1    7507\n",
       "Name: Married Dummy, dtype: int64"
      ]
     },
     "execution_count": 15,
     "metadata": {},
     "output_type": "execute_result"
    }
   ],
   "source": [
    "pd.value_counts(insurdata['Married Dummy'])"
   ]
  },
  {
   "cell_type": "code",
   "execution_count": 16,
   "metadata": {
    "collapsed": false
   },
   "outputs": [
    {
     "data": {
      "text/plain": [
       "2    5152\n",
       "3    5095\n",
       "1    2533\n",
       "4    2510\n",
       "Name: Number of Vehicles, dtype: int64"
      ]
     },
     "execution_count": 16,
     "metadata": {},
     "output_type": "execute_result"
    }
   ],
   "source": [
    "pd.value_counts(insurdata['Number of Vehicles'])"
   ]
  },
  {
   "cell_type": "code",
   "execution_count": 18,
   "metadata": {
    "collapsed": false
   },
   "outputs": [
    {
     "data": {
      "text/html": [
       "<div>\n",
       "<table border=\"1\" class=\"dataframe\">\n",
       "  <thead>\n",
       "    <tr style=\"text-align: right;\">\n",
       "      <th></th>\n",
       "      <th>Policy Number</th>\n",
       "      <th>Number of Vehicles</th>\n",
       "      <th>Average Age</th>\n",
       "      <th>Gender Dummy</th>\n",
       "      <th>Married Dummy</th>\n",
       "      <th>Avg Veh Age</th>\n",
       "      <th>Fuel Type Dummy</th>\n",
       "    </tr>\n",
       "    <tr>\n",
       "      <th>Losses</th>\n",
       "      <th></th>\n",
       "      <th></th>\n",
       "      <th></th>\n",
       "      <th></th>\n",
       "      <th></th>\n",
       "      <th></th>\n",
       "      <th></th>\n",
       "    </tr>\n",
       "  </thead>\n",
       "  <tbody>\n",
       "    <tr>\n",
       "      <th>12.534521</th>\n",
       "      <td>132732</td>\n",
       "      <td>3</td>\n",
       "      <td>65.1</td>\n",
       "      <td>0</td>\n",
       "      <td>0</td>\n",
       "      <td>12.97</td>\n",
       "      <td>0</td>\n",
       "    </tr>\n",
       "    <tr>\n",
       "      <th>12.614093</th>\n",
       "      <td>168897</td>\n",
       "      <td>4</td>\n",
       "      <td>65.1</td>\n",
       "      <td>1</td>\n",
       "      <td>0</td>\n",
       "      <td>12.97</td>\n",
       "      <td>0</td>\n",
       "    </tr>\n",
       "    <tr>\n",
       "      <th>13.290628</th>\n",
       "      <td>168101</td>\n",
       "      <td>4</td>\n",
       "      <td>65.1</td>\n",
       "      <td>0</td>\n",
       "      <td>0</td>\n",
       "      <td>12.97</td>\n",
       "      <td>0</td>\n",
       "    </tr>\n",
       "    <tr>\n",
       "      <th>13.901110</th>\n",
       "      <td>190567</td>\n",
       "      <td>2</td>\n",
       "      <td>65.1</td>\n",
       "      <td>0</td>\n",
       "      <td>0</td>\n",
       "      <td>12.97</td>\n",
       "      <td>0</td>\n",
       "    </tr>\n",
       "    <tr>\n",
       "      <th>14.860606</th>\n",
       "      <td>177232</td>\n",
       "      <td>4</td>\n",
       "      <td>65.1</td>\n",
       "      <td>0</td>\n",
       "      <td>0</td>\n",
       "      <td>12.97</td>\n",
       "      <td>0</td>\n",
       "    </tr>\n",
       "    <tr>\n",
       "      <th>15.244680</th>\n",
       "      <td>152494</td>\n",
       "      <td>3</td>\n",
       "      <td>65.1</td>\n",
       "      <td>0</td>\n",
       "      <td>0</td>\n",
       "      <td>12.97</td>\n",
       "      <td>0</td>\n",
       "    </tr>\n",
       "    <tr>\n",
       "      <th>15.353197</th>\n",
       "      <td>186995</td>\n",
       "      <td>2</td>\n",
       "      <td>65.1</td>\n",
       "      <td>0</td>\n",
       "      <td>1</td>\n",
       "      <td>12.97</td>\n",
       "      <td>0</td>\n",
       "    </tr>\n",
       "    <tr>\n",
       "      <th>15.589268</th>\n",
       "      <td>122437</td>\n",
       "      <td>1</td>\n",
       "      <td>65.1</td>\n",
       "      <td>0</td>\n",
       "      <td>0</td>\n",
       "      <td>12.97</td>\n",
       "      <td>0</td>\n",
       "    </tr>\n",
       "    <tr>\n",
       "      <th>15.761089</th>\n",
       "      <td>112481</td>\n",
       "      <td>1</td>\n",
       "      <td>65.1</td>\n",
       "      <td>0</td>\n",
       "      <td>0</td>\n",
       "      <td>12.97</td>\n",
       "      <td>0</td>\n",
       "    </tr>\n",
       "    <tr>\n",
       "      <th>15.785012</th>\n",
       "      <td>153025</td>\n",
       "      <td>4</td>\n",
       "      <td>65.1</td>\n",
       "      <td>1</td>\n",
       "      <td>0</td>\n",
       "      <td>12.97</td>\n",
       "      <td>0</td>\n",
       "    </tr>\n",
       "    <tr>\n",
       "      <th>15.875685</th>\n",
       "      <td>161510</td>\n",
       "      <td>3</td>\n",
       "      <td>65.1</td>\n",
       "      <td>1</td>\n",
       "      <td>1</td>\n",
       "      <td>12.97</td>\n",
       "      <td>0</td>\n",
       "    </tr>\n",
       "    <tr>\n",
       "      <th>15.953348</th>\n",
       "      <td>180500</td>\n",
       "      <td>2</td>\n",
       "      <td>65.1</td>\n",
       "      <td>0</td>\n",
       "      <td>0</td>\n",
       "      <td>12.97</td>\n",
       "      <td>0</td>\n",
       "    </tr>\n",
       "    <tr>\n",
       "      <th>16.093920</th>\n",
       "      <td>113718</td>\n",
       "      <td>3</td>\n",
       "      <td>65.1</td>\n",
       "      <td>1</td>\n",
       "      <td>0</td>\n",
       "      <td>12.97</td>\n",
       "      <td>0</td>\n",
       "    </tr>\n",
       "    <tr>\n",
       "      <th>16.474500</th>\n",
       "      <td>152008</td>\n",
       "      <td>3</td>\n",
       "      <td>65.1</td>\n",
       "      <td>0</td>\n",
       "      <td>1</td>\n",
       "      <td>12.97</td>\n",
       "      <td>0</td>\n",
       "    </tr>\n",
       "    <tr>\n",
       "      <th>16.475420</th>\n",
       "      <td>172529</td>\n",
       "      <td>2</td>\n",
       "      <td>65.1</td>\n",
       "      <td>0</td>\n",
       "      <td>1</td>\n",
       "      <td>12.97</td>\n",
       "      <td>0</td>\n",
       "    </tr>\n",
       "    <tr>\n",
       "      <th>16.538537</th>\n",
       "      <td>141188</td>\n",
       "      <td>1</td>\n",
       "      <td>65.1</td>\n",
       "      <td>0</td>\n",
       "      <td>1</td>\n",
       "      <td>12.97</td>\n",
       "      <td>0</td>\n",
       "    </tr>\n",
       "    <tr>\n",
       "      <th>16.558636</th>\n",
       "      <td>109628</td>\n",
       "      <td>2</td>\n",
       "      <td>65.1</td>\n",
       "      <td>1</td>\n",
       "      <td>1</td>\n",
       "      <td>12.97</td>\n",
       "      <td>0</td>\n",
       "    </tr>\n",
       "    <tr>\n",
       "      <th>16.617842</th>\n",
       "      <td>119856</td>\n",
       "      <td>2</td>\n",
       "      <td>65.1</td>\n",
       "      <td>0</td>\n",
       "      <td>0</td>\n",
       "      <td>12.97</td>\n",
       "      <td>0</td>\n",
       "    </tr>\n",
       "    <tr>\n",
       "      <th>16.739062</th>\n",
       "      <td>182724</td>\n",
       "      <td>1</td>\n",
       "      <td>65.1</td>\n",
       "      <td>0</td>\n",
       "      <td>0</td>\n",
       "      <td>12.97</td>\n",
       "      <td>0</td>\n",
       "    </tr>\n",
       "    <tr>\n",
       "      <th>16.767088</th>\n",
       "      <td>137145</td>\n",
       "      <td>3</td>\n",
       "      <td>65.1</td>\n",
       "      <td>1</td>\n",
       "      <td>0</td>\n",
       "      <td>12.97</td>\n",
       "      <td>0</td>\n",
       "    </tr>\n",
       "    <tr>\n",
       "      <th>17.144011</th>\n",
       "      <td>184288</td>\n",
       "      <td>1</td>\n",
       "      <td>65.1</td>\n",
       "      <td>0</td>\n",
       "      <td>1</td>\n",
       "      <td>12.97</td>\n",
       "      <td>0</td>\n",
       "    </tr>\n",
       "    <tr>\n",
       "      <th>17.288567</th>\n",
       "      <td>178849</td>\n",
       "      <td>3</td>\n",
       "      <td>65.1</td>\n",
       "      <td>0</td>\n",
       "      <td>0</td>\n",
       "      <td>12.97</td>\n",
       "      <td>0</td>\n",
       "    </tr>\n",
       "    <tr>\n",
       "      <th>17.418133</th>\n",
       "      <td>182409</td>\n",
       "      <td>3</td>\n",
       "      <td>65.1</td>\n",
       "      <td>0</td>\n",
       "      <td>0</td>\n",
       "      <td>12.97</td>\n",
       "      <td>0</td>\n",
       "    </tr>\n",
       "    <tr>\n",
       "      <th>17.590975</th>\n",
       "      <td>113131</td>\n",
       "      <td>3</td>\n",
       "      <td>65.1</td>\n",
       "      <td>1</td>\n",
       "      <td>0</td>\n",
       "      <td>12.97</td>\n",
       "      <td>0</td>\n",
       "    </tr>\n",
       "    <tr>\n",
       "      <th>17.623879</th>\n",
       "      <td>150595</td>\n",
       "      <td>2</td>\n",
       "      <td>65.1</td>\n",
       "      <td>0</td>\n",
       "      <td>0</td>\n",
       "      <td>12.97</td>\n",
       "      <td>0</td>\n",
       "    </tr>\n",
       "    <tr>\n",
       "      <th>17.638664</th>\n",
       "      <td>177648</td>\n",
       "      <td>3</td>\n",
       "      <td>65.1</td>\n",
       "      <td>0</td>\n",
       "      <td>1</td>\n",
       "      <td>12.97</td>\n",
       "      <td>0</td>\n",
       "    </tr>\n",
       "    <tr>\n",
       "      <th>18.073293</th>\n",
       "      <td>131253</td>\n",
       "      <td>2</td>\n",
       "      <td>65.1</td>\n",
       "      <td>1</td>\n",
       "      <td>1</td>\n",
       "      <td>12.97</td>\n",
       "      <td>0</td>\n",
       "    </tr>\n",
       "    <tr>\n",
       "      <th>18.103634</th>\n",
       "      <td>107394</td>\n",
       "      <td>4</td>\n",
       "      <td>65.1</td>\n",
       "      <td>0</td>\n",
       "      <td>0</td>\n",
       "      <td>12.97</td>\n",
       "      <td>0</td>\n",
       "    </tr>\n",
       "    <tr>\n",
       "      <th>18.265480</th>\n",
       "      <td>165586</td>\n",
       "      <td>3</td>\n",
       "      <td>65.1</td>\n",
       "      <td>0</td>\n",
       "      <td>1</td>\n",
       "      <td>12.97</td>\n",
       "      <td>0</td>\n",
       "    </tr>\n",
       "    <tr>\n",
       "      <th>18.393886</th>\n",
       "      <td>176336</td>\n",
       "      <td>2</td>\n",
       "      <td>65.1</td>\n",
       "      <td>0</td>\n",
       "      <td>1</td>\n",
       "      <td>12.97</td>\n",
       "      <td>0</td>\n",
       "    </tr>\n",
       "    <tr>\n",
       "      <th>...</th>\n",
       "      <td>...</td>\n",
       "      <td>...</td>\n",
       "      <td>...</td>\n",
       "      <td>...</td>\n",
       "      <td>...</td>\n",
       "      <td>...</td>\n",
       "      <td>...</td>\n",
       "    </tr>\n",
       "    <tr>\n",
       "      <th>1731.433041</th>\n",
       "      <td>113601</td>\n",
       "      <td>4</td>\n",
       "      <td>20.6</td>\n",
       "      <td>1</td>\n",
       "      <td>1</td>\n",
       "      <td>2.50</td>\n",
       "      <td>1</td>\n",
       "    </tr>\n",
       "    <tr>\n",
       "      <th>1736.287451</th>\n",
       "      <td>132302</td>\n",
       "      <td>2</td>\n",
       "      <td>20.6</td>\n",
       "      <td>1</td>\n",
       "      <td>1</td>\n",
       "      <td>2.50</td>\n",
       "      <td>1</td>\n",
       "    </tr>\n",
       "    <tr>\n",
       "      <th>1747.297619</th>\n",
       "      <td>196256</td>\n",
       "      <td>2</td>\n",
       "      <td>20.6</td>\n",
       "      <td>1</td>\n",
       "      <td>1</td>\n",
       "      <td>2.50</td>\n",
       "      <td>1</td>\n",
       "    </tr>\n",
       "    <tr>\n",
       "      <th>1772.784920</th>\n",
       "      <td>180372</td>\n",
       "      <td>1</td>\n",
       "      <td>20.6</td>\n",
       "      <td>1</td>\n",
       "      <td>1</td>\n",
       "      <td>2.50</td>\n",
       "      <td>1</td>\n",
       "    </tr>\n",
       "    <tr>\n",
       "      <th>1776.525239</th>\n",
       "      <td>159427</td>\n",
       "      <td>4</td>\n",
       "      <td>20.6</td>\n",
       "      <td>1</td>\n",
       "      <td>1</td>\n",
       "      <td>2.50</td>\n",
       "      <td>1</td>\n",
       "    </tr>\n",
       "    <tr>\n",
       "      <th>1802.444618</th>\n",
       "      <td>104522</td>\n",
       "      <td>3</td>\n",
       "      <td>20.6</td>\n",
       "      <td>1</td>\n",
       "      <td>1</td>\n",
       "      <td>2.50</td>\n",
       "      <td>1</td>\n",
       "    </tr>\n",
       "    <tr>\n",
       "      <th>1848.845387</th>\n",
       "      <td>190592</td>\n",
       "      <td>4</td>\n",
       "      <td>20.6</td>\n",
       "      <td>1</td>\n",
       "      <td>1</td>\n",
       "      <td>2.50</td>\n",
       "      <td>1</td>\n",
       "    </tr>\n",
       "    <tr>\n",
       "      <th>1850.996000</th>\n",
       "      <td>167134</td>\n",
       "      <td>2</td>\n",
       "      <td>20.6</td>\n",
       "      <td>1</td>\n",
       "      <td>1</td>\n",
       "      <td>2.50</td>\n",
       "      <td>1</td>\n",
       "    </tr>\n",
       "    <tr>\n",
       "      <th>1883.373932</th>\n",
       "      <td>102843</td>\n",
       "      <td>2</td>\n",
       "      <td>20.6</td>\n",
       "      <td>1</td>\n",
       "      <td>1</td>\n",
       "      <td>2.50</td>\n",
       "      <td>1</td>\n",
       "    </tr>\n",
       "    <tr>\n",
       "      <th>1953.606442</th>\n",
       "      <td>145873</td>\n",
       "      <td>2</td>\n",
       "      <td>20.6</td>\n",
       "      <td>1</td>\n",
       "      <td>1</td>\n",
       "      <td>2.50</td>\n",
       "      <td>1</td>\n",
       "    </tr>\n",
       "    <tr>\n",
       "      <th>2534.639460</th>\n",
       "      <td>194236</td>\n",
       "      <td>1</td>\n",
       "      <td>65.1</td>\n",
       "      <td>0</td>\n",
       "      <td>1</td>\n",
       "      <td>8.02</td>\n",
       "      <td>0</td>\n",
       "    </tr>\n",
       "    <tr>\n",
       "      <th>2535.000000</th>\n",
       "      <td>129163</td>\n",
       "      <td>2</td>\n",
       "      <td>20.6</td>\n",
       "      <td>1</td>\n",
       "      <td>1</td>\n",
       "      <td>2.50</td>\n",
       "      <td>1</td>\n",
       "    </tr>\n",
       "    <tr>\n",
       "      <th>2600.000000</th>\n",
       "      <td>104242</td>\n",
       "      <td>1</td>\n",
       "      <td>20.6</td>\n",
       "      <td>1</td>\n",
       "      <td>1</td>\n",
       "      <td>2.50</td>\n",
       "      <td>1</td>\n",
       "    </tr>\n",
       "    <tr>\n",
       "      <th>2700.000000</th>\n",
       "      <td>122473</td>\n",
       "      <td>1</td>\n",
       "      <td>20.6</td>\n",
       "      <td>1</td>\n",
       "      <td>1</td>\n",
       "      <td>2.50</td>\n",
       "      <td>1</td>\n",
       "    </tr>\n",
       "    <tr>\n",
       "      <th>2814.000000</th>\n",
       "      <td>169611</td>\n",
       "      <td>2</td>\n",
       "      <td>20.6</td>\n",
       "      <td>1</td>\n",
       "      <td>1</td>\n",
       "      <td>2.50</td>\n",
       "      <td>1</td>\n",
       "    </tr>\n",
       "    <tr>\n",
       "      <th>2814.312522</th>\n",
       "      <td>114164</td>\n",
       "      <td>1</td>\n",
       "      <td>42.4</td>\n",
       "      <td>0</td>\n",
       "      <td>0</td>\n",
       "      <td>2.50</td>\n",
       "      <td>1</td>\n",
       "    </tr>\n",
       "    <tr>\n",
       "      <th>2850.000000</th>\n",
       "      <td>142474</td>\n",
       "      <td>1</td>\n",
       "      <td>65.1</td>\n",
       "      <td>1</td>\n",
       "      <td>1</td>\n",
       "      <td>8.02</td>\n",
       "      <td>0</td>\n",
       "    </tr>\n",
       "    <tr>\n",
       "      <th>2852.000000</th>\n",
       "      <td>197031</td>\n",
       "      <td>2</td>\n",
       "      <td>20.6</td>\n",
       "      <td>1</td>\n",
       "      <td>1</td>\n",
       "      <td>2.50</td>\n",
       "      <td>1</td>\n",
       "    </tr>\n",
       "    <tr>\n",
       "      <th>2852.188730</th>\n",
       "      <td>185366</td>\n",
       "      <td>1</td>\n",
       "      <td>42.4</td>\n",
       "      <td>1</td>\n",
       "      <td>0</td>\n",
       "      <td>2.50</td>\n",
       "      <td>1</td>\n",
       "    </tr>\n",
       "    <tr>\n",
       "      <th>2879.000000</th>\n",
       "      <td>186023</td>\n",
       "      <td>2</td>\n",
       "      <td>20.6</td>\n",
       "      <td>1</td>\n",
       "      <td>1</td>\n",
       "      <td>2.50</td>\n",
       "      <td>1</td>\n",
       "    </tr>\n",
       "    <tr>\n",
       "      <th>2879.067137</th>\n",
       "      <td>142085</td>\n",
       "      <td>1</td>\n",
       "      <td>20.6</td>\n",
       "      <td>0</td>\n",
       "      <td>0</td>\n",
       "      <td>12.97</td>\n",
       "      <td>0</td>\n",
       "    </tr>\n",
       "    <tr>\n",
       "      <th>2879.176458</th>\n",
       "      <td>164185</td>\n",
       "      <td>1</td>\n",
       "      <td>20.6</td>\n",
       "      <td>0</td>\n",
       "      <td>1</td>\n",
       "      <td>8.02</td>\n",
       "      <td>1</td>\n",
       "    </tr>\n",
       "    <tr>\n",
       "      <th>3226.612176</th>\n",
       "      <td>174443</td>\n",
       "      <td>1</td>\n",
       "      <td>65.1</td>\n",
       "      <td>0</td>\n",
       "      <td>1</td>\n",
       "      <td>12.97</td>\n",
       "      <td>0</td>\n",
       "    </tr>\n",
       "    <tr>\n",
       "      <th>3227.000000</th>\n",
       "      <td>198046</td>\n",
       "      <td>4</td>\n",
       "      <td>20.6</td>\n",
       "      <td>1</td>\n",
       "      <td>1</td>\n",
       "      <td>2.50</td>\n",
       "      <td>1</td>\n",
       "    </tr>\n",
       "    <tr>\n",
       "      <th>3250.000000</th>\n",
       "      <td>190621</td>\n",
       "      <td>1</td>\n",
       "      <td>20.6</td>\n",
       "      <td>1</td>\n",
       "      <td>1</td>\n",
       "      <td>12.97</td>\n",
       "      <td>0</td>\n",
       "    </tr>\n",
       "    <tr>\n",
       "      <th>3332.771801</th>\n",
       "      <td>140879</td>\n",
       "      <td>1</td>\n",
       "      <td>42.4</td>\n",
       "      <td>1</td>\n",
       "      <td>1</td>\n",
       "      <td>8.02</td>\n",
       "      <td>0</td>\n",
       "    </tr>\n",
       "    <tr>\n",
       "      <th>3333.000000</th>\n",
       "      <td>132910</td>\n",
       "      <td>3</td>\n",
       "      <td>20.6</td>\n",
       "      <td>1</td>\n",
       "      <td>1</td>\n",
       "      <td>2.50</td>\n",
       "      <td>1</td>\n",
       "    </tr>\n",
       "    <tr>\n",
       "      <th>3462.000000</th>\n",
       "      <td>190026</td>\n",
       "      <td>2</td>\n",
       "      <td>20.6</td>\n",
       "      <td>1</td>\n",
       "      <td>1</td>\n",
       "      <td>2.50</td>\n",
       "      <td>1</td>\n",
       "    </tr>\n",
       "    <tr>\n",
       "      <th>3462.340629</th>\n",
       "      <td>103178</td>\n",
       "      <td>1</td>\n",
       "      <td>42.4</td>\n",
       "      <td>0</td>\n",
       "      <td>1</td>\n",
       "      <td>12.97</td>\n",
       "      <td>0</td>\n",
       "    </tr>\n",
       "    <tr>\n",
       "      <th>3500.000000</th>\n",
       "      <td>147315</td>\n",
       "      <td>1</td>\n",
       "      <td>20.6</td>\n",
       "      <td>1</td>\n",
       "      <td>1</td>\n",
       "      <td>2.50</td>\n",
       "      <td>1</td>\n",
       "    </tr>\n",
       "  </tbody>\n",
       "</table>\n",
       "<p>15289 rows × 7 columns</p>\n",
       "</div>"
      ],
      "text/plain": [
       "             Policy Number  Number of Vehicles  Average Age  Gender Dummy  \\\n",
       "Losses                                                                      \n",
       "12.534521           132732                   3         65.1             0   \n",
       "12.614093           168897                   4         65.1             1   \n",
       "13.290628           168101                   4         65.1             0   \n",
       "13.901110           190567                   2         65.1             0   \n",
       "14.860606           177232                   4         65.1             0   \n",
       "15.244680           152494                   3         65.1             0   \n",
       "15.353197           186995                   2         65.1             0   \n",
       "15.589268           122437                   1         65.1             0   \n",
       "15.761089           112481                   1         65.1             0   \n",
       "15.785012           153025                   4         65.1             1   \n",
       "15.875685           161510                   3         65.1             1   \n",
       "15.953348           180500                   2         65.1             0   \n",
       "16.093920           113718                   3         65.1             1   \n",
       "16.474500           152008                   3         65.1             0   \n",
       "16.475420           172529                   2         65.1             0   \n",
       "16.538537           141188                   1         65.1             0   \n",
       "16.558636           109628                   2         65.1             1   \n",
       "16.617842           119856                   2         65.1             0   \n",
       "16.739062           182724                   1         65.1             0   \n",
       "16.767088           137145                   3         65.1             1   \n",
       "17.144011           184288                   1         65.1             0   \n",
       "17.288567           178849                   3         65.1             0   \n",
       "17.418133           182409                   3         65.1             0   \n",
       "17.590975           113131                   3         65.1             1   \n",
       "17.623879           150595                   2         65.1             0   \n",
       "17.638664           177648                   3         65.1             0   \n",
       "18.073293           131253                   2         65.1             1   \n",
       "18.103634           107394                   4         65.1             0   \n",
       "18.265480           165586                   3         65.1             0   \n",
       "18.393886           176336                   2         65.1             0   \n",
       "...                    ...                 ...          ...           ...   \n",
       "1731.433041         113601                   4         20.6             1   \n",
       "1736.287451         132302                   2         20.6             1   \n",
       "1747.297619         196256                   2         20.6             1   \n",
       "1772.784920         180372                   1         20.6             1   \n",
       "1776.525239         159427                   4         20.6             1   \n",
       "1802.444618         104522                   3         20.6             1   \n",
       "1848.845387         190592                   4         20.6             1   \n",
       "1850.996000         167134                   2         20.6             1   \n",
       "1883.373932         102843                   2         20.6             1   \n",
       "1953.606442         145873                   2         20.6             1   \n",
       "2534.639460         194236                   1         65.1             0   \n",
       "2535.000000         129163                   2         20.6             1   \n",
       "2600.000000         104242                   1         20.6             1   \n",
       "2700.000000         122473                   1         20.6             1   \n",
       "2814.000000         169611                   2         20.6             1   \n",
       "2814.312522         114164                   1         42.4             0   \n",
       "2850.000000         142474                   1         65.1             1   \n",
       "2852.000000         197031                   2         20.6             1   \n",
       "2852.188730         185366                   1         42.4             1   \n",
       "2879.000000         186023                   2         20.6             1   \n",
       "2879.067137         142085                   1         20.6             0   \n",
       "2879.176458         164185                   1         20.6             0   \n",
       "3226.612176         174443                   1         65.1             0   \n",
       "3227.000000         198046                   4         20.6             1   \n",
       "3250.000000         190621                   1         20.6             1   \n",
       "3332.771801         140879                   1         42.4             1   \n",
       "3333.000000         132910                   3         20.6             1   \n",
       "3462.000000         190026                   2         20.6             1   \n",
       "3462.340629         103178                   1         42.4             0   \n",
       "3500.000000         147315                   1         20.6             1   \n",
       "\n",
       "             Married Dummy  Avg Veh Age  Fuel Type Dummy  \n",
       "Losses                                                    \n",
       "12.534521                0        12.97                0  \n",
       "12.614093                0        12.97                0  \n",
       "13.290628                0        12.97                0  \n",
       "13.901110                0        12.97                0  \n",
       "14.860606                0        12.97                0  \n",
       "15.244680                0        12.97                0  \n",
       "15.353197                1        12.97                0  \n",
       "15.589268                0        12.97                0  \n",
       "15.761089                0        12.97                0  \n",
       "15.785012                0        12.97                0  \n",
       "15.875685                1        12.97                0  \n",
       "15.953348                0        12.97                0  \n",
       "16.093920                0        12.97                0  \n",
       "16.474500                1        12.97                0  \n",
       "16.475420                1        12.97                0  \n",
       "16.538537                1        12.97                0  \n",
       "16.558636                1        12.97                0  \n",
       "16.617842                0        12.97                0  \n",
       "16.739062                0        12.97                0  \n",
       "16.767088                0        12.97                0  \n",
       "17.144011                1        12.97                0  \n",
       "17.288567                0        12.97                0  \n",
       "17.418133                0        12.97                0  \n",
       "17.590975                0        12.97                0  \n",
       "17.623879                0        12.97                0  \n",
       "17.638664                1        12.97                0  \n",
       "18.073293                1        12.97                0  \n",
       "18.103634                0        12.97                0  \n",
       "18.265480                1        12.97                0  \n",
       "18.393886                1        12.97                0  \n",
       "...                    ...          ...              ...  \n",
       "1731.433041              1         2.50                1  \n",
       "1736.287451              1         2.50                1  \n",
       "1747.297619              1         2.50                1  \n",
       "1772.784920              1         2.50                1  \n",
       "1776.525239              1         2.50                1  \n",
       "1802.444618              1         2.50                1  \n",
       "1848.845387              1         2.50                1  \n",
       "1850.996000              1         2.50                1  \n",
       "1883.373932              1         2.50                1  \n",
       "1953.606442              1         2.50                1  \n",
       "2534.639460              1         8.02                0  \n",
       "2535.000000              1         2.50                1  \n",
       "2600.000000              1         2.50                1  \n",
       "2700.000000              1         2.50                1  \n",
       "2814.000000              1         2.50                1  \n",
       "2814.312522              0         2.50                1  \n",
       "2850.000000              1         8.02                0  \n",
       "2852.000000              1         2.50                1  \n",
       "2852.188730              0         2.50                1  \n",
       "2879.000000              1         2.50                1  \n",
       "2879.067137              0        12.97                0  \n",
       "2879.176458              1         8.02                1  \n",
       "3226.612176              1        12.97                0  \n",
       "3227.000000              1         2.50                1  \n",
       "3250.000000              1        12.97                0  \n",
       "3332.771801              1         8.02                0  \n",
       "3333.000000              1         2.50                1  \n",
       "3462.000000              1         2.50                1  \n",
       "3462.340629              1        12.97                0  \n",
       "3500.000000              1         2.50                1  \n",
       "\n",
       "[15289 rows x 7 columns]"
      ]
     },
     "execution_count": 18,
     "metadata": {},
     "output_type": "execute_result"
    }
   ],
   "source": [
    "insurdata.groupby('Losses').mean()"
   ]
  },
  {
   "cell_type": "code",
   "execution_count": 19,
   "metadata": {
    "collapsed": false
   },
   "outputs": [
    {
     "data": {
      "text/html": [
       "<div>\n",
       "<table border=\"1\" class=\"dataframe\">\n",
       "  <thead>\n",
       "    <tr style=\"text-align: right;\">\n",
       "      <th></th>\n",
       "      <th>Policy Number</th>\n",
       "      <th>Number of Vehicles</th>\n",
       "      <th>Average Age</th>\n",
       "      <th>Married Dummy</th>\n",
       "      <th>Avg Veh Age</th>\n",
       "      <th>Fuel Type Dummy</th>\n",
       "      <th>Losses</th>\n",
       "    </tr>\n",
       "    <tr>\n",
       "      <th>Gender Dummy</th>\n",
       "      <th></th>\n",
       "      <th></th>\n",
       "      <th></th>\n",
       "      <th></th>\n",
       "      <th></th>\n",
       "      <th></th>\n",
       "      <th></th>\n",
       "    </tr>\n",
       "  </thead>\n",
       "  <tbody>\n",
       "    <tr>\n",
       "      <th>0</th>\n",
       "      <td>150172.955725</td>\n",
       "      <td>2.496967</td>\n",
       "      <td>42.287905</td>\n",
       "      <td>0.487027</td>\n",
       "      <td>8.657245</td>\n",
       "      <td>0.167420</td>\n",
       "      <td>343.708917</td>\n",
       "    </tr>\n",
       "    <tr>\n",
       "      <th>1</th>\n",
       "      <td>149640.493438</td>\n",
       "      <td>2.494763</td>\n",
       "      <td>42.397494</td>\n",
       "      <td>0.495029</td>\n",
       "      <td>8.655894</td>\n",
       "      <td>0.307968</td>\n",
       "      <td>437.258664</td>\n",
       "    </tr>\n",
       "  </tbody>\n",
       "</table>\n",
       "</div>"
      ],
      "text/plain": [
       "              Policy Number  Number of Vehicles  Average Age  Married Dummy  \\\n",
       "Gender Dummy                                                                  \n",
       "0             150172.955725            2.496967    42.287905       0.487027   \n",
       "1             149640.493438            2.494763    42.397494       0.495029   \n",
       "\n",
       "              Avg Veh Age  Fuel Type Dummy      Losses  \n",
       "Gender Dummy                                            \n",
       "0                8.657245         0.167420  343.708917  \n",
       "1                8.655894         0.307968  437.258664  "
      ]
     },
     "execution_count": 19,
     "metadata": {},
     "output_type": "execute_result"
    }
   ],
   "source": [
    "insurdata.groupby('Gender Dummy').mean()"
   ]
  },
  {
   "cell_type": "code",
   "execution_count": 20,
   "metadata": {
    "collapsed": false
   },
   "outputs": [
    {
     "data": {
      "text/html": [
       "<div>\n",
       "<table border=\"1\" class=\"dataframe\">\n",
       "  <thead>\n",
       "    <tr style=\"text-align: right;\">\n",
       "      <th></th>\n",
       "      <th>Policy Number</th>\n",
       "      <th>Number of Vehicles</th>\n",
       "      <th>Average Age</th>\n",
       "      <th>Gender Dummy</th>\n",
       "      <th>Avg Veh Age</th>\n",
       "      <th>Fuel Type Dummy</th>\n",
       "      <th>Losses</th>\n",
       "    </tr>\n",
       "    <tr>\n",
       "      <th>Married Dummy</th>\n",
       "      <th></th>\n",
       "      <th></th>\n",
       "      <th></th>\n",
       "      <th></th>\n",
       "      <th></th>\n",
       "      <th></th>\n",
       "      <th></th>\n",
       "    </tr>\n",
       "  </thead>\n",
       "  <tbody>\n",
       "    <tr>\n",
       "      <th>0</th>\n",
       "      <td>150055.513170</td>\n",
       "      <td>2.486959</td>\n",
       "      <td>42.330528</td>\n",
       "      <td>0.489400</td>\n",
       "      <td>8.634439</td>\n",
       "      <td>0.145445</td>\n",
       "      <td>323.744228</td>\n",
       "    </tr>\n",
       "    <tr>\n",
       "      <th>1</th>\n",
       "      <td>149759.700413</td>\n",
       "      <td>2.505129</td>\n",
       "      <td>42.353830</td>\n",
       "      <td>0.497402</td>\n",
       "      <td>8.679532</td>\n",
       "      <td>0.331424</td>\n",
       "      <td>458.405988</td>\n",
       "    </tr>\n",
       "  </tbody>\n",
       "</table>\n",
       "</div>"
      ],
      "text/plain": [
       "               Policy Number  Number of Vehicles  Average Age  Gender Dummy  \\\n",
       "Married Dummy                                                                 \n",
       "0              150055.513170            2.486959    42.330528      0.489400   \n",
       "1              149759.700413            2.505129    42.353830      0.497402   \n",
       "\n",
       "               Avg Veh Age  Fuel Type Dummy      Losses  \n",
       "Married Dummy                                            \n",
       "0                 8.634439         0.145445  323.744228  \n",
       "1                 8.679532         0.331424  458.405988  "
      ]
     },
     "execution_count": 20,
     "metadata": {},
     "output_type": "execute_result"
    }
   ],
   "source": [
    "insurdata.groupby('Married Dummy').mean()"
   ]
  },
  {
   "cell_type": "code",
   "execution_count": 23,
   "metadata": {
    "collapsed": false
   },
   "outputs": [
    {
     "data": {
      "text/html": [
       "<div>\n",
       "<table border=\"1\" class=\"dataframe\">\n",
       "  <thead>\n",
       "    <tr style=\"text-align: right;\">\n",
       "      <th></th>\n",
       "      <th>Policy Number</th>\n",
       "      <th>Number of Vehicles</th>\n",
       "      <th>Average Age</th>\n",
       "      <th>Gender Dummy</th>\n",
       "      <th>Married Dummy</th>\n",
       "      <th>Avg Veh Age</th>\n",
       "      <th>Fuel Type Dummy</th>\n",
       "      <th>Losses</th>\n",
       "    </tr>\n",
       "  </thead>\n",
       "  <tbody>\n",
       "    <tr>\n",
       "      <th>Policy Number</th>\n",
       "      <td>1.000000</td>\n",
       "      <td>0.013103</td>\n",
       "      <td>0.000077</td>\n",
       "      <td>-0.009196</td>\n",
       "      <td>-0.005109</td>\n",
       "      <td>-0.004365</td>\n",
       "      <td>0.002428</td>\n",
       "      <td>0.004564</td>\n",
       "    </tr>\n",
       "    <tr>\n",
       "      <th>Number of Vehicles</th>\n",
       "      <td>0.013103</td>\n",
       "      <td>1.000000</td>\n",
       "      <td>0.007687</td>\n",
       "      <td>-0.001155</td>\n",
       "      <td>0.009524</td>\n",
       "      <td>0.002242</td>\n",
       "      <td>-0.003401</td>\n",
       "      <td>-0.011553</td>\n",
       "    </tr>\n",
       "    <tr>\n",
       "      <th>Average Age</th>\n",
       "      <td>0.000077</td>\n",
       "      <td>0.007687</td>\n",
       "      <td>1.000000</td>\n",
       "      <td>0.003227</td>\n",
       "      <td>0.000686</td>\n",
       "      <td>-0.281996</td>\n",
       "      <td>-0.349232</td>\n",
       "      <td>-0.475344</td>\n",
       "    </tr>\n",
       "    <tr>\n",
       "      <th>Gender Dummy</th>\n",
       "      <td>-0.009196</td>\n",
       "      <td>-0.001155</td>\n",
       "      <td>0.003227</td>\n",
       "      <td>1.000000</td>\n",
       "      <td>0.008002</td>\n",
       "      <td>-0.000165</td>\n",
       "      <td>0.165300</td>\n",
       "      <td>0.184339</td>\n",
       "    </tr>\n",
       "    <tr>\n",
       "      <th>Married Dummy</th>\n",
       "      <td>-0.005109</td>\n",
       "      <td>0.009524</td>\n",
       "      <td>0.000686</td>\n",
       "      <td>0.008002</td>\n",
       "      <td>1.000000</td>\n",
       "      <td>0.005519</td>\n",
       "      <td>0.218716</td>\n",
       "      <td>0.265330</td>\n",
       "    </tr>\n",
       "    <tr>\n",
       "      <th>Avg Veh Age</th>\n",
       "      <td>-0.004365</td>\n",
       "      <td>0.002242</td>\n",
       "      <td>-0.281996</td>\n",
       "      <td>-0.000165</td>\n",
       "      <td>0.005519</td>\n",
       "      <td>1.000000</td>\n",
       "      <td>-0.301965</td>\n",
       "      <td>-0.288664</td>\n",
       "    </tr>\n",
       "    <tr>\n",
       "      <th>Fuel Type Dummy</th>\n",
       "      <td>0.002428</td>\n",
       "      <td>-0.003401</td>\n",
       "      <td>-0.349232</td>\n",
       "      <td>0.165300</td>\n",
       "      <td>0.218716</td>\n",
       "      <td>-0.301965</td>\n",
       "      <td>1.000000</td>\n",
       "      <td>0.724742</td>\n",
       "    </tr>\n",
       "    <tr>\n",
       "      <th>Losses</th>\n",
       "      <td>0.004564</td>\n",
       "      <td>-0.011553</td>\n",
       "      <td>-0.475344</td>\n",
       "      <td>0.184339</td>\n",
       "      <td>0.265330</td>\n",
       "      <td>-0.288664</td>\n",
       "      <td>0.724742</td>\n",
       "      <td>1.000000</td>\n",
       "    </tr>\n",
       "  </tbody>\n",
       "</table>\n",
       "</div>"
      ],
      "text/plain": [
       "                    Policy Number  Number of Vehicles  Average Age  \\\n",
       "Policy Number            1.000000            0.013103     0.000077   \n",
       "Number of Vehicles       0.013103            1.000000     0.007687   \n",
       "Average Age              0.000077            0.007687     1.000000   \n",
       "Gender Dummy            -0.009196           -0.001155     0.003227   \n",
       "Married Dummy           -0.005109            0.009524     0.000686   \n",
       "Avg Veh Age             -0.004365            0.002242    -0.281996   \n",
       "Fuel Type Dummy          0.002428           -0.003401    -0.349232   \n",
       "Losses                   0.004564           -0.011553    -0.475344   \n",
       "\n",
       "                    Gender Dummy  Married Dummy  Avg Veh Age  Fuel Type Dummy  \\\n",
       "Policy Number          -0.009196      -0.005109    -0.004365         0.002428   \n",
       "Number of Vehicles     -0.001155       0.009524     0.002242        -0.003401   \n",
       "Average Age             0.003227       0.000686    -0.281996        -0.349232   \n",
       "Gender Dummy            1.000000       0.008002    -0.000165         0.165300   \n",
       "Married Dummy           0.008002       1.000000     0.005519         0.218716   \n",
       "Avg Veh Age            -0.000165       0.005519     1.000000        -0.301965   \n",
       "Fuel Type Dummy         0.165300       0.218716    -0.301965         1.000000   \n",
       "Losses                  0.184339       0.265330    -0.288664         0.724742   \n",
       "\n",
       "                      Losses  \n",
       "Policy Number       0.004564  \n",
       "Number of Vehicles -0.011553  \n",
       "Average Age        -0.475344  \n",
       "Gender Dummy        0.184339  \n",
       "Married Dummy       0.265330  \n",
       "Avg Veh Age        -0.288664  \n",
       "Fuel Type Dummy     0.724742  \n",
       "Losses              1.000000  "
      ]
     },
     "execution_count": 23,
     "metadata": {},
     "output_type": "execute_result"
    }
   ],
   "source": [
    "insurdata.corr()"
   ]
  },
  {
   "cell_type": "code",
   "execution_count": 25,
   "metadata": {
    "collapsed": false
   },
   "outputs": [
    {
     "data": {
      "text/plain": [
       "<matplotlib.axes._subplots.AxesSubplot at 0x12895c53c88>"
      ]
     },
     "execution_count": 25,
     "metadata": {},
     "output_type": "execute_result"
    },
    {
     "data": {
      "image/png": "[encoded data removed]",
      "text/plain": [
       "<matplotlib.figure.Figure at 0x12895cf90b8>"
      ]
     },
     "metadata": {},
     "output_type": "display_data"
    }
   ],
   "source": [
    "insurdata.plot(kind=\"scatter\",x=\"Losses\",y=\"Number of Vehicles\")"
   ]
  },
  {
   "cell_type": "code",
   "execution_count": 26,
   "metadata": {
    "collapsed": false
   },
   "outputs": [
    {
     "data": {
      "text/plain": [
       "<matplotlib.axes._subplots.AxesSubplot at 0x1289664fa58>"
      ]
     },
     "execution_count": 26,
     "metadata": {},
     "output_type": "execute_result"
    },
    {
     "data": {
      "image/png": "[encoded data removed]",
      "text/plain": [
       "<matplotlib.figure.Figure at 0x128967aef98>"
      ]
     },
     "metadata": {},
     "output_type": "display_data"
    }
   ],
   "source": [
    "insurdata.plot(kind=\"scatter\",x=\"Gender Dummy\",y=\"Married Dummy\")"
   ]
  },
  {
   "cell_type": "code",
   "execution_count": 27,
   "metadata": {
    "collapsed": false
   },
   "outputs": [
    {
     "data": {
      "text/html": [
       "<div>\n",
       "<table border=\"1\" class=\"dataframe\">\n",
       "  <thead>\n",
       "    <tr style=\"text-align: right;\">\n",
       "      <th></th>\n",
       "      <th>Policy Number</th>\n",
       "      <th>Number of Vehicles</th>\n",
       "      <th>Average Age</th>\n",
       "      <th>Gender Dummy</th>\n",
       "      <th>Married Dummy</th>\n",
       "      <th>Avg Veh Age</th>\n",
       "      <th>Fuel Type Dummy</th>\n",
       "      <th>Losses</th>\n",
       "    </tr>\n",
       "  </thead>\n",
       "  <tbody>\n",
       "    <tr>\n",
       "      <th>Policy Number</th>\n",
       "      <td>8.380334e+08</td>\n",
       "      <td>361.781047</td>\n",
       "      <td>37.809724</td>\n",
       "      <td>-133.100581</td>\n",
       "      <td>-73.933928</td>\n",
       "      <td>-516.160556</td>\n",
       "      <td>29.877855</td>\n",
       "      <td>33524.496649</td>\n",
       "    </tr>\n",
       "    <tr>\n",
       "      <th>Number of Vehicles</th>\n",
       "      <td>3.617810e+02</td>\n",
       "      <td>0.909689</td>\n",
       "      <td>0.124462</td>\n",
       "      <td>-0.000551</td>\n",
       "      <td>0.004541</td>\n",
       "      <td>0.008734</td>\n",
       "      <td>-0.001379</td>\n",
       "      <td>-2.795855</td>\n",
       "    </tr>\n",
       "    <tr>\n",
       "      <th>Average Age</th>\n",
       "      <td>3.780972e+01</td>\n",
       "      <td>0.124462</td>\n",
       "      <td>288.205448</td>\n",
       "      <td>0.027394</td>\n",
       "      <td>0.005824</td>\n",
       "      <td>-19.556190</td>\n",
       "      <td>-2.520356</td>\n",
       "      <td>-2047.529598</td>\n",
       "    </tr>\n",
       "    <tr>\n",
       "      <th>Gender Dummy</th>\n",
       "      <td>-1.331006e+02</td>\n",
       "      <td>-0.000551</td>\n",
       "      <td>0.027394</td>\n",
       "      <td>0.249972</td>\n",
       "      <td>0.002000</td>\n",
       "      <td>-0.000338</td>\n",
       "      <td>0.035133</td>\n",
       "      <td>23.384803</td>\n",
       "    </tr>\n",
       "    <tr>\n",
       "      <th>Married Dummy</th>\n",
       "      <td>-7.393393e+01</td>\n",
       "      <td>0.004541</td>\n",
       "      <td>0.005824</td>\n",
       "      <td>0.002000</td>\n",
       "      <td>0.249935</td>\n",
       "      <td>0.011270</td>\n",
       "      <td>0.046483</td>\n",
       "      <td>33.656672</td>\n",
       "    </tr>\n",
       "    <tr>\n",
       "      <th>Avg Veh Age</th>\n",
       "      <td>-5.161606e+02</td>\n",
       "      <td>0.008734</td>\n",
       "      <td>-19.556190</td>\n",
       "      <td>-0.000338</td>\n",
       "      <td>0.011270</td>\n",
       "      <td>16.687130</td>\n",
       "      <td>-0.524377</td>\n",
       "      <td>-299.195250</td>\n",
       "    </tr>\n",
       "    <tr>\n",
       "      <th>Fuel Type Dummy</th>\n",
       "      <td>2.987785e+01</td>\n",
       "      <td>-0.001379</td>\n",
       "      <td>-2.520356</td>\n",
       "      <td>0.035133</td>\n",
       "      <td>0.046483</td>\n",
       "      <td>-0.524377</td>\n",
       "      <td>0.180714</td>\n",
       "      <td>78.171935</td>\n",
       "    </tr>\n",
       "    <tr>\n",
       "      <th>Losses</th>\n",
       "      <td>3.352450e+04</td>\n",
       "      <td>-2.795855</td>\n",
       "      <td>-2047.529598</td>\n",
       "      <td>23.384803</td>\n",
       "      <td>33.656672</td>\n",
       "      <td>-299.195250</td>\n",
       "      <td>78.171935</td>\n",
       "      <td>64378.625157</td>\n",
       "    </tr>\n",
       "  </tbody>\n",
       "</table>\n",
       "</div>"
      ],
      "text/plain": [
       "                    Policy Number  Number of Vehicles  Average Age  \\\n",
       "Policy Number        8.380334e+08          361.781047    37.809724   \n",
       "Number of Vehicles   3.617810e+02            0.909689     0.124462   \n",
       "Average Age          3.780972e+01            0.124462   288.205448   \n",
       "Gender Dummy        -1.331006e+02           -0.000551     0.027394   \n",
       "Married Dummy       -7.393393e+01            0.004541     0.005824   \n",
       "Avg Veh Age         -5.161606e+02            0.008734   -19.556190   \n",
       "Fuel Type Dummy      2.987785e+01           -0.001379    -2.520356   \n",
       "Losses               3.352450e+04           -2.795855 -2047.529598   \n",
       "\n",
       "                    Gender Dummy  Married Dummy  Avg Veh Age  Fuel Type Dummy  \\\n",
       "Policy Number        -133.100581     -73.933928  -516.160556        29.877855   \n",
       "Number of Vehicles     -0.000551       0.004541     0.008734        -0.001379   \n",
       "Average Age             0.027394       0.005824   -19.556190        -2.520356   \n",
       "Gender Dummy            0.249972       0.002000    -0.000338         0.035133   \n",
       "Married Dummy           0.002000       0.249935     0.011270         0.046483   \n",
       "Avg Veh Age            -0.000338       0.011270    16.687130        -0.524377   \n",
       "Fuel Type Dummy         0.035133       0.046483    -0.524377         0.180714   \n",
       "Losses                 23.384803      33.656672  -299.195250        78.171935   \n",
       "\n",
       "                          Losses  \n",
       "Policy Number       33524.496649  \n",
       "Number of Vehicles     -2.795855  \n",
       "Average Age         -2047.529598  \n",
       "Gender Dummy           23.384803  \n",
       "Married Dummy          33.656672  \n",
       "Avg Veh Age          -299.195250  \n",
       "Fuel Type Dummy        78.171935  \n",
       "Losses              64378.625157  "
      ]
     },
     "execution_count": 27,
     "metadata": {},
     "output_type": "execute_result"
    }
   ],
   "source": [
    "insurdata.cov()"
   ]
  },
  {
   "cell_type": "code",
   "execution_count": 28,
   "metadata": {
    "collapsed": true
   },
   "outputs": [],
   "source": [
    "from scipy import stats as st"
   ]
  },
  {
   "cell_type": "code",
   "execution_count": 29,
   "metadata": {
    "collapsed": true
   },
   "outputs": [],
   "source": [
    "male=insurdata[insurdata[\"Gender Dummy\"]==0]\n",
    "female=insurdata[insurdata[\"Gender Dummy\"]==1]"
   ]
  },
  {
   "cell_type": "code",
   "execution_count": 30,
   "metadata": {
    "collapsed": false
   },
   "outputs": [
    {
     "data": {
      "text/plain": [
       "Ttest_indResult(statistic=-23.083347869337089, pvalue=1.1897450189879751e-115)"
      ]
     },
     "execution_count": 30,
     "metadata": {},
     "output_type": "execute_result"
    }
   ],
   "source": [
    "st.ttest_ind(male[\"Losses\"],female[\"Losses\"],equal_var=False)"
   ]
  },
  {
   "cell_type": "code",
   "execution_count": 31,
   "metadata": {
    "collapsed": true
   },
   "outputs": [],
   "source": [
    "married=insurdata[insurdata[\"Married Dummy\"]==0]\n",
    "unmarried=insurdata[insurdata[\"Married Dummy\"]==1]"
   ]
  },
  {
   "cell_type": "code",
   "execution_count": 32,
   "metadata": {
    "collapsed": false
   },
   "outputs": [
    {
     "data": {
      "text/plain": [
       "Ttest_indResult(statistic=-33.749155579963784, pvalue=6.1733019474046922e-239)"
      ]
     },
     "execution_count": 32,
     "metadata": {},
     "output_type": "execute_result"
    }
   ],
   "source": [
    "st.ttest_ind(married[\"Losses\"],unmarried[\"Losses\"],equal_var=False)"
   ]
  },
  {
   "cell_type": "code",
   "execution_count": 33,
   "metadata": {
    "collapsed": true
   },
   "outputs": [],
   "source": [
    "one=insurdata[insurdata['Number of Vehicles']==1]\n",
    "two=insurdata[insurdata['Number of Vehicles']==2]\n",
    "three=insurdata[insurdata['Number of Vehicles']==3]\n",
    "four=insurdata[insurdata['Number of Vehicles']==4]"
   ]
  },
  {
   "cell_type": "code",
   "execution_count": 34,
   "metadata": {
    "collapsed": false
   },
   "outputs": [
    {
     "data": {
      "text/plain": [
       "F_onewayResult(statistic=0.99341683936986303, pvalue=0.39471014822201045)"
      ]
     },
     "execution_count": 34,
     "metadata": {},
     "output_type": "execute_result"
    }
   ],
   "source": [
    "st.f_oneway(one[\"Losses\"],two[\"Losses\"],three[\"Losses\"],four[\"Losses\"])"
   ]
  },
  {
   "cell_type": "code",
   "execution_count": 37,
   "metadata": {
    "collapsed": false
   },
   "outputs": [
    {
     "ename": "SyntaxError",
     "evalue": "invalid syntax (<ipython-input-37-259bc7b4ada8>, line 1)",
     "output_type": "error",
     "traceback": [
      "\u001b[0;36m  File \u001b[0;32m\"<ipython-input-37-259bc7b4ada8>\"\u001b[0;36m, line \u001b[0;32m1\u001b[0m\n\u001b[0;31m    st.chi2_contingency(pd.crosstab(insurdata.Gender Dummy,insurdata.Married Dummy))\u001b[0m\n\u001b[0m                                                         ^\u001b[0m\n\u001b[0;31mSyntaxError\u001b[0m\u001b[0;31m:\u001b[0m invalid syntax\n"
     ]
    }
   ],
   "source": []
  },
  {
   "cell_type": "code",
   "execution_count": 40,
   "metadata": {
    "collapsed": false
   },
   "outputs": [],
   "source": [
    "insurdata[\"Gender\"]=insurdata[\"Gender Dummy\"].map({0:\"male\",1:\"female\"})"
   ]
  },
  {
   "cell_type": "code",
   "execution_count": 41,
   "metadata": {
    "collapsed": true
   },
   "outputs": [],
   "source": [
    "insurdata[\"MaritalStatus\"]=insurdata[\"Married Dummy\"].map({0:\"married\",1:\"unmarried\"})"
   ]
  },
  {
   "cell_type": "code",
   "execution_count": 42,
   "metadata": {
    "collapsed": false
   },
   "outputs": [
    {
     "data": {
      "text/html": [
       "<div>\n",
       "<table border=\"1\" class=\"dataframe\">\n",
       "  <thead>\n",
       "    <tr style=\"text-align: right;\">\n",
       "      <th></th>\n",
       "      <th>Policy Number</th>\n",
       "      <th>Number of Vehicles</th>\n",
       "      <th>Average Age</th>\n",
       "      <th>Gender Dummy</th>\n",
       "      <th>Married Dummy</th>\n",
       "      <th>Avg Veh Age</th>\n",
       "      <th>Fuel Type Dummy</th>\n",
       "      <th>Losses</th>\n",
       "    </tr>\n",
       "  </thead>\n",
       "  <tbody>\n",
       "    <tr>\n",
       "      <th>count</th>\n",
       "      <td>15290.000000</td>\n",
       "      <td>15290.000000</td>\n",
       "      <td>15290.000000</td>\n",
       "      <td>15290.000000</td>\n",
       "      <td>15290.000000</td>\n",
       "      <td>15290.000000</td>\n",
       "      <td>15290.000000</td>\n",
       "      <td>15290.000000</td>\n",
       "    </tr>\n",
       "    <tr>\n",
       "      <th>mean</th>\n",
       "      <td>149910.276651</td>\n",
       "      <td>2.495880</td>\n",
       "      <td>42.341969</td>\n",
       "      <td>0.493329</td>\n",
       "      <td>0.490974</td>\n",
       "      <td>8.656579</td>\n",
       "      <td>0.236756</td>\n",
       "      <td>389.859718</td>\n",
       "    </tr>\n",
       "    <tr>\n",
       "      <th>std</th>\n",
       "      <td>28948.806631</td>\n",
       "      <td>0.953776</td>\n",
       "      <td>16.976615</td>\n",
       "      <td>0.499972</td>\n",
       "      <td>0.499935</td>\n",
       "      <td>4.084988</td>\n",
       "      <td>0.425105</td>\n",
       "      <td>253.729433</td>\n",
       "    </tr>\n",
       "    <tr>\n",
       "      <th>min</th>\n",
       "      <td>100002.000000</td>\n",
       "      <td>1.000000</td>\n",
       "      <td>20.600000</td>\n",
       "      <td>0.000000</td>\n",
       "      <td>0.000000</td>\n",
       "      <td>2.500000</td>\n",
       "      <td>0.000000</td>\n",
       "      <td>12.534521</td>\n",
       "    </tr>\n",
       "    <tr>\n",
       "      <th>25%</th>\n",
       "      <td>124842.000000</td>\n",
       "      <td>2.000000</td>\n",
       "      <td>20.600000</td>\n",
       "      <td>0.000000</td>\n",
       "      <td>0.000000</td>\n",
       "      <td>8.020000</td>\n",
       "      <td>0.000000</td>\n",
       "      <td>226.434217</td>\n",
       "    </tr>\n",
       "    <tr>\n",
       "      <th>50%</th>\n",
       "      <td>149872.000000</td>\n",
       "      <td>2.000000</td>\n",
       "      <td>42.400000</td>\n",
       "      <td>0.000000</td>\n",
       "      <td>0.000000</td>\n",
       "      <td>8.020000</td>\n",
       "      <td>0.000000</td>\n",
       "      <td>354.937874</td>\n",
       "    </tr>\n",
       "    <tr>\n",
       "      <th>75%</th>\n",
       "      <td>175011.000000</td>\n",
       "      <td>3.000000</td>\n",
       "      <td>65.100000</td>\n",
       "      <td>1.000000</td>\n",
       "      <td>1.000000</td>\n",
       "      <td>12.970000</td>\n",
       "      <td>0.000000</td>\n",
       "      <td>488.676927</td>\n",
       "    </tr>\n",
       "    <tr>\n",
       "      <th>max</th>\n",
       "      <td>200000.000000</td>\n",
       "      <td>4.000000</td>\n",
       "      <td>65.100000</td>\n",
       "      <td>1.000000</td>\n",
       "      <td>1.000000</td>\n",
       "      <td>12.970000</td>\n",
       "      <td>1.000000</td>\n",
       "      <td>3500.000000</td>\n",
       "    </tr>\n",
       "  </tbody>\n",
       "</table>\n",
       "</div>"
      ],
      "text/plain": [
       "       Policy Number  Number of Vehicles   Average Age  Gender Dummy  \\\n",
       "count   15290.000000        15290.000000  15290.000000  15290.000000   \n",
       "mean   149910.276651            2.495880     42.341969      0.493329   \n",
       "std     28948.806631            0.953776     16.976615      0.499972   \n",
       "min    100002.000000            1.000000     20.600000      0.000000   \n",
       "25%    124842.000000            2.000000     20.600000      0.000000   \n",
       "50%    149872.000000            2.000000     42.400000      0.000000   \n",
       "75%    175011.000000            3.000000     65.100000      1.000000   \n",
       "max    200000.000000            4.000000     65.100000      1.000000   \n",
       "\n",
       "       Married Dummy   Avg Veh Age  Fuel Type Dummy        Losses  \n",
       "count   15290.000000  15290.000000     15290.000000  15290.000000  \n",
       "mean        0.490974      8.656579         0.236756    389.859718  \n",
       "std         0.499935      4.084988         0.425105    253.729433  \n",
       "min         0.000000      2.500000         0.000000     12.534521  \n",
       "25%         0.000000      8.020000         0.000000    226.434217  \n",
       "50%         0.000000      8.020000         0.000000    354.937874  \n",
       "75%         1.000000     12.970000         0.000000    488.676927  \n",
       "max         1.000000     12.970000         1.000000   3500.000000  "
      ]
     },
     "execution_count": 42,
     "metadata": {},
     "output_type": "execute_result"
    }
   ],
   "source": [
    "insurdata.describe()"
   ]
  },
  {
   "cell_type": "code",
   "execution_count": 43,
   "metadata": {
    "collapsed": false
   },
   "outputs": [
    {
     "data": {
      "text/plain": [
       "(0.94726095209071082,\n",
       " 0.330417479695577,\n",
       " 1,\n",
       " array([[ 3839.5793983,  3703.4206017],\n",
       "        [ 3943.4206017,  3803.5793983]]))"
      ]
     },
     "execution_count": 43,
     "metadata": {},
     "output_type": "execute_result"
    }
   ],
   "source": [
    "st.chi2_contingency(pd.crosstab(insurdata.Gender, insurdata.MaritalStatus))"
   ]
  },
  {
   "cell_type": "code",
   "execution_count": 44,
   "metadata": {
    "collapsed": true
   },
   "outputs": [],
   "source": [
    "import statsmodels.api as sm"
   ]
  },
  {
   "cell_type": "code",
   "execution_count": 45,
   "metadata": {
    "collapsed": true
   },
   "outputs": [],
   "source": [
    "y=insurdata['Losses']\n",
    "x=insurdata[['Policy Number','Number of Vehicles','Average Age','Gender Dummy','Married Dummy','Avg Veh Age','Fuel Type Dummy']]\n"
   ]
  },
  {
   "cell_type": "code",
   "execution_count": 46,
   "metadata": {
    "collapsed": true
   },
   "outputs": [],
   "source": [
    "x=sm.add_constant(x)"
   ]
  },
  {
   "cell_type": "code",
   "execution_count": 47,
   "metadata": {
    "collapsed": true
   },
   "outputs": [],
   "source": [
    "model=sm.OLS(y,x)"
   ]
  },
  {
   "cell_type": "code",
   "execution_count": 48,
   "metadata": {
    "collapsed": true
   },
   "outputs": [],
   "source": [
    "results=model.fit()"
   ]
  },
  {
   "cell_type": "code",
   "execution_count": 49,
   "metadata": {
    "collapsed": false
   },
   "outputs": [
    {
     "name": "stdout",
     "output_type": "stream",
     "text": [
      "                            OLS Regression Results                            \n",
      "==============================================================================\n",
      "Dep. Variable:                 Losses   R-squared:                       0.655\n",
      "Model:                            OLS   Adj. R-squared:                  0.655\n",
      "Method:                 Least Squares   F-statistic:                     4154.\n",
      "Date:                Sun, 02 Jul 2017   Prob (F-statistic):               0.00\n",
      "Time:                        16:07:10   Log-Likelihood:                -98198.\n",
      "No. Observations:               15290   AIC:                         1.964e+05\n",
      "Df Residuals:                   15282   BIC:                         1.965e+05\n",
      "Df Model:                           7                                         \n",
      "Covariance Type:            nonrobust                                         \n",
      "======================================================================================\n",
      "                         coef    std err          t      P>|t|      [95.0% Conf. Int.]\n",
      "--------------------------------------------------------------------------------------\n",
      "const                645.1763      9.279     69.530      0.000       626.988   663.364\n",
      "Policy Number       3.774e-05   4.16e-05      0.907      0.365     -4.38e-05     0.000\n",
      "Number of Vehicles    -2.1102      1.263     -1.670      0.095        -4.586     0.366\n",
      "Average Age           -5.8469      0.085    -68.591      0.000        -6.014    -5.680\n",
      "Gender Dummy          55.4042      2.461     22.509      0.000        50.579    60.229\n",
      "Married Dummy         84.7221      2.501     33.871      0.000        79.819    89.625\n",
      "Avg Veh Age          -16.3169      0.348    -46.927      0.000       -16.998   -15.635\n",
      "Fuel Type Dummy      271.0947      3.577     75.782      0.000       264.083   278.107\n",
      "==============================================================================\n",
      "Omnibus:                    18796.482   Durbin-Watson:                   1.614\n",
      "Prob(Omnibus):                  0.000   Jarque-Bera (JB):          6486827.938\n",
      "Skew:                           6.322   Prob(JB):                         0.00\n",
      "Kurtosis:                     103.111   Cond. No.                     1.19e+06\n",
      "==============================================================================\n",
      "\n",
      "Warnings:\n",
      "[1] Standard Errors assume that the covariance matrix of the errors is correctly specified.\n",
      "[2] The condition number is large, 1.19e+06. This might indicate that there are\n",
      "strong multicollinearity or other numerical problems.\n"
     ]
    }
   ],
   "source": [
    "print(results.summary())"
   ]
  },
  {
   "cell_type": "code",
   "execution_count": null,
   "metadata": {
    "collapsed": true
   },
   "outputs": [],
   "source": []
  }
 ],
 "metadata": {
  "anaconda-cloud": {},
  "kernelspec": {
   "display_name": "Python [default]",
   "language": "python",
   "name": "python3"
  },
  "language_info": {
   "codemirror_mode": {
    "name": "ipython",
    "version": 3
   },
   "file_extension": ".py",
   "mimetype": "text/x-python",
   "name": "python",
   "nbconvert_exporter": "python",
   "pygments_lexer": "ipython3",
   "version": "3.5.2"
  }
 },
 "nbformat": 4,
 "nbformat_minor": 1
}
