{
 "cells": [
  {
   "cell_type": "code",
   "execution_count": 1,
   "metadata": {
    "collapsed": true
   },
   "outputs": [],
   "source": [
    "import pandas as pd\n",
    "import numpy as np\n",
    "import matplotlib.pyplot as plt\n",
    "%matplotlib inline"
   ]
  },
  {
   "cell_type": "code",
   "execution_count": 2,
   "metadata": {
    "collapsed": true
   },
   "outputs": [],
   "source": [
    "insurdata=pd.read_csv(\"/Users/Phani deep/Insurance_Data.csv\")"
   ]
  },
  {
   "cell_type": "code",
   "execution_count": 3,
   "metadata": {
    "collapsed": false
   },
   "outputs": [
    {
     "data": {
      "text/html": [
       "<div>\n",
       "<table border=\"1\" class=\"dataframe\">\n",
       "  <thead>\n",
       "    <tr style=\"text-align: right;\">\n",
       "      <th></th>\n",
       "      <th>Policy Number</th>\n",
       "      <th>Number of Vehicles</th>\n",
       "      <th>Average Age</th>\n",
       "      <th>Gender Dummy</th>\n",
       "      <th>Married Dummy</th>\n",
       "      <th>Avg Veh Age</th>\n",
       "      <th>Fuel Type Dummy</th>\n",
       "      <th>Losses</th>\n",
       "    </tr>\n",
       "  </thead>\n",
       "  <tbody>\n",
       "    <tr>\n",
       "      <th>count</th>\n",
       "      <td>15290.000000</td>\n",
       "      <td>15290.000000</td>\n",
       "      <td>15290.000000</td>\n",
       "      <td>15290.000000</td>\n",
       "      <td>15290.000000</td>\n",
       "      <td>15290.000000</td>\n",
       "      <td>15290.000000</td>\n",
       "      <td>15290.000000</td>\n",
       "    </tr>\n",
       "    <tr>\n",
       "      <th>mean</th>\n",
       "      <td>149910.276651</td>\n",
       "      <td>2.495880</td>\n",
       "      <td>42.341969</td>\n",
       "      <td>0.493329</td>\n",
       "      <td>0.490974</td>\n",
       "      <td>8.656579</td>\n",
       "      <td>0.236756</td>\n",
       "      <td>389.859718</td>\n",
       "    </tr>\n",
       "    <tr>\n",
       "      <th>std</th>\n",
       "      <td>28948.806631</td>\n",
       "      <td>0.953776</td>\n",
       "      <td>16.976615</td>\n",
       "      <td>0.499972</td>\n",
       "      <td>0.499935</td>\n",
       "      <td>4.084988</td>\n",
       "      <td>0.425105</td>\n",
       "      <td>253.729433</td>\n",
       "    </tr>\n",
       "    <tr>\n",
       "      <th>min</th>\n",
       "      <td>100002.000000</td>\n",
       "      <td>1.000000</td>\n",
       "      <td>20.600000</td>\n",
       "      <td>0.000000</td>\n",
       "      <td>0.000000</td>\n",
       "      <td>2.500000</td>\n",
       "      <td>0.000000</td>\n",
       "      <td>12.534521</td>\n",
       "    </tr>\n",
       "    <tr>\n",
       "      <th>25%</th>\n",
       "      <td>124842.000000</td>\n",
       "      <td>2.000000</td>\n",
       "      <td>20.600000</td>\n",
       "      <td>0.000000</td>\n",
       "      <td>0.000000</td>\n",
       "      <td>8.020000</td>\n",
       "      <td>0.000000</td>\n",
       "      <td>226.434217</td>\n",
       "    </tr>\n",
       "    <tr>\n",
       "      <th>50%</th>\n",
       "      <td>149872.000000</td>\n",
       "      <td>2.000000</td>\n",
       "      <td>42.400000</td>\n",
       "      <td>0.000000</td>\n",
       "      <td>0.000000</td>\n",
       "      <td>8.020000</td>\n",
       "      <td>0.000000</td>\n",
       "      <td>354.937874</td>\n",
       "    </tr>\n",
       "    <tr>\n",
       "      <th>75%</th>\n",
       "      <td>175011.000000</td>\n",
       "      <td>3.000000</td>\n",
       "      <td>65.100000</td>\n",
       "      <td>1.000000</td>\n",
       "      <td>1.000000</td>\n",
       "      <td>12.970000</td>\n",
       "      <td>0.000000</td>\n",
       "      <td>488.676927</td>\n",
       "    </tr>\n",
       "    <tr>\n",
       "      <th>max</th>\n",
       "      <td>200000.000000</td>\n",
       "      <td>4.000000</td>\n",
       "      <td>65.100000</td>\n",
       "      <td>1.000000</td>\n",
       "      <td>1.000000</td>\n",
       "      <td>12.970000</td>\n",
       "      <td>1.000000</td>\n",
       "      <td>3500.000000</td>\n",
       "    </tr>\n",
       "  </tbody>\n",
       "</table>\n",
       "</div>"
      ],
      "text/plain": [
       "       Policy Number  Number of Vehicles   Average Age  Gender Dummy  \\\n",
       "count   15290.000000        15290.000000  15290.000000  15290.000000   \n",
       "mean   149910.276651            2.495880     42.341969      0.493329   \n",
       "std     28948.806631            0.953776     16.976615      0.499972   \n",
       "min    100002.000000            1.000000     20.600000      0.000000   \n",
       "25%    124842.000000            2.000000     20.600000      0.000000   \n",
       "50%    149872.000000            2.000000     42.400000      0.000000   \n",
       "75%    175011.000000            3.000000     65.100000      1.000000   \n",
       "max    200000.000000            4.000000     65.100000      1.000000   \n",
       "\n",
       "       Married Dummy   Avg Veh Age  Fuel Type Dummy        Losses  \n",
       "count   15290.000000  15290.000000     15290.000000  15290.000000  \n",
       "mean        0.490974      8.656579         0.236756    389.859718  \n",
       "std         0.499935      4.084988         0.425105    253.729433  \n",
       "min         0.000000      2.500000         0.000000     12.534521  \n",
       "25%         0.000000      8.020000         0.000000    226.434217  \n",
       "50%         0.000000      8.020000         0.000000    354.937874  \n",
       "75%         1.000000     12.970000         0.000000    488.676927  \n",
       "max         1.000000     12.970000         1.000000   3500.000000  "
      ]
     },
     "execution_count": 3,
     "metadata": {},
     "output_type": "execute_result"
    }
   ],
   "source": [
    "insurdata.describe()\n"
   ]
  },
  {
   "cell_type": "code",
   "execution_count": null,
   "metadata": {
    "collapsed": false
   },
   "outputs": [],
   "source": [
    "insurdata['Losses'].plot(kind=\"hist\")"
   ]
  },
  {
   "cell_type": "raw",
   "metadata": {},
   "source": []
  }
 ],
 "metadata": {
  "kernelspec": {
   "display_name": "Python [default]",
   "language": "python",
   "name": "python3"
  },
  "language_info": {
   "codemirror_mode": {
    "name": "ipython",
    "version": 3
   },
   "file_extension": ".py",
   "mimetype": "text/x-python",
   "name": "python",
   "nbconvert_exporter": "python",
   "pygments_lexer": "ipython3",
   "version": "3.5.2"
  }
 },
 "nbformat": 4,
 "nbformat_minor": 1
}
