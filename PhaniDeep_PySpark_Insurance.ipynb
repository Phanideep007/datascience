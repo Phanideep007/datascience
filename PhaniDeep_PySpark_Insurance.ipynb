{
 "cells": [
  {
   "cell_type": "code",
   "execution_count": 1,
   "metadata": {},
   "outputs": [
    {
     "data": {
      "text/html": [
       "\n",
       "        <div>\n",
       "            <p><b>SparkContext</b></p>\n",
       "\n",
       "            <p><a href=\"http://192.168.56.1:4040\">Spark UI</a></p>\n",
       "\n",
       "            <dl>\n",
       "              <dt>Version</dt>\n",
       "                <dd><code>v2.2.0</code></dd>\n",
       "              <dt>Master</dt>\n",
       "                <dd><code>local[*]</code></dd>\n",
       "              <dt>AppName</dt>\n",
       "                <dd><code>PySparkShell</code></dd>\n",
       "            </dl>\n",
       "        </div>\n",
       "        "
      ],
      "text/plain": [
       "<SparkContext master=local[*] appName=PySparkShell>"
      ]
     },
     "execution_count": 1,
     "metadata": {},
     "output_type": "execute_result"
    }
   ],
   "source": [
    "sc"
   ]
  },
  {
   "cell_type": "code",
   "execution_count": 2,
   "metadata": {
    "collapsed": true
   },
   "outputs": [],
   "source": [
    "lines=sc.parallelize(['it is fun to have fun','but you have to know how'])\n",
    "\n",
    "###PySpark Word Count Program"
   ]
  },
  {
   "cell_type": "code",
   "execution_count": 3,
   "metadata": {
    "collapsed": true
   },
   "outputs": [],
   "source": [
    "wordcounts=lines.map(lambda x: x.replace(',',' ').replace('.',' ').replace('-',' ').lower()) \\\n",
    "           .flatMap(lambda x: x.split()) \\\n",
    "           .map(lambda x: (x,1)) \\\n",
    "           .reduceByKey(lambda x,y:x+y) \\\n",
    "            .map(lambda x:(x[1],x[0])) \\\n",
    "            .sortByKey(ascending=False)"
   ]
  },
  {
   "cell_type": "code",
   "execution_count": 4,
   "metadata": {},
   "outputs": [
    {
     "data": {
      "text/plain": [
       "[(2, 'have'),\n",
       " (2, 'to'),\n",
       " (2, 'fun'),\n",
       " (1, 'but'),\n",
       " (1, 'you'),\n",
       " (1, 'how'),\n",
       " (1, 'is'),\n",
       " (1, 'know'),\n",
       " (1, 'it')]"
      ]
     },
     "execution_count": 4,
     "metadata": {},
     "output_type": "execute_result"
    }
   ],
   "source": [
    "wordcounts.take(20)"
   ]
  },
  {
   "cell_type": "code",
   "execution_count": 1,
   "metadata": {
    "collapsed": true
   },
   "outputs": [],
   "source": [
    "telco_churn=spark.read.csv(\"D:/TelcoChurn.csv\", header=True,inferSchema=True)\n",
    "\n",
    "## Instead of using Spark Context we can directly use like above in the 2.2.0 version of PySpark\n",
    "## This will read the file and the variable correctly in their format like in R language"
   ]
  },
  {
   "cell_type": "code",
   "execution_count": 2,
   "metadata": {},
   "outputs": [
    {
     "name": "stdout",
     "output_type": "stream",
     "text": [
      "root\n",
      " |-- Account Length: integer (nullable = true)\n",
      " |-- International Plan: integer (nullable = true)\n",
      " |-- Voice Mail Plan: integer (nullable = true)\n",
      " |-- Num of Voice mail Messages: integer (nullable = true)\n",
      " |-- Total Day Minutes: double (nullable = true)\n",
      " |-- Total Day Calls: integer (nullable = true)\n",
      " |-- Total day Charge: double (nullable = true)\n",
      " |-- Total Eve Minutes: double (nullable = true)\n",
      " |-- Total Eve Calls: integer (nullable = true)\n",
      " |-- Total Eve Charge: double (nullable = true)\n",
      " |-- Total Night Minutes: double (nullable = true)\n",
      " |-- Total Night Calls : integer (nullable = true)\n",
      " |-- Total Night Charge: double (nullable = true)\n",
      " |-- Total International Minutes: double (nullable = true)\n",
      " |-- Total Intl  Calls: integer (nullable = true)\n",
      " |-- Total Intl Charge: double (nullable = true)\n",
      " |-- Number Customer Service calls : integer (nullable = true)\n",
      " |-- Churn: integer (nullable = true)\n",
      "\n"
     ]
    }
   ],
   "source": [
    "telco_churn.printSchema()"
   ]
  },
  {
   "cell_type": "code",
   "execution_count": 4,
   "metadata": {
    "collapsed": true
   },
   "outputs": [],
   "source": [
    "insur_data=spark.read.csv(\"D:/analytics/Insurance_Data.csv\",header=True,inferSchema=True)"
   ]
  },
  {
   "cell_type": "code",
   "execution_count": 5,
   "metadata": {},
   "outputs": [
    {
     "name": "stdout",
     "output_type": "stream",
     "text": [
      "root\n",
      " |-- Policy Number: integer (nullable = true)\n",
      " |-- Number of Vehicles: integer (nullable = true)\n",
      " |-- Average Age: double (nullable = true)\n",
      " |-- Gender Dummy: integer (nullable = true)\n",
      " |-- Married Dummy: integer (nullable = true)\n",
      " |-- Avg Veh Age: double (nullable = true)\n",
      " |-- Fuel Type Dummy: integer (nullable = true)\n",
      " |-- Losses: double (nullable = true)\n",
      "\n"
     ]
    }
   ],
   "source": [
    "insur_data.printSchema()"
   ]
  },
  {
   "cell_type": "code",
   "execution_count": 6,
   "metadata": {},
   "outputs": [
    {
     "data": {
      "text/plain": [
       "[Row(Policy Number=150023, Number of Vehicles=1, Average Age=20.6, Gender Dummy=1, Married Dummy=0, Avg Veh Age=12.97, Fuel Type Dummy=0, Losses=203.3195946),\n",
       " Row(Policy Number=152720, Number of Vehicles=1, Average Age=42.4, Gender Dummy=0, Married Dummy=1, Avg Veh Age=8.02, Fuel Type Dummy=0, Losses=402.1973024),\n",
       " Row(Policy Number=174207, Number of Vehicles=1, Average Age=42.4, Gender Dummy=1, Married Dummy=0, Avg Veh Age=2.5, Fuel Type Dummy=1, Losses=553.1320959),\n",
       " Row(Policy Number=139895, Number of Vehicles=1, Average Age=42.4, Gender Dummy=0, Married Dummy=0, Avg Veh Age=12.97, Fuel Type Dummy=0, Losses=292.4305792),\n",
       " Row(Policy Number=174407, Number of Vehicles=1, Average Age=20.6, Gender Dummy=1, Married Dummy=1, Avg Veh Age=12.97, Fuel Type Dummy=0, Losses=246.5405761),\n",
       " Row(Policy Number=170545, Number of Vehicles=1, Average Age=42.4, Gender Dummy=1, Married Dummy=0, Avg Veh Age=8.02, Fuel Type Dummy=0, Losses=384.6763948),\n",
       " Row(Policy Number=123164, Number of Vehicles=1, Average Age=42.4, Gender Dummy=0, Married Dummy=1, Avg Veh Age=2.5, Fuel Type Dummy=0, Losses=462.1588562),\n",
       " Row(Policy Number=147118, Number of Vehicles=1, Average Age=65.1, Gender Dummy=0, Married Dummy=0, Avg Veh Age=12.97, Fuel Type Dummy=0, Losses=168.9340361),\n",
       " Row(Policy Number=119842, Number of Vehicles=1, Average Age=65.1, Gender Dummy=1, Married Dummy=1, Avg Veh Age=2.5, Fuel Type Dummy=0, Losses=69.89304091),\n",
       " Row(Policy Number=192628, Number of Vehicles=1, Average Age=20.6, Gender Dummy=0, Married Dummy=1, Avg Veh Age=12.97, Fuel Type Dummy=0, Losses=242.7725761)]"
      ]
     },
     "execution_count": 6,
     "metadata": {},
     "output_type": "execute_result"
    }
   ],
   "source": [
    "insur_data.take(10)"
   ]
  },
  {
   "cell_type": "code",
   "execution_count": 8,
   "metadata": {},
   "outputs": [
    {
     "name": "stdout",
     "output_type": "stream",
     "text": [
      "+-------------+------------------+-----------+------------+-------------+-----------+---------------+-----------+\n",
      "|Policy Number|Number of Vehicles|Average Age|Gender Dummy|Married Dummy|Avg Veh Age|Fuel Type Dummy|     Losses|\n",
      "+-------------+------------------+-----------+------------+-------------+-----------+---------------+-----------+\n",
      "|       150023|                 1|       20.6|           1|            0|      12.97|              0|203.3195946|\n",
      "|       152720|                 1|       42.4|           0|            1|       8.02|              0|402.1973024|\n",
      "|       174207|                 1|       42.4|           1|            0|        2.5|              1|553.1320959|\n",
      "|       139895|                 1|       42.4|           0|            0|      12.97|              0|292.4305792|\n",
      "|       174407|                 1|       20.6|           1|            1|      12.97|              0|246.5405761|\n",
      "|       170545|                 1|       42.4|           1|            0|       8.02|              0|384.6763948|\n",
      "|       123164|                 1|       42.4|           0|            1|        2.5|              0|462.1588562|\n",
      "|       147118|                 1|       65.1|           0|            0|      12.97|              0|168.9340361|\n",
      "|       119842|                 1|       65.1|           1|            1|        2.5|              0|69.89304091|\n",
      "|       192628|                 1|       20.6|           0|            1|      12.97|              0|242.7725761|\n",
      "|       154593|                 1|       20.6|           1|            1|      12.97|              1|763.7298567|\n",
      "|       182495|                 1|       42.4|           0|            1|      12.97|              0|407.3893742|\n",
      "|       173214|                 1|       20.6|           0|            0|      12.97|              0|161.5795211|\n",
      "|       124315|                 1|       65.1|           1|            0|       8.02|              0|242.8887756|\n",
      "|       189976|                 1|       42.4|           1|            0|       8.02|              0| 358.521705|\n",
      "|       109823|                 1|       42.4|           1|            0|      12.97|              0|314.6620972|\n",
      "|       140529|                 1|       65.1|           1|            1|      12.97|              0|306.7395011|\n",
      "|       108345|                 1|       20.6|           1|            1|      12.97|              1|772.6448203|\n",
      "|       197526|                 1|       65.1|           1|            1|        2.5|              1|593.4274113|\n",
      "|       164235|                 1|       65.1|           1|            0|        2.5|              0|275.2144091|\n",
      "+-------------+------------------+-----------+------------+-------------+-----------+---------------+-----------+\n",
      "only showing top 20 rows\n",
      "\n"
     ]
    }
   ],
   "source": [
    "insur_data.show()\n",
    "\n",
    "## To see whether we imported in data frame structure or not"
   ]
  },
  {
   "cell_type": "code",
   "execution_count": 58,
   "metadata": {
    "collapsed": true
   },
   "outputs": [],
   "source": [
    "from pyspark.mllib.regression import LabeledPoint\n",
    "from pyspark.ml.linalg import Vectors,VectorUDT"
   ]
  },
  {
   "cell_type": "code",
   "execution_count": 19,
   "metadata": {
    "collapsed": true
   },
   "outputs": [],
   "source": [
    "### We need to create a tuple of (Label, Features) \n",
    "### Where Label is the Y variable and Features is the Dense Vector of all X Variables\n",
    "### For RDD --> We need to use mllib in import --> Logistic Regression\n",
    "### For DF --> We need to use ml in import --> Linear Regression "
   ]
  },
  {
   "cell_type": "code",
   "execution_count": 20,
   "metadata": {
    "collapsed": true
   },
   "outputs": [],
   "source": [
    "insurancedf=insur_data.rdd.map(lambda x: [Vectors.dense(x[1:6]),x[-1]]).toDF(['Features','Label'])"
   ]
  },
  {
   "cell_type": "code",
   "execution_count": 21,
   "metadata": {},
   "outputs": [
    {
     "name": "stdout",
     "output_type": "stream",
     "text": [
      "+--------------------+-----------+\n",
      "|            Features|      Label|\n",
      "+--------------------+-----------+\n",
      "|[1.0,20.6,1.0,0.0...|203.3195946|\n",
      "|[1.0,42.4,0.0,1.0...|402.1973024|\n",
      "|[1.0,42.4,1.0,0.0...|553.1320959|\n",
      "|[1.0,42.4,0.0,0.0...|292.4305792|\n",
      "|[1.0,20.6,1.0,1.0...|246.5405761|\n",
      "+--------------------+-----------+\n",
      "only showing top 5 rows\n",
      "\n"
     ]
    }
   ],
   "source": [
    "insurancedf.show(5)"
   ]
  },
  {
   "cell_type": "code",
   "execution_count": 22,
   "metadata": {
    "collapsed": true
   },
   "outputs": [],
   "source": [
    "from pyspark.ml.regression import LinearRegression"
   ]
  },
  {
   "cell_type": "code",
   "execution_count": 23,
   "metadata": {
    "collapsed": true
   },
   "outputs": [],
   "source": [
    "lr = LinearRegression(featuresCol='Features',labelCol='Label')"
   ]
  },
  {
   "cell_type": "code",
   "execution_count": 24,
   "metadata": {
    "collapsed": true
   },
   "outputs": [],
   "source": [
    "lr_model=lr.fit(insurancedf)"
   ]
  },
  {
   "cell_type": "code",
   "execution_count": 41,
   "metadata": {
    "collapsed": true
   },
   "outputs": [],
   "source": [
    "from pyspark.ml.evaluation import RegressionEvaluator\n",
    "from pyspark.ml.evaluation import MulticlassClassificationEvaluator"
   ]
  },
  {
   "cell_type": "code",
   "execution_count": 51,
   "metadata": {},
   "outputs": [
    {
     "data": {
      "text/plain": [
       "0.5260000072141688"
      ]
     },
     "execution_count": 51,
     "metadata": {},
     "output_type": "execute_result"
    }
   ],
   "source": [
    "lr_model.summary.r2\n"
   ]
  },
  {
   "cell_type": "code",
   "execution_count": 52,
   "metadata": {},
   "outputs": [
    {
     "data": {
      "text/plain": [
       "174.68105816233438"
      ]
     },
     "execution_count": 52,
     "metadata": {},
     "output_type": "execute_result"
    }
   ],
   "source": [
    "lr_model.summary.rootMeanSquaredError\n"
   ]
  },
  {
   "cell_type": "code",
   "execution_count": 53,
   "metadata": {},
   "outputs": [
    {
     "data": {
      "text/plain": [
       "DenseVector([-2.1789, -9.058, 93.4151, 135.456, -28.6335])"
      ]
     },
     "execution_count": 53,
     "metadata": {},
     "output_type": "execute_result"
    }
   ],
   "source": [
    "lr_model.coefficients\n"
   ]
  },
  {
   "cell_type": "code",
   "execution_count": 54,
   "metadata": {},
   "outputs": [
    {
     "data": {
      "text/plain": [
       "914.1106930643006"
      ]
     },
     "execution_count": 54,
     "metadata": {},
     "output_type": "execute_result"
    }
   ],
   "source": [
    "lr_model.intercept"
   ]
  },
  {
   "cell_type": "code",
   "execution_count": 55,
   "metadata": {},
   "outputs": [
    {
     "name": "stdout",
     "output_type": "stream",
     "text": [
      "+-------------------+\n",
      "|          residuals|\n",
      "+-------------------+\n",
      "|-244.05524965109933|\n",
      "| -31.48977828775412|\n",
      "| 3.4288314874756907|\n",
      "| 135.93555886204342|\n",
      "| -336.2903146793871|\n",
      "|-6.9697390479316255|\n",
      "|-129.58535505234676|\n",
      "| 218.05595337214336|\n",
      "| -409.6493324207121|\n",
      "|-246.64321499092185|\n",
      "|  180.8989659206129|\n",
      "| 115.43830733375569|\n",
      "|-192.38022346263412|\n",
      "|  56.85957936216832|\n",
      "|-33.124428847931654|\n",
      "|  64.75197717357815|\n",
      "| 126.99027215539036|\n",
      "| 189.81392952061287|\n",
      "| 113.88503796928791|\n",
      "| -68.87191770242441|\n",
      "+-------------------+\n",
      "only showing top 20 rows\n",
      "\n"
     ]
    }
   ],
   "source": [
    "lr_model.summary.residuals.show()"
   ]
  },
  {
   "cell_type": "code",
   "execution_count": 56,
   "metadata": {},
   "outputs": [
    {
     "data": {
      "text/plain": [
       "1"
      ]
     },
     "execution_count": 56,
     "metadata": {},
     "output_type": "execute_result"
    }
   ],
   "source": [
    "lr_model.summary.totalIterations"
   ]
  },
  {
   "cell_type": "code",
   "execution_count": 61,
   "metadata": {
    "collapsed": true
   },
   "outputs": [],
   "source": [
    "predict=lr_model.transform(insurancedf)"
   ]
  },
  {
   "cell_type": "code",
   "execution_count": 62,
   "metadata": {},
   "outputs": [
    {
     "name": "stdout",
     "output_type": "stream",
     "text": [
      "+--------------------+-----------+------------------+\n",
      "|            Features|      Label|        prediction|\n",
      "+--------------------+-----------+------------------+\n",
      "|[1.0,20.6,1.0,0.0...|203.3195946| 447.3748442510993|\n",
      "|[1.0,42.4,0.0,1.0...|402.1973024|433.68708068775413|\n",
      "|[1.0,42.4,1.0,0.0...|553.1320959| 549.7032644125243|\n",
      "|[1.0,42.4,0.0,0.0...|292.4305792| 156.4950203379566|\n",
      "|[1.0,20.6,1.0,1.0...|246.5405761| 582.8308907793871|\n",
      "+--------------------+-----------+------------------+\n",
      "only showing top 5 rows\n",
      "\n"
     ]
    }
   ],
   "source": [
    "predict.show(5)"
   ]
  },
  {
   "cell_type": "code",
   "execution_count": 63,
   "metadata": {
    "collapsed": true
   },
   "outputs": [],
   "source": [
    "evaluator=RegressionEvaluator(predictionCol='prediction',labelCol='Label',metricName=\"rmse\")"
   ]
  },
  {
   "cell_type": "code",
   "execution_count": 64,
   "metadata": {
    "collapsed": true
   },
   "outputs": [],
   "source": [
    "rmse=evaluator.evaluate(predict)"
   ]
  },
  {
   "cell_type": "code",
   "execution_count": 65,
   "metadata": {},
   "outputs": [
    {
     "name": "stdout",
     "output_type": "stream",
     "text": [
      "174.68105816233438\n"
     ]
    }
   ],
   "source": [
    "print(rmse)"
   ]
  },
  {
   "cell_type": "code",
   "execution_count": 66,
   "metadata": {
    "collapsed": true
   },
   "outputs": [],
   "source": [
    "evaluator=RegressionEvaluator(predictionCol='prediction',labelCol='Label',metricName=\"r2\")"
   ]
  },
  {
   "cell_type": "code",
   "execution_count": 67,
   "metadata": {
    "collapsed": true
   },
   "outputs": [],
   "source": [
    "r2=evaluator.evaluate(predict)"
   ]
  },
  {
   "cell_type": "code",
   "execution_count": 68,
   "metadata": {},
   "outputs": [
    {
     "name": "stdout",
     "output_type": "stream",
     "text": [
      "0.5260000072141688\n"
     ]
    }
   ],
   "source": [
    "print(r2)"
   ]
  },
  {
   "cell_type": "code",
   "execution_count": 70,
   "metadata": {},
   "outputs": [
    {
     "data": {
      "text/plain": [
       "115.31004699176826"
      ]
     },
     "execution_count": 70,
     "metadata": {},
     "output_type": "execute_result"
    }
   ],
   "source": [
    "lr_model.summary.meanAbsoluteError"
   ]
  },
  {
   "cell_type": "code",
   "execution_count": 71,
   "metadata": {},
   "outputs": [
    {
     "data": {
      "text/plain": [
       "30513.47208071285"
      ]
     },
     "execution_count": 71,
     "metadata": {},
     "output_type": "execute_result"
    }
   ],
   "source": [
    "lr_model.summary.meanSquaredError"
   ]
  },
  {
   "cell_type": "code",
   "execution_count": 72,
   "metadata": {},
   "outputs": [
    {
     "data": {
      "text/plain": [
       "[0.1414190209338151, 0.0, 0.0, 0.0, 0.0, 0.0]"
      ]
     },
     "execution_count": 72,
     "metadata": {},
     "output_type": "execute_result"
    }
   ],
   "source": [
    "lr_model.summary.pValues"
   ]
  },
  {
   "cell_type": "code",
   "execution_count": 73,
   "metadata": {
    "collapsed": true
   },
   "outputs": [],
   "source": [
    "insurancedf1=insur_data.rdd.map(lambda x: [Vectors.dense(x[2:6]),x[-1]]).toDF(['Features1','Label1'])"
   ]
  },
  {
   "cell_type": "code",
   "execution_count": 74,
   "metadata": {
    "collapsed": true
   },
   "outputs": [],
   "source": [
    "lr1 = LinearRegression(featuresCol='Features1',labelCol='Label1')"
   ]
  },
  {
   "cell_type": "code",
   "execution_count": 75,
   "metadata": {
    "collapsed": true
   },
   "outputs": [],
   "source": [
    "lr_model1=lr1.fit(insurancedf1)"
   ]
  },
  {
   "cell_type": "code",
   "execution_count": 76,
   "metadata": {},
   "outputs": [
    {
     "data": {
      "text/plain": [
       "[0.0, 0.0, 0.0, 0.0, 0.0]"
      ]
     },
     "execution_count": 76,
     "metadata": {},
     "output_type": "execute_result"
    }
   ],
   "source": [
    "lr_model1.summary.pValues"
   ]
  },
  {
   "cell_type": "code",
   "execution_count": 77,
   "metadata": {},
   "outputs": [
    {
     "data": {
      "text/plain": [
       "30517.78971309719"
      ]
     },
     "execution_count": 77,
     "metadata": {},
     "output_type": "execute_result"
    }
   ],
   "source": [
    "lr_model1.summary.meanSquaredError"
   ]
  },
  {
   "cell_type": "code",
   "execution_count": 78,
   "metadata": {},
   "outputs": [
    {
     "data": {
      "text/plain": [
       "174.69341634159312"
      ]
     },
     "execution_count": 78,
     "metadata": {},
     "output_type": "execute_result"
    }
   ],
   "source": [
    "lr_model1.summary.rootMeanSquaredError"
   ]
  },
  {
   "cell_type": "code",
   "execution_count": 79,
   "metadata": {},
   "outputs": [
    {
     "name": "stdout",
     "output_type": "stream",
     "text": [
      "+-------------------+\n",
      "|          residuals|\n",
      "+-------------------+\n",
      "| -240.8316113028902|\n",
      "| -28.20925870142969|\n",
      "|  6.651330664779948|\n",
      "|  139.1884985809396|\n",
      "|-333.02717943964836|\n",
      "| -3.733950583144747|\n",
      "|-126.31812475350483|\n",
      "|  221.3339538292693|\n",
      "| -406.3622756136484|\n",
      "| -243.3748455211751|\n",
      "| 184.16210116035165|\n",
      "| 118.73074394418131|\n",
      "|-189.15135088441693|\n",
      "|  60.12042856518505|\n",
      "|-29.888640383144775|\n",
      "|  67.99968266246623|\n",
      "| 130.30253527403784|\n",
      "| 193.07706476035162|\n",
      "| 117.17209477635163|\n",
      "| -65.62435778689019|\n",
      "+-------------------+\n",
      "only showing top 20 rows\n",
      "\n"
     ]
    }
   ],
   "source": [
    "lr_model1.summary.residuals.show()"
   ]
  },
  {
   "cell_type": "code",
   "execution_count": 80,
   "metadata": {},
   "outputs": [
    {
     "data": {
      "text/plain": [
       "[-104.41966771783336,\n",
       " 33.05313604444258,\n",
       " 47.90771796100773,\n",
       " -79.42246084840689,\n",
       " 152.68806377954778]"
      ]
     },
     "execution_count": 80,
     "metadata": {},
     "output_type": "execute_result"
    }
   ],
   "source": [
    "lr_model1.summary.tValues"
   ]
  },
  {
   "cell_type": "code",
   "execution_count": 81,
   "metadata": {},
   "outputs": [
    {
     "data": {
      "text/plain": [
       "[-1.4706032847815143,\n",
       " -104.40700440852557,\n",
       " 33.05251492798508,\n",
       " 47.921350426590024,\n",
       " -79.4179853381474,\n",
       " 131.02426378545263]"
      ]
     },
     "execution_count": 81,
     "metadata": {},
     "output_type": "execute_result"
    }
   ],
   "source": [
    "lr_model.summary.tValues"
   ]
  },
  {
   "cell_type": "code",
   "execution_count": 82,
   "metadata": {},
   "outputs": [
    {
     "data": {
      "text/plain": [
       "15290"
      ]
     },
     "execution_count": 82,
     "metadata": {},
     "output_type": "execute_result"
    }
   ],
   "source": [
    "### Split data into train data and test data\n",
    "\n",
    "insur_data.count()"
   ]
  },
  {
   "cell_type": "code",
   "execution_count": 83,
   "metadata": {
    "collapsed": true
   },
   "outputs": [],
   "source": [
    "traindata,testdata = insurancedf.randomSplit([0.70,0.30],seed=123)"
   ]
  },
  {
   "cell_type": "code",
   "execution_count": 85,
   "metadata": {},
   "outputs": [
    {
     "data": {
      "text/plain": [
       "10659"
      ]
     },
     "execution_count": 85,
     "metadata": {},
     "output_type": "execute_result"
    }
   ],
   "source": [
    "traindata.count()"
   ]
  },
  {
   "cell_type": "code",
   "execution_count": 87,
   "metadata": {},
   "outputs": [
    {
     "data": {
      "text/plain": [
       "4631"
      ]
     },
     "execution_count": 87,
     "metadata": {},
     "output_type": "execute_result"
    }
   ],
   "source": [
    "testdata.count()"
   ]
  },
  {
   "cell_type": "code",
   "execution_count": 88,
   "metadata": {
    "collapsed": true
   },
   "outputs": [],
   "source": [
    "\n",
    "lr_model2=lr.fit(traindata)"
   ]
  },
  {
   "cell_type": "code",
   "execution_count": 89,
   "metadata": {},
   "outputs": [
    {
     "data": {
      "text/plain": [
       "174.06488297135078"
      ]
     },
     "execution_count": 89,
     "metadata": {},
     "output_type": "execute_result"
    }
   ],
   "source": [
    "lr_model2.summary.rootMeanSquaredError"
   ]
  },
  {
   "cell_type": "code",
   "execution_count": 90,
   "metadata": {},
   "outputs": [
    {
     "data": {
      "text/plain": [
       "0.5346702795957955"
      ]
     },
     "execution_count": 90,
     "metadata": {},
     "output_type": "execute_result"
    }
   ],
   "source": [
    "lr_model2.summary.r2"
   ]
  },
  {
   "cell_type": "code",
   "execution_count": 91,
   "metadata": {
    "collapsed": true
   },
   "outputs": [],
   "source": [
    "lr_model3=lr.fit(testdata)"
   ]
  },
  {
   "cell_type": "code",
   "execution_count": 93,
   "metadata": {},
   "outputs": [
    {
     "data": {
      "text/plain": [
       "0.5055331292063"
      ]
     },
     "execution_count": 93,
     "metadata": {},
     "output_type": "execute_result"
    }
   ],
   "source": [
    "lr_model3.summary.r2"
   ]
  },
  {
   "cell_type": "code",
   "execution_count": 94,
   "metadata": {},
   "outputs": [
    {
     "data": {
      "text/plain": [
       "174.06488297135078"
      ]
     },
     "execution_count": 94,
     "metadata": {},
     "output_type": "execute_result"
    }
   ],
   "source": [
    "lr_model2.summary.rootMeanSquaredError\n"
   ]
  },
  {
   "cell_type": "code",
   "execution_count": 95,
   "metadata": {},
   "outputs": [
    {
     "data": {
      "text/plain": [
       "[-1.2311650438026973,\n",
       " -88.1686458846839,\n",
       " 28.293956899287092,\n",
       " 40.54780121517073,\n",
       " -67.122185219436,\n",
       " 110.70903968971584]"
      ]
     },
     "execution_count": 95,
     "metadata": {},
     "output_type": "execute_result"
    }
   ],
   "source": [
    "lr_model2.summary.tValues\n"
   ]
  },
  {
   "cell_type": "code",
   "execution_count": 96,
   "metadata": {},
   "outputs": [
    {
     "data": {
      "text/plain": [
       "[0.218288321826984, 0.0, 0.0, 0.0, 0.0, 0.0]"
      ]
     },
     "execution_count": 96,
     "metadata": {},
     "output_type": "execute_result"
    }
   ],
   "source": [
    "lr_model2.summary.pValues"
   ]
  },
  {
   "cell_type": "code",
   "execution_count": 102,
   "metadata": {
    "collapsed": true
   },
   "outputs": [],
   "source": [
    "### Let us try decision Tree Regression on the same Insurance Data\n",
    "from pyspark.ml.regression import DecisionTreeRegressor"
   ]
  },
  {
   "cell_type": "code",
   "execution_count": 109,
   "metadata": {
    "collapsed": true
   },
   "outputs": [],
   "source": [
    "insurancedf4=insur_data.rdd.map(lambda x: [Vectors.dense(x[2:6]),x[-1]]).toDF(['features','label'])\n"
   ]
  },
  {
   "cell_type": "code",
   "execution_count": 110,
   "metadata": {
    "collapsed": true
   },
   "outputs": [],
   "source": [
    "dtmodel=DecisionTreeRegressor(featuresCol='features')"
   ]
  },
  {
   "cell_type": "code",
   "execution_count": 113,
   "metadata": {
    "collapsed": true
   },
   "outputs": [],
   "source": [
    "dt_model=dtmodel.fit(insurancedf4)"
   ]
  },
  {
   "cell_type": "code",
   "execution_count": 114,
   "metadata": {
    "collapsed": true
   },
   "outputs": [],
   "source": [
    "dtpred=dt_model.transform(insurancedf4)"
   ]
  },
  {
   "cell_type": "code",
   "execution_count": 115,
   "metadata": {},
   "outputs": [
    {
     "name": "stdout",
     "output_type": "stream",
     "text": [
      "+--------------------+-----------+------------------+\n",
      "|            features|      label|        prediction|\n",
      "+--------------------+-----------+------------------+\n",
      "|[20.6,1.0,0.0,12.97]|203.3195946| 333.2638523903444|\n",
      "| [42.4,0.0,1.0,8.02]|402.1973024|433.49622672352524|\n",
      "|  [42.4,1.0,0.0,2.5]|553.1320959| 547.5435941172063|\n",
      "|[42.4,0.0,0.0,12.97]|292.4305792|249.49646718962936|\n",
      "|[20.6,1.0,1.0,12.97]|246.5405761| 742.3726205902141|\n",
      "+--------------------+-----------+------------------+\n",
      "only showing top 5 rows\n",
      "\n"
     ]
    }
   ],
   "source": [
    "dtpred.show(5)"
   ]
  },
  {
   "cell_type": "code",
   "execution_count": 119,
   "metadata": {
    "collapsed": true
   },
   "outputs": [],
   "source": [
    "evaluator1=RegressionEvaluator(predictionCol='prediction',labelCol='label',metricName=\"rmse\")"
   ]
  },
  {
   "cell_type": "code",
   "execution_count": 120,
   "metadata": {},
   "outputs": [
    {
     "data": {
      "text/plain": [
       "158.09074509397286"
      ]
     },
     "execution_count": 120,
     "metadata": {},
     "output_type": "execute_result"
    }
   ],
   "source": [
    "evaluator1.evaluate(dtpred)"
   ]
  },
  {
   "cell_type": "code",
   "execution_count": 124,
   "metadata": {
    "collapsed": true
   },
   "outputs": [],
   "source": [
    "from pyspark.ml import Pipeline\n",
    "from pyspark.ml.feature import VectorIndexer"
   ]
  },
  {
   "cell_type": "code",
   "execution_count": 129,
   "metadata": {
    "collapsed": true
   },
   "outputs": [],
   "source": [
    "featureIndexer = VectorIndexer(inputCol=\"features\", outputCol=\"labelIndex\", maxCategories=4).fit(insurancedf4)\n"
   ]
  },
  {
   "cell_type": "code",
   "execution_count": 130,
   "metadata": {
    "collapsed": true
   },
   "outputs": [],
   "source": [
    "pipeline = Pipeline(stages=[featureIndexer,dt_model])"
   ]
  },
  {
   "cell_type": "code",
   "execution_count": 131,
   "metadata": {
    "collapsed": true
   },
   "outputs": [],
   "source": [
    "dtmodel2= pipeline.fit(insurancedf4)"
   ]
  },
  {
   "cell_type": "code",
   "execution_count": 133,
   "metadata": {
    "collapsed": true
   },
   "outputs": [],
   "source": [
    "predictions = dt_model.transform(insurancedf4)"
   ]
  },
  {
   "cell_type": "code",
   "execution_count": 134,
   "metadata": {},
   "outputs": [
    {
     "name": "stdout",
     "output_type": "stream",
     "text": [
      "+------------------+-----------+--------------------+\n",
      "|        prediction|      label|            features|\n",
      "+------------------+-----------+--------------------+\n",
      "| 333.2638523903444|203.3195946|[20.6,1.0,0.0,12.97]|\n",
      "|433.49622672352524|402.1973024| [42.4,0.0,1.0,8.02]|\n",
      "| 547.5435941172063|553.1320959|  [42.4,1.0,0.0,2.5]|\n",
      "|249.49646718962936|292.4305792|[42.4,0.0,0.0,12.97]|\n",
      "| 742.3726205902141|246.5405761|[20.6,1.0,1.0,12.97]|\n",
      "+------------------+-----------+--------------------+\n",
      "only showing top 5 rows\n",
      "\n"
     ]
    }
   ],
   "source": [
    "predictions.select(\"prediction\", \"label\", \"features\").show(5)"
   ]
  },
  {
   "cell_type": "code",
   "execution_count": 135,
   "metadata": {},
   "outputs": [
    {
     "name": "stdout",
     "output_type": "stream",
     "text": [
      "Root Mean Squared Error (RMSE) on insurance data = 174.681\n"
     ]
    }
   ],
   "source": [
    "print(\"Root Mean Squared Error (RMSE) on insurance data = %g\" % rmse)"
   ]
  },
  {
   "cell_type": "code",
   "execution_count": 137,
   "metadata": {
    "collapsed": true
   },
   "outputs": [],
   "source": [
    "treeModel = dtmodel2.stages[1]"
   ]
  },
  {
   "cell_type": "code",
   "execution_count": 138,
   "metadata": {},
   "outputs": [
    {
     "name": "stdout",
     "output_type": "stream",
     "text": [
      "DecisionTreeRegressionModel (uid=DecisionTreeRegressor_4019b8e4cfc2d8f0a2e4) of depth 5 with 55 nodes\n"
     ]
    }
   ],
   "source": [
    "print(treeModel)"
   ]
  },
  {
   "cell_type": "code",
   "execution_count": 141,
   "metadata": {},
   "outputs": [
    {
     "data": {
      "text/plain": [
       "DecisionTreeRegressionModel (uid=DecisionTreeRegressor_4019b8e4cfc2d8f0a2e4) of depth 5 with 55 nodes"
      ]
     },
     "execution_count": 141,
     "metadata": {},
     "output_type": "execute_result"
    }
   ],
   "source": [
    "treeModel"
   ]
  },
  {
   "cell_type": "code",
   "execution_count": 142,
   "metadata": {
    "collapsed": true
   },
   "outputs": [],
   "source": [
    "### Using Random Forest Regressor\n",
    "\n",
    "from pyspark.ml.regression import RandomForestRegressor"
   ]
  },
  {
   "cell_type": "code",
   "execution_count": 143,
   "metadata": {
    "collapsed": true
   },
   "outputs": [],
   "source": [
    "rfmodel=RandomForestRegressor(featuresCol='features')"
   ]
  },
  {
   "cell_type": "code",
   "execution_count": 144,
   "metadata": {
    "collapsed": true
   },
   "outputs": [],
   "source": [
    "rf_model=rfmodel.fit(insurancedf4)"
   ]
  },
  {
   "cell_type": "code",
   "execution_count": 145,
   "metadata": {
    "collapsed": true
   },
   "outputs": [],
   "source": [
    "rfpred=rf_model.transform(insurancedf4)"
   ]
  },
  {
   "cell_type": "code",
   "execution_count": 146,
   "metadata": {},
   "outputs": [
    {
     "name": "stdout",
     "output_type": "stream",
     "text": [
      "+--------------------+-----------+------------------+\n",
      "|            features|      label|        prediction|\n",
      "+--------------------+-----------+------------------+\n",
      "|[20.6,1.0,0.0,12.97]|203.3195946| 391.6765875241798|\n",
      "| [42.4,0.0,1.0,8.02]|402.1973024| 402.9240939715261|\n",
      "|  [42.4,1.0,0.0,2.5]|553.1320959|  528.436106230095|\n",
      "|[42.4,0.0,0.0,12.97]|292.4305792|277.73091626397724|\n",
      "|[20.6,1.0,1.0,12.97]|246.5405761| 647.4706609175017|\n",
      "| [42.4,1.0,0.0,8.02]|384.6763948|369.05486949260575|\n",
      "+--------------------+-----------+------------------+\n",
      "only showing top 6 rows\n",
      "\n"
     ]
    }
   ],
   "source": [
    "rfpred.show(6)"
   ]
  },
  {
   "cell_type": "code",
   "execution_count": 147,
   "metadata": {},
   "outputs": [
    {
     "data": {
      "text/plain": [
       "160.1814676325021"
      ]
     },
     "execution_count": 147,
     "metadata": {},
     "output_type": "execute_result"
    }
   ],
   "source": [
    "evaluator1.evaluate(rfpred)"
   ]
  },
  {
   "cell_type": "code",
   "execution_count": 148,
   "metadata": {},
   "outputs": [
    {
     "data": {
      "text/plain": [
       "DecisionTreeRegressionModel (uid=DecisionTreeRegressor_4019b8e4cfc2d8f0a2e4) of depth 5 with 55 nodes"
      ]
     },
     "metadata": {},
     "output_type": "display_data"
    }
   ],
   "source": [
    "display(treeModel)"
   ]
  },
  {
   "cell_type": "code",
   "execution_count": null,
   "metadata": {
    "collapsed": true
   },
   "outputs": [],
   "source": [
    "print(model.toDebugString())"
   ]
  }
 ],
 "metadata": {
  "kernelspec": {
   "display_name": "Python 3",
   "language": "python",
   "name": "python3"
  },
  "language_info": {
   "codemirror_mode": {
    "name": "ipython",
    "version": 3
   },
   "file_extension": ".py",
   "mimetype": "text/x-python",
   "name": "python",
   "nbconvert_exporter": "python",
   "pygments_lexer": "ipython3",
   "version": "3.6.3"
  }
 },
 "nbformat": 4,
 "nbformat_minor": 2
}
