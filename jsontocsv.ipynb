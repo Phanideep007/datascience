{
 "cells": [
  {
   "cell_type": "code",
   "execution_count": 90,
   "metadata": {},
   "outputs": [
    {
     "name": "stdout",
     "output_type": "stream",
     "text": [
      "                   name            location\n",
      "0  Rixos The Palm Dubai  [25.1212, 55.1535]\n",
      "1      Shangri-La Hotel  [25.2084, 55.2719]\n",
      "2           Grand Hyatt  [25.2285, 55.3273]\n"
     ]
    }
   ],
   "source": [
    "import pandas as pd\n",
    "import numpy as np\n",
    "import csv\n",
    "df_json_raw = pd.read_json('C:/Users/Phani deep/Desktop/maps.json' )\n",
    "df_json = df_json_raw.apply( lambda x: pd.Series([x[0]['name'],x[0]['location']]), axis = 1 )\n",
    "df_json.columns=['name','location']\n",
    "print (df_json)\n",
    "#with open('C:/Users/Phani deep/Desktop/names.csv', 'w') as csvfile:\n",
    " #   writer = csv.DictWriter(csvfile,df_json.columns)\n",
    " #   writer.writeheader()\n",
    "  #  writer.writerow(df_json,sep='\\t')\n",
    "df_json.to_csv('C:/Users/Phani deep/Desktop/maps4.csv', encoding='utf-8', index=False)\n",
    "\n",
    "    "
   ]
  },
  {
   "cell_type": "code",
   "execution_count": null,
   "metadata": {
    "collapsed": true
   },
   "outputs": [],
   "source": []
  },
  {
   "cell_type": "code",
   "execution_count": null,
   "metadata": {
    "collapsed": true
   },
   "outputs": [],
   "source": []
  },
  {
   "cell_type": "code",
   "execution_count": null,
   "metadata": {
    "collapsed": true
   },
   "outputs": [],
   "source": []
  }
 ],
 "metadata": {
  "kernelspec": {
   "display_name": "Python 3",
   "language": "python",
   "name": "python3"
  },
  "language_info": {
   "codemirror_mode": {
    "name": "ipython",
    "version": 3
   },
   "file_extension": ".py",
   "mimetype": "text/x-python",
   "name": "python",
   "nbconvert_exporter": "python",
   "pygments_lexer": "ipython3",
   "version": "3.6.3"
  }
 },
 "nbformat": 4,
 "nbformat_minor": 2
}
