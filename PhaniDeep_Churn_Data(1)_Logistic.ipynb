{
 "cells": [
  {
   "cell_type": "code",
   "execution_count": 1,
   "metadata": {
    "collapsed": false
   },
   "outputs": [
    {
     "data": {
      "text/html": [
       "\n",
       "        <div>\n",
       "            <p><b>SparkContext</b></p>\n",
       "\n",
       "            <p><a href=\"http://10.0.2.15:4040\">Spark UI</a></p>\n",
       "\n",
       "            <dl>\n",
       "              <dt>Version</dt>\n",
       "                <dd><code>v2.2.0</code></dd>\n",
       "              <dt>Master</dt>\n",
       "                <dd><code>local[*]</code></dd>\n",
       "              <dt>AppName</dt>\n",
       "                <dd><code>PySparkShell</code></dd>\n",
       "            </dl>\n",
       "        </div>\n",
       "        "
      ],
      "text/plain": [
       "<SparkContext master=local[*] appName=PySparkShell>"
      ]
     },
     "execution_count": 1,
     "metadata": {},
     "output_type": "execute_result"
    }
   ],
   "source": [
    "sc"
   ]
  },
  {
   "cell_type": "code",
   "execution_count": 2,
   "metadata": {
    "collapsed": true
   },
   "outputs": [],
   "source": [
    "churndata=spark.read.csv(\"/home/phani/Desktop/Telecom_Churn_Data_SingTel.csv\",header=True,inferSchema=True)"
   ]
  },
  {
   "cell_type": "code",
   "execution_count": 3,
   "metadata": {
    "collapsed": false
   },
   "outputs": [
    {
     "name": "stdout",
     "output_type": "stream",
     "text": [
      "+-----+--------------+---------+------------+------------------+---------------+--------------------------+-----------------+---------------+----------------+-----------------+---------------+----------------+-------------------+------------------+------------------+---------------------------+-----------------+-----------------+------------------------------+-------+\n",
      "|State|Account Length|Area Code|Phone Number|International Plan|Voice mail Plan|Num of Voice mail Messages|Total Day Minutes|Total Day Calls|Total day Charge|Total Eve Minutes|Total Eve Calls|Total Eve Charge|Total Night Minutes|Total Night Calls |Total Night Charge|Total International Minutes|Total Intl  Calls|Total Intl Charge|Number Customer Service calls |  Churn|\n",
      "+-----+--------------+---------+------------+------------------+---------------+--------------------------+-----------------+---------------+----------------+-----------------+---------------+----------------+-------------------+------------------+------------------+---------------------------+-----------------+-----------------+------------------------------+-------+\n",
      "|   KS|           128|      415|    382-4657|                no|            yes|                        25|            265.1|            110|           45.07|            197.4|             99|           16.78|              244.7|                91|             11.01|                       10.0|                3|              2.7|                             1| False.|\n",
      "|   OH|           107|      415|    371-7191|                no|            yes|                        26|            161.6|            123|           27.47|            195.5|            103|           16.62|              254.4|               103|             11.45|                       13.7|                3|              3.7|                             1| False.|\n",
      "|   NJ|           137|      415|    358-1921|                no|             no|                         0|            243.4|            114|           41.38|            121.2|            110|            10.3|              162.6|               104|              7.32|                       12.2|                5|             3.29|                             0| False.|\n",
      "|   OH|            84|      408|    375-9999|               yes|             no|                         0|            299.4|             71|            50.9|             61.9|             88|            5.26|              196.9|                89|              8.86|                        6.6|                7|             1.78|                             2| False.|\n",
      "|   OK|            75|      415|    330-6626|               yes|             no|                         0|            166.7|            113|           28.34|            148.3|            122|           12.61|              186.9|               121|              8.41|                       10.1|                3|             2.73|                             3| False.|\n",
      "|   AL|           118|      510|    391-8027|               yes|             no|                         0|            223.4|             98|           37.98|            220.6|            101|           18.75|              203.9|               118|              9.18|                        6.3|                6|              1.7|                             0| False.|\n",
      "|   MA|           121|      510|    355-9993|                no|            yes|                        24|            218.2|             88|           37.09|            348.5|            108|           29.62|              212.6|               118|              9.57|                        7.5|                7|             2.03|                             3| False.|\n",
      "|   MO|           147|      415|    329-9001|               yes|             no|                         0|            157.0|             79|           26.69|            103.1|             94|            8.76|              211.8|                96|              9.53|                        7.1|                6|             1.92|                             0| False.|\n",
      "|   LA|           117|      408|    335-4719|                no|             no|                         0|            184.5|             97|           31.37|            351.6|             80|           29.89|              215.8|                90|              9.71|                        8.7|                4|             2.35|                             1| False.|\n",
      "|   WV|           141|      415|    330-8173|               yes|            yes|                        37|            258.6|             84|           43.96|            222.0|            111|           18.87|              326.4|                97|             14.69|                       11.2|                5|             3.02|                             0| False.|\n",
      "+-----+--------------+---------+------------+------------------+---------------+--------------------------+-----------------+---------------+----------------+-----------------+---------------+----------------+-------------------+------------------+------------------+---------------------------+-----------------+-----------------+------------------------------+-------+\n",
      "only showing top 10 rows\n",
      "\n"
     ]
    }
   ],
   "source": [
    "churndata.show(10)\n"
   ]
  },
  {
   "cell_type": "code",
   "execution_count": 8,
   "metadata": {
    "collapsed": false
   },
   "outputs": [
    {
     "name": "stdout",
     "output_type": "stream",
     "text": [
      "root\n",
      " |-- State: string (nullable = true)\n",
      " |-- Account Length: integer (nullable = true)\n",
      " |-- Area Code: integer (nullable = true)\n",
      " |-- Phone Number: string (nullable = true)\n",
      " |-- International Plan: string (nullable = true)\n",
      " |-- Voice mail Plan: string (nullable = true)\n",
      " |-- Num of Voice mail Messages: integer (nullable = true)\n",
      " |-- Total Day Minutes: double (nullable = true)\n",
      " |-- Total Day Calls: integer (nullable = true)\n",
      " |-- Total day Charge: double (nullable = true)\n",
      " |-- Total Eve Minutes: double (nullable = true)\n",
      " |-- Total Eve Calls: integer (nullable = true)\n",
      " |-- Total Eve Charge: double (nullable = true)\n",
      " |-- Total Night Minutes: double (nullable = true)\n",
      " |-- Total Night Calls : integer (nullable = true)\n",
      " |-- Total Night Charge: double (nullable = true)\n",
      " |-- Total International Minutes: double (nullable = true)\n",
      " |-- Total Intl  Calls: integer (nullable = true)\n",
      " |-- Total Intl Charge: double (nullable = true)\n",
      " |-- Number Customer Service calls : integer (nullable = true)\n",
      " |-- Churn: string (nullable = true)\n",
      "\n"
     ]
    }
   ],
   "source": [
    "churndata.printSchema()"
   ]
  },
  {
   "cell_type": "code",
   "execution_count": 10,
   "metadata": {
    "collapsed": true
   },
   "outputs": [],
   "source": [
    "from pyspark.ml.feature import StringIndexer"
   ]
  },
  {
   "cell_type": "code",
   "execution_count": 11,
   "metadata": {
    "collapsed": true
   },
   "outputs": [],
   "source": [
    "label_indexer=StringIndexer(inputCol='Churn',outputCol='label')"
   ]
  },
  {
   "cell_type": "code",
   "execution_count": 12,
   "metadata": {
    "collapsed": true
   },
   "outputs": [],
   "source": [
    "intplan_indexer=StringIndexer(inputCol='International Plan',outputCol='int_planindex')\n",
    "vocplan_indexer=StringIndexer(inputCol='Voice mail Plan',outputCol='voc_planindex')"
   ]
  },
  {
   "cell_type": "code",
   "execution_count": 13,
   "metadata": {
    "collapsed": true
   },
   "outputs": [],
   "source": [
    "numericcolumns=[\"Account Length\",\"Num of Voice mail Messages\",\"Total Day Minutes\",\"Total Day Calls\",\"Total day Charge\",\"Total Eve Minutes\",\"Total Eve Calls\",\"Total Eve Charge\",\"Total Eve Minutes\",\"Total Eve Calls\",\"Total Eve Charge\",\"Total Night Minutes\",\"Total Night Calls \",\"Total Night Charge\",\"Total International Minutes\",\"Total Intl  Calls\",\"Total Intl Charge\",\"Number Customer Service calls \"]"
   ]
  },
  {
   "cell_type": "code",
   "execution_count": 14,
   "metadata": {
    "collapsed": true
   },
   "outputs": [],
   "source": [
    "from pyspark.ml.feature import VectorAssembler"
   ]
  },
  {
   "cell_type": "code",
   "execution_count": 16,
   "metadata": {
    "collapsed": true
   },
   "outputs": [],
   "source": [
    "assembler=VectorAssembler(inputCols=['int_planindex']+['voc_planindex']+numericcolumns,outputCol='features')"
   ]
  },
  {
   "cell_type": "code",
   "execution_count": 18,
   "metadata": {
    "collapsed": true
   },
   "outputs": [],
   "source": [
    "from pyspark.ml import Pipeline"
   ]
  },
  {
   "cell_type": "code",
   "execution_count": 19,
   "metadata": {
    "collapsed": true
   },
   "outputs": [],
   "source": [
    "from pyspark.ml.classification import RandomForestClassifier"
   ]
  },
  {
   "cell_type": "code",
   "execution_count": 21,
   "metadata": {
    "collapsed": true
   },
   "outputs": [],
   "source": [
    "classifier=RandomForestClassifier(labelCol='label',featuresCol='features')"
   ]
  },
  {
   "cell_type": "code",
   "execution_count": 23,
   "metadata": {
    "collapsed": true
   },
   "outputs": [],
   "source": [
    "pipeline=Pipeline(stages=[intplan_indexer,vocplan_indexer,label_indexer,assembler,classifier])"
   ]
  },
  {
   "cell_type": "code",
   "execution_count": 24,
   "metadata": {
    "collapsed": true
   },
   "outputs": [],
   "source": [
    "(train,test)=churndata.randomSplit([0.70,0.30])"
   ]
  },
  {
   "cell_type": "code",
   "execution_count": 25,
   "metadata": {
    "collapsed": true
   },
   "outputs": [],
   "source": [
    "model=pipeline.fit(train)"
   ]
  },
  {
   "cell_type": "code",
   "execution_count": 42,
   "metadata": {
    "collapsed": true
   },
   "outputs": [],
   "source": [
    "from pyspark.ml.evaluation import BinaryClassificationEvaluator"
   ]
  },
  {
   "cell_type": "code",
   "execution_count": 27,
   "metadata": {
    "collapsed": true
   },
   "outputs": [],
   "source": [
    "predictions=model.transform(train)"
   ]
  },
  {
   "cell_type": "code",
   "execution_count": 43,
   "metadata": {
    "collapsed": true
   },
   "outputs": [],
   "source": [
    "evaluator=BinaryClassificationEvaluator()"
   ]
  },
  {
   "cell_type": "code",
   "execution_count": 44,
   "metadata": {
    "collapsed": false
   },
   "outputs": [
    {
     "data": {
      "text/plain": [
       "0.8997126694801094"
      ]
     },
     "execution_count": 44,
     "metadata": {},
     "output_type": "execute_result"
    }
   ],
   "source": [
    "evaluator.evaluate(predictions,{evaluator.metricName:\"areaUnderROC\"})"
   ]
  },
  {
   "cell_type": "code",
   "execution_count": 45,
   "metadata": {
    "collapsed": true
   },
   "outputs": [],
   "source": [
    "predictions2=model.transform(train)"
   ]
  },
  {
   "cell_type": "code",
   "execution_count": 46,
   "metadata": {
    "collapsed": false
   },
   "outputs": [
    {
     "data": {
      "text/plain": [
       "0.9423938452193018"
      ]
     },
     "execution_count": 46,
     "metadata": {},
     "output_type": "execute_result"
    }
   ],
   "source": [
    "evaluator.evaluate(predictions2,{evaluator.metricName:\"areaUnderROC\"})"
   ]
  },
  {
   "cell_type": "code",
   "execution_count": 36,
   "metadata": {
    "collapsed": true
   },
   "outputs": [],
   "source": [
    "from pyspark.ml.classification import DecisionTreeClassifier"
   ]
  },
  {
   "cell_type": "code",
   "execution_count": 47,
   "metadata": {
    "collapsed": true
   },
   "outputs": [],
   "source": [
    "predictions3=model.transform(test)"
   ]
  },
  {
   "cell_type": "code",
   "execution_count": 48,
   "metadata": {
    "collapsed": false
   },
   "outputs": [
    {
     "data": {
      "text/plain": [
       "0.8997126694801094"
      ]
     },
     "execution_count": 48,
     "metadata": {},
     "output_type": "execute_result"
    }
   ],
   "source": [
    "evaluator.evaluate(predictions3,{evaluator.metricName:\"areaUnderROC\"})"
   ]
  },
  {
   "cell_type": "code",
   "execution_count": 49,
   "metadata": {
    "collapsed": true
   },
   "outputs": [],
   "source": [
    "predictions4=model.transform(test)"
   ]
  },
  {
   "cell_type": "code",
   "execution_count": 50,
   "metadata": {
    "collapsed": false
   },
   "outputs": [
    {
     "data": {
      "text/plain": [
       "0.8997126694801094"
      ]
     },
     "execution_count": 50,
     "metadata": {},
     "output_type": "execute_result"
    }
   ],
   "source": [
    "evaluator.evaluate(predictions4,{evaluator.metricName:\"areaUnderROC\"})"
   ]
  },
  {
   "cell_type": "code",
   "execution_count": null,
   "metadata": {
    "collapsed": true
   },
   "outputs": [],
   "source": []
  },
  {
   "cell_type": "code",
   "execution_count": null,
   "metadata": {
    "collapsed": true
   },
   "outputs": [],
   "source": []
  },
  {
   "cell_type": "code",
   "execution_count": 38,
   "metadata": {
    "collapsed": true
   },
   "outputs": [],
   "source": []
  },
  {
   "cell_type": "code",
   "execution_count": null,
   "metadata": {
    "collapsed": true
   },
   "outputs": [],
   "source": []
  },
  {
   "cell_type": "code",
   "execution_count": null,
   "metadata": {
    "collapsed": true
   },
   "outputs": [],
   "source": []
  },
  {
   "cell_type": "code",
   "execution_count": null,
   "metadata": {
    "collapsed": true
   },
   "outputs": [],
   "source": []
  },
  {
   "cell_type": "code",
   "execution_count": null,
   "metadata": {
    "collapsed": true
   },
   "outputs": [],
   "source": []
  },
  {
   "cell_type": "code",
   "execution_count": null,
   "metadata": {
    "collapsed": true
   },
   "outputs": [],
   "source": []
  },
  {
   "cell_type": "code",
   "execution_count": null,
   "metadata": {
    "collapsed": true
   },
   "outputs": [],
   "source": []
  },
  {
   "cell_type": "code",
   "execution_count": null,
   "metadata": {
    "collapsed": true
   },
   "outputs": [],
   "source": []
  },
  {
   "cell_type": "code",
   "execution_count": null,
   "metadata": {
    "collapsed": true
   },
   "outputs": [],
   "source": []
  },
  {
   "cell_type": "code",
   "execution_count": null,
   "metadata": {
    "collapsed": true
   },
   "outputs": [],
   "source": []
  },
  {
   "cell_type": "code",
   "execution_count": null,
   "metadata": {
    "collapsed": true
   },
   "outputs": [],
   "source": []
  },
  {
   "cell_type": "code",
   "execution_count": null,
   "metadata": {
    "collapsed": true
   },
   "outputs": [],
   "source": []
  },
  {
   "cell_type": "code",
   "execution_count": null,
   "metadata": {
    "collapsed": true
   },
   "outputs": [],
   "source": []
  },
  {
   "cell_type": "code",
   "execution_count": null,
   "metadata": {
    "collapsed": true
   },
   "outputs": [],
   "source": []
  },
  {
   "cell_type": "code",
   "execution_count": null,
   "metadata": {
    "collapsed": true
   },
   "outputs": [],
   "source": []
  }
 ],
 "metadata": {
  "kernelspec": {
   "display_name": "Python [default]",
   "language": "python",
   "name": "python3"
  },
  "language_info": {
   "codemirror_mode": {
    "name": "ipython",
    "version": 3
   },
   "file_extension": ".py",
   "mimetype": "text/x-python",
   "name": "python",
   "nbconvert_exporter": "python",
   "pygments_lexer": "ipython3",
   "version": "3.5.2"
  }
 },
 "nbformat": 4,
 "nbformat_minor": 2
}
