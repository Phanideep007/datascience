{
 "cells": [
  {
   "cell_type": "code",
   "execution_count": 55,
   "metadata": {},
   "outputs": [],
   "source": [
    "import pandas as pd\n",
    "import numpy as np\n",
    "import matplotlib.pyplot as plt          \n",
    "%matplotlib inline "
   ]
  },
  {
   "cell_type": "code",
   "execution_count": 56,
   "metadata": {
    "collapsed": true
   },
   "outputs": [],
   "source": [
    "activitytrain=pd.read_csv(\"D:/analytics/Predictive_Analysis2/IOT_Time_Series_Analysis/Human Activity Recognition/train.csv\")"
   ]
  },
  {
   "cell_type": "code",
   "execution_count": 41,
   "metadata": {
    "scrolled": true
   },
   "outputs": [
    {
     "data": {
      "text/html": [
       "<div>\n",
       "<style>\n",
       "    .dataframe thead tr:only-child th {\n",
       "        text-align: right;\n",
       "    }\n",
       "\n",
       "    .dataframe thead th {\n",
       "        text-align: left;\n",
       "    }\n",
       "\n",
       "    .dataframe tbody tr th {\n",
       "        vertical-align: top;\n",
       "    }\n",
       "</style>\n",
       "<table border=\"1\" class=\"dataframe\">\n",
       "  <thead>\n",
       "    <tr style=\"text-align: right;\">\n",
       "      <th></th>\n",
       "      <th>tBodyAcc-mean()-X</th>\n",
       "      <th>tBodyAcc-mean()-Y</th>\n",
       "      <th>tBodyAcc-mean()-Z</th>\n",
       "      <th>tBodyAcc-std()-X</th>\n",
       "      <th>tBodyAcc-std()-Y</th>\n",
       "      <th>tBodyAcc-std()-Z</th>\n",
       "      <th>tBodyAcc-mad()-X</th>\n",
       "      <th>tBodyAcc-mad()-Y</th>\n",
       "      <th>tBodyAcc-mad()-Z</th>\n",
       "      <th>tBodyAcc-max()-X</th>\n",
       "      <th>...</th>\n",
       "      <th>fBodyBodyGyroJerkMag-kurtosis()</th>\n",
       "      <th>angle(tBodyAccMean,gravity)</th>\n",
       "      <th>angle(tBodyAccJerkMean),gravityMean)</th>\n",
       "      <th>angle(tBodyGyroMean,gravityMean)</th>\n",
       "      <th>angle(tBodyGyroJerkMean,gravityMean)</th>\n",
       "      <th>angle(X,gravityMean)</th>\n",
       "      <th>angle(Y,gravityMean)</th>\n",
       "      <th>angle(Z,gravityMean)</th>\n",
       "      <th>subject</th>\n",
       "      <th>Activity</th>\n",
       "    </tr>\n",
       "  </thead>\n",
       "  <tbody>\n",
       "    <tr>\n",
       "      <th>0</th>\n",
       "      <td>0.288585</td>\n",
       "      <td>-0.020294</td>\n",
       "      <td>-0.132905</td>\n",
       "      <td>-0.995279</td>\n",
       "      <td>-0.983111</td>\n",
       "      <td>-0.913526</td>\n",
       "      <td>-0.995112</td>\n",
       "      <td>-0.983185</td>\n",
       "      <td>-0.923527</td>\n",
       "      <td>-0.934724</td>\n",
       "      <td>...</td>\n",
       "      <td>-0.710304</td>\n",
       "      <td>-0.112754</td>\n",
       "      <td>0.030400</td>\n",
       "      <td>-0.464761</td>\n",
       "      <td>-0.018446</td>\n",
       "      <td>-0.841247</td>\n",
       "      <td>0.179941</td>\n",
       "      <td>-0.058627</td>\n",
       "      <td>1</td>\n",
       "      <td>STANDING</td>\n",
       "    </tr>\n",
       "    <tr>\n",
       "      <th>1</th>\n",
       "      <td>0.278419</td>\n",
       "      <td>-0.016411</td>\n",
       "      <td>-0.123520</td>\n",
       "      <td>-0.998245</td>\n",
       "      <td>-0.975300</td>\n",
       "      <td>-0.960322</td>\n",
       "      <td>-0.998807</td>\n",
       "      <td>-0.974914</td>\n",
       "      <td>-0.957686</td>\n",
       "      <td>-0.943068</td>\n",
       "      <td>...</td>\n",
       "      <td>-0.861499</td>\n",
       "      <td>0.053477</td>\n",
       "      <td>-0.007435</td>\n",
       "      <td>-0.732626</td>\n",
       "      <td>0.703511</td>\n",
       "      <td>-0.844788</td>\n",
       "      <td>0.180289</td>\n",
       "      <td>-0.054317</td>\n",
       "      <td>1</td>\n",
       "      <td>STANDING</td>\n",
       "    </tr>\n",
       "    <tr>\n",
       "      <th>2</th>\n",
       "      <td>0.279653</td>\n",
       "      <td>-0.019467</td>\n",
       "      <td>-0.113462</td>\n",
       "      <td>-0.995380</td>\n",
       "      <td>-0.967187</td>\n",
       "      <td>-0.978944</td>\n",
       "      <td>-0.996520</td>\n",
       "      <td>-0.963668</td>\n",
       "      <td>-0.977469</td>\n",
       "      <td>-0.938692</td>\n",
       "      <td>...</td>\n",
       "      <td>-0.760104</td>\n",
       "      <td>-0.118559</td>\n",
       "      <td>0.177899</td>\n",
       "      <td>0.100699</td>\n",
       "      <td>0.808529</td>\n",
       "      <td>-0.848933</td>\n",
       "      <td>0.180637</td>\n",
       "      <td>-0.049118</td>\n",
       "      <td>1</td>\n",
       "      <td>STANDING</td>\n",
       "    </tr>\n",
       "    <tr>\n",
       "      <th>3</th>\n",
       "      <td>0.279174</td>\n",
       "      <td>-0.026201</td>\n",
       "      <td>-0.123283</td>\n",
       "      <td>-0.996091</td>\n",
       "      <td>-0.983403</td>\n",
       "      <td>-0.990675</td>\n",
       "      <td>-0.997099</td>\n",
       "      <td>-0.982750</td>\n",
       "      <td>-0.989302</td>\n",
       "      <td>-0.938692</td>\n",
       "      <td>...</td>\n",
       "      <td>-0.482845</td>\n",
       "      <td>-0.036788</td>\n",
       "      <td>-0.012892</td>\n",
       "      <td>0.640011</td>\n",
       "      <td>-0.485366</td>\n",
       "      <td>-0.848649</td>\n",
       "      <td>0.181935</td>\n",
       "      <td>-0.047663</td>\n",
       "      <td>1</td>\n",
       "      <td>STANDING</td>\n",
       "    </tr>\n",
       "    <tr>\n",
       "      <th>4</th>\n",
       "      <td>0.276629</td>\n",
       "      <td>-0.016570</td>\n",
       "      <td>-0.115362</td>\n",
       "      <td>-0.998139</td>\n",
       "      <td>-0.980817</td>\n",
       "      <td>-0.990482</td>\n",
       "      <td>-0.998321</td>\n",
       "      <td>-0.979672</td>\n",
       "      <td>-0.990441</td>\n",
       "      <td>-0.942469</td>\n",
       "      <td>...</td>\n",
       "      <td>-0.699205</td>\n",
       "      <td>0.123320</td>\n",
       "      <td>0.122542</td>\n",
       "      <td>0.693578</td>\n",
       "      <td>-0.615971</td>\n",
       "      <td>-0.847865</td>\n",
       "      <td>0.185151</td>\n",
       "      <td>-0.043892</td>\n",
       "      <td>1</td>\n",
       "      <td>STANDING</td>\n",
       "    </tr>\n",
       "  </tbody>\n",
       "</table>\n",
       "<p>5 rows × 563 columns</p>\n",
       "</div>"
      ],
      "text/plain": [
       "   tBodyAcc-mean()-X  tBodyAcc-mean()-Y  tBodyAcc-mean()-Z  tBodyAcc-std()-X  \\\n",
       "0           0.288585          -0.020294          -0.132905         -0.995279   \n",
       "1           0.278419          -0.016411          -0.123520         -0.998245   \n",
       "2           0.279653          -0.019467          -0.113462         -0.995380   \n",
       "3           0.279174          -0.026201          -0.123283         -0.996091   \n",
       "4           0.276629          -0.016570          -0.115362         -0.998139   \n",
       "\n",
       "   tBodyAcc-std()-Y  tBodyAcc-std()-Z  tBodyAcc-mad()-X  tBodyAcc-mad()-Y  \\\n",
       "0         -0.983111         -0.913526         -0.995112         -0.983185   \n",
       "1         -0.975300         -0.960322         -0.998807         -0.974914   \n",
       "2         -0.967187         -0.978944         -0.996520         -0.963668   \n",
       "3         -0.983403         -0.990675         -0.997099         -0.982750   \n",
       "4         -0.980817         -0.990482         -0.998321         -0.979672   \n",
       "\n",
       "   tBodyAcc-mad()-Z  tBodyAcc-max()-X    ...     \\\n",
       "0         -0.923527         -0.934724    ...      \n",
       "1         -0.957686         -0.943068    ...      \n",
       "2         -0.977469         -0.938692    ...      \n",
       "3         -0.989302         -0.938692    ...      \n",
       "4         -0.990441         -0.942469    ...      \n",
       "\n",
       "   fBodyBodyGyroJerkMag-kurtosis()  angle(tBodyAccMean,gravity)  \\\n",
       "0                        -0.710304                    -0.112754   \n",
       "1                        -0.861499                     0.053477   \n",
       "2                        -0.760104                    -0.118559   \n",
       "3                        -0.482845                    -0.036788   \n",
       "4                        -0.699205                     0.123320   \n",
       "\n",
       "   angle(tBodyAccJerkMean),gravityMean)  angle(tBodyGyroMean,gravityMean)  \\\n",
       "0                              0.030400                         -0.464761   \n",
       "1                             -0.007435                         -0.732626   \n",
       "2                              0.177899                          0.100699   \n",
       "3                             -0.012892                          0.640011   \n",
       "4                              0.122542                          0.693578   \n",
       "\n",
       "   angle(tBodyGyroJerkMean,gravityMean)  angle(X,gravityMean)  \\\n",
       "0                             -0.018446             -0.841247   \n",
       "1                              0.703511             -0.844788   \n",
       "2                              0.808529             -0.848933   \n",
       "3                             -0.485366             -0.848649   \n",
       "4                             -0.615971             -0.847865   \n",
       "\n",
       "   angle(Y,gravityMean)  angle(Z,gravityMean)  subject  Activity  \n",
       "0              0.179941             -0.058627        1  STANDING  \n",
       "1              0.180289             -0.054317        1  STANDING  \n",
       "2              0.180637             -0.049118        1  STANDING  \n",
       "3              0.181935             -0.047663        1  STANDING  \n",
       "4              0.185151             -0.043892        1  STANDING  \n",
       "\n",
       "[5 rows x 563 columns]"
      ]
     },
     "execution_count": 41,
     "metadata": {},
     "output_type": "execute_result"
    }
   ],
   "source": [
    "activitytrain.head()"
   ]
  },
  {
   "cell_type": "code",
   "execution_count": 9,
   "metadata": {},
   "outputs": [
    {
     "data": {
      "text/plain": [
       "(7352, 563)"
      ]
     },
     "execution_count": 9,
     "metadata": {},
     "output_type": "execute_result"
    }
   ],
   "source": [
    "activitytrain.shape"
   ]
  },
  {
   "cell_type": "code",
   "execution_count": 57,
   "metadata": {
    "collapsed": true
   },
   "outputs": [],
   "source": [
    "activitytest=pd.read_csv(\"D:/analytics/Predictive_Analysis2/IOT_Time_Series_Analysis/Human Activity Recognition/test.csv\")"
   ]
  },
  {
   "cell_type": "code",
   "execution_count": 11,
   "metadata": {},
   "outputs": [
    {
     "data": {
      "text/html": [
       "<div>\n",
       "<style>\n",
       "    .dataframe thead tr:only-child th {\n",
       "        text-align: right;\n",
       "    }\n",
       "\n",
       "    .dataframe thead th {\n",
       "        text-align: left;\n",
       "    }\n",
       "\n",
       "    .dataframe tbody tr th {\n",
       "        vertical-align: top;\n",
       "    }\n",
       "</style>\n",
       "<table border=\"1\" class=\"dataframe\">\n",
       "  <thead>\n",
       "    <tr style=\"text-align: right;\">\n",
       "      <th></th>\n",
       "      <th>tBodyAcc-mean()-X</th>\n",
       "      <th>tBodyAcc-mean()-Y</th>\n",
       "      <th>tBodyAcc-mean()-Z</th>\n",
       "      <th>tBodyAcc-std()-X</th>\n",
       "      <th>tBodyAcc-std()-Y</th>\n",
       "      <th>tBodyAcc-std()-Z</th>\n",
       "      <th>tBodyAcc-mad()-X</th>\n",
       "      <th>tBodyAcc-mad()-Y</th>\n",
       "      <th>tBodyAcc-mad()-Z</th>\n",
       "      <th>tBodyAcc-max()-X</th>\n",
       "      <th>...</th>\n",
       "      <th>fBodyBodyGyroJerkMag-kurtosis()</th>\n",
       "      <th>angle(tBodyAccMean,gravity)</th>\n",
       "      <th>angle(tBodyAccJerkMean),gravityMean)</th>\n",
       "      <th>angle(tBodyGyroMean,gravityMean)</th>\n",
       "      <th>angle(tBodyGyroJerkMean,gravityMean)</th>\n",
       "      <th>angle(X,gravityMean)</th>\n",
       "      <th>angle(Y,gravityMean)</th>\n",
       "      <th>angle(Z,gravityMean)</th>\n",
       "      <th>subject</th>\n",
       "      <th>Activity</th>\n",
       "    </tr>\n",
       "  </thead>\n",
       "  <tbody>\n",
       "    <tr>\n",
       "      <th>0</th>\n",
       "      <td>0.257178</td>\n",
       "      <td>-0.023285</td>\n",
       "      <td>-0.014654</td>\n",
       "      <td>-0.938404</td>\n",
       "      <td>-0.920091</td>\n",
       "      <td>-0.667683</td>\n",
       "      <td>-0.952501</td>\n",
       "      <td>-0.925249</td>\n",
       "      <td>-0.674302</td>\n",
       "      <td>-0.894088</td>\n",
       "      <td>...</td>\n",
       "      <td>-0.705974</td>\n",
       "      <td>0.006462</td>\n",
       "      <td>0.162920</td>\n",
       "      <td>-0.825886</td>\n",
       "      <td>0.271151</td>\n",
       "      <td>-0.720009</td>\n",
       "      <td>0.276801</td>\n",
       "      <td>-0.057978</td>\n",
       "      <td>2</td>\n",
       "      <td>STANDING</td>\n",
       "    </tr>\n",
       "    <tr>\n",
       "      <th>1</th>\n",
       "      <td>0.286027</td>\n",
       "      <td>-0.013163</td>\n",
       "      <td>-0.119083</td>\n",
       "      <td>-0.975415</td>\n",
       "      <td>-0.967458</td>\n",
       "      <td>-0.944958</td>\n",
       "      <td>-0.986799</td>\n",
       "      <td>-0.968401</td>\n",
       "      <td>-0.945823</td>\n",
       "      <td>-0.894088</td>\n",
       "      <td>...</td>\n",
       "      <td>-0.594944</td>\n",
       "      <td>-0.083495</td>\n",
       "      <td>0.017500</td>\n",
       "      <td>-0.434375</td>\n",
       "      <td>0.920593</td>\n",
       "      <td>-0.698091</td>\n",
       "      <td>0.281343</td>\n",
       "      <td>-0.083898</td>\n",
       "      <td>2</td>\n",
       "      <td>STANDING</td>\n",
       "    </tr>\n",
       "    <tr>\n",
       "      <th>2</th>\n",
       "      <td>0.275485</td>\n",
       "      <td>-0.026050</td>\n",
       "      <td>-0.118152</td>\n",
       "      <td>-0.993819</td>\n",
       "      <td>-0.969926</td>\n",
       "      <td>-0.962748</td>\n",
       "      <td>-0.994403</td>\n",
       "      <td>-0.970735</td>\n",
       "      <td>-0.963483</td>\n",
       "      <td>-0.939260</td>\n",
       "      <td>...</td>\n",
       "      <td>-0.640736</td>\n",
       "      <td>-0.034956</td>\n",
       "      <td>0.202302</td>\n",
       "      <td>0.064103</td>\n",
       "      <td>0.145068</td>\n",
       "      <td>-0.702771</td>\n",
       "      <td>0.280083</td>\n",
       "      <td>-0.079346</td>\n",
       "      <td>2</td>\n",
       "      <td>STANDING</td>\n",
       "    </tr>\n",
       "    <tr>\n",
       "      <th>3</th>\n",
       "      <td>0.270298</td>\n",
       "      <td>-0.032614</td>\n",
       "      <td>-0.117520</td>\n",
       "      <td>-0.994743</td>\n",
       "      <td>-0.973268</td>\n",
       "      <td>-0.967091</td>\n",
       "      <td>-0.995274</td>\n",
       "      <td>-0.974471</td>\n",
       "      <td>-0.968897</td>\n",
       "      <td>-0.938610</td>\n",
       "      <td>...</td>\n",
       "      <td>-0.736124</td>\n",
       "      <td>-0.017067</td>\n",
       "      <td>0.154438</td>\n",
       "      <td>0.340134</td>\n",
       "      <td>0.296407</td>\n",
       "      <td>-0.698954</td>\n",
       "      <td>0.284114</td>\n",
       "      <td>-0.077108</td>\n",
       "      <td>2</td>\n",
       "      <td>STANDING</td>\n",
       "    </tr>\n",
       "    <tr>\n",
       "      <th>4</th>\n",
       "      <td>0.274833</td>\n",
       "      <td>-0.027848</td>\n",
       "      <td>-0.129527</td>\n",
       "      <td>-0.993852</td>\n",
       "      <td>-0.967445</td>\n",
       "      <td>-0.978295</td>\n",
       "      <td>-0.994111</td>\n",
       "      <td>-0.965953</td>\n",
       "      <td>-0.977346</td>\n",
       "      <td>-0.938610</td>\n",
       "      <td>...</td>\n",
       "      <td>-0.846595</td>\n",
       "      <td>-0.002223</td>\n",
       "      <td>-0.040046</td>\n",
       "      <td>0.736715</td>\n",
       "      <td>-0.118545</td>\n",
       "      <td>-0.692245</td>\n",
       "      <td>0.290722</td>\n",
       "      <td>-0.073857</td>\n",
       "      <td>2</td>\n",
       "      <td>STANDING</td>\n",
       "    </tr>\n",
       "  </tbody>\n",
       "</table>\n",
       "<p>5 rows × 563 columns</p>\n",
       "</div>"
      ],
      "text/plain": [
       "   tBodyAcc-mean()-X  tBodyAcc-mean()-Y  tBodyAcc-mean()-Z  tBodyAcc-std()-X  \\\n",
       "0           0.257178          -0.023285          -0.014654         -0.938404   \n",
       "1           0.286027          -0.013163          -0.119083         -0.975415   \n",
       "2           0.275485          -0.026050          -0.118152         -0.993819   \n",
       "3           0.270298          -0.032614          -0.117520         -0.994743   \n",
       "4           0.274833          -0.027848          -0.129527         -0.993852   \n",
       "\n",
       "   tBodyAcc-std()-Y  tBodyAcc-std()-Z  tBodyAcc-mad()-X  tBodyAcc-mad()-Y  \\\n",
       "0         -0.920091         -0.667683         -0.952501         -0.925249   \n",
       "1         -0.967458         -0.944958         -0.986799         -0.968401   \n",
       "2         -0.969926         -0.962748         -0.994403         -0.970735   \n",
       "3         -0.973268         -0.967091         -0.995274         -0.974471   \n",
       "4         -0.967445         -0.978295         -0.994111         -0.965953   \n",
       "\n",
       "   tBodyAcc-mad()-Z  tBodyAcc-max()-X    ...     \\\n",
       "0         -0.674302         -0.894088    ...      \n",
       "1         -0.945823         -0.894088    ...      \n",
       "2         -0.963483         -0.939260    ...      \n",
       "3         -0.968897         -0.938610    ...      \n",
       "4         -0.977346         -0.938610    ...      \n",
       "\n",
       "   fBodyBodyGyroJerkMag-kurtosis()  angle(tBodyAccMean,gravity)  \\\n",
       "0                        -0.705974                     0.006462   \n",
       "1                        -0.594944                    -0.083495   \n",
       "2                        -0.640736                    -0.034956   \n",
       "3                        -0.736124                    -0.017067   \n",
       "4                        -0.846595                    -0.002223   \n",
       "\n",
       "   angle(tBodyAccJerkMean),gravityMean)  angle(tBodyGyroMean,gravityMean)  \\\n",
       "0                              0.162920                         -0.825886   \n",
       "1                              0.017500                         -0.434375   \n",
       "2                              0.202302                          0.064103   \n",
       "3                              0.154438                          0.340134   \n",
       "4                             -0.040046                          0.736715   \n",
       "\n",
       "   angle(tBodyGyroJerkMean,gravityMean)  angle(X,gravityMean)  \\\n",
       "0                              0.271151             -0.720009   \n",
       "1                              0.920593             -0.698091   \n",
       "2                              0.145068             -0.702771   \n",
       "3                              0.296407             -0.698954   \n",
       "4                             -0.118545             -0.692245   \n",
       "\n",
       "   angle(Y,gravityMean)  angle(Z,gravityMean)  subject  Activity  \n",
       "0              0.276801             -0.057978        2  STANDING  \n",
       "1              0.281343             -0.083898        2  STANDING  \n",
       "2              0.280083             -0.079346        2  STANDING  \n",
       "3              0.284114             -0.077108        2  STANDING  \n",
       "4              0.290722             -0.073857        2  STANDING  \n",
       "\n",
       "[5 rows x 563 columns]"
      ]
     },
     "execution_count": 11,
     "metadata": {},
     "output_type": "execute_result"
    }
   ],
   "source": [
    "activitytest.head()"
   ]
  },
  {
   "cell_type": "code",
   "execution_count": 12,
   "metadata": {},
   "outputs": [
    {
     "data": {
      "text/plain": [
       "(2947, 563)"
      ]
     },
     "execution_count": 12,
     "metadata": {},
     "output_type": "execute_result"
    }
   ],
   "source": [
    "activitytest.shape"
   ]
  },
  {
   "cell_type": "code",
   "execution_count": 58,
   "metadata": {},
   "outputs": [
    {
     "data": {
      "text/plain": [
       "array(['STANDING', 'SITTING', 'LAYING', 'WALKING', 'WALKING_DOWNSTAIRS',\n",
       "       'WALKING_UPSTAIRS'], dtype=object)"
      ]
     },
     "execution_count": 58,
     "metadata": {},
     "output_type": "execute_result"
    }
   ],
   "source": [
    "activitytrain.Activity.unique()   #for checking how many layers are there wether it is a 2 class problem or 6 class problem"
   ]
  },
  {
   "cell_type": "code",
   "execution_count": 59,
   "metadata": {
    "collapsed": true
   },
   "outputs": [],
   "source": [
    "from sklearn.decomposition import PCA     #PCA"
   ]
  },
  {
   "cell_type": "code",
   "execution_count": 60,
   "metadata": {
    "collapsed": true
   },
   "outputs": [],
   "source": [
    "pca = PCA(n_components=600)"
   ]
  },
  {
   "cell_type": "code",
   "execution_count": 84,
   "metadata": {},
   "outputs": [
    {
     "data": {
      "text/plain": [
       "PCA(copy=True, iterated_power='auto', n_components=156, random_state=None,\n",
       "  svd_solver='auto', tol=0.0, whiten=False)"
      ]
     },
     "execution_count": 84,
     "metadata": {},
     "output_type": "execute_result"
    }
   ],
   "source": [
    "pca.fit(activitytrain1)"
   ]
  },
  {
   "cell_type": "code",
   "execution_count": 85,
   "metadata": {
    "collapsed": true
   },
   "outputs": [],
   "source": [
    "#The amount of variance that each PC explains\n",
    "var= pca.explained_variance_ratio_"
   ]
  },
  {
   "cell_type": "code",
   "execution_count": 86,
   "metadata": {},
   "outputs": [],
   "source": [
    "#Cumulative Variance explains\n",
    "var1=np.cumsum(np.round(pca.explained_variance_ratio_, decimals=4)*100)"
   ]
  },
  {
   "cell_type": "code",
   "execution_count": 87,
   "metadata": {},
   "outputs": [
    {
     "name": "stdout",
     "output_type": "stream",
     "text": [
      "[ 62.55  67.46  71.58  73.45  75.14  76.41  77.59  78.66  79.63  80.49\n",
      "  81.25  81.92  82.5   83.06  83.56  84.03  84.5   84.93  85.36  85.77\n",
      "  86.16  86.54  86.89  87.23  87.56  87.88  88.18  88.47  88.76  89.04\n",
      "  89.32  89.58  89.84  90.08  90.31  90.53  90.75  90.96  91.17  91.37\n",
      "  91.56  91.75  91.93  92.11  92.28  92.44  92.6   92.76  92.91  93.06\n",
      "  93.21  93.35  93.49  93.62  93.75  93.87  93.99  94.1   94.21  94.32\n",
      "  94.43  94.53  94.63  94.73  94.83  94.93  95.03  95.12  95.21  95.3\n",
      "  95.39  95.47  95.55  95.63  95.71  95.79  95.87  95.94  96.01  96.08\n",
      "  96.15  96.22  96.29  96.36  96.43  96.49  96.55  96.61  96.67  96.73\n",
      "  96.79  96.85  96.91  96.97  97.02  97.07  97.12  97.17  97.22  97.27\n",
      "  97.32  97.37  97.42  97.47  97.52  97.57  97.62  97.66  97.7   97.74\n",
      "  97.78  97.82  97.86  97.9   97.94  97.98  98.02  98.06  98.09  98.12\n",
      "  98.15  98.18  98.21  98.24  98.27  98.3   98.33  98.36  98.39  98.42\n",
      "  98.45  98.48  98.51  98.54  98.57  98.59  98.61  98.63  98.65  98.67\n",
      "  98.69  98.71  98.73  98.75  98.77  98.79  98.81  98.83  98.85  98.87\n",
      "  98.89  98.91  98.93  98.95  98.97  98.99]\n"
     ]
    }
   ],
   "source": [
    "print(var1)  #check from where 99.0 starts and count will be coming up with n_components"
   ]
  },
  {
   "cell_type": "code",
   "execution_count": 88,
   "metadata": {},
   "outputs": [
    {
     "data": {
      "text/plain": [
       "[<matplotlib.lines.Line2D at 0x1418da894a8>]"
      ]
     },
     "execution_count": 88,
     "metadata": {},
     "output_type": "execute_result"
    },
    {
     "data": {
      "image/png": "[encoded data removed]",
      "text/plain": [
       "<matplotlib.figure.Figure at 0x141e5d02898>"
      ]
     },
     "metadata": {},
     "output_type": "display_data"
    }
   ],
   "source": [
    "plt.plot(var1)"
   ]
  },
  {
   "cell_type": "code",
   "execution_count": 89,
   "metadata": {
    "collapsed": true
   },
   "outputs": [],
   "source": [
    "#Looking at above plot I'm taking 156 variables\n",
    "pca = PCA(n_components=156)\n"
   ]
  },
  {
   "cell_type": "code",
   "execution_count": 90,
   "metadata": {},
   "outputs": [
    {
     "data": {
      "text/plain": [
       "PCA(copy=True, iterated_power='auto', n_components=156, random_state=None,\n",
       "  svd_solver='auto', tol=0.0, whiten=False)"
      ]
     },
     "execution_count": 90,
     "metadata": {},
     "output_type": "execute_result"
    }
   ],
   "source": [
    "pca.fit(activitytrain1)"
   ]
  },
  {
   "cell_type": "code",
   "execution_count": 91,
   "metadata": {
    "collapsed": true
   },
   "outputs": [],
   "source": [
    "X1=pca.fit_transform(activitytrain1)"
   ]
  },
  {
   "cell_type": "code",
   "execution_count": 92,
   "metadata": {},
   "outputs": [
    {
     "name": "stdout",
     "output_type": "stream",
     "text": [
      "[[ -5.52028030e+00  -2.90277517e-01  -1.52992855e+00 ...,  -9.92028224e-02\n",
      "    7.54664925e-02  -3.39928521e-02]\n",
      " [ -5.53534954e+00  -8.25302495e-02  -1.92480428e+00 ...,   1.43591792e-01\n",
      "    6.58707233e-02  -5.14347235e-02]\n",
      " [ -5.47498801e+00   2.87387051e-01  -2.14464160e+00 ...,   1.46549244e-02\n",
      "    2.74217576e-02   7.79509460e-03]\n",
      " ..., \n",
      " [  5.85750527e+00  -3.08184349e+00   6.71207302e-01 ...,  -3.85046140e-02\n",
      "    1.43547409e-01  -1.29346011e-02]\n",
      " [  5.42109482e+00  -3.42643018e+00   6.71243268e-01 ...,  -1.70799826e-01\n",
      "    1.41633242e-01   7.73902695e-02]\n",
      " [  5.49797027e+00  -2.78992873e+00   5.72224006e-03 ...,   4.30551155e-02\n",
      "    4.59544551e-02  -2.03636934e-01]]\n"
     ]
    }
   ],
   "source": [
    "print(X1)"
   ]
  },
  {
   "cell_type": "code",
   "execution_count": 111,
   "metadata": {
    "collapsed": true
   },
   "outputs": [],
   "source": [
    "X1=pd.DataFrame(X1)"
   ]
  },
  {
   "cell_type": "code",
   "execution_count": 78,
   "metadata": {
    "collapsed": true
   },
   "outputs": [],
   "source": [
    "from sklearn.model_selection import train_test_split    #most impt step for splitting data"
   ]
  },
  {
   "cell_type": "code",
   "execution_count": 72,
   "metadata": {
    "collapsed": true
   },
   "outputs": [],
   "source": [
    "targety=activitytrain.Activity"
   ]
  },
  {
   "cell_type": "code",
   "execution_count": 73,
   "metadata": {
    "collapsed": true
   },
   "outputs": [],
   "source": [
    "activitytrain1=activitytrain.drop(['Activity','subject'],axis=1)"
   ]
  },
  {
   "cell_type": "code",
   "execution_count": 93,
   "metadata": {
    "collapsed": true
   },
   "outputs": [],
   "source": [
    "from sklearn.preprocessing import LabelEncoder"
   ]
  },
  {
   "cell_type": "code",
   "execution_count": 94,
   "metadata": {
    "collapsed": true
   },
   "outputs": [],
   "source": [
    "le=LabelEncoder()"
   ]
  },
  {
   "cell_type": "code",
   "execution_count": 95,
   "metadata": {},
   "outputs": [],
   "source": [
    "targety=le.fit_transform(targety)"
   ]
  },
  {
   "cell_type": "code",
   "execution_count": 96,
   "metadata": {},
   "outputs": [
    {
     "data": {
      "text/plain": [
       "0    1407\n",
       "2    1374\n",
       "1    1286\n",
       "3    1226\n",
       "5    1073\n",
       "4     986\n",
       "dtype: int64"
      ]
     },
     "execution_count": 96,
     "metadata": {},
     "output_type": "execute_result"
    }
   ],
   "source": [
    "pd.value_counts(targety)"
   ]
  },
  {
   "cell_type": "code",
   "execution_count": 112,
   "metadata": {
    "collapsed": true
   },
   "outputs": [],
   "source": [
    "X_train,X_test,y_train,y_test=train_test_split(X1,targety,test_size=0.20,random_state=123)"
   ]
  },
  {
   "cell_type": "code",
   "execution_count": 113,
   "metadata": {
    "collapsed": true
   },
   "outputs": [],
   "source": [
    "X=X1"
   ]
  },
  {
   "cell_type": "code",
   "execution_count": 114,
   "metadata": {},
   "outputs": [
    {
     "data": {
      "text/plain": [
       "0      float64\n",
       "1      float64\n",
       "2      float64\n",
       "3      float64\n",
       "4      float64\n",
       "5      float64\n",
       "6      float64\n",
       "7      float64\n",
       "8      float64\n",
       "9      float64\n",
       "10     float64\n",
       "11     float64\n",
       "12     float64\n",
       "13     float64\n",
       "14     float64\n",
       "15     float64\n",
       "16     float64\n",
       "17     float64\n",
       "18     float64\n",
       "19     float64\n",
       "20     float64\n",
       "21     float64\n",
       "22     float64\n",
       "23     float64\n",
       "24     float64\n",
       "25     float64\n",
       "26     float64\n",
       "27     float64\n",
       "28     float64\n",
       "29     float64\n",
       "        ...   \n",
       "126    float64\n",
       "127    float64\n",
       "128    float64\n",
       "129    float64\n",
       "130    float64\n",
       "131    float64\n",
       "132    float64\n",
       "133    float64\n",
       "134    float64\n",
       "135    float64\n",
       "136    float64\n",
       "137    float64\n",
       "138    float64\n",
       "139    float64\n",
       "140    float64\n",
       "141    float64\n",
       "142    float64\n",
       "143    float64\n",
       "144    float64\n",
       "145    float64\n",
       "146    float64\n",
       "147    float64\n",
       "148    float64\n",
       "149    float64\n",
       "150    float64\n",
       "151    float64\n",
       "152    float64\n",
       "153    float64\n",
       "154    float64\n",
       "155    float64\n",
       "Length: 156, dtype: object"
      ]
     },
     "execution_count": 114,
     "metadata": {},
     "output_type": "execute_result"
    }
   ],
   "source": [
    "X.dtypes"
   ]
  },
  {
   "cell_type": "code",
   "execution_count": 115,
   "metadata": {},
   "outputs": [
    {
     "data": {
      "text/plain": [
       "(5881, 156)"
      ]
     },
     "execution_count": 115,
     "metadata": {},
     "output_type": "execute_result"
    }
   ],
   "source": [
    "X_train.shape"
   ]
  },
  {
   "cell_type": "code",
   "execution_count": 116,
   "metadata": {},
   "outputs": [
    {
     "data": {
      "text/plain": [
       "(1471, 156)"
      ]
     },
     "execution_count": 116,
     "metadata": {},
     "output_type": "execute_result"
    }
   ],
   "source": [
    "X_test.shape"
   ]
  },
  {
   "cell_type": "code",
   "execution_count": 117,
   "metadata": {},
   "outputs": [
    {
     "data": {
      "text/plain": [
       "(5881,)"
      ]
     },
     "execution_count": 117,
     "metadata": {},
     "output_type": "execute_result"
    }
   ],
   "source": [
    "y_train.shape"
   ]
  },
  {
   "cell_type": "code",
   "execution_count": 118,
   "metadata": {},
   "outputs": [
    {
     "data": {
      "text/plain": [
       "(1471,)"
      ]
     },
     "execution_count": 118,
     "metadata": {},
     "output_type": "execute_result"
    }
   ],
   "source": [
    "y_test.shape"
   ]
  },
  {
   "cell_type": "code",
   "execution_count": 119,
   "metadata": {
    "collapsed": true
   },
   "outputs": [],
   "source": [
    "from sklearn.linear_model import LogisticRegression"
   ]
  },
  {
   "cell_type": "code",
   "execution_count": 120,
   "metadata": {},
   "outputs": [],
   "source": [
    "LogReg=LogisticRegression(multi_class=\"multinomial\",solver=\"lbfgs\")"
   ]
  },
  {
   "cell_type": "code",
   "execution_count": 121,
   "metadata": {},
   "outputs": [],
   "source": [
    "LogRegmodel=LogReg.fit(X_train,y_train) "
   ]
  },
  {
   "cell_type": "code",
   "execution_count": 122,
   "metadata": {},
   "outputs": [
    {
     "data": {
      "text/plain": [
       "0.99098792722326134"
      ]
     },
     "execution_count": 122,
     "metadata": {},
     "output_type": "execute_result"
    }
   ],
   "source": [
    "LogRegmodel.score(X_train,y_train)  "
   ]
  },
  {
   "cell_type": "code",
   "execution_count": 123,
   "metadata": {
    "scrolled": true
   },
   "outputs": [
    {
     "data": {
      "text/plain": [
       "array([[ -8.47507226e-01,   4.76347807e-01,   3.12699279e+00,\n",
       "         -1.71395205e-01,  -4.26508775e-01,  -4.30348315e-01,\n",
       "          5.94791613e-01,  -1.62575633e-01,   9.77203060e-02,\n",
       "         -1.70453176e-01,  -6.04333859e-01,  -9.80899879e-02,\n",
       "          3.81448630e-01,   2.30464432e-01,   2.96299754e-01,\n",
       "          1.11666878e-01,  -1.96747156e-01,  -1.71157139e-01,\n",
       "          1.49645918e-01,   2.76536003e-02,  -5.16899343e-02,\n",
       "          6.51181317e-01,   3.92172638e-01,   3.06491218e-01,\n",
       "          4.89015380e-01,  -3.83855924e-01,  -7.15938845e-02,\n",
       "         -4.40485793e-01,  -1.92919393e-02,   1.95084037e-02,\n",
       "          1.01840711e-01,   5.07837111e-01,   1.22456858e-01,\n",
       "          5.69835417e-01,   3.11402434e-02,  -1.14542781e-01,\n",
       "          1.70944840e-01,   1.01797130e-01,  -1.55885018e-03,\n",
       "          2.20347397e-01,  -1.68555385e-01,  -1.35230511e-02,\n",
       "         -4.76970809e-03,   1.88839990e-01,   5.39866231e-01,\n",
       "          4.70429828e-02,  -1.89173781e-02,   6.09869226e-01,\n",
       "          1.19536239e-01,  -7.35969181e-02,   2.96698888e-01,\n",
       "          9.02934705e-02,  -7.44678025e-02,  -2.57926314e-01,\n",
       "         -2.29227366e-01,  -2.02743912e-01,   2.68300268e-01,\n",
       "         -1.38824794e-01,   2.80697458e-01,  -1.91750963e-01,\n",
       "          6.76107723e-02,   1.07570424e-01,   4.60372211e-02,\n",
       "         -1.09573067e-01,  -1.08083980e-01,  -3.23922720e-01,\n",
       "         -1.89695392e-01,   1.25399481e-01,  -8.78840432e-03,\n",
       "          8.76849906e-02,   1.12404302e-01,  -2.25765227e-02,\n",
       "         -1.78136361e-02,   1.66314513e-01,   1.19306382e-01,\n",
       "          9.66601990e-02,   1.13984873e-01,   1.35845730e-01,\n",
       "          4.89373992e-02,   3.52275799e-02,  -1.46822477e-01,\n",
       "         -1.04402703e-01,   3.43440453e-01,   1.94312569e-01,\n",
       "          1.50082734e-01,   7.95313204e-02,  -5.10477197e-03,\n",
       "          4.61558052e-02,   3.04972656e-02,   1.01675397e-01,\n",
       "          1.47108719e-01,  -5.80891890e-02,  -3.87992481e-02,\n",
       "          1.10498834e-02,   1.55874473e-01,  -5.56606776e-02,\n",
       "         -8.23785981e-02,  -1.11509562e-01,  -7.15875790e-02,\n",
       "          1.07228346e-01,   1.56553456e-02,  -4.34486098e-02,\n",
       "         -9.76411795e-02,  -1.19073494e-01,  -4.57341713e-02,\n",
       "         -1.74973563e-02,   3.68591110e-02,   1.34354583e-01,\n",
       "          8.45107741e-03,  -1.32493800e-01,  -1.02993070e-01,\n",
       "          1.51138441e-01,  -2.22248024e-02,  -6.93503819e-02,\n",
       "         -6.16671075e-02,  -1.50564784e-01,   4.98719201e-02,\n",
       "          9.77575908e-02,  -1.01672987e-01,  -1.08554167e-02,\n",
       "          1.60843144e-02,   6.02617719e-03,   4.48713435e-02,\n",
       "          1.10661589e-01,   1.21962321e-01,   7.06295522e-02,\n",
       "          3.28006984e-02,   8.03257808e-02,   4.78626887e-03,\n",
       "          1.11793126e-03,   3.17920144e-02,   4.69465864e-02,\n",
       "         -4.77978201e-02,  -3.27893317e-02,  -2.26461009e-03,\n",
       "         -3.78279377e-02,  -3.53942859e-02,  -1.09681277e-03,\n",
       "          5.34418795e-02,  -1.14264032e-02,   1.17407295e-02,\n",
       "          7.75452162e-02,   2.31823997e-02,   9.16853880e-02,\n",
       "          2.86681268e-02,  -3.95018370e-02,  -2.34647156e-02,\n",
       "          3.81330474e-02,  -3.22543572e-02,  -2.85859540e-02,\n",
       "         -7.60351413e-02,  -8.29867101e-02,  -8.90137127e-03,\n",
       "         -6.55071602e-03,   9.43917278e-02,  -5.49240288e-02],\n",
       "       [ -1.23729695e+00,  -3.60076465e-01,  -3.55793019e-01,\n",
       "          3.22630695e-01,   1.19841958e-01,   9.36489126e-01,\n",
       "          4.42314467e-02,  -8.14516336e-01,  -4.02315002e-01,\n",
       "          3.75058013e-01,  -1.93285608e-01,  -3.07545811e-01,\n",
       "         -1.02139664e-01,   7.49255363e-02,  -6.02618093e-01,\n",
       "          2.21076222e-01,   3.07193770e-02,   5.44522654e-02,\n",
       "          4.12850215e-02,   1.05994028e-01,   3.45387618e-01,\n",
       "         -2.06581710e+00,   3.64561739e-01,   2.02862779e-01,\n",
       "         -1.11102273e-01,   6.41292495e-01,  -4.49460266e-01,\n",
       "          2.25675609e-01,   8.10425581e-01,  -8.17210541e-03,\n",
       "         -1.00535719e+00,  -1.16043581e+00,  -3.29674305e-01,\n",
       "          1.78712714e-01,  -7.72152821e-02,  -5.67448733e-02,\n",
       "          6.60682996e-01,   1.92430214e-01,   5.86010863e-01,\n",
       "         -3.85724946e-01,   1.33452461e+00,  -4.21555585e-01,\n",
       "         -1.81462207e-01,   2.05139484e-01,  -4.32100378e-02,\n",
       "          6.68520284e-01,   2.34345577e-01,  -1.47070111e+00,\n",
       "          2.58124445e-02,  -5.87595274e-02,  -5.11859687e-02,\n",
       "         -7.44989730e-01,  -3.31304001e-01,   1.32045239e+00,\n",
       "          4.70709977e-01,  -1.61439400e+00,  -1.02398706e+00,\n",
       "          7.72881143e-01,   6.84756755e-01,  -2.80157364e-01,\n",
       "         -6.83972935e-01,   4.17257948e-01,  -3.35685835e-01,\n",
       "          6.26749796e-01,   6.30604683e-01,  -3.22529821e-01,\n",
       "         -9.82077253e-01,  -2.07700394e-01,  -6.90367873e-01,\n",
       "         -2.02115398e-01,   3.30361874e-01,  -8.31821816e-01,\n",
       "          2.47797315e-01,   1.44827508e+00,  -6.81744367e-01,\n",
       "         -3.90674755e-01,  -3.80375072e-01,  -7.93237040e-01,\n",
       "          2.22247780e-01,   3.95629773e-01,  -3.58463970e-02,\n",
       "         -2.75400586e-01,   7.38165447e-01,   2.19176067e-01,\n",
       "         -1.04699369e+00,   3.14080947e-01,   5.30889389e-02,\n",
       "          1.78049840e-01,   1.88923024e-02,   2.49897559e-01,\n",
       "         -6.24944403e-01,  -4.50727138e-02,   6.45309158e-01,\n",
       "         -9.04888199e-02,  -3.15154146e-01,  -7.82554043e-01,\n",
       "          1.84378821e-01,  -3.62602504e-01,   2.21267071e-01,\n",
       "          4.54221170e-01,  -1.83882459e-01,   3.50338487e-01,\n",
       "          2.97313826e-01,   9.60848550e-02,   1.26893305e-01,\n",
       "         -6.96772476e-01,  -9.62476654e-02,  -4.31383779e-01,\n",
       "          4.93883012e-02,   6.58106720e-01,  -1.15093402e-01,\n",
       "         -1.07898936e-01,  -3.41798191e-01,   2.57091494e-01,\n",
       "          3.22834209e-01,  -4.15986838e-01,  -1.32576559e+00,\n",
       "         -3.25745531e-01,   6.48815914e-01,  -2.20944546e-02,\n",
       "         -2.02053964e-01,   1.83626594e+00,   4.61743958e-01,\n",
       "         -3.47860916e-01,   5.72367825e-01,   1.01688375e+00,\n",
       "          3.21509358e-01,  -8.72569449e-01,  -6.46049979e-01,\n",
       "         -2.22204531e-03,   4.39648796e-01,   8.64563966e-01,\n",
       "         -8.40236592e-01,  -2.12683588e-01,  -3.43930110e-01,\n",
       "          1.16572536e+00,  -3.97708565e-01,   6.25344530e-03,\n",
       "         -7.08971244e-01,  -1.76065807e-01,   4.43605427e-01,\n",
       "          9.92949317e-02,  -6.73887824e-02,  -6.47529866e-01,\n",
       "         -7.53795853e-02,   3.39472275e-01,   4.01341875e-02,\n",
       "          1.18117775e+00,  -1.08068395e+00,   3.42186795e-01,\n",
       "         -5.61773667e-01,   3.53599529e-01,  -1.80364523e+00,\n",
       "          8.12312844e-01,   5.96948080e-01,   9.23784464e-01],\n",
       "       [ -6.17347750e-01,  -6.20996474e-01,  -2.90139323e+00,\n",
       "          2.27264192e-01,   5.16286870e-01,  -2.13377922e-02,\n",
       "          2.71635803e-01,   1.01653310e+00,   4.76439145e-01,\n",
       "         -4.49582812e-01,   6.87843159e-01,   3.06127032e-01,\n",
       "         -3.12539061e-01,   5.32494861e-01,   4.33500343e-01,\n",
       "         -1.22792113e-01,   3.34639794e-01,   2.71032861e-01,\n",
       "         -1.17832105e-01,  -3.26399078e-02,  -4.33983021e-01,\n",
       "          1.25923237e+00,  -2.03349834e-01,  -2.23771345e-01,\n",
       "         -1.34910703e-02,  -1.83062083e-01,   4.59837171e-01,\n",
       "          3.20743923e-01,  -5.68391588e-01,   2.47384162e-01,\n",
       "          7.87077346e-01,   4.98335232e-01,   1.20366832e-01,\n",
       "         -6.56997038e-01,   1.92240285e-01,   1.37123087e-01,\n",
       "         -4.89413782e-01,   2.56462126e-01,  -4.65340228e-01,\n",
       "          1.75712512e-01,  -9.16213540e-01,   2.86278541e-01,\n",
       "         -1.00203316e-01,  -2.34379497e-01,  -2.31318646e-01,\n",
       "         -7.06445450e-01,  -5.63424288e-02,   9.59253170e-01,\n",
       "          1.27598682e-01,   4.57311409e-02,  -1.91130690e-01,\n",
       "          5.45989152e-01,   1.79053862e-01,  -1.20654557e+00,\n",
       "         -2.57635533e-01,   1.65241444e+00,   9.04684165e-01,\n",
       "         -5.57932719e-01,  -1.17372929e+00,   5.19371242e-01,\n",
       "          9.28821545e-01,  -3.88577958e-01,   2.21554973e-01,\n",
       "         -6.31222067e-01,  -2.39253952e-01,   5.48157950e-01,\n",
       "          1.19669043e+00,  -3.50085074e-02,   6.69162579e-01,\n",
       "          1.53361625e-01,  -5.19061098e-01,   7.73537914e-01,\n",
       "         -7.42675491e-02,  -1.50856558e+00,   5.51654228e-01,\n",
       "          1.43849712e-01,   2.11662482e-01,   7.37085990e-01,\n",
       "         -3.63396544e-01,  -4.25364581e-01,   1.13400469e-01,\n",
       "          3.21788170e-01,  -1.06962194e+00,  -4.49203260e-01,\n",
       "          1.09943810e+00,  -3.25588721e-01,  -1.60593470e-01,\n",
       "         -3.12027596e-01,  -1.37606934e-01,  -3.83801836e-01,\n",
       "          5.19033634e-01,   1.86636239e-01,  -5.12861403e-01,\n",
       "          8.71587904e-02,   2.45462847e-01,   7.88164706e-01,\n",
       "         -1.14751665e-01,   5.98187266e-01,  -2.18880433e-01,\n",
       "         -6.13812146e-01,   2.10393310e-01,  -3.30418887e-01,\n",
       "         -1.61497428e-01,  -1.72930005e-01,  -5.76244043e-02,\n",
       "          6.32598886e-01,   6.66851450e-02,   2.37203763e-01,\n",
       "         -1.03404179e-01,  -6.58742266e-01,   2.76364800e-01,\n",
       "         -7.25553460e-02,   3.54204650e-01,  -1.20801894e-01,\n",
       "         -2.56919602e-01,   5.23010805e-01,   1.39476435e+00,\n",
       "          3.55749182e-01,  -5.49938738e-01,   9.81993190e-02,\n",
       "          1.23777091e-01,  -1.75259693e+00,  -5.09477445e-01,\n",
       "          2.55593683e-01,  -6.49719423e-01,  -1.05482017e+00,\n",
       "         -3.46584890e-01,   7.83520126e-01,   6.47986631e-01,\n",
       "         -7.16513034e-02,  -4.12176460e-01,  -8.60646859e-01,\n",
       "          8.42371112e-01,   2.30590316e-01,   3.63519457e-01,\n",
       "         -1.08353923e+00,   4.44204210e-01,  -4.81810780e-02,\n",
       "          6.80065560e-01,   1.67702491e-01,  -5.85367053e-01,\n",
       "         -8.55723223e-02,   8.71189352e-02,   5.75007534e-01,\n",
       "          1.77720841e-02,  -2.52845338e-01,  -1.42620087e-01,\n",
       "         -1.24236601e+00,   1.15871604e+00,  -3.55301278e-01,\n",
       "          6.55997798e-01,  -2.79920837e-01,   1.87850371e+00,\n",
       "         -8.81472844e-01,  -6.85124889e-01,  -8.85582166e-01],\n",
       "       [  8.40345544e-01,   6.71568479e-01,  -8.73859859e-01,\n",
       "         -9.28723190e-01,  -2.35618269e+00,   8.63632944e-01,\n",
       "         -1.17853932e+00,   9.40706309e-01,  -1.35385465e+00,\n",
       "          3.15175244e-01,  -5.92525886e-01,   3.16848641e-01,\n",
       "          8.42248221e-02,  -5.31624807e-01,   1.96058801e-01,\n",
       "          4.49329629e-01,   8.25195086e-02,   1.52876069e-01,\n",
       "         -4.51322204e-01,   5.64658747e-02,  -2.06020789e-01,\n",
       "         -1.38982369e-01,   7.51865514e-01,   6.10788276e-01,\n",
       "         -5.13522086e-01,  -2.86347700e-01,  -2.81885729e-01,\n",
       "         -3.20004455e-01,  -6.96440402e-01,  -1.32783495e-01,\n",
       "          2.17074595e-01,   1.24938094e+00,   6.26820826e-01,\n",
       "         -1.62912573e-02,  -1.94869775e-01,   3.20997832e-01,\n",
       "          4.40397902e-01,  -3.76694275e-01,   8.06351624e-02,\n",
       "          4.48790504e-01,  -2.50962262e-01,   3.13344434e-01,\n",
       "          6.53227710e-01,  -1.09437630e-01,  -1.99023442e-02,\n",
       "         -1.69207844e-01,   5.59656927e-02,  -3.37593701e-01,\n",
       "          3.50045749e-01,   7.05371599e-02,  -1.21545937e+00,\n",
       "         -1.78411828e-02,   4.12321390e-02,  -1.22797688e-01,\n",
       "          5.30792365e-01,   1.70363916e-01,  -1.29011032e+00,\n",
       "          8.17635285e-01,  -1.77152165e-02,  -3.28959560e-01,\n",
       "         -8.17735479e-02,   1.64141495e-01,   5.26239791e-02,\n",
       "          4.04690013e-01,  -9.04675368e-02,   2.09391981e-01,\n",
       "         -2.62904172e-01,  -6.03326383e-01,   2.76335939e-01,\n",
       "          3.48570452e-01,   2.98894267e-01,  -5.66931291e-01,\n",
       "          2.21765054e-02,   4.15995676e-01,  -1.41384558e-01,\n",
       "         -2.95269015e-01,  -3.61875708e-01,  -2.34534144e-01,\n",
       "          1.57317793e-01,   3.14377493e-01,  -1.96013738e-01,\n",
       "         -3.10033837e-01,  -3.26215144e-01,   3.60644602e-01,\n",
       "         -7.09869793e-02,  -1.88099999e-01,   4.75336181e-01,\n",
       "          2.56688423e-01,   4.29062682e-02,   1.08776517e-02,\n",
       "         -3.23549668e-01,  -1.42308153e-02,   2.02822752e-01,\n",
       "          3.86960454e-01,   3.79405898e-01,  -1.44554575e-01,\n",
       "         -1.01120810e-01,   4.43168256e-02,   2.00383635e-01,\n",
       "         -4.44777279e-01,  -4.77981737e-01,  -2.03842312e-01,\n",
       "          6.89207084e-02,   3.18895206e-01,  -4.90543139e-03,\n",
       "          4.76520515e-01,   7.53587486e-02,   2.53692651e-01,\n",
       "         -2.44611045e-01,  -2.36757390e-01,  -1.52096315e-01,\n",
       "          2.01927097e-01,  -1.47605519e-01,  -1.03070385e-01,\n",
       "         -3.23371481e-03,  -1.93183507e-01,   1.31868892e-01,\n",
       "          2.64479511e-01,   1.01923989e-01,  -2.16464823e-02,\n",
       "         -6.58504380e-01,   9.09735067e-03,  -2.09483028e-01,\n",
       "          5.52598264e-02,  -3.21556530e-01,  -3.38530335e-01,\n",
       "          1.14684820e-01,   5.06054731e-01,   3.66302367e-01,\n",
       "          1.71878231e-01,  -2.85692919e-02,   3.32174610e-01,\n",
       "         -1.76149322e-01,   3.56156457e-01,  -2.47625818e-01,\n",
       "          1.00059875e-01,   1.90691983e-01,  -4.52236565e-01,\n",
       "         -1.14833608e-01,   3.73259493e-02,  -2.05553829e-01,\n",
       "         -1.82454367e-01,  -2.66323836e-01,   2.31486814e-02,\n",
       "         -3.12873528e-01,   6.70878657e-02,  -1.30030513e-01,\n",
       "          1.21100039e-01,  -1.16086525e-01,  -5.74464368e-02,\n",
       "          1.93884162e-01,   5.90146122e-02,   2.30261685e-01,\n",
       "          1.37352441e-01,  -2.44420751e-01,   2.63884960e-01],\n",
       "       [  9.51347003e-01,   1.04264804e+00,   2.47728399e-01,\n",
       "         -3.96736057e-01,   1.78388460e+00,  -2.46018128e-01,\n",
       "          2.38287144e-01,  -7.17091714e-01,   2.00528289e+00,\n",
       "         -4.61383486e-01,   6.92808764e-01,  -4.29195163e-01,\n",
       "          7.37061036e-01,  -6.94981961e-01,   4.17486840e-01,\n",
       "         -2.08906553e-01,   5.79414478e-01,   9.61109472e-02,\n",
       "          1.35656279e-02,  -7.29960528e-01,   1.62254876e-01,\n",
       "          2.14765437e-01,   1.92638124e-01,  -9.05467573e-01,\n",
       "          4.99162497e-02,   2.02581703e-01,  -4.48956061e-01,\n",
       "          3.80566041e-01,  -3.25343760e-01,   2.30908746e-01,\n",
       "          5.96591637e-01,  -8.81309428e-01,  -5.08271308e-01,\n",
       "          1.11783661e-01,  -7.18978789e-02,  -1.39802575e-01,\n",
       "         -9.86860893e-01,   1.80390949e-01,  -5.86491766e-02,\n",
       "         -3.53009761e-01,   7.17006722e-02,   1.63996295e-01,\n",
       "         -5.35373686e-01,   2.38125959e-01,  -4.09780996e-01,\n",
       "         -5.97229123e-01,  -4.38551767e-01,  -3.90336280e-02,\n",
       "         -1.10623887e+00,  -5.86413786e-02,   2.25259277e-01,\n",
       "          4.29368645e-01,  -7.24229548e-01,   2.61417110e-01,\n",
       "         -3.77033323e-01,  -8.65740287e-01,   5.87685352e-01,\n",
       "          2.21631602e-01,  -5.95132342e-02,   8.28554526e-02,\n",
       "         -2.06330307e-01,  -5.01682306e-01,  -6.19969463e-01,\n",
       "         -2.59999624e-01,   3.63675083e-01,   4.22058297e-01,\n",
       "         -3.07764081e-01,   8.70520498e-01,  -7.78334837e-01,\n",
       "          2.46648661e-01,  -4.43170369e-01,   2.75287287e-01,\n",
       "         -1.27562133e-01,   1.00066049e-02,  -6.98223992e-02,\n",
       "          1.36162625e-01,  -2.99132985e-01,   2.12976647e-02,\n",
       "         -1.13991709e-01,  -3.79729460e-01,   6.34208961e-01,\n",
       "         -2.17495227e-01,  -4.14561301e-02,   1.00019180e-01,\n",
       "         -7.16971492e-03,  -1.89306722e-01,   6.15208761e-01,\n",
       "         -1.99791317e-01,  -7.21390458e-02,   7.30377039e-03,\n",
       "          9.97696743e-02,   7.29529072e-01,   2.09777370e-01,\n",
       "         -2.35895298e-01,  -2.77593304e-01,   1.73826274e-01,\n",
       "         -2.79978731e-01,   5.09606016e-01,  -2.98475743e-01,\n",
       "          1.52302493e-01,   3.47396289e-01,  -1.61608312e-01,\n",
       "         -2.52911532e-01,   2.32430027e-01,   1.72708002e-02,\n",
       "          1.56012088e-02,  -6.82501435e-01,   1.81197511e-01,\n",
       "         -3.19570565e-02,   9.27750186e-02,   7.37386466e-02,\n",
       "         -7.68326078e-02,   4.42756006e-02,   4.37207046e-01,\n",
       "          2.28383943e-01,  -3.70577932e-01,  -4.03391569e-01,\n",
       "         -3.67851593e-01,  -7.30859274e-02,   4.72832646e-02,\n",
       "          2.16626411e-01,   2.21385488e-01,  -3.60096751e-01,\n",
       "         -3.49435027e-02,  -9.60277984e-02,   1.47188500e-01,\n",
       "          1.84874271e-01,  -4.89434566e-01,  -5.02721570e-01,\n",
       "          1.28288489e-01,  -2.72638015e-01,  -1.69685654e-01,\n",
       "          1.94912918e-01,  -2.52565049e-01,   2.03749081e-01,\n",
       "         -1.33746029e-01,  -3.13289957e-03,   9.04166139e-02,\n",
       "         -5.55131113e-02,  -7.47253816e-02,   1.55335207e-01,\n",
       "          1.15697198e-01,   3.76706468e-01,   3.17953603e-01,\n",
       "         -3.90395137e-01,   2.70133403e-01,   9.68403467e-02,\n",
       "         -1.56336575e-01,   3.63946824e-01,   2.25836811e-01,\n",
       "         -8.80905133e-02,  -1.81771859e-01,  -1.43419641e-01,\n",
       "         -5.61856295e-02,   2.29670460e-01,  -1.15785108e-02],\n",
       "       [  9.10459382e-01,  -1.20949139e+00,   7.56324920e-01,\n",
       "          9.46959567e-01,   3.62678038e-01,  -1.10241784e+00,\n",
       "          2.95933159e-02,  -2.63055728e-01,  -8.23272687e-01,\n",
       "          3.91186217e-01,   9.49343134e-03,   2.11855289e-01,\n",
       "         -7.88055763e-01,   3.88721938e-01,  -7.40727646e-01,\n",
       "         -4.50374063e-01,  -8.30546001e-01,  -4.03315003e-01,\n",
       "          3.64657741e-01,   5.72486933e-01,   1.84051250e-01,\n",
       "          7.96203518e-02,  -1.49788818e+00,   9.09664425e-03,\n",
       "          9.91838002e-02,   9.39150926e-03,   7.92058768e-01,\n",
       "         -1.66495324e-01,   7.99042109e-01,  -3.56845712e-01,\n",
       "         -6.97227100e-01,  -2.13808050e-01,  -3.16989019e-02,\n",
       "         -1.87043496e-01,   1.20602407e-01,  -1.47030689e-01,\n",
       "          2.04248936e-01,  -3.54386143e-01,  -1.41097770e-01,\n",
       "         -1.06115706e-01,  -7.04940968e-02,  -3.28540634e-01,\n",
       "          1.68581208e-01,  -2.88288306e-01,   1.64345793e-01,\n",
       "          7.57319150e-01,   2.23500304e-01,   2.78206045e-01,\n",
       "          4.83245758e-01,   7.47295232e-02,   9.35817865e-01,\n",
       "         -3.02820355e-01,   9.09715351e-01,   5.40006797e-03,\n",
       "         -1.37606119e-01,   8.60099841e-01,   5.53427595e-01,\n",
       "         -1.11539052e+00,   2.85503526e-01,   1.98641192e-01,\n",
       "         -2.43555279e-02,   2.01290397e-01,   6.35439125e-01,\n",
       "         -3.06450514e-02,  -5.56474298e-01,  -5.33155687e-01,\n",
       "          5.45750467e-01,  -1.49884695e-01,   5.31992597e-01,\n",
       "         -6.34150331e-01,   2.20571024e-01,   3.72504429e-01,\n",
       "         -5.03305014e-02,  -5.32026296e-01,   2.21990715e-01,\n",
       "          3.09271235e-01,   7.15736411e-01,   1.33541799e-01,\n",
       "          4.88852822e-02,   5.98591955e-02,  -3.68926818e-01,\n",
       "          5.85544184e-01,   3.55687309e-01,  -4.24949158e-01,\n",
       "         -1.24370449e-01,   3.09383175e-01,  -9.77935638e-01,\n",
       "          3.09248437e-02,   1.17450143e-01,   1.40474582e-02,\n",
       "          1.82582043e-01,  -7.98772593e-01,  -5.06248629e-01,\n",
       "         -1.58785010e-01,  -1.87995768e-01,   2.07783152e-02,\n",
       "          3.93850983e-01,  -6.77998041e-01,   1.67293050e-01,\n",
       "          3.44837416e-01,   8.84192513e-02,   3.88979635e-01,\n",
       "          1.45815605e-01,  -3.55406587e-01,  -3.59000984e-02,\n",
       "         -4.10450777e-01,   5.99846096e-01,  -3.75064730e-01,\n",
       "          3.22132901e-01,   2.77111717e-01,   2.00793399e-02,\n",
       "         -9.57786482e-02,   1.13148263e-01,  -4.01075880e-01,\n",
       "         -2.29397727e-01,   6.07302256e-01,   1.52651994e-01,\n",
       "         -2.43891590e-02,  -2.60422504e-02,  -9.08862300e-02,\n",
       "          5.04070527e-01,  -3.20178026e-01,   5.72441922e-01,\n",
       "         -3.87106797e-02,   3.72973606e-01,   1.58648703e-01,\n",
       "         -3.07284258e-01,  -7.89662356e-03,   1.29696282e-01,\n",
       "         -2.27411302e-01,   2.41942957e-01,  -2.13352650e-01,\n",
       "          2.68997045e-02,  -8.87088049e-02,   2.65519997e-02,\n",
       "         -1.06720389e-02,  -1.98660442e-01,   4.04844397e-01,\n",
       "          1.45810524e-01,   5.71891511e-02,   1.80239519e-01,\n",
       "         -2.45106568e-02,  -1.53295185e-01,  -3.60265340e-01,\n",
       "          7.32208040e-01,  -3.84346369e-01,   1.59140781e-01,\n",
       "          5.82917557e-02,  -2.93638030e-01,  -1.26689937e-01,\n",
       "         -1.23982639e-01,   1.32065266e-01,  -1.52799157e-01,\n",
       "         -5.45609556e-03,   8.53537201e-03,  -2.35584718e-01]])"
      ]
     },
     "execution_count": 123,
     "metadata": {},
     "output_type": "execute_result"
    }
   ],
   "source": [
    "LogRegmodel.coef_  "
   ]
  },
  {
   "cell_type": "code",
   "execution_count": null,
   "metadata": {
    "collapsed": true
   },
   "outputs": [],
   "source": [
    "# when there are highly correlated variables and simple regression model which have one variable will have adjusted r2 and r is equal to 1\n",
    "#in regression models if score is above 90 then model is overfitting"
   ]
  },
  {
   "cell_type": "code",
   "execution_count": 124,
   "metadata": {},
   "outputs": [
    {
     "data": {
      "text/plain": [
       "0.98368456832087015"
      ]
     },
     "execution_count": 124,
     "metadata": {},
     "output_type": "execute_result"
    }
   ],
   "source": [
    "LogRegmodel.score(X_test,y_test)  "
   ]
  },
  {
   "cell_type": "code",
   "execution_count": 127,
   "metadata": {},
   "outputs": [],
   "source": [
    "from keras.models import Sequential"
   ]
  },
  {
   "cell_type": "code",
   "execution_count": 130,
   "metadata": {},
   "outputs": [],
   "source": [
    "from keras.layers import Dense\n",
    "from keras.wrappers.scikit_learn import KerasClassifier\n",
    "from keras.utils.np_utils import to_categorical"
   ]
  },
  {
   "cell_type": "code",
   "execution_count": 131,
   "metadata": {
    "collapsed": true
   },
   "outputs": [],
   "source": [
    "from sklearn.preprocessing import StandardScaler"
   ]
  },
  {
   "cell_type": "code",
   "execution_count": 133,
   "metadata": {
    "collapsed": true
   },
   "outputs": [],
   "source": [
    "scaler=StandardScaler()"
   ]
  },
  {
   "cell_type": "code",
   "execution_count": 136,
   "metadata": {},
   "outputs": [
    {
     "data": {
      "text/plain": [
       "StandardScaler(copy=True, with_mean=True, with_std=True)"
      ]
     },
     "execution_count": 136,
     "metadata": {},
     "output_type": "execute_result"
    }
   ],
   "source": [
    "scaler.fit(X_train)"
   ]
  },
  {
   "cell_type": "code",
   "execution_count": 137,
   "metadata": {},
   "outputs": [],
   "source": [
    "X_train=scaler.transform(X_train)\n",
    "X_test=scaler.transform(X_test)"
   ]
  },
  {
   "cell_type": "code",
   "execution_count": 138,
   "metadata": {},
   "outputs": [
    {
     "data": {
      "text/plain": [
       "array([2, 2, 2, ..., 1, 2, 5], dtype=int64)"
      ]
     },
     "execution_count": 138,
     "metadata": {},
     "output_type": "execute_result"
    }
   ],
   "source": [
    "y_train"
   ]
  },
  {
   "cell_type": "code",
   "execution_count": 139,
   "metadata": {
    "collapsed": true
   },
   "outputs": [],
   "source": [
    "y_train=to_categorical(y_train)\n",
    "y_test=to_categorical(y_test)"
   ]
  },
  {
   "cell_type": "code",
   "execution_count": 147,
   "metadata": {
    "collapsed": true
   },
   "outputs": [],
   "source": [
    "n_input=X_train.shape[1]\n",
    "n_output=6\n",
    "n_samples=X_train[0]\n",
    "n_hidden_units=40"
   ]
  },
  {
   "cell_type": "code",
   "execution_count": 148,
   "metadata": {},
   "outputs": [],
   "source": [
    "def create_model():\n",
    "    model=Sequential()\n",
    "    model.add(Dense(n_hidden_units,input_dim=n_input,activation=\"relu\"))\n",
    "    model.add(Dense(n_hidden_units,input_dim=n_input,activation=\"relu\"))\n",
    "    model.add(Dense(n_output,activation=\"softmax\"))\n",
    "    model.compile(loss=\"categorical_crossentropy\",optimizer=\"adam\", metrics=['accuracy'])\n",
    "    return model"
   ]
  },
  {
   "cell_type": "code",
   "execution_count": 149,
   "metadata": {},
   "outputs": [],
   "source": [
    "estimator=KerasClassifier(build_fn=create_model,epochs=20,batch_size=10,verbose=True)"
   ]
  },
  {
   "cell_type": "code",
   "execution_count": 150,
   "metadata": {},
   "outputs": [
    {
     "name": "stdout",
     "output_type": "stream",
     "text": [
      "Epoch 1/20\n",
      "5881/5881 [==============================] - 3s 524us/step - loss: 0.8240 - acc: 0.7262\n",
      "Epoch 2/20\n",
      "5881/5881 [==============================] - 1s 145us/step - loss: 0.0734 - acc: 0.9787\n",
      "Epoch 3/20\n",
      "5881/5881 [==============================] - 1s 144us/step - loss: 0.0303 - acc: 0.9920\n",
      "Epoch 4/20\n",
      "5881/5881 [==============================] - 1s 142us/step - loss: 0.0177 - acc: 0.9942\n",
      "Epoch 5/20\n",
      "5881/5881 [==============================] - 1s 155us/step - loss: 0.0081 - acc: 0.9985\n",
      "Epoch 6/20\n",
      "5881/5881 [==============================] - 1s 197us/step - loss: 0.0045 - acc: 0.9993\n",
      "Epoch 7/20\n",
      "5881/5881 [==============================] - 1s 208us/step - loss: 0.0016 - acc: 1.0000\n",
      "Epoch 8/20\n",
      "5881/5881 [==============================] - 1s 168us/step - loss: 9.1916e-04 - acc: 1.0000\n",
      "Epoch 9/20\n",
      "5881/5881 [==============================] - 1s 173us/step - loss: 5.1849e-04 - acc: 1.0000\n",
      "Epoch 10/20\n",
      "5881/5881 [==============================] - 1s 172us/step - loss: 3.3107e-04 - acc: 1.0000\n",
      "Epoch 11/20\n",
      "5881/5881 [==============================] - 1s 181us/step - loss: 2.2069e-04 - acc: 1.0000\n",
      "Epoch 12/20\n",
      "5881/5881 [==============================] - 1s 195us/step - loss: 1.5211e-04 - acc: 1.0000\n",
      "Epoch 13/20\n",
      "5881/5881 [==============================] - 1s 194us/step - loss: 1.0417e-04 - acc: 1.0000\n",
      "Epoch 14/20\n",
      "5881/5881 [==============================] - 1s 179us/step - loss: 7.3710e-05 - acc: 1.0000\n",
      "Epoch 15/20\n",
      "5881/5881 [==============================] - 1s 190us/step - loss: 5.0641e-05 - acc: 1.0000\n",
      "Epoch 16/20\n",
      "5881/5881 [==============================] - 1s 187us/step - loss: 3.6065e-05 - acc: 1.0000\n",
      "Epoch 17/20\n",
      "5881/5881 [==============================] - 1s 188us/step - loss: 2.5006e-05 - acc: 1.0000\n",
      "Epoch 18/20\n",
      "5881/5881 [==============================] - 1s 211us/step - loss: 1.7859e-05 - acc: 1.0000\n",
      "Epoch 19/20\n",
      "5881/5881 [==============================] - 1s 195us/step - loss: 1.2472e-05 - acc: 1.0000\n",
      "Epoch 20/20\n",
      "5881/5881 [==============================] - 1s 209us/step - loss: 8.8697e-06 - acc: 1.0000\n"
     ]
    },
    {
     "data": {
      "text/plain": [
       "<keras.callbacks.History at 0x1418137e2b0>"
      ]
     },
     "execution_count": 150,
     "metadata": {},
     "output_type": "execute_result"
    }
   ],
   "source": [
    "estimator.fit(X_train,y_train)"
   ]
  },
  {
   "cell_type": "code",
   "execution_count": 152,
   "metadata": {},
   "outputs": [
    {
     "name": "stdout",
     "output_type": "stream",
     "text": [
      "1471/1471 [==============================] - 0s 89us/step\n"
     ]
    },
    {
     "data": {
      "text/plain": [
       "0.98504418487211698"
      ]
     },
     "execution_count": 152,
     "metadata": {},
     "output_type": "execute_result"
    }
   ],
   "source": [
    "estimator.score(X_test,y_test)"
   ]
  },
  {
   "cell_type": "code",
   "execution_count": null,
   "metadata": {
    "collapsed": true
   },
   "outputs": [],
   "source": []
  }
 ],
 "metadata": {
  "kernelspec": {
   "display_name": "Python 3",
   "language": "python",
   "name": "python3"
  },
  "language_info": {
   "codemirror_mode": {
    "name": "ipython",
    "version": 3
   },
   "file_extension": ".py",
   "mimetype": "text/x-python",
   "name": "python",
   "nbconvert_exporter": "python",
   "pygments_lexer": "ipython3",
   "version": "3.6.3"
  }
 },
 "nbformat": 4,
 "nbformat_minor": 2
}
