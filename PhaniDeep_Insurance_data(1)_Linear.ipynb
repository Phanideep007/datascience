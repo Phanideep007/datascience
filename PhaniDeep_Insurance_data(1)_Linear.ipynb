{
 "cells": [
  {
   "cell_type": "code",
   "execution_count": 1,
   "metadata": {
    "collapsed": false
   },
   "outputs": [
    {
     "data": {
      "text/html": [
       "\n",
       "        <div>\n",
       "            <p><b>SparkContext</b></p>\n",
       "\n",
       "            <p><a href=\"http://10.0.2.15:4040\">Spark UI</a></p>\n",
       "\n",
       "            <dl>\n",
       "              <dt>Version</dt>\n",
       "                <dd><code>v2.2.0</code></dd>\n",
       "              <dt>Master</dt>\n",
       "                <dd><code>local[*]</code></dd>\n",
       "              <dt>AppName</dt>\n",
       "                <dd><code>PySparkShell</code></dd>\n",
       "            </dl>\n",
       "        </div>\n",
       "        "
      ],
      "text/plain": [
       "<SparkContext master=local[*] appName=PySparkShell>"
      ]
     },
     "execution_count": 1,
     "metadata": {},
     "output_type": "execute_result"
    }
   ],
   "source": [
    "sc"
   ]
  },
  {
   "cell_type": "code",
   "execution_count": 2,
   "metadata": {
    "collapsed": true
   },
   "outputs": [],
   "source": [
    "insurance=spark.read.csv(\"/home/phani/Desktop/Insurance_Data.csv\",header=True,inferSchema=True)\n"
   ]
  },
  {
   "cell_type": "code",
   "execution_count": 3,
   "metadata": {
    "collapsed": false
   },
   "outputs": [
    {
     "name": "stdout",
     "output_type": "stream",
     "text": [
      "+-------------+------------------+-----------+------------+-------------+-----------+---------------+-----------+\n",
      "|Policy Number|Number of Vehicles|Average Age|Gender Dummy|Married Dummy|Avg Veh Age|Fuel Type Dummy|     Losses|\n",
      "+-------------+------------------+-----------+------------+-------------+-----------+---------------+-----------+\n",
      "|       150023|                 1|       20.6|           1|            0|      12.97|              0|203.3195946|\n",
      "|       152720|                 1|       42.4|           0|            1|       8.02|              0|402.1973024|\n",
      "|       174207|                 1|       42.4|           1|            0|        2.5|              1|553.1320959|\n",
      "|       139895|                 1|       42.4|           0|            0|      12.97|              0|292.4305792|\n",
      "|       174407|                 1|       20.6|           1|            1|      12.97|              0|246.5405761|\n",
      "+-------------+------------------+-----------+------------+-------------+-----------+---------------+-----------+\n",
      "only showing top 5 rows\n",
      "\n"
     ]
    }
   ],
   "source": [
    "insurance.show(5)\n"
   ]
  },
  {
   "cell_type": "code",
   "execution_count": 4,
   "metadata": {
    "collapsed": true
   },
   "outputs": [],
   "source": [
    "from pyspark.ml.linalg import Vectors\n"
   ]
  },
  {
   "cell_type": "code",
   "execution_count": 5,
   "metadata": {
    "collapsed": true
   },
   "outputs": [],
   "source": [
    "insurancedf=insurance.rdd.map(lambda x:[Vectors.dense(x[1:6]),x[-1]]).toDF(['features','label'])"
   ]
  },
  {
   "cell_type": "code",
   "execution_count": 6,
   "metadata": {
    "collapsed": false
   },
   "outputs": [
    {
     "name": "stdout",
     "output_type": "stream",
     "text": [
      "+--------------------+-----------+\n",
      "|            features|      label|\n",
      "+--------------------+-----------+\n",
      "|[1.0,20.6,1.0,0.0...|203.3195946|\n",
      "|[1.0,42.4,0.0,1.0...|402.1973024|\n",
      "|[1.0,42.4,1.0,0.0...|553.1320959|\n",
      "|[1.0,42.4,0.0,0.0...|292.4305792|\n",
      "|[1.0,20.6,1.0,1.0...|246.5405761|\n",
      "+--------------------+-----------+\n",
      "only showing top 5 rows\n",
      "\n"
     ]
    }
   ],
   "source": [
    "insurancedf.show(5)"
   ]
  },
  {
   "cell_type": "code",
   "execution_count": 7,
   "metadata": {
    "collapsed": true
   },
   "outputs": [],
   "source": [
    "from pyspark.ml.regression import LinearRegression\n"
   ]
  },
  {
   "cell_type": "code",
   "execution_count": 9,
   "metadata": {
    "collapsed": true
   },
   "outputs": [],
   "source": [
    "lr=LinearRegression(featuresCol='features',labelCol='label') "
   ]
  },
  {
   "cell_type": "code",
   "execution_count": 10,
   "metadata": {
    "collapsed": true
   },
   "outputs": [],
   "source": [
    "lr_model=lr.fit(insurancedf)"
   ]
  },
  {
   "cell_type": "code",
   "execution_count": 11,
   "metadata": {
    "collapsed": true
   },
   "outputs": [],
   "source": [
    "from pyspark.ml.evaluation import RegressionEvaluator"
   ]
  },
  {
   "cell_type": "code",
   "execution_count": 12,
   "metadata": {
    "collapsed": true
   },
   "outputs": [],
   "source": [
    "pred=lr_model.transform(insurancedf)"
   ]
  },
  {
   "cell_type": "code",
   "execution_count": 13,
   "metadata": {
    "collapsed": false
   },
   "outputs": [
    {
     "name": "stdout",
     "output_type": "stream",
     "text": [
      "+--------------------+-----------+------------------+\n",
      "|            features|      label|        prediction|\n",
      "+--------------------+-----------+------------------+\n",
      "|[1.0,20.6,1.0,0.0...|203.3195946| 447.3748442510993|\n",
      "|[1.0,42.4,0.0,1.0...|402.1973024|433.68708068775413|\n",
      "|[1.0,42.4,1.0,0.0...|553.1320959| 549.7032644125243|\n",
      "|[1.0,42.4,0.0,0.0...|292.4305792| 156.4950203379566|\n",
      "|[1.0,20.6,1.0,1.0...|246.5405761| 582.8308907793871|\n",
      "+--------------------+-----------+------------------+\n",
      "only showing top 5 rows\n",
      "\n"
     ]
    }
   ],
   "source": [
    "pred.show(5)"
   ]
  },
  {
   "cell_type": "code",
   "execution_count": 14,
   "metadata": {
    "collapsed": true
   },
   "outputs": [],
   "source": [
    "evaluator=RegressionEvaluator(predictionCol='prediction',labelCol='label',metricName=\"rmse\")"
   ]
  },
  {
   "cell_type": "code",
   "execution_count": 15,
   "metadata": {
    "collapsed": true
   },
   "outputs": [],
   "source": [
    "rmse=evaluator.evaluate(pred)"
   ]
  },
  {
   "cell_type": "code",
   "execution_count": 16,
   "metadata": {
    "collapsed": false
   },
   "outputs": [
    {
     "name": "stdout",
     "output_type": "stream",
     "text": [
      "174.68105816233438\n"
     ]
    }
   ],
   "source": [
    "print(rmse)"
   ]
  },
  {
   "cell_type": "code",
   "execution_count": 17,
   "metadata": {
    "collapsed": false
   },
   "outputs": [
    {
     "data": {
      "text/plain": [
       "DenseVector([-2.1789, -9.058, 93.4151, 135.456, -28.6335])"
      ]
     },
     "execution_count": 17,
     "metadata": {},
     "output_type": "execute_result"
    }
   ],
   "source": [
    "lr_model.coefficients"
   ]
  },
  {
   "cell_type": "code",
   "execution_count": 18,
   "metadata": {
    "collapsed": false
   },
   "outputs": [
    {
     "data": {
      "text/plain": [
       "DenseVector([-2.1789, -9.058, 93.4151, 135.456, -28.6335])"
      ]
     },
     "execution_count": 18,
     "metadata": {},
     "output_type": "execute_result"
    }
   ],
   "source": [
    "lr_model.coefficients"
   ]
  },
  {
   "cell_type": "code",
   "execution_count": 19,
   "metadata": {
    "collapsed": false
   },
   "outputs": [
    {
     "data": {
      "text/plain": [
       "30513.47208071285"
      ]
     },
     "execution_count": 19,
     "metadata": {},
     "output_type": "execute_result"
    }
   ],
   "source": [
    "lr_model.summary.meanSquaredError"
   ]
  },
  {
   "cell_type": "code",
   "execution_count": 20,
   "metadata": {
    "collapsed": false
   },
   "outputs": [
    {
     "data": {
      "text/plain": [
       "914.1106930643006"
      ]
     },
     "execution_count": 20,
     "metadata": {},
     "output_type": "execute_result"
    }
   ],
   "source": [
    "lr_model.intercept\n"
   ]
  },
  {
   "cell_type": "code",
   "execution_count": 21,
   "metadata": {
    "collapsed": false
   },
   "outputs": [
    {
     "name": "stdout",
     "output_type": "stream",
     "text": [
      "+-------------------+\n",
      "|          residuals|\n",
      "+-------------------+\n",
      "|-244.05524965109933|\n",
      "| -31.48977828775412|\n",
      "| 3.4288314874756907|\n",
      "| 135.93555886204342|\n",
      "| -336.2903146793871|\n",
      "|-6.9697390479316255|\n",
      "|-129.58535505234676|\n",
      "| 218.05595337214336|\n",
      "| -409.6493324207121|\n",
      "|-246.64321499092185|\n",
      "|  180.8989659206129|\n",
      "| 115.43830733375569|\n",
      "|-192.38022346263412|\n",
      "|  56.85957936216832|\n",
      "|-33.124428847931654|\n",
      "|  64.75197717357815|\n",
      "| 126.99027215539036|\n",
      "| 189.81392952061287|\n",
      "| 113.88503796928791|\n",
      "| -68.87191770242441|\n",
      "+-------------------+\n",
      "only showing top 20 rows\n",
      "\n"
     ]
    }
   ],
   "source": [
    "lr_model.summary.residuals.show()"
   ]
  },
  {
   "cell_type": "code",
   "execution_count": 22,
   "metadata": {
    "collapsed": false
   },
   "outputs": [
    {
     "name": "stdout",
     "output_type": "stream",
     "text": [
      "+--------------------+-----------+------------------+\n",
      "|            features|      label|        prediction|\n",
      "+--------------------+-----------+------------------+\n",
      "|[1.0,20.6,1.0,0.0...|203.3195946| 447.3748442510993|\n",
      "|[1.0,42.4,0.0,1.0...|402.1973024|433.68708068775413|\n",
      "|[1.0,42.4,1.0,0.0...|553.1320959| 549.7032644125243|\n",
      "|[1.0,42.4,0.0,0.0...|292.4305792| 156.4950203379566|\n",
      "|[1.0,20.6,1.0,1.0...|246.5405761| 582.8308907793871|\n",
      "|[1.0,42.4,1.0,0.0...|384.6763948|391.64613384793165|\n",
      "|[1.0,42.4,0.0,1.0...|462.1588562| 591.7442112523468|\n",
      "|[1.0,65.1,0.0,0.0...|168.9340361|-49.12191727214338|\n",
      "|[1.0,65.1,1.0,1.0...|69.89304091| 479.5423733307121|\n",
      "|[1.0,20.6,0.0,1.0...|242.7725761|489.41579109092186|\n",
      "+--------------------+-----------+------------------+\n",
      "only showing top 10 rows\n",
      "\n"
     ]
    }
   ],
   "source": [
    "pred.show(10)  ## above trust val is below label-prediction value same goes for all res 9 values"
   ]
  },
  {
   "cell_type": "code",
   "execution_count": 23,
   "metadata": {
    "collapsed": false
   },
   "outputs": [
    {
     "data": {
      "text/plain": [
       "[0.0]"
      ]
     },
     "execution_count": 23,
     "metadata": {},
     "output_type": "execute_result"
    }
   ],
   "source": [
    "lr_model.summary.objectiveHistory"
   ]
  },
  {
   "cell_type": "code",
   "execution_count": 24,
   "metadata": {
    "collapsed": false
   },
   "outputs": [
    {
     "data": {
      "text/plain": [
       "[0.1414190209338151, 0.0, 0.0, 0.0, 0.0, 0.0]"
      ]
     },
     "execution_count": 24,
     "metadata": {},
     "output_type": "execute_result"
    }
   ],
   "source": [
    "lr_model.summary.pValues"
   ]
  },
  {
   "cell_type": "code",
   "execution_count": 25,
   "metadata": {
    "collapsed": false
   },
   "outputs": [
    {
     "data": {
      "text/plain": [
       "[-1.4706032847815143,\n",
       " -104.40700440852557,\n",
       " 33.05251492798508,\n",
       " 47.921350426590024,\n",
       " -79.4179853381474,\n",
       " 131.02426378545263]"
      ]
     },
     "execution_count": 25,
     "metadata": {},
     "output_type": "execute_result"
    }
   ],
   "source": [
    "lr_model.summary.tValues  ## T statistic values with degrees of freedom - Test Statistics"
   ]
  },
  {
   "cell_type": "code",
   "execution_count": 26,
   "metadata": {
    "collapsed": false
   },
   "outputs": [
    {
     "data": {
      "text/plain": [
       "1"
      ]
     },
     "execution_count": 26,
     "metadata": {},
     "output_type": "execute_result"
    }
   ],
   "source": [
    "lr_model.summary.totalIterations"
   ]
  },
  {
   "cell_type": "code",
   "execution_count": 27,
   "metadata": {
    "collapsed": false
   },
   "outputs": [
    {
     "data": {
      "text/plain": [
       "15290"
      ]
     },
     "execution_count": 27,
     "metadata": {},
     "output_type": "execute_result"
    }
   ],
   "source": [
    "insurancedf.count()"
   ]
  },
  {
   "cell_type": "code",
   "execution_count": 28,
   "metadata": {
    "collapsed": true
   },
   "outputs": [],
   "source": [
    "traindata,testdata=insurancedf.randomSplit([0.70,0.30],seed=123) ## spliting train and test data and seed is the random generator##"
   ]
  },
  {
   "cell_type": "code",
   "execution_count": 29,
   "metadata": {
    "collapsed": false
   },
   "outputs": [
    {
     "data": {
      "text/plain": [
       "10659"
      ]
     },
     "execution_count": 29,
     "metadata": {},
     "output_type": "execute_result"
    }
   ],
   "source": [
    "traindata.count()"
   ]
  },
  {
   "cell_type": "code",
   "execution_count": 30,
   "metadata": {
    "collapsed": false
   },
   "outputs": [
    {
     "data": {
      "text/plain": [
       "4631"
      ]
     },
     "execution_count": 30,
     "metadata": {},
     "output_type": "execute_result"
    }
   ],
   "source": [
    "testdata.count()"
   ]
  },
  {
   "cell_type": "code",
   "execution_count": 31,
   "metadata": {
    "collapsed": true
   },
   "outputs": [],
   "source": [
    "lrtrain=LinearRegression(featuresCol='features',labelCol='label') "
   ]
  },
  {
   "cell_type": "code",
   "execution_count": 32,
   "metadata": {
    "collapsed": true
   },
   "outputs": [],
   "source": [
    "lr_train=lr.fit(traindata)"
   ]
  },
  {
   "cell_type": "code",
   "execution_count": 33,
   "metadata": {
    "collapsed": true
   },
   "outputs": [],
   "source": [
    "pred_train=lr_train.transform(traindata)"
   ]
  },
  {
   "cell_type": "code",
   "execution_count": 34,
   "metadata": {
    "collapsed": false
   },
   "outputs": [
    {
     "name": "stdout",
     "output_type": "stream",
     "text": [
      "+--------------------+-----------+-----------------+\n",
      "|            features|      label|       prediction|\n",
      "+--------------------+-----------+-----------------+\n",
      "|[1.0,20.6,0.0,0.0...|342.5996055|653.8026127805778|\n",
      "|[1.0,20.6,0.0,0.0...| 399.165851|653.8026127805778|\n",
      "|[1.0,20.6,0.0,0.0...|458.1587158|653.8026127805778|\n",
      "|[1.0,20.6,0.0,0.0...| 459.488058|653.8026127805778|\n",
      "|[1.0,20.6,0.0,0.0...|481.9361346|653.8026127805778|\n",
      "+--------------------+-----------+-----------------+\n",
      "only showing top 5 rows\n",
      "\n"
     ]
    }
   ],
   "source": [
    "pred_train.show(5)"
   ]
  },
  {
   "cell_type": "code",
   "execution_count": 35,
   "metadata": {
    "collapsed": false
   },
   "outputs": [
    {
     "data": {
      "text/plain": [
       "174.06488297135078"
      ]
     },
     "execution_count": 35,
     "metadata": {},
     "output_type": "execute_result"
    }
   ],
   "source": [
    "evaluator.evaluate(pred_train)"
   ]
  },
  {
   "cell_type": "code",
   "execution_count": 36,
   "metadata": {
    "collapsed": true
   },
   "outputs": [],
   "source": [
    "evaluator2=RegressionEvaluator(predictionCol='prediction',labelCol='label',metricName=\"r2\")"
   ]
  },
  {
   "cell_type": "code",
   "execution_count": 37,
   "metadata": {
    "collapsed": false
   },
   "outputs": [
    {
     "data": {
      "text/plain": [
       "0.5346702795957955"
      ]
     },
     "execution_count": 37,
     "metadata": {},
     "output_type": "execute_result"
    }
   ],
   "source": [
    "evaluator2.evaluate(pred_train)"
   ]
  },
  {
   "cell_type": "code",
   "execution_count": 38,
   "metadata": {
    "collapsed": true
   },
   "outputs": [],
   "source": [
    "lrtest=LinearRegression(featuresCol='features',labelCol='label') "
   ]
  },
  {
   "cell_type": "code",
   "execution_count": 39,
   "metadata": {
    "collapsed": true
   },
   "outputs": [],
   "source": [
    "lr_test=lr.fit(testdata)"
   ]
  },
  {
   "cell_type": "code",
   "execution_count": 40,
   "metadata": {
    "collapsed": true
   },
   "outputs": [],
   "source": [
    "pred_test=lr_test.transform(testdata)"
   ]
  },
  {
   "cell_type": "code",
   "execution_count": 41,
   "metadata": {
    "collapsed": false
   },
   "outputs": [
    {
     "name": "stdout",
     "output_type": "stream",
     "text": [
      "+--------------------+-----------+-----------------+\n",
      "|            features|      label|       prediction|\n",
      "+--------------------+-----------+-----------------+\n",
      "|[1.0,20.6,0.0,0.0...|345.0465518|653.5643205998598|\n",
      "|[1.0,20.6,0.0,0.0...|346.1635562|653.5643205998598|\n",
      "|[1.0,20.6,0.0,0.0...|378.5785956|653.5643205998598|\n",
      "|[1.0,20.6,0.0,0.0...|488.2883074|653.5643205998598|\n",
      "|[1.0,20.6,0.0,0.0...|503.0228692|653.5643205998598|\n",
      "|[1.0,20.6,0.0,0.0...|805.5978863|653.5643205998598|\n",
      "|[1.0,20.6,0.0,0.0...|806.8782918|653.5643205998598|\n",
      "|[1.0,20.6,0.0,0.0...|837.3677817|653.5643205998598|\n",
      "|[1.0,20.6,0.0,0.0...|282.2230386| 497.951516790611|\n",
      "|[1.0,20.6,0.0,0.0...|299.9629532| 497.951516790611|\n",
      "|[1.0,20.6,0.0,0.0...|307.6119306| 497.951516790611|\n",
      "|[1.0,20.6,0.0,0.0...|335.9492312| 497.951516790611|\n",
      "|[1.0,20.6,0.0,0.0...|343.4349944| 497.951516790611|\n",
      "|[1.0,20.6,0.0,0.0...|363.1691719| 497.951516790611|\n",
      "|[1.0,20.6,0.0,0.0...|370.6644896| 497.951516790611|\n",
      "|[1.0,20.6,0.0,0.0...|382.4581608| 497.951516790611|\n",
      "|[1.0,20.6,0.0,0.0...|415.5747896| 497.951516790611|\n",
      "|[1.0,20.6,0.0,0.0...|420.7564271| 497.951516790611|\n",
      "|[1.0,20.6,0.0,0.0...|423.6904935| 497.951516790611|\n",
      "|[1.0,20.6,0.0,0.0...|426.1706197| 497.951516790611|\n",
      "+--------------------+-----------+-----------------+\n",
      "only showing top 20 rows\n",
      "\n"
     ]
    }
   ],
   "source": [
    "pred_test.show()"
   ]
  },
  {
   "cell_type": "code",
   "execution_count": 42,
   "metadata": {
    "collapsed": true
   },
   "outputs": [],
   "source": [
    "evaluator3=RegressionEvaluator(predictionCol='prediction',labelCol='label',metricName=\"r2\")"
   ]
  },
  {
   "cell_type": "code",
   "execution_count": 43,
   "metadata": {
    "collapsed": false
   },
   "outputs": [
    {
     "data": {
      "text/plain": [
       "0.5055331292063"
      ]
     },
     "execution_count": 43,
     "metadata": {},
     "output_type": "execute_result"
    }
   ],
   "source": [
    "evaluator3.evaluate(pred_test)"
   ]
  },
  {
   "cell_type": "code",
   "execution_count": 44,
   "metadata": {
    "collapsed": true
   },
   "outputs": [],
   "source": [
    "from pyspark.ml.regression import DecisionTreeRegressor  ## Decision Tree"
   ]
  },
  {
   "cell_type": "code",
   "execution_count": 45,
   "metadata": {
    "collapsed": true
   },
   "outputs": [],
   "source": [
    "dtmodel=DecisionTreeRegressor(featuresCol='features')"
   ]
  },
  {
   "cell_type": "code",
   "execution_count": 46,
   "metadata": {
    "collapsed": true
   },
   "outputs": [],
   "source": [
    "dt_model=dtmodel.fit(insurancedf)"
   ]
  },
  {
   "cell_type": "code",
   "execution_count": 47,
   "metadata": {
    "collapsed": true
   },
   "outputs": [],
   "source": [
    "dtpred=dt_model.transform(insurancedf)"
   ]
  },
  {
   "cell_type": "code",
   "execution_count": 48,
   "metadata": {
    "collapsed": false
   },
   "outputs": [
    {
     "name": "stdout",
     "output_type": "stream",
     "text": [
      "+--------------------+-----------+------------------+\n",
      "|            features|      label|        prediction|\n",
      "+--------------------+-----------+------------------+\n",
      "|[1.0,20.6,1.0,0.0...|203.3195946| 333.2638523903444|\n",
      "|[1.0,42.4,0.0,1.0...|402.1973024|433.49622672352524|\n",
      "|[1.0,42.4,1.0,0.0...|553.1320959| 547.5435941172063|\n",
      "|[1.0,42.4,0.0,0.0...|292.4305792|249.49646718962936|\n",
      "|[1.0,20.6,1.0,1.0...|246.5405761| 742.3726205902141|\n",
      "+--------------------+-----------+------------------+\n",
      "only showing top 5 rows\n",
      "\n"
     ]
    }
   ],
   "source": [
    "dtpred.show(5)"
   ]
  },
  {
   "cell_type": "code",
   "execution_count": 49,
   "metadata": {
    "collapsed": false
   },
   "outputs": [
    {
     "data": {
      "text/plain": [
       "157.9959675570192"
      ]
     },
     "execution_count": 49,
     "metadata": {},
     "output_type": "execute_result"
    }
   ],
   "source": [
    "evaluator.evaluate(dtpred)"
   ]
  },
  {
   "cell_type": "code",
   "execution_count": 50,
   "metadata": {
    "collapsed": true
   },
   "outputs": [],
   "source": [
    "from pyspark.ml.regression import RandomForestRegressor  ## importing random forest"
   ]
  },
  {
   "cell_type": "code",
   "execution_count": 51,
   "metadata": {
    "collapsed": true
   },
   "outputs": [],
   "source": [
    "dtforest=RandomForestRegressor(featuresCol='features')"
   ]
  },
  {
   "cell_type": "code",
   "execution_count": 52,
   "metadata": {
    "collapsed": true
   },
   "outputs": [],
   "source": [
    "dt_forest=dtforest.fit(insurancedf)"
   ]
  },
  {
   "cell_type": "code",
   "execution_count": 53,
   "metadata": {
    "collapsed": true
   },
   "outputs": [],
   "source": [
    "dtpred_for=dt_forest.transform(insurancedf)"
   ]
  },
  {
   "cell_type": "code",
   "execution_count": 54,
   "metadata": {
    "collapsed": false
   },
   "outputs": [
    {
     "name": "stdout",
     "output_type": "stream",
     "text": [
      "+--------------------+-----------+------------------+\n",
      "|            features|      label|        prediction|\n",
      "+--------------------+-----------+------------------+\n",
      "|[1.0,20.6,1.0,0.0...|203.3195946|394.52831527148516|\n",
      "|[1.0,42.4,0.0,1.0...|402.1973024| 412.6923644670822|\n",
      "|[1.0,42.4,1.0,0.0...|553.1320959| 544.2492924596918|\n",
      "|[1.0,42.4,0.0,0.0...|292.4305792|294.59234701428454|\n",
      "|[1.0,20.6,1.0,1.0...|246.5405761| 644.2949310397112|\n",
      "+--------------------+-----------+------------------+\n",
      "only showing top 5 rows\n",
      "\n"
     ]
    }
   ],
   "source": [
    "dtpred_for.show(5)\n"
   ]
  },
  {
   "cell_type": "code",
   "execution_count": 55,
   "metadata": {
    "collapsed": false
   },
   "outputs": [
    {
     "data": {
      "text/plain": [
       "165.45466792558872"
      ]
     },
     "execution_count": 55,
     "metadata": {},
     "output_type": "execute_result"
    }
   ],
   "source": [
    "evaluator.evaluate(dtpred_for)"
   ]
  },
  {
   "cell_type": "code",
   "execution_count": null,
   "metadata": {
    "collapsed": true
   },
   "outputs": [],
   "source": []
  },
  {
   "cell_type": "code",
   "execution_count": null,
   "metadata": {
    "collapsed": true
   },
   "outputs": [],
   "source": []
  }
 ],
 "metadata": {
  "kernelspec": {
   "display_name": "Python [default]",
   "language": "python",
   "name": "python3"
  },
  "language_info": {
   "codemirror_mode": {
    "name": "ipython",
    "version": 3
   },
   "file_extension": ".py",
   "mimetype": "text/x-python",
   "name": "python",
   "nbconvert_exporter": "python",
   "pygments_lexer": "ipython3",
   "version": "3.5.2"
  }
 },
 "nbformat": 4,
 "nbformat_minor": 2
}
