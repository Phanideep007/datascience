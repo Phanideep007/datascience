{
 "cells": [
  {
   "cell_type": "code",
   "execution_count": 106,
   "metadata": {
    "collapsed": true
   },
   "outputs": [],
   "source": [
    "import pandas as pd\n",
    "import numpy as np\n",
    "import matplotlib.pyplot as plt          \n",
    "%matplotlib inline                       "
   ]
  },
  {
   "cell_type": "code",
   "execution_count": 107,
   "metadata": {},
   "outputs": [],
   "source": [
    "mobiledata=pd.read_excel(\"D:/analytics/Predictive_Analysis2/IOT_Time_Series_Analysis/data_vis_test.xlsx\")"
   ]
  },
  {
   "cell_type": "code",
   "execution_count": 108,
   "metadata": {},
   "outputs": [
    {
     "data": {
      "text/html": [
       "<div>\n",
       "<style>\n",
       "    .dataframe thead tr:only-child th {\n",
       "        text-align: right;\n",
       "    }\n",
       "\n",
       "    .dataframe thead th {\n",
       "        text-align: left;\n",
       "    }\n",
       "\n",
       "    .dataframe tbody tr th {\n",
       "        vertical-align: top;\n",
       "    }\n",
       "</style>\n",
       "<table border=\"1\" class=\"dataframe\">\n",
       "  <thead>\n",
       "    <tr style=\"text-align: right;\">\n",
       "      <th></th>\n",
       "      <th>user_id</th>\n",
       "      <th>first_open_timestamp_micros</th>\n",
       "      <th>mobile_brand_name</th>\n",
       "      <th>device_model</th>\n",
       "      <th>Date</th>\n",
       "    </tr>\n",
       "  </thead>\n",
       "  <tbody>\n",
       "    <tr>\n",
       "      <th>0</th>\n",
       "      <td>59e76cfd625fbbd42511a613</td>\n",
       "      <td>1506070442210000</td>\n",
       "      <td>Samsung</td>\n",
       "      <td>SM-G600FY</td>\n",
       "      <td>09/22/2017 08.54.02</td>\n",
       "    </tr>\n",
       "    <tr>\n",
       "      <th>1</th>\n",
       "      <td>59d06f7fb2cb0511457922c5</td>\n",
       "      <td>1506593056306000</td>\n",
       "      <td>Magicon</td>\n",
       "      <td>M2</td>\n",
       "      <td>09/28/2017 10.04.16</td>\n",
       "    </tr>\n",
       "    <tr>\n",
       "      <th>2</th>\n",
       "      <td>59ccf1575a6aa5143eab56d5</td>\n",
       "      <td>1506849953196000</td>\n",
       "      <td>Sony</td>\n",
       "      <td>C2004</td>\n",
       "      <td>10/01/2017 09.25.53</td>\n",
       "    </tr>\n",
       "    <tr>\n",
       "      <th>3</th>\n",
       "      <td>5a033767625fbbd4254d156c</td>\n",
       "      <td>1451606988851000</td>\n",
       "      <td>LYF</td>\n",
       "      <td>LS-4503</td>\n",
       "      <td>01/01/2016 00.09.49</td>\n",
       "    </tr>\n",
       "    <tr>\n",
       "      <th>4</th>\n",
       "      <td>59d1e15c34d477c22c195554</td>\n",
       "      <td>1505544941945000</td>\n",
       "      <td>Samsung</td>\n",
       "      <td>SM-J210F</td>\n",
       "      <td>09/16/2017 06.55.42</td>\n",
       "    </tr>\n",
       "  </tbody>\n",
       "</table>\n",
       "</div>"
      ],
      "text/plain": [
       "                    user_id  first_open_timestamp_micros mobile_brand_name  \\\n",
       "0  59e76cfd625fbbd42511a613             1506070442210000           Samsung   \n",
       "1  59d06f7fb2cb0511457922c5             1506593056306000           Magicon   \n",
       "2  59ccf1575a6aa5143eab56d5             1506849953196000              Sony   \n",
       "3  5a033767625fbbd4254d156c             1451606988851000               LYF   \n",
       "4  59d1e15c34d477c22c195554             1505544941945000           Samsung   \n",
       "\n",
       "  device_model                 Date  \n",
       "0    SM-G600FY  09/22/2017 08.54.02  \n",
       "1           M2  09/28/2017 10.04.16  \n",
       "2        C2004  10/01/2017 09.25.53  \n",
       "3      LS-4503  01/01/2016 00.09.49  \n",
       "4     SM-J210F  09/16/2017 06.55.42  "
      ]
     },
     "execution_count": 108,
     "metadata": {},
     "output_type": "execute_result"
    }
   ],
   "source": [
    "mobiledata.head()"
   ]
  },
  {
   "cell_type": "code",
   "execution_count": 109,
   "metadata": {},
   "outputs": [
    {
     "data": {
      "text/plain": [
       "(10000, 5)"
      ]
     },
     "execution_count": 109,
     "metadata": {},
     "output_type": "execute_result"
    }
   ],
   "source": [
    "mobiledata.shape"
   ]
  },
  {
   "cell_type": "code",
   "execution_count": 110,
   "metadata": {},
   "outputs": [],
   "source": [
    "mobiledata.Date=pd.to_datetime(mobiledata.first_open_timestamp_micros,unit=\"us\")  #14digits-us, 16digits-ms, 19digits-ns"
   ]
  },
  {
   "cell_type": "code",
   "execution_count": 111,
   "metadata": {},
   "outputs": [
    {
     "data": {
      "text/plain": [
       "user_id                                object\n",
       "first_open_timestamp_micros             int64\n",
       "mobile_brand_name                      object\n",
       "device_model                           object\n",
       "Date                           datetime64[ns]\n",
       "dtype: object"
      ]
     },
     "execution_count": 111,
     "metadata": {},
     "output_type": "execute_result"
    }
   ],
   "source": [
    "mobiledata.dtypes"
   ]
  },
  {
   "cell_type": "code",
   "execution_count": 112,
   "metadata": {},
   "outputs": [
    {
     "data": {
      "text/html": [
       "<div>\n",
       "<style>\n",
       "    .dataframe thead tr:only-child th {\n",
       "        text-align: right;\n",
       "    }\n",
       "\n",
       "    .dataframe thead th {\n",
       "        text-align: left;\n",
       "    }\n",
       "\n",
       "    .dataframe tbody tr th {\n",
       "        vertical-align: top;\n",
       "    }\n",
       "</style>\n",
       "<table border=\"1\" class=\"dataframe\">\n",
       "  <thead>\n",
       "    <tr style=\"text-align: right;\">\n",
       "      <th></th>\n",
       "      <th>user_id</th>\n",
       "      <th>first_open_timestamp_micros</th>\n",
       "      <th>mobile_brand_name</th>\n",
       "      <th>device_model</th>\n",
       "      <th>Date</th>\n",
       "    </tr>\n",
       "  </thead>\n",
       "  <tbody>\n",
       "    <tr>\n",
       "      <th>0</th>\n",
       "      <td>59e76cfd625fbbd42511a613</td>\n",
       "      <td>1506070442210000</td>\n",
       "      <td>Samsung</td>\n",
       "      <td>SM-G600FY</td>\n",
       "      <td>2017-09-22 08:54:02.210</td>\n",
       "    </tr>\n",
       "    <tr>\n",
       "      <th>1</th>\n",
       "      <td>59d06f7fb2cb0511457922c5</td>\n",
       "      <td>1506593056306000</td>\n",
       "      <td>Magicon</td>\n",
       "      <td>M2</td>\n",
       "      <td>2017-09-28 10:04:16.306</td>\n",
       "    </tr>\n",
       "    <tr>\n",
       "      <th>2</th>\n",
       "      <td>59ccf1575a6aa5143eab56d5</td>\n",
       "      <td>1506849953196000</td>\n",
       "      <td>Sony</td>\n",
       "      <td>C2004</td>\n",
       "      <td>2017-10-01 09:25:53.196</td>\n",
       "    </tr>\n",
       "    <tr>\n",
       "      <th>3</th>\n",
       "      <td>5a033767625fbbd4254d156c</td>\n",
       "      <td>1451606988851000</td>\n",
       "      <td>LYF</td>\n",
       "      <td>LS-4503</td>\n",
       "      <td>2016-01-01 00:09:48.851</td>\n",
       "    </tr>\n",
       "    <tr>\n",
       "      <th>4</th>\n",
       "      <td>59d1e15c34d477c22c195554</td>\n",
       "      <td>1505544941945000</td>\n",
       "      <td>Samsung</td>\n",
       "      <td>SM-J210F</td>\n",
       "      <td>2017-09-16 06:55:41.945</td>\n",
       "    </tr>\n",
       "  </tbody>\n",
       "</table>\n",
       "</div>"
      ],
      "text/plain": [
       "                    user_id  first_open_timestamp_micros mobile_brand_name  \\\n",
       "0  59e76cfd625fbbd42511a613             1506070442210000           Samsung   \n",
       "1  59d06f7fb2cb0511457922c5             1506593056306000           Magicon   \n",
       "2  59ccf1575a6aa5143eab56d5             1506849953196000              Sony   \n",
       "3  5a033767625fbbd4254d156c             1451606988851000               LYF   \n",
       "4  59d1e15c34d477c22c195554             1505544941945000           Samsung   \n",
       "\n",
       "  device_model                    Date  \n",
       "0    SM-G600FY 2017-09-22 08:54:02.210  \n",
       "1           M2 2017-09-28 10:04:16.306  \n",
       "2        C2004 2017-10-01 09:25:53.196  \n",
       "3      LS-4503 2016-01-01 00:09:48.851  \n",
       "4     SM-J210F 2017-09-16 06:55:41.945  "
      ]
     },
     "execution_count": 112,
     "metadata": {},
     "output_type": "execute_result"
    }
   ],
   "source": [
    "mobiledata.head() "
   ]
  },
  {
   "cell_type": "code",
   "execution_count": 113,
   "metadata": {
    "collapsed": true
   },
   "outputs": [],
   "source": [
    "mobiledata['Year']=mobiledata.Date.apply(lambda x:x.year)\n",
    "mobiledata['Month']=mobiledata.Date.apply(lambda x:x.month)\n",
    "mobiledata['Week']=mobiledata.Date.apply(lambda x:x.week)\n",
    "mobiledata['Weekdays']=mobiledata.Date.apply(lambda x:x.weekday())\n",
    "mobiledata['Hour']=mobiledata.Date.apply(lambda x:x.hour)"
   ]
  },
  {
   "cell_type": "code",
   "execution_count": 114,
   "metadata": {},
   "outputs": [
    {
     "data": {
      "text/html": [
       "<div>\n",
       "<style>\n",
       "    .dataframe thead tr:only-child th {\n",
       "        text-align: right;\n",
       "    }\n",
       "\n",
       "    .dataframe thead th {\n",
       "        text-align: left;\n",
       "    }\n",
       "\n",
       "    .dataframe tbody tr th {\n",
       "        vertical-align: top;\n",
       "    }\n",
       "</style>\n",
       "<table border=\"1\" class=\"dataframe\">\n",
       "  <thead>\n",
       "    <tr style=\"text-align: right;\">\n",
       "      <th></th>\n",
       "      <th>user_id</th>\n",
       "      <th>first_open_timestamp_micros</th>\n",
       "      <th>mobile_brand_name</th>\n",
       "      <th>device_model</th>\n",
       "      <th>Date</th>\n",
       "      <th>Year</th>\n",
       "      <th>Month</th>\n",
       "      <th>Week</th>\n",
       "      <th>Weekdays</th>\n",
       "      <th>Hour</th>\n",
       "    </tr>\n",
       "  </thead>\n",
       "  <tbody>\n",
       "    <tr>\n",
       "      <th>0</th>\n",
       "      <td>59e76cfd625fbbd42511a613</td>\n",
       "      <td>1506070442210000</td>\n",
       "      <td>Samsung</td>\n",
       "      <td>SM-G600FY</td>\n",
       "      <td>2017-09-22 08:54:02.210</td>\n",
       "      <td>2017</td>\n",
       "      <td>9</td>\n",
       "      <td>38</td>\n",
       "      <td>4</td>\n",
       "      <td>8</td>\n",
       "    </tr>\n",
       "    <tr>\n",
       "      <th>1</th>\n",
       "      <td>59d06f7fb2cb0511457922c5</td>\n",
       "      <td>1506593056306000</td>\n",
       "      <td>Magicon</td>\n",
       "      <td>M2</td>\n",
       "      <td>2017-09-28 10:04:16.306</td>\n",
       "      <td>2017</td>\n",
       "      <td>9</td>\n",
       "      <td>39</td>\n",
       "      <td>3</td>\n",
       "      <td>10</td>\n",
       "    </tr>\n",
       "    <tr>\n",
       "      <th>2</th>\n",
       "      <td>59ccf1575a6aa5143eab56d5</td>\n",
       "      <td>1506849953196000</td>\n",
       "      <td>Sony</td>\n",
       "      <td>C2004</td>\n",
       "      <td>2017-10-01 09:25:53.196</td>\n",
       "      <td>2017</td>\n",
       "      <td>10</td>\n",
       "      <td>39</td>\n",
       "      <td>6</td>\n",
       "      <td>9</td>\n",
       "    </tr>\n",
       "    <tr>\n",
       "      <th>3</th>\n",
       "      <td>5a033767625fbbd4254d156c</td>\n",
       "      <td>1451606988851000</td>\n",
       "      <td>LYF</td>\n",
       "      <td>LS-4503</td>\n",
       "      <td>2016-01-01 00:09:48.851</td>\n",
       "      <td>2016</td>\n",
       "      <td>1</td>\n",
       "      <td>53</td>\n",
       "      <td>4</td>\n",
       "      <td>0</td>\n",
       "    </tr>\n",
       "    <tr>\n",
       "      <th>4</th>\n",
       "      <td>59d1e15c34d477c22c195554</td>\n",
       "      <td>1505544941945000</td>\n",
       "      <td>Samsung</td>\n",
       "      <td>SM-J210F</td>\n",
       "      <td>2017-09-16 06:55:41.945</td>\n",
       "      <td>2017</td>\n",
       "      <td>9</td>\n",
       "      <td>37</td>\n",
       "      <td>5</td>\n",
       "      <td>6</td>\n",
       "    </tr>\n",
       "  </tbody>\n",
       "</table>\n",
       "</div>"
      ],
      "text/plain": [
       "                    user_id  first_open_timestamp_micros mobile_brand_name  \\\n",
       "0  59e76cfd625fbbd42511a613             1506070442210000           Samsung   \n",
       "1  59d06f7fb2cb0511457922c5             1506593056306000           Magicon   \n",
       "2  59ccf1575a6aa5143eab56d5             1506849953196000              Sony   \n",
       "3  5a033767625fbbd4254d156c             1451606988851000               LYF   \n",
       "4  59d1e15c34d477c22c195554             1505544941945000           Samsung   \n",
       "\n",
       "  device_model                    Date  Year  Month  Week  Weekdays  Hour  \n",
       "0    SM-G600FY 2017-09-22 08:54:02.210  2017      9    38         4     8  \n",
       "1           M2 2017-09-28 10:04:16.306  2017      9    39         3    10  \n",
       "2        C2004 2017-10-01 09:25:53.196  2017     10    39         6     9  \n",
       "3      LS-4503 2016-01-01 00:09:48.851  2016      1    53         4     0  \n",
       "4     SM-J210F 2017-09-16 06:55:41.945  2017      9    37         5     6  "
      ]
     },
     "execution_count": 114,
     "metadata": {},
     "output_type": "execute_result"
    }
   ],
   "source": [
    "mobiledata.head()"
   ]
  },
  {
   "cell_type": "code",
   "execution_count": 115,
   "metadata": {},
   "outputs": [
    {
     "data": {
      "text/plain": [
       "Samsung         2938\n",
       "Xiaomi          1520\n",
       "Vivo            1019\n",
       "OPPO             929\n",
       "Lenovo           548\n",
       "Motorola         364\n",
       "Micromax         330\n",
       "LYF              271\n",
       "Gionee           245\n",
       "Lava             114\n",
       "HTC               91\n",
       "Coolpad           88\n",
       "Intex             87\n",
       "Asus              85\n",
       "OnePlus           81\n",
       "Huawei            75\n",
       "Panasonic         74\n",
       "Sony              65\n",
       "LeTV              47\n",
       "LG                42\n",
       "YU                41\n",
       "Karbonn           41\n",
       "itel              26\n",
       "Xolo              25\n",
       "LeEco             24\n",
       "iZoom             23\n",
       "InFocus           18\n",
       "Google            16\n",
       "Tecno             14\n",
       "Videocon          13\n",
       "                ... \n",
       "Acer               5\n",
       "Allview            5\n",
       "SonyEricsson       5\n",
       "Meitu              4\n",
       "Lephone            4\n",
       "BlackBerry         4\n",
       "Reliance           3\n",
       "Infinix            3\n",
       "Sansui             3\n",
       "ZTE                2\n",
       "RCA                2\n",
       "PiPO               2\n",
       "Phicomm            2\n",
       "Zen                2\n",
       "Cubot              2\n",
       "Penta              2\n",
       "Meizu              2\n",
       "iNew               2\n",
       "Fujitsu            1\n",
       "Elekta             1\n",
       "Hitech             1\n",
       "Pioneer            1\n",
       "QMobile            1\n",
       "InnJoo             1\n",
       "Symphony           1\n",
       "DOOGEE             1\n",
       "Dell               1\n",
       "G-Five             1\n",
       "iOcean             1\n",
       "ZXD                1\n",
       "Name: mobile_brand_name, Length: 69, dtype: int64"
      ]
     },
     "execution_count": 115,
     "metadata": {},
     "output_type": "execute_result"
    }
   ],
   "source": [
    "mobiledata.mobile_brand_name.value_counts()\n"
   ]
  },
  {
   "cell_type": "code",
   "execution_count": 116,
   "metadata": {},
   "outputs": [
    {
     "data": {
      "text/plain": [
       "<matplotlib.axes._subplots.AxesSubplot at 0x1faf0f55780>"
      ]
     },
     "execution_count": 116,
     "metadata": {},
     "output_type": "execute_result"
    },
    {
     "data": {
      "image/png": "[encoded data removed]",
      "text/plain": [
       "<matplotlib.figure.Figure at 0x1faf10b9048>"
      ]
     },
     "metadata": {},
     "output_type": "display_data"
    }
   ],
   "source": [
    "mobiledata.mobile_brand_name.value_counts().plot(kind=\"bar\",figsize=(12,12))"
   ]
  },
  {
   "cell_type": "code",
   "execution_count": 117,
   "metadata": {
    "collapsed": true
   },
   "outputs": [],
   "source": [
    "mobiledata['Units']=1"
   ]
  },
  {
   "cell_type": "code",
   "execution_count": 118,
   "metadata": {},
   "outputs": [],
   "source": [
    "popbrands=mobiledata.mobile_brand_name.value_counts().index[:10]"
   ]
  },
  {
   "cell_type": "code",
   "execution_count": 119,
   "metadata": {},
   "outputs": [
    {
     "data": {
      "text/plain": [
       "Index(['Samsung', 'Xiaomi', 'Vivo', 'OPPO', 'Lenovo', 'Motorola', 'Micromax',\n",
       "       'LYF', 'Gionee', 'Lava'],\n",
       "      dtype='object')"
      ]
     },
     "execution_count": 119,
     "metadata": {},
     "output_type": "execute_result"
    }
   ],
   "source": [
    "popbrands"
   ]
  },
  {
   "cell_type": "code",
   "execution_count": 124,
   "metadata": {},
   "outputs": [],
   "source": [
    "mobiledata['Topbrands']=mobiledata.loc[~mobiledata.mobile_brand_name.isin(popbrands),'mobile_brand_name']='others'"
   ]
  },
  {
   "cell_type": "code",
   "execution_count": 125,
   "metadata": {},
   "outputs": [],
   "source": [
    "for i in mobiledata.mobile_brand_name:\n",
    "    if i in popbrands:\n",
    "        mobiledata['TopBrands']=mobiledata.mobile_brand_name\n",
    "    else:\n",
    "        mobiledata['TopBrands']=='Others'"
   ]
  },
  {
   "cell_type": "code",
   "execution_count": 126,
   "metadata": {},
   "outputs": [
    {
     "data": {
      "text/plain": [
       "Samsung     2938\n",
       "others      1722\n",
       "Xiaomi      1520\n",
       "Vivo        1019\n",
       "OPPO         929\n",
       "Lenovo       548\n",
       "Motorola     364\n",
       "Micromax     330\n",
       "LYF          271\n",
       "Gionee       245\n",
       "Lava         114\n",
       "Name: TopBrands, dtype: int64"
      ]
     },
     "execution_count": 126,
     "metadata": {},
     "output_type": "execute_result"
    }
   ],
   "source": [
    "mobiledata.TopBrands.value_counts()"
   ]
  },
  {
   "cell_type": "code",
   "execution_count": null,
   "metadata": {
    "collapsed": true
   },
   "outputs": [],
   "source": []
  }
 ],
 "metadata": {
  "kernelspec": {
   "display_name": "Python 3",
   "language": "python",
   "name": "python3"
  },
  "language_info": {
   "codemirror_mode": {
    "name": "ipython",
    "version": 3
   },
   "file_extension": ".py",
   "mimetype": "text/x-python",
   "name": "python",
   "nbconvert_exporter": "python",
   "pygments_lexer": "ipython3",
   "version": "3.6.3"
  }
 },
 "nbformat": 4,
 "nbformat_minor": 2
}
