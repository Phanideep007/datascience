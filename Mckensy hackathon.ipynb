{
 "cells": [
  {
   "cell_type": "code",
   "execution_count": 240,
   "metadata": {
    "collapsed": true
   },
   "outputs": [],
   "source": [
    "import pandas as pd\n",
    "import numpy as np\n",
    "import matplotlib.pyplot as plt          \n",
    "%matplotlib inline"
   ]
  },
  {
   "cell_type": "code",
   "execution_count": 241,
   "metadata": {
    "collapsed": true
   },
   "outputs": [],
   "source": [
    "mckensydata=pd.read_csv(\"D:/analytics/Hackathon/Mckensy/train.csv\")"
   ]
  },
  {
   "cell_type": "code",
   "execution_count": 242,
   "metadata": {},
   "outputs": [
    {
     "data": {
      "text/html": [
       "<div>\n",
       "<style>\n",
       "    .dataframe thead tr:only-child th {\n",
       "        text-align: right;\n",
       "    }\n",
       "\n",
       "    .dataframe thead th {\n",
       "        text-align: left;\n",
       "    }\n",
       "\n",
       "    .dataframe tbody tr th {\n",
       "        vertical-align: top;\n",
       "    }\n",
       "</style>\n",
       "<table border=\"1\" class=\"dataframe\">\n",
       "  <thead>\n",
       "    <tr style=\"text-align: right;\">\n",
       "      <th></th>\n",
       "      <th>ID</th>\n",
       "      <th>Gender</th>\n",
       "      <th>DOB</th>\n",
       "      <th>Lead_Creation_Date</th>\n",
       "      <th>City_Code</th>\n",
       "      <th>City_Category</th>\n",
       "      <th>Employer_Code</th>\n",
       "      <th>Employer_Category1</th>\n",
       "      <th>Employer_Category2</th>\n",
       "      <th>Monthly_Income</th>\n",
       "      <th>...</th>\n",
       "      <th>Contacted</th>\n",
       "      <th>Source</th>\n",
       "      <th>Source_Category</th>\n",
       "      <th>Existing_EMI</th>\n",
       "      <th>Loan_Amount</th>\n",
       "      <th>Loan_Period</th>\n",
       "      <th>Interest_Rate</th>\n",
       "      <th>EMI</th>\n",
       "      <th>Var1</th>\n",
       "      <th>Approved</th>\n",
       "    </tr>\n",
       "  </thead>\n",
       "  <tbody>\n",
       "    <tr>\n",
       "      <th>0</th>\n",
       "      <td>APPC90493171225</td>\n",
       "      <td>Female</td>\n",
       "      <td>23/07/79</td>\n",
       "      <td>15/07/16</td>\n",
       "      <td>C10001</td>\n",
       "      <td>A</td>\n",
       "      <td>COM0044082</td>\n",
       "      <td>A</td>\n",
       "      <td>4.0</td>\n",
       "      <td>2000.0</td>\n",
       "      <td>...</td>\n",
       "      <td>N</td>\n",
       "      <td>S122</td>\n",
       "      <td>G</td>\n",
       "      <td>0.0</td>\n",
       "      <td>NaN</td>\n",
       "      <td>NaN</td>\n",
       "      <td>NaN</td>\n",
       "      <td>NaN</td>\n",
       "      <td>0</td>\n",
       "      <td>0</td>\n",
       "    </tr>\n",
       "    <tr>\n",
       "      <th>1</th>\n",
       "      <td>APPD40611263344</td>\n",
       "      <td>Male</td>\n",
       "      <td>07/12/86</td>\n",
       "      <td>04/07/16</td>\n",
       "      <td>C10003</td>\n",
       "      <td>A</td>\n",
       "      <td>COM0000002</td>\n",
       "      <td>C</td>\n",
       "      <td>1.0</td>\n",
       "      <td>3500.0</td>\n",
       "      <td>...</td>\n",
       "      <td>Y</td>\n",
       "      <td>S122</td>\n",
       "      <td>G</td>\n",
       "      <td>0.0</td>\n",
       "      <td>20000.0</td>\n",
       "      <td>2.0</td>\n",
       "      <td>13.25</td>\n",
       "      <td>953.0</td>\n",
       "      <td>10</td>\n",
       "      <td>0</td>\n",
       "    </tr>\n",
       "    <tr>\n",
       "      <th>2</th>\n",
       "      <td>APPE70289249423</td>\n",
       "      <td>Male</td>\n",
       "      <td>10/12/82</td>\n",
       "      <td>19/07/16</td>\n",
       "      <td>C10125</td>\n",
       "      <td>C</td>\n",
       "      <td>COM0005267</td>\n",
       "      <td>C</td>\n",
       "      <td>4.0</td>\n",
       "      <td>2250.0</td>\n",
       "      <td>...</td>\n",
       "      <td>Y</td>\n",
       "      <td>S143</td>\n",
       "      <td>B</td>\n",
       "      <td>0.0</td>\n",
       "      <td>45000.0</td>\n",
       "      <td>4.0</td>\n",
       "      <td>NaN</td>\n",
       "      <td>NaN</td>\n",
       "      <td>0</td>\n",
       "      <td>0</td>\n",
       "    </tr>\n",
       "    <tr>\n",
       "      <th>3</th>\n",
       "      <td>APPF80273865537</td>\n",
       "      <td>Male</td>\n",
       "      <td>30/01/89</td>\n",
       "      <td>09/07/16</td>\n",
       "      <td>C10477</td>\n",
       "      <td>C</td>\n",
       "      <td>COM0004143</td>\n",
       "      <td>A</td>\n",
       "      <td>4.0</td>\n",
       "      <td>3500.0</td>\n",
       "      <td>...</td>\n",
       "      <td>Y</td>\n",
       "      <td>S143</td>\n",
       "      <td>B</td>\n",
       "      <td>0.0</td>\n",
       "      <td>92000.0</td>\n",
       "      <td>5.0</td>\n",
       "      <td>NaN</td>\n",
       "      <td>NaN</td>\n",
       "      <td>7</td>\n",
       "      <td>0</td>\n",
       "    </tr>\n",
       "    <tr>\n",
       "      <th>4</th>\n",
       "      <td>APPG60994436641</td>\n",
       "      <td>Male</td>\n",
       "      <td>19/04/85</td>\n",
       "      <td>20/07/16</td>\n",
       "      <td>C10002</td>\n",
       "      <td>A</td>\n",
       "      <td>COM0001781</td>\n",
       "      <td>A</td>\n",
       "      <td>4.0</td>\n",
       "      <td>10000.0</td>\n",
       "      <td>...</td>\n",
       "      <td>Y</td>\n",
       "      <td>S134</td>\n",
       "      <td>B</td>\n",
       "      <td>2500.0</td>\n",
       "      <td>50000.0</td>\n",
       "      <td>2.0</td>\n",
       "      <td>NaN</td>\n",
       "      <td>NaN</td>\n",
       "      <td>10</td>\n",
       "      <td>0</td>\n",
       "    </tr>\n",
       "  </tbody>\n",
       "</table>\n",
       "<p>5 rows × 22 columns</p>\n",
       "</div>"
      ],
      "text/plain": [
       "                ID  Gender       DOB Lead_Creation_Date City_Code  \\\n",
       "0  APPC90493171225  Female  23/07/79           15/07/16    C10001   \n",
       "1  APPD40611263344    Male  07/12/86           04/07/16    C10003   \n",
       "2  APPE70289249423    Male  10/12/82           19/07/16    C10125   \n",
       "3  APPF80273865537    Male  30/01/89           09/07/16    C10477   \n",
       "4  APPG60994436641    Male  19/04/85           20/07/16    C10002   \n",
       "\n",
       "  City_Category Employer_Code Employer_Category1  Employer_Category2  \\\n",
       "0             A    COM0044082                  A                 4.0   \n",
       "1             A    COM0000002                  C                 1.0   \n",
       "2             C    COM0005267                  C                 4.0   \n",
       "3             C    COM0004143                  A                 4.0   \n",
       "4             A    COM0001781                  A                 4.0   \n",
       "\n",
       "   Monthly_Income    ...    Contacted Source Source_Category Existing_EMI  \\\n",
       "0          2000.0    ...            N   S122               G          0.0   \n",
       "1          3500.0    ...            Y   S122               G          0.0   \n",
       "2          2250.0    ...            Y   S143               B          0.0   \n",
       "3          3500.0    ...            Y   S143               B          0.0   \n",
       "4         10000.0    ...            Y   S134               B       2500.0   \n",
       "\n",
       "  Loan_Amount  Loan_Period  Interest_Rate    EMI  Var1  Approved  \n",
       "0         NaN          NaN            NaN    NaN     0         0  \n",
       "1     20000.0          2.0          13.25  953.0    10         0  \n",
       "2     45000.0          4.0            NaN    NaN     0         0  \n",
       "3     92000.0          5.0            NaN    NaN     7         0  \n",
       "4     50000.0          2.0            NaN    NaN    10         0  \n",
       "\n",
       "[5 rows x 22 columns]"
      ]
     },
     "execution_count": 242,
     "metadata": {},
     "output_type": "execute_result"
    }
   ],
   "source": [
    "mckensydata.head()"
   ]
  },
  {
   "cell_type": "code",
   "execution_count": 244,
   "metadata": {},
   "outputs": [
    {
     "data": {
      "text/plain": [
       "Index(['ID', 'Gender', 'DOB', 'Lead_Creation_Date', 'City_Code',\n",
       "       'City_Category', 'Employer_Code', 'Employer_Category1',\n",
       "       'Employer_Category2', 'Monthly_Income',\n",
       "       'Customer_Existing_Primary_Bank_Code', 'Primary_Bank_Type', 'Contacted',\n",
       "       'Source', 'Source_Category', 'Existing_EMI', 'Loan_Amount',\n",
       "       'Loan_Period', 'Interest_Rate', 'EMI', 'Var1', 'Approved'],\n",
       "      dtype='object')"
      ]
     },
     "execution_count": 244,
     "metadata": {},
     "output_type": "execute_result"
    }
   ],
   "source": [
    "mckensydata.columns"
   ]
  },
  {
   "cell_type": "code",
   "execution_count": 245,
   "metadata": {},
   "outputs": [
    {
     "data": {
      "text/html": [
       "<div>\n",
       "<style>\n",
       "    .dataframe thead tr:only-child th {\n",
       "        text-align: right;\n",
       "    }\n",
       "\n",
       "    .dataframe thead th {\n",
       "        text-align: left;\n",
       "    }\n",
       "\n",
       "    .dataframe tbody tr th {\n",
       "        vertical-align: top;\n",
       "    }\n",
       "</style>\n",
       "<table border=\"1\" class=\"dataframe\">\n",
       "  <thead>\n",
       "    <tr style=\"text-align: right;\">\n",
       "      <th></th>\n",
       "      <th>Employer_Category2</th>\n",
       "      <th>Monthly_Income</th>\n",
       "      <th>Existing_EMI</th>\n",
       "      <th>Loan_Amount</th>\n",
       "      <th>Loan_Period</th>\n",
       "      <th>Interest_Rate</th>\n",
       "      <th>EMI</th>\n",
       "      <th>Var1</th>\n",
       "      <th>Approved</th>\n",
       "    </tr>\n",
       "  </thead>\n",
       "  <tbody>\n",
       "    <tr>\n",
       "      <th>count</th>\n",
       "      <td>65415.000000</td>\n",
       "      <td>6.971300e+04</td>\n",
       "      <td>69662.000000</td>\n",
       "      <td>42004.000000</td>\n",
       "      <td>42004.000000</td>\n",
       "      <td>22276.000000</td>\n",
       "      <td>22276.000000</td>\n",
       "      <td>69713.000000</td>\n",
       "      <td>69713.000000</td>\n",
       "    </tr>\n",
       "    <tr>\n",
       "      <th>mean</th>\n",
       "      <td>3.720187</td>\n",
       "      <td>5.622283e+03</td>\n",
       "      <td>360.928751</td>\n",
       "      <td>39429.982859</td>\n",
       "      <td>3.890629</td>\n",
       "      <td>19.213570</td>\n",
       "      <td>1101.466242</td>\n",
       "      <td>3.948446</td>\n",
       "      <td>0.014631</td>\n",
       "    </tr>\n",
       "    <tr>\n",
       "      <th>std</th>\n",
       "      <td>0.807374</td>\n",
       "      <td>1.747671e+05</td>\n",
       "      <td>2288.517927</td>\n",
       "      <td>30727.595990</td>\n",
       "      <td>1.167491</td>\n",
       "      <td>5.847136</td>\n",
       "      <td>752.661394</td>\n",
       "      <td>3.819214</td>\n",
       "      <td>0.120073</td>\n",
       "    </tr>\n",
       "    <tr>\n",
       "      <th>min</th>\n",
       "      <td>1.000000</td>\n",
       "      <td>0.000000e+00</td>\n",
       "      <td>0.000000</td>\n",
       "      <td>5000.000000</td>\n",
       "      <td>1.000000</td>\n",
       "      <td>11.990000</td>\n",
       "      <td>118.000000</td>\n",
       "      <td>0.000000</td>\n",
       "      <td>0.000000</td>\n",
       "    </tr>\n",
       "    <tr>\n",
       "      <th>25%</th>\n",
       "      <td>4.000000</td>\n",
       "      <td>1.650000e+03</td>\n",
       "      <td>0.000000</td>\n",
       "      <td>20000.000000</td>\n",
       "      <td>3.000000</td>\n",
       "      <td>15.250000</td>\n",
       "      <td>649.000000</td>\n",
       "      <td>0.000000</td>\n",
       "      <td>0.000000</td>\n",
       "    </tr>\n",
       "    <tr>\n",
       "      <th>50%</th>\n",
       "      <td>4.000000</td>\n",
       "      <td>2.500000e+03</td>\n",
       "      <td>0.000000</td>\n",
       "      <td>30000.000000</td>\n",
       "      <td>4.000000</td>\n",
       "      <td>18.000000</td>\n",
       "      <td>941.000000</td>\n",
       "      <td>2.000000</td>\n",
       "      <td>0.000000</td>\n",
       "    </tr>\n",
       "    <tr>\n",
       "      <th>75%</th>\n",
       "      <td>4.000000</td>\n",
       "      <td>4.000000e+03</td>\n",
       "      <td>350.000000</td>\n",
       "      <td>50000.000000</td>\n",
       "      <td>5.000000</td>\n",
       "      <td>20.000000</td>\n",
       "      <td>1295.000000</td>\n",
       "      <td>7.000000</td>\n",
       "      <td>0.000000</td>\n",
       "    </tr>\n",
       "    <tr>\n",
       "      <th>max</th>\n",
       "      <td>4.000000</td>\n",
       "      <td>3.838384e+07</td>\n",
       "      <td>545436.500000</td>\n",
       "      <td>300000.000000</td>\n",
       "      <td>6.000000</td>\n",
       "      <td>37.000000</td>\n",
       "      <td>13556.000000</td>\n",
       "      <td>10.000000</td>\n",
       "      <td>1.000000</td>\n",
       "    </tr>\n",
       "  </tbody>\n",
       "</table>\n",
       "</div>"
      ],
      "text/plain": [
       "       Employer_Category2  Monthly_Income   Existing_EMI    Loan_Amount  \\\n",
       "count        65415.000000    6.971300e+04   69662.000000   42004.000000   \n",
       "mean             3.720187    5.622283e+03     360.928751   39429.982859   \n",
       "std              0.807374    1.747671e+05    2288.517927   30727.595990   \n",
       "min              1.000000    0.000000e+00       0.000000    5000.000000   \n",
       "25%              4.000000    1.650000e+03       0.000000   20000.000000   \n",
       "50%              4.000000    2.500000e+03       0.000000   30000.000000   \n",
       "75%              4.000000    4.000000e+03     350.000000   50000.000000   \n",
       "max              4.000000    3.838384e+07  545436.500000  300000.000000   \n",
       "\n",
       "        Loan_Period  Interest_Rate           EMI          Var1      Approved  \n",
       "count  42004.000000   22276.000000  22276.000000  69713.000000  69713.000000  \n",
       "mean       3.890629      19.213570   1101.466242      3.948446      0.014631  \n",
       "std        1.167491       5.847136    752.661394      3.819214      0.120073  \n",
       "min        1.000000      11.990000    118.000000      0.000000      0.000000  \n",
       "25%        3.000000      15.250000    649.000000      0.000000      0.000000  \n",
       "50%        4.000000      18.000000    941.000000      2.000000      0.000000  \n",
       "75%        5.000000      20.000000   1295.000000      7.000000      0.000000  \n",
       "max        6.000000      37.000000  13556.000000     10.000000      1.000000  "
      ]
     },
     "execution_count": 245,
     "metadata": {},
     "output_type": "execute_result"
    }
   ],
   "source": [
    "mckensydata.describe()"
   ]
  },
  {
   "cell_type": "code",
   "execution_count": 246,
   "metadata": {},
   "outputs": [
    {
     "data": {
      "text/plain": [
       "EMI                                    47437\n",
       "Interest_Rate                          47437\n",
       "Loan_Period                            27709\n",
       "Loan_Amount                            27709\n",
       "Customer_Existing_Primary_Bank_Code     9391\n",
       "Primary_Bank_Type                       9391\n",
       "Employer_Category2                      4298\n",
       "Employer_Code                           4018\n",
       "Employer_Category1                      4018\n",
       "City_Code                                814\n",
       "City_Category                            814\n",
       "Existing_EMI                              51\n",
       "DOB                                       15\n",
       "Gender                                     0\n",
       "Lead_Creation_Date                         0\n",
       "Approved                                   0\n",
       "Monthly_Income                             0\n",
       "Var1                                       0\n",
       "Contacted                                  0\n",
       "Source                                     0\n",
       "Source_Category                            0\n",
       "ID                                         0\n",
       "dtype: int64"
      ]
     },
     "execution_count": 246,
     "metadata": {},
     "output_type": "execute_result"
    }
   ],
   "source": [
    "(mckensydata.isnull().sum()).sort_values(ascending=False)  ## to find out number of missing values(NA) columns"
   ]
  },
  {
   "cell_type": "code",
   "execution_count": 247,
   "metadata": {
    "collapsed": true
   },
   "outputs": [],
   "source": [
    "mckensydata_num=mckensydata.select_dtypes(include=[np.number]) # strategy 1 split the data frame into numeric and character data frame and values\n",
    "mckensydata_cat=mckensydata.select_dtypes(include=[object]) # numeric variable colulmns"
   ]
  },
  {
   "cell_type": "code",
   "execution_count": 248,
   "metadata": {},
   "outputs": [
    {
     "data": {
      "text/plain": [
       "(69713, 9)"
      ]
     },
     "execution_count": 248,
     "metadata": {},
     "output_type": "execute_result"
    }
   ],
   "source": [
    "mckensydata_num.shape  # numeric variable colulmns"
   ]
  },
  {
   "cell_type": "code",
   "execution_count": 249,
   "metadata": {},
   "outputs": [
    {
     "data": {
      "text/plain": [
       "(69713, 13)"
      ]
     },
     "execution_count": 249,
     "metadata": {},
     "output_type": "execute_result"
    }
   ],
   "source": [
    "mckensydata_cat.shape  # cat variable colulmns"
   ]
  },
  {
   "cell_type": "code",
   "execution_count": 250,
   "metadata": {},
   "outputs": [
    {
     "data": {
      "text/html": [
       "<div>\n",
       "<style>\n",
       "    .dataframe thead tr:only-child th {\n",
       "        text-align: right;\n",
       "    }\n",
       "\n",
       "    .dataframe thead th {\n",
       "        text-align: left;\n",
       "    }\n",
       "\n",
       "    .dataframe tbody tr th {\n",
       "        vertical-align: top;\n",
       "    }\n",
       "</style>\n",
       "<table border=\"1\" class=\"dataframe\">\n",
       "  <thead>\n",
       "    <tr style=\"text-align: right;\">\n",
       "      <th></th>\n",
       "      <th>Employer_Category2</th>\n",
       "      <th>Monthly_Income</th>\n",
       "      <th>Existing_EMI</th>\n",
       "      <th>Loan_Amount</th>\n",
       "      <th>Loan_Period</th>\n",
       "      <th>Interest_Rate</th>\n",
       "      <th>EMI</th>\n",
       "      <th>Var1</th>\n",
       "      <th>Approved</th>\n",
       "    </tr>\n",
       "  </thead>\n",
       "  <tbody>\n",
       "    <tr>\n",
       "      <th>0</th>\n",
       "      <td>4.0</td>\n",
       "      <td>2000.0</td>\n",
       "      <td>0.0</td>\n",
       "      <td>NaN</td>\n",
       "      <td>NaN</td>\n",
       "      <td>NaN</td>\n",
       "      <td>NaN</td>\n",
       "      <td>0</td>\n",
       "      <td>0</td>\n",
       "    </tr>\n",
       "    <tr>\n",
       "      <th>1</th>\n",
       "      <td>1.0</td>\n",
       "      <td>3500.0</td>\n",
       "      <td>0.0</td>\n",
       "      <td>20000.0</td>\n",
       "      <td>2.0</td>\n",
       "      <td>13.25</td>\n",
       "      <td>953.0</td>\n",
       "      <td>10</td>\n",
       "      <td>0</td>\n",
       "    </tr>\n",
       "    <tr>\n",
       "      <th>2</th>\n",
       "      <td>4.0</td>\n",
       "      <td>2250.0</td>\n",
       "      <td>0.0</td>\n",
       "      <td>45000.0</td>\n",
       "      <td>4.0</td>\n",
       "      <td>NaN</td>\n",
       "      <td>NaN</td>\n",
       "      <td>0</td>\n",
       "      <td>0</td>\n",
       "    </tr>\n",
       "    <tr>\n",
       "      <th>3</th>\n",
       "      <td>4.0</td>\n",
       "      <td>3500.0</td>\n",
       "      <td>0.0</td>\n",
       "      <td>92000.0</td>\n",
       "      <td>5.0</td>\n",
       "      <td>NaN</td>\n",
       "      <td>NaN</td>\n",
       "      <td>7</td>\n",
       "      <td>0</td>\n",
       "    </tr>\n",
       "    <tr>\n",
       "      <th>4</th>\n",
       "      <td>4.0</td>\n",
       "      <td>10000.0</td>\n",
       "      <td>2500.0</td>\n",
       "      <td>50000.0</td>\n",
       "      <td>2.0</td>\n",
       "      <td>NaN</td>\n",
       "      <td>NaN</td>\n",
       "      <td>10</td>\n",
       "      <td>0</td>\n",
       "    </tr>\n",
       "  </tbody>\n",
       "</table>\n",
       "</div>"
      ],
      "text/plain": [
       "   Employer_Category2  Monthly_Income  Existing_EMI  Loan_Amount  Loan_Period  \\\n",
       "0                 4.0          2000.0           0.0          NaN          NaN   \n",
       "1                 1.0          3500.0           0.0      20000.0          2.0   \n",
       "2                 4.0          2250.0           0.0      45000.0          4.0   \n",
       "3                 4.0          3500.0           0.0      92000.0          5.0   \n",
       "4                 4.0         10000.0        2500.0      50000.0          2.0   \n",
       "\n",
       "   Interest_Rate    EMI  Var1  Approved  \n",
       "0            NaN    NaN     0         0  \n",
       "1          13.25  953.0    10         0  \n",
       "2            NaN    NaN     0         0  \n",
       "3            NaN    NaN     7         0  \n",
       "4            NaN    NaN    10         0  "
      ]
     },
     "execution_count": 250,
     "metadata": {},
     "output_type": "execute_result"
    }
   ],
   "source": [
    "mckensydata_num.head()"
   ]
  },
  {
   "cell_type": "code",
   "execution_count": 251,
   "metadata": {
    "collapsed": true
   },
   "outputs": [],
   "source": [
    "mckensydatavalues=mckensydata_num[[\"Approved\"]]"
   ]
  },
  {
   "cell_type": "code",
   "execution_count": 252,
   "metadata": {},
   "outputs": [
    {
     "data": {
      "text/html": [
       "<div>\n",
       "<style>\n",
       "    .dataframe thead tr:only-child th {\n",
       "        text-align: right;\n",
       "    }\n",
       "\n",
       "    .dataframe thead th {\n",
       "        text-align: left;\n",
       "    }\n",
       "\n",
       "    .dataframe tbody tr th {\n",
       "        vertical-align: top;\n",
       "    }\n",
       "</style>\n",
       "<table border=\"1\" class=\"dataframe\">\n",
       "  <thead>\n",
       "    <tr style=\"text-align: right;\">\n",
       "      <th></th>\n",
       "      <th>Approved</th>\n",
       "    </tr>\n",
       "  </thead>\n",
       "  <tbody>\n",
       "    <tr>\n",
       "      <th>69708</th>\n",
       "      <td>0</td>\n",
       "    </tr>\n",
       "    <tr>\n",
       "      <th>69709</th>\n",
       "      <td>0</td>\n",
       "    </tr>\n",
       "    <tr>\n",
       "      <th>69710</th>\n",
       "      <td>0</td>\n",
       "    </tr>\n",
       "    <tr>\n",
       "      <th>69711</th>\n",
       "      <td>0</td>\n",
       "    </tr>\n",
       "    <tr>\n",
       "      <th>69712</th>\n",
       "      <td>0</td>\n",
       "    </tr>\n",
       "  </tbody>\n",
       "</table>\n",
       "</div>"
      ],
      "text/plain": [
       "       Approved\n",
       "69708         0\n",
       "69709         0\n",
       "69710         0\n",
       "69711         0\n",
       "69712         0"
      ]
     },
     "execution_count": 252,
     "metadata": {},
     "output_type": "execute_result"
    }
   ],
   "source": [
    "mckensydatavalues.tail()"
   ]
  },
  {
   "cell_type": "code",
   "execution_count": 253,
   "metadata": {},
   "outputs": [
    {
     "data": {
      "text/plain": [
       "0    68693\n",
       "1     1020\n",
       "Name: Approved, dtype: int64"
      ]
     },
     "execution_count": 253,
     "metadata": {},
     "output_type": "execute_result"
    }
   ],
   "source": [
    "pd.value_counts(mckensydatavalues.Approved)"
   ]
  },
  {
   "cell_type": "code",
   "execution_count": 254,
   "metadata": {
    "collapsed": true
   },
   "outputs": [],
   "source": [
    "mckensydata_num=mckensydata_num.drop([\"Approved\"],axis=1)"
   ]
  },
  {
   "cell_type": "code",
   "execution_count": 255,
   "metadata": {},
   "outputs": [
    {
     "data": {
      "text/plain": [
       "EMI                   47437\n",
       "Interest_Rate         47437\n",
       "Loan_Period           27709\n",
       "Loan_Amount           27709\n",
       "Employer_Category2     4298\n",
       "Existing_EMI             51\n",
       "Var1                      0\n",
       "Monthly_Income            0\n",
       "dtype: int64"
      ]
     },
     "execution_count": 255,
     "metadata": {},
     "output_type": "execute_result"
    }
   ],
   "source": [
    "(mckensydata_num.isnull().sum()).sort_values(ascending=False)  ## to find out number of missing values(NA) columns"
   ]
  },
  {
   "cell_type": "code",
   "execution_count": 256,
   "metadata": {
    "collapsed": true
   },
   "outputs": [],
   "source": [
    "mckensydata_num1=mckensydata_num.apply(lambda  mckensydata_num:  mckensydata_num.fillna( mckensydata_num.mean()),axis=0)"
   ]
  },
  {
   "cell_type": "code",
   "execution_count": 257,
   "metadata": {},
   "outputs": [
    {
     "data": {
      "text/plain": [
       "Var1                  0\n",
       "EMI                   0\n",
       "Interest_Rate         0\n",
       "Loan_Period           0\n",
       "Loan_Amount           0\n",
       "Existing_EMI          0\n",
       "Monthly_Income        0\n",
       "Employer_Category2    0\n",
       "dtype: int64"
      ]
     },
     "execution_count": 257,
     "metadata": {},
     "output_type": "execute_result"
    }
   ],
   "source": [
    "(mckensydata_num1.isnull().sum()).sort_values(ascending=False)  ## to find out number of missing values(NA) columns"
   ]
  },
  {
   "cell_type": "code",
   "execution_count": 258,
   "metadata": {},
   "outputs": [
    {
     "data": {
      "text/html": [
       "<div>\n",
       "<style>\n",
       "    .dataframe thead tr:only-child th {\n",
       "        text-align: right;\n",
       "    }\n",
       "\n",
       "    .dataframe thead th {\n",
       "        text-align: left;\n",
       "    }\n",
       "\n",
       "    .dataframe tbody tr th {\n",
       "        vertical-align: top;\n",
       "    }\n",
       "</style>\n",
       "<table border=\"1\" class=\"dataframe\">\n",
       "  <thead>\n",
       "    <tr style=\"text-align: right;\">\n",
       "      <th></th>\n",
       "      <th>Employer_Category2</th>\n",
       "      <th>Monthly_Income</th>\n",
       "      <th>Existing_EMI</th>\n",
       "      <th>Loan_Amount</th>\n",
       "      <th>Loan_Period</th>\n",
       "      <th>Interest_Rate</th>\n",
       "      <th>EMI</th>\n",
       "      <th>Var1</th>\n",
       "    </tr>\n",
       "  </thead>\n",
       "  <tbody>\n",
       "    <tr>\n",
       "      <th>0</th>\n",
       "      <td>4.0</td>\n",
       "      <td>2000.0</td>\n",
       "      <td>0.0</td>\n",
       "      <td>39429.982859</td>\n",
       "      <td>3.890629</td>\n",
       "      <td>19.21357</td>\n",
       "      <td>1101.466242</td>\n",
       "      <td>0</td>\n",
       "    </tr>\n",
       "    <tr>\n",
       "      <th>1</th>\n",
       "      <td>1.0</td>\n",
       "      <td>3500.0</td>\n",
       "      <td>0.0</td>\n",
       "      <td>20000.000000</td>\n",
       "      <td>2.000000</td>\n",
       "      <td>13.25000</td>\n",
       "      <td>953.000000</td>\n",
       "      <td>10</td>\n",
       "    </tr>\n",
       "    <tr>\n",
       "      <th>2</th>\n",
       "      <td>4.0</td>\n",
       "      <td>2250.0</td>\n",
       "      <td>0.0</td>\n",
       "      <td>45000.000000</td>\n",
       "      <td>4.000000</td>\n",
       "      <td>19.21357</td>\n",
       "      <td>1101.466242</td>\n",
       "      <td>0</td>\n",
       "    </tr>\n",
       "    <tr>\n",
       "      <th>3</th>\n",
       "      <td>4.0</td>\n",
       "      <td>3500.0</td>\n",
       "      <td>0.0</td>\n",
       "      <td>92000.000000</td>\n",
       "      <td>5.000000</td>\n",
       "      <td>19.21357</td>\n",
       "      <td>1101.466242</td>\n",
       "      <td>7</td>\n",
       "    </tr>\n",
       "    <tr>\n",
       "      <th>4</th>\n",
       "      <td>4.0</td>\n",
       "      <td>10000.0</td>\n",
       "      <td>2500.0</td>\n",
       "      <td>50000.000000</td>\n",
       "      <td>2.000000</td>\n",
       "      <td>19.21357</td>\n",
       "      <td>1101.466242</td>\n",
       "      <td>10</td>\n",
       "    </tr>\n",
       "  </tbody>\n",
       "</table>\n",
       "</div>"
      ],
      "text/plain": [
       "   Employer_Category2  Monthly_Income  Existing_EMI   Loan_Amount  \\\n",
       "0                 4.0          2000.0           0.0  39429.982859   \n",
       "1                 1.0          3500.0           0.0  20000.000000   \n",
       "2                 4.0          2250.0           0.0  45000.000000   \n",
       "3                 4.0          3500.0           0.0  92000.000000   \n",
       "4                 4.0         10000.0        2500.0  50000.000000   \n",
       "\n",
       "   Loan_Period  Interest_Rate          EMI  Var1  \n",
       "0     3.890629       19.21357  1101.466242     0  \n",
       "1     2.000000       13.25000   953.000000    10  \n",
       "2     4.000000       19.21357  1101.466242     0  \n",
       "3     5.000000       19.21357  1101.466242     7  \n",
       "4     2.000000       19.21357  1101.466242    10  "
      ]
     },
     "execution_count": 258,
     "metadata": {},
     "output_type": "execute_result"
    }
   ],
   "source": [
    "mckensydata_num1.head()"
   ]
  },
  {
   "cell_type": "code",
   "execution_count": 259,
   "metadata": {},
   "outputs": [
    {
     "data": {
      "text/html": [
       "<div>\n",
       "<style>\n",
       "    .dataframe thead tr:only-child th {\n",
       "        text-align: right;\n",
       "    }\n",
       "\n",
       "    .dataframe thead th {\n",
       "        text-align: left;\n",
       "    }\n",
       "\n",
       "    .dataframe tbody tr th {\n",
       "        vertical-align: top;\n",
       "    }\n",
       "</style>\n",
       "<table border=\"1\" class=\"dataframe\">\n",
       "  <thead>\n",
       "    <tr style=\"text-align: right;\">\n",
       "      <th></th>\n",
       "      <th>ID</th>\n",
       "      <th>Gender</th>\n",
       "      <th>DOB</th>\n",
       "      <th>Lead_Creation_Date</th>\n",
       "      <th>City_Code</th>\n",
       "      <th>City_Category</th>\n",
       "      <th>Employer_Code</th>\n",
       "      <th>Employer_Category1</th>\n",
       "      <th>Customer_Existing_Primary_Bank_Code</th>\n",
       "      <th>Primary_Bank_Type</th>\n",
       "      <th>Contacted</th>\n",
       "      <th>Source</th>\n",
       "      <th>Source_Category</th>\n",
       "    </tr>\n",
       "  </thead>\n",
       "  <tbody>\n",
       "    <tr>\n",
       "      <th>0</th>\n",
       "      <td>APPC90493171225</td>\n",
       "      <td>Female</td>\n",
       "      <td>23/07/79</td>\n",
       "      <td>15/07/16</td>\n",
       "      <td>C10001</td>\n",
       "      <td>A</td>\n",
       "      <td>COM0044082</td>\n",
       "      <td>A</td>\n",
       "      <td>B001</td>\n",
       "      <td>P</td>\n",
       "      <td>N</td>\n",
       "      <td>S122</td>\n",
       "      <td>G</td>\n",
       "    </tr>\n",
       "    <tr>\n",
       "      <th>1</th>\n",
       "      <td>APPD40611263344</td>\n",
       "      <td>Male</td>\n",
       "      <td>07/12/86</td>\n",
       "      <td>04/07/16</td>\n",
       "      <td>C10003</td>\n",
       "      <td>A</td>\n",
       "      <td>COM0000002</td>\n",
       "      <td>C</td>\n",
       "      <td>B002</td>\n",
       "      <td>P</td>\n",
       "      <td>Y</td>\n",
       "      <td>S122</td>\n",
       "      <td>G</td>\n",
       "    </tr>\n",
       "    <tr>\n",
       "      <th>2</th>\n",
       "      <td>APPE70289249423</td>\n",
       "      <td>Male</td>\n",
       "      <td>10/12/82</td>\n",
       "      <td>19/07/16</td>\n",
       "      <td>C10125</td>\n",
       "      <td>C</td>\n",
       "      <td>COM0005267</td>\n",
       "      <td>C</td>\n",
       "      <td>B003</td>\n",
       "      <td>G</td>\n",
       "      <td>Y</td>\n",
       "      <td>S143</td>\n",
       "      <td>B</td>\n",
       "    </tr>\n",
       "    <tr>\n",
       "      <th>3</th>\n",
       "      <td>APPF80273865537</td>\n",
       "      <td>Male</td>\n",
       "      <td>30/01/89</td>\n",
       "      <td>09/07/16</td>\n",
       "      <td>C10477</td>\n",
       "      <td>C</td>\n",
       "      <td>COM0004143</td>\n",
       "      <td>A</td>\n",
       "      <td>B003</td>\n",
       "      <td>G</td>\n",
       "      <td>Y</td>\n",
       "      <td>S143</td>\n",
       "      <td>B</td>\n",
       "    </tr>\n",
       "    <tr>\n",
       "      <th>4</th>\n",
       "      <td>APPG60994436641</td>\n",
       "      <td>Male</td>\n",
       "      <td>19/04/85</td>\n",
       "      <td>20/07/16</td>\n",
       "      <td>C10002</td>\n",
       "      <td>A</td>\n",
       "      <td>COM0001781</td>\n",
       "      <td>A</td>\n",
       "      <td>B001</td>\n",
       "      <td>P</td>\n",
       "      <td>Y</td>\n",
       "      <td>S134</td>\n",
       "      <td>B</td>\n",
       "    </tr>\n",
       "  </tbody>\n",
       "</table>\n",
       "</div>"
      ],
      "text/plain": [
       "                ID  Gender       DOB Lead_Creation_Date City_Code  \\\n",
       "0  APPC90493171225  Female  23/07/79           15/07/16    C10001   \n",
       "1  APPD40611263344    Male  07/12/86           04/07/16    C10003   \n",
       "2  APPE70289249423    Male  10/12/82           19/07/16    C10125   \n",
       "3  APPF80273865537    Male  30/01/89           09/07/16    C10477   \n",
       "4  APPG60994436641    Male  19/04/85           20/07/16    C10002   \n",
       "\n",
       "  City_Category Employer_Code Employer_Category1  \\\n",
       "0             A    COM0044082                  A   \n",
       "1             A    COM0000002                  C   \n",
       "2             C    COM0005267                  C   \n",
       "3             C    COM0004143                  A   \n",
       "4             A    COM0001781                  A   \n",
       "\n",
       "  Customer_Existing_Primary_Bank_Code Primary_Bank_Type Contacted Source  \\\n",
       "0                                B001                 P         N   S122   \n",
       "1                                B002                 P         Y   S122   \n",
       "2                                B003                 G         Y   S143   \n",
       "3                                B003                 G         Y   S143   \n",
       "4                                B001                 P         Y   S134   \n",
       "\n",
       "  Source_Category  \n",
       "0               G  \n",
       "1               G  \n",
       "2               B  \n",
       "3               B  \n",
       "4               B  "
      ]
     },
     "execution_count": 259,
     "metadata": {},
     "output_type": "execute_result"
    }
   ],
   "source": [
    "mckensydata_cat.head()"
   ]
  },
  {
   "cell_type": "code",
   "execution_count": 260,
   "metadata": {
    "collapsed": true
   },
   "outputs": [],
   "source": [
    "mckensydatavalues1=mckensydata_cat[[\"ID\"]]"
   ]
  },
  {
   "cell_type": "code",
   "execution_count": 261,
   "metadata": {},
   "outputs": [
    {
     "data": {
      "text/html": [
       "<div>\n",
       "<style>\n",
       "    .dataframe thead tr:only-child th {\n",
       "        text-align: right;\n",
       "    }\n",
       "\n",
       "    .dataframe thead th {\n",
       "        text-align: left;\n",
       "    }\n",
       "\n",
       "    .dataframe tbody tr th {\n",
       "        vertical-align: top;\n",
       "    }\n",
       "</style>\n",
       "<table border=\"1\" class=\"dataframe\">\n",
       "  <thead>\n",
       "    <tr style=\"text-align: right;\">\n",
       "      <th></th>\n",
       "      <th>ID</th>\n",
       "    </tr>\n",
       "  </thead>\n",
       "  <tbody>\n",
       "    <tr>\n",
       "      <th>0</th>\n",
       "      <td>APPC90493171225</td>\n",
       "    </tr>\n",
       "    <tr>\n",
       "      <th>1</th>\n",
       "      <td>APPD40611263344</td>\n",
       "    </tr>\n",
       "    <tr>\n",
       "      <th>2</th>\n",
       "      <td>APPE70289249423</td>\n",
       "    </tr>\n",
       "    <tr>\n",
       "      <th>3</th>\n",
       "      <td>APPF80273865537</td>\n",
       "    </tr>\n",
       "    <tr>\n",
       "      <th>4</th>\n",
       "      <td>APPG60994436641</td>\n",
       "    </tr>\n",
       "  </tbody>\n",
       "</table>\n",
       "</div>"
      ],
      "text/plain": [
       "                ID\n",
       "0  APPC90493171225\n",
       "1  APPD40611263344\n",
       "2  APPE70289249423\n",
       "3  APPF80273865537\n",
       "4  APPG60994436641"
      ]
     },
     "execution_count": 261,
     "metadata": {},
     "output_type": "execute_result"
    }
   ],
   "source": [
    "mckensydatavalues1.head()"
   ]
  },
  {
   "cell_type": "code",
   "execution_count": 262,
   "metadata": {
    "collapsed": true
   },
   "outputs": [],
   "source": [
    "mckensydata_cat=mckensydata_cat.drop([\"ID\"],axis=1)"
   ]
  },
  {
   "cell_type": "code",
   "execution_count": 263,
   "metadata": {},
   "outputs": [
    {
     "data": {
      "text/html": [
       "<div>\n",
       "<style>\n",
       "    .dataframe thead tr:only-child th {\n",
       "        text-align: right;\n",
       "    }\n",
       "\n",
       "    .dataframe thead th {\n",
       "        text-align: left;\n",
       "    }\n",
       "\n",
       "    .dataframe tbody tr th {\n",
       "        vertical-align: top;\n",
       "    }\n",
       "</style>\n",
       "<table border=\"1\" class=\"dataframe\">\n",
       "  <thead>\n",
       "    <tr style=\"text-align: right;\">\n",
       "      <th></th>\n",
       "      <th>Gender</th>\n",
       "      <th>DOB</th>\n",
       "      <th>Lead_Creation_Date</th>\n",
       "      <th>City_Code</th>\n",
       "      <th>City_Category</th>\n",
       "      <th>Employer_Code</th>\n",
       "      <th>Employer_Category1</th>\n",
       "      <th>Customer_Existing_Primary_Bank_Code</th>\n",
       "      <th>Primary_Bank_Type</th>\n",
       "      <th>Contacted</th>\n",
       "      <th>Source</th>\n",
       "      <th>Source_Category</th>\n",
       "    </tr>\n",
       "  </thead>\n",
       "  <tbody>\n",
       "    <tr>\n",
       "      <th>0</th>\n",
       "      <td>Female</td>\n",
       "      <td>23/07/79</td>\n",
       "      <td>15/07/16</td>\n",
       "      <td>C10001</td>\n",
       "      <td>A</td>\n",
       "      <td>COM0044082</td>\n",
       "      <td>A</td>\n",
       "      <td>B001</td>\n",
       "      <td>P</td>\n",
       "      <td>N</td>\n",
       "      <td>S122</td>\n",
       "      <td>G</td>\n",
       "    </tr>\n",
       "    <tr>\n",
       "      <th>1</th>\n",
       "      <td>Male</td>\n",
       "      <td>07/12/86</td>\n",
       "      <td>04/07/16</td>\n",
       "      <td>C10003</td>\n",
       "      <td>A</td>\n",
       "      <td>COM0000002</td>\n",
       "      <td>C</td>\n",
       "      <td>B002</td>\n",
       "      <td>P</td>\n",
       "      <td>Y</td>\n",
       "      <td>S122</td>\n",
       "      <td>G</td>\n",
       "    </tr>\n",
       "    <tr>\n",
       "      <th>2</th>\n",
       "      <td>Male</td>\n",
       "      <td>10/12/82</td>\n",
       "      <td>19/07/16</td>\n",
       "      <td>C10125</td>\n",
       "      <td>C</td>\n",
       "      <td>COM0005267</td>\n",
       "      <td>C</td>\n",
       "      <td>B003</td>\n",
       "      <td>G</td>\n",
       "      <td>Y</td>\n",
       "      <td>S143</td>\n",
       "      <td>B</td>\n",
       "    </tr>\n",
       "    <tr>\n",
       "      <th>3</th>\n",
       "      <td>Male</td>\n",
       "      <td>30/01/89</td>\n",
       "      <td>09/07/16</td>\n",
       "      <td>C10477</td>\n",
       "      <td>C</td>\n",
       "      <td>COM0004143</td>\n",
       "      <td>A</td>\n",
       "      <td>B003</td>\n",
       "      <td>G</td>\n",
       "      <td>Y</td>\n",
       "      <td>S143</td>\n",
       "      <td>B</td>\n",
       "    </tr>\n",
       "    <tr>\n",
       "      <th>4</th>\n",
       "      <td>Male</td>\n",
       "      <td>19/04/85</td>\n",
       "      <td>20/07/16</td>\n",
       "      <td>C10002</td>\n",
       "      <td>A</td>\n",
       "      <td>COM0001781</td>\n",
       "      <td>A</td>\n",
       "      <td>B001</td>\n",
       "      <td>P</td>\n",
       "      <td>Y</td>\n",
       "      <td>S134</td>\n",
       "      <td>B</td>\n",
       "    </tr>\n",
       "    <tr>\n",
       "      <th>5</th>\n",
       "      <td>Female</td>\n",
       "      <td>23/12/88</td>\n",
       "      <td>01/07/16</td>\n",
       "      <td>C10402</td>\n",
       "      <td>C</td>\n",
       "      <td>COM0007740</td>\n",
       "      <td>A</td>\n",
       "      <td>B014</td>\n",
       "      <td>P</td>\n",
       "      <td>N</td>\n",
       "      <td>S133</td>\n",
       "      <td>B</td>\n",
       "    </tr>\n",
       "    <tr>\n",
       "      <th>6</th>\n",
       "      <td>Male</td>\n",
       "      <td>28/03/73</td>\n",
       "      <td>02/07/16</td>\n",
       "      <td>C10022</td>\n",
       "      <td>B</td>\n",
       "      <td>COM0030526</td>\n",
       "      <td>B</td>\n",
       "      <td>B003</td>\n",
       "      <td>G</td>\n",
       "      <td>Y</td>\n",
       "      <td>S122</td>\n",
       "      <td>C</td>\n",
       "    </tr>\n",
       "    <tr>\n",
       "      <th>7</th>\n",
       "      <td>Female</td>\n",
       "      <td>12/11/90</td>\n",
       "      <td>03/07/16</td>\n",
       "      <td>C10003</td>\n",
       "      <td>A</td>\n",
       "      <td>COM0016738</td>\n",
       "      <td>A</td>\n",
       "      <td>B006</td>\n",
       "      <td>P</td>\n",
       "      <td>Y</td>\n",
       "      <td>S133</td>\n",
       "      <td>B</td>\n",
       "    </tr>\n",
       "    <tr>\n",
       "      <th>8</th>\n",
       "      <td>Male</td>\n",
       "      <td>03/03/77</td>\n",
       "      <td>02/07/16</td>\n",
       "      <td>C10003</td>\n",
       "      <td>A</td>\n",
       "      <td>COM0010626</td>\n",
       "      <td>A</td>\n",
       "      <td>B017</td>\n",
       "      <td>G</td>\n",
       "      <td>Y</td>\n",
       "      <td>S133</td>\n",
       "      <td>B</td>\n",
       "    </tr>\n",
       "    <tr>\n",
       "      <th>9</th>\n",
       "      <td>Female</td>\n",
       "      <td>13/12/90</td>\n",
       "      <td>02/07/16</td>\n",
       "      <td>C10014</td>\n",
       "      <td>B</td>\n",
       "      <td>COM0042212</td>\n",
       "      <td>A</td>\n",
       "      <td>NaN</td>\n",
       "      <td>NaN</td>\n",
       "      <td>N</td>\n",
       "      <td>S122</td>\n",
       "      <td>B</td>\n",
       "    </tr>\n",
       "  </tbody>\n",
       "</table>\n",
       "</div>"
      ],
      "text/plain": [
       "   Gender       DOB Lead_Creation_Date City_Code City_Category Employer_Code  \\\n",
       "0  Female  23/07/79           15/07/16    C10001             A    COM0044082   \n",
       "1    Male  07/12/86           04/07/16    C10003             A    COM0000002   \n",
       "2    Male  10/12/82           19/07/16    C10125             C    COM0005267   \n",
       "3    Male  30/01/89           09/07/16    C10477             C    COM0004143   \n",
       "4    Male  19/04/85           20/07/16    C10002             A    COM0001781   \n",
       "5  Female  23/12/88           01/07/16    C10402             C    COM0007740   \n",
       "6    Male  28/03/73           02/07/16    C10022             B    COM0030526   \n",
       "7  Female  12/11/90           03/07/16    C10003             A    COM0016738   \n",
       "8    Male  03/03/77           02/07/16    C10003             A    COM0010626   \n",
       "9  Female  13/12/90           02/07/16    C10014             B    COM0042212   \n",
       "\n",
       "  Employer_Category1 Customer_Existing_Primary_Bank_Code Primary_Bank_Type  \\\n",
       "0                  A                                B001                 P   \n",
       "1                  C                                B002                 P   \n",
       "2                  C                                B003                 G   \n",
       "3                  A                                B003                 G   \n",
       "4                  A                                B001                 P   \n",
       "5                  A                                B014                 P   \n",
       "6                  B                                B003                 G   \n",
       "7                  A                                B006                 P   \n",
       "8                  A                                B017                 G   \n",
       "9                  A                                 NaN               NaN   \n",
       "\n",
       "  Contacted Source Source_Category  \n",
       "0         N   S122               G  \n",
       "1         Y   S122               G  \n",
       "2         Y   S143               B  \n",
       "3         Y   S143               B  \n",
       "4         Y   S134               B  \n",
       "5         N   S133               B  \n",
       "6         Y   S122               C  \n",
       "7         Y   S133               B  \n",
       "8         Y   S133               B  \n",
       "9         N   S122               B  "
      ]
     },
     "execution_count": 263,
     "metadata": {},
     "output_type": "execute_result"
    }
   ],
   "source": [
    "mckensydata_cat.head(10)"
   ]
  },
  {
   "cell_type": "code",
   "execution_count": 264,
   "metadata": {},
   "outputs": [
    {
     "data": {
      "text/plain": [
       "Primary_Bank_Type                      9391\n",
       "Customer_Existing_Primary_Bank_Code    9391\n",
       "Employer_Category1                     4018\n",
       "Employer_Code                          4018\n",
       "City_Category                           814\n",
       "City_Code                               814\n",
       "DOB                                      15\n",
       "Source_Category                           0\n",
       "Source                                    0\n",
       "Contacted                                 0\n",
       "Lead_Creation_Date                        0\n",
       "Gender                                    0\n",
       "dtype: int64"
      ]
     },
     "execution_count": 264,
     "metadata": {},
     "output_type": "execute_result"
    }
   ],
   "source": [
    "(mckensydata_cat.isnull().sum()).sort_values(ascending=False)  ## to find out number of missing values(NA) columns"
   ]
  },
  {
   "cell_type": "code",
   "execution_count": 265,
   "metadata": {
    "collapsed": true
   },
   "outputs": [],
   "source": [
    "mckensydata_cat1=mckensydata_cat.apply(lambda  mckensydata_cat:  mckensydata_cat.fillna( mckensydata_cat.value_counts().index[0]),axis=0)"
   ]
  },
  {
   "cell_type": "code",
   "execution_count": 266,
   "metadata": {},
   "outputs": [
    {
     "data": {
      "text/plain": [
       "Source_Category                        0\n",
       "Source                                 0\n",
       "Contacted                              0\n",
       "Primary_Bank_Type                      0\n",
       "Customer_Existing_Primary_Bank_Code    0\n",
       "Employer_Category1                     0\n",
       "Employer_Code                          0\n",
       "City_Category                          0\n",
       "City_Code                              0\n",
       "Lead_Creation_Date                     0\n",
       "DOB                                    0\n",
       "Gender                                 0\n",
       "dtype: int64"
      ]
     },
     "execution_count": 266,
     "metadata": {},
     "output_type": "execute_result"
    }
   ],
   "source": [
    "(mckensydata_cat1.isnull().sum()).sort_values(ascending=False)  ## to find out number of missing values(NA) columns"
   ]
  },
  {
   "cell_type": "code",
   "execution_count": 267,
   "metadata": {},
   "outputs": [
    {
     "data": {
      "text/html": [
       "<div>\n",
       "<style>\n",
       "    .dataframe thead tr:only-child th {\n",
       "        text-align: right;\n",
       "    }\n",
       "\n",
       "    .dataframe thead th {\n",
       "        text-align: left;\n",
       "    }\n",
       "\n",
       "    .dataframe tbody tr th {\n",
       "        vertical-align: top;\n",
       "    }\n",
       "</style>\n",
       "<table border=\"1\" class=\"dataframe\">\n",
       "  <thead>\n",
       "    <tr style=\"text-align: right;\">\n",
       "      <th></th>\n",
       "      <th>Gender</th>\n",
       "      <th>DOB</th>\n",
       "      <th>Lead_Creation_Date</th>\n",
       "      <th>City_Code</th>\n",
       "      <th>City_Category</th>\n",
       "      <th>Employer_Code</th>\n",
       "      <th>Employer_Category1</th>\n",
       "      <th>Customer_Existing_Primary_Bank_Code</th>\n",
       "      <th>Primary_Bank_Type</th>\n",
       "      <th>Contacted</th>\n",
       "      <th>Source</th>\n",
       "      <th>Source_Category</th>\n",
       "    </tr>\n",
       "  </thead>\n",
       "  <tbody>\n",
       "    <tr>\n",
       "      <th>0</th>\n",
       "      <td>Female</td>\n",
       "      <td>23/07/79</td>\n",
       "      <td>15/07/16</td>\n",
       "      <td>C10001</td>\n",
       "      <td>A</td>\n",
       "      <td>COM0044082</td>\n",
       "      <td>A</td>\n",
       "      <td>B001</td>\n",
       "      <td>P</td>\n",
       "      <td>N</td>\n",
       "      <td>S122</td>\n",
       "      <td>G</td>\n",
       "    </tr>\n",
       "    <tr>\n",
       "      <th>1</th>\n",
       "      <td>Male</td>\n",
       "      <td>07/12/86</td>\n",
       "      <td>04/07/16</td>\n",
       "      <td>C10003</td>\n",
       "      <td>A</td>\n",
       "      <td>COM0000002</td>\n",
       "      <td>C</td>\n",
       "      <td>B002</td>\n",
       "      <td>P</td>\n",
       "      <td>Y</td>\n",
       "      <td>S122</td>\n",
       "      <td>G</td>\n",
       "    </tr>\n",
       "    <tr>\n",
       "      <th>2</th>\n",
       "      <td>Male</td>\n",
       "      <td>10/12/82</td>\n",
       "      <td>19/07/16</td>\n",
       "      <td>C10125</td>\n",
       "      <td>C</td>\n",
       "      <td>COM0005267</td>\n",
       "      <td>C</td>\n",
       "      <td>B003</td>\n",
       "      <td>G</td>\n",
       "      <td>Y</td>\n",
       "      <td>S143</td>\n",
       "      <td>B</td>\n",
       "    </tr>\n",
       "    <tr>\n",
       "      <th>3</th>\n",
       "      <td>Male</td>\n",
       "      <td>30/01/89</td>\n",
       "      <td>09/07/16</td>\n",
       "      <td>C10477</td>\n",
       "      <td>C</td>\n",
       "      <td>COM0004143</td>\n",
       "      <td>A</td>\n",
       "      <td>B003</td>\n",
       "      <td>G</td>\n",
       "      <td>Y</td>\n",
       "      <td>S143</td>\n",
       "      <td>B</td>\n",
       "    </tr>\n",
       "    <tr>\n",
       "      <th>4</th>\n",
       "      <td>Male</td>\n",
       "      <td>19/04/85</td>\n",
       "      <td>20/07/16</td>\n",
       "      <td>C10002</td>\n",
       "      <td>A</td>\n",
       "      <td>COM0001781</td>\n",
       "      <td>A</td>\n",
       "      <td>B001</td>\n",
       "      <td>P</td>\n",
       "      <td>Y</td>\n",
       "      <td>S134</td>\n",
       "      <td>B</td>\n",
       "    </tr>\n",
       "    <tr>\n",
       "      <th>5</th>\n",
       "      <td>Female</td>\n",
       "      <td>23/12/88</td>\n",
       "      <td>01/07/16</td>\n",
       "      <td>C10402</td>\n",
       "      <td>C</td>\n",
       "      <td>COM0007740</td>\n",
       "      <td>A</td>\n",
       "      <td>B014</td>\n",
       "      <td>P</td>\n",
       "      <td>N</td>\n",
       "      <td>S133</td>\n",
       "      <td>B</td>\n",
       "    </tr>\n",
       "    <tr>\n",
       "      <th>6</th>\n",
       "      <td>Male</td>\n",
       "      <td>28/03/73</td>\n",
       "      <td>02/07/16</td>\n",
       "      <td>C10022</td>\n",
       "      <td>B</td>\n",
       "      <td>COM0030526</td>\n",
       "      <td>B</td>\n",
       "      <td>B003</td>\n",
       "      <td>G</td>\n",
       "      <td>Y</td>\n",
       "      <td>S122</td>\n",
       "      <td>C</td>\n",
       "    </tr>\n",
       "    <tr>\n",
       "      <th>7</th>\n",
       "      <td>Female</td>\n",
       "      <td>12/11/90</td>\n",
       "      <td>03/07/16</td>\n",
       "      <td>C10003</td>\n",
       "      <td>A</td>\n",
       "      <td>COM0016738</td>\n",
       "      <td>A</td>\n",
       "      <td>B006</td>\n",
       "      <td>P</td>\n",
       "      <td>Y</td>\n",
       "      <td>S133</td>\n",
       "      <td>B</td>\n",
       "    </tr>\n",
       "    <tr>\n",
       "      <th>8</th>\n",
       "      <td>Male</td>\n",
       "      <td>03/03/77</td>\n",
       "      <td>02/07/16</td>\n",
       "      <td>C10003</td>\n",
       "      <td>A</td>\n",
       "      <td>COM0010626</td>\n",
       "      <td>A</td>\n",
       "      <td>B017</td>\n",
       "      <td>G</td>\n",
       "      <td>Y</td>\n",
       "      <td>S133</td>\n",
       "      <td>B</td>\n",
       "    </tr>\n",
       "    <tr>\n",
       "      <th>9</th>\n",
       "      <td>Female</td>\n",
       "      <td>13/12/90</td>\n",
       "      <td>02/07/16</td>\n",
       "      <td>C10014</td>\n",
       "      <td>B</td>\n",
       "      <td>COM0042212</td>\n",
       "      <td>A</td>\n",
       "      <td>B001</td>\n",
       "      <td>P</td>\n",
       "      <td>N</td>\n",
       "      <td>S122</td>\n",
       "      <td>B</td>\n",
       "    </tr>\n",
       "  </tbody>\n",
       "</table>\n",
       "</div>"
      ],
      "text/plain": [
       "   Gender       DOB Lead_Creation_Date City_Code City_Category Employer_Code  \\\n",
       "0  Female  23/07/79           15/07/16    C10001             A    COM0044082   \n",
       "1    Male  07/12/86           04/07/16    C10003             A    COM0000002   \n",
       "2    Male  10/12/82           19/07/16    C10125             C    COM0005267   \n",
       "3    Male  30/01/89           09/07/16    C10477             C    COM0004143   \n",
       "4    Male  19/04/85           20/07/16    C10002             A    COM0001781   \n",
       "5  Female  23/12/88           01/07/16    C10402             C    COM0007740   \n",
       "6    Male  28/03/73           02/07/16    C10022             B    COM0030526   \n",
       "7  Female  12/11/90           03/07/16    C10003             A    COM0016738   \n",
       "8    Male  03/03/77           02/07/16    C10003             A    COM0010626   \n",
       "9  Female  13/12/90           02/07/16    C10014             B    COM0042212   \n",
       "\n",
       "  Employer_Category1 Customer_Existing_Primary_Bank_Code Primary_Bank_Type  \\\n",
       "0                  A                                B001                 P   \n",
       "1                  C                                B002                 P   \n",
       "2                  C                                B003                 G   \n",
       "3                  A                                B003                 G   \n",
       "4                  A                                B001                 P   \n",
       "5                  A                                B014                 P   \n",
       "6                  B                                B003                 G   \n",
       "7                  A                                B006                 P   \n",
       "8                  A                                B017                 G   \n",
       "9                  A                                B001                 P   \n",
       "\n",
       "  Contacted Source Source_Category  \n",
       "0         N   S122               G  \n",
       "1         Y   S122               G  \n",
       "2         Y   S143               B  \n",
       "3         Y   S143               B  \n",
       "4         Y   S134               B  \n",
       "5         N   S133               B  \n",
       "6         Y   S122               C  \n",
       "7         Y   S133               B  \n",
       "8         Y   S133               B  \n",
       "9         N   S122               B  "
      ]
     },
     "execution_count": 267,
     "metadata": {},
     "output_type": "execute_result"
    }
   ],
   "source": [
    "mckensydata_cat1.head(10)"
   ]
  },
  {
   "cell_type": "code",
   "execution_count": 268,
   "metadata": {
    "collapsed": true
   },
   "outputs": [],
   "source": [
    "from sklearn.preprocessing import LabelEncoder"
   ]
  },
  {
   "cell_type": "code",
   "execution_count": 269,
   "metadata": {
    "collapsed": true
   },
   "outputs": [],
   "source": [
    "le=LabelEncoder()"
   ]
  },
  {
   "cell_type": "code",
   "execution_count": 270,
   "metadata": {
    "collapsed": true
   },
   "outputs": [],
   "source": [
    "mckensydata_cat1=mckensydata_cat1.apply(le.fit_transform)"
   ]
  },
  {
   "cell_type": "code",
   "execution_count": 271,
   "metadata": {},
   "outputs": [
    {
     "data": {
      "text/html": [
       "<div>\n",
       "<style>\n",
       "    .dataframe thead tr:only-child th {\n",
       "        text-align: right;\n",
       "    }\n",
       "\n",
       "    .dataframe thead th {\n",
       "        text-align: left;\n",
       "    }\n",
       "\n",
       "    .dataframe tbody tr th {\n",
       "        vertical-align: top;\n",
       "    }\n",
       "</style>\n",
       "<table border=\"1\" class=\"dataframe\">\n",
       "  <thead>\n",
       "    <tr style=\"text-align: right;\">\n",
       "      <th></th>\n",
       "      <th>Gender</th>\n",
       "      <th>DOB</th>\n",
       "      <th>Lead_Creation_Date</th>\n",
       "      <th>City_Code</th>\n",
       "      <th>City_Category</th>\n",
       "      <th>Employer_Code</th>\n",
       "      <th>Employer_Category1</th>\n",
       "      <th>Customer_Existing_Primary_Bank_Code</th>\n",
       "      <th>Primary_Bank_Type</th>\n",
       "      <th>Contacted</th>\n",
       "      <th>Source</th>\n",
       "      <th>Source_Category</th>\n",
       "    </tr>\n",
       "  </thead>\n",
       "  <tbody>\n",
       "    <tr>\n",
       "      <th>0</th>\n",
       "      <td>0</td>\n",
       "      <td>8112</td>\n",
       "      <td>42</td>\n",
       "      <td>0</td>\n",
       "      <td>0</td>\n",
       "      <td>29284</td>\n",
       "      <td>0</td>\n",
       "      <td>0</td>\n",
       "      <td>1</td>\n",
       "      <td>0</td>\n",
       "      <td>0</td>\n",
       "      <td>6</td>\n",
       "    </tr>\n",
       "    <tr>\n",
       "      <th>1</th>\n",
       "      <td>1</td>\n",
       "      <td>2593</td>\n",
       "      <td>9</td>\n",
       "      <td>2</td>\n",
       "      <td>0</td>\n",
       "      <td>0</td>\n",
       "      <td>2</td>\n",
       "      <td>1</td>\n",
       "      <td>1</td>\n",
       "      <td>1</td>\n",
       "      <td>0</td>\n",
       "      <td>6</td>\n",
       "    </tr>\n",
       "    <tr>\n",
       "      <th>2</th>\n",
       "      <td>1</td>\n",
       "      <td>3641</td>\n",
       "      <td>54</td>\n",
       "      <td>124</td>\n",
       "      <td>2</td>\n",
       "      <td>5126</td>\n",
       "      <td>2</td>\n",
       "      <td>2</td>\n",
       "      <td>0</td>\n",
       "      <td>1</td>\n",
       "      <td>15</td>\n",
       "      <td>1</td>\n",
       "    </tr>\n",
       "    <tr>\n",
       "      <th>3</th>\n",
       "      <td>1</td>\n",
       "      <td>10256</td>\n",
       "      <td>24</td>\n",
       "      <td>476</td>\n",
       "      <td>2</td>\n",
       "      <td>4079</td>\n",
       "      <td>0</td>\n",
       "      <td>2</td>\n",
       "      <td>0</td>\n",
       "      <td>1</td>\n",
       "      <td>15</td>\n",
       "      <td>1</td>\n",
       "    </tr>\n",
       "    <tr>\n",
       "      <th>4</th>\n",
       "      <td>1</td>\n",
       "      <td>6631</td>\n",
       "      <td>57</td>\n",
       "      <td>1</td>\n",
       "      <td>0</td>\n",
       "      <td>1775</td>\n",
       "      <td>0</td>\n",
       "      <td>0</td>\n",
       "      <td>1</td>\n",
       "      <td>1</td>\n",
       "      <td>7</td>\n",
       "      <td>1</td>\n",
       "    </tr>\n",
       "  </tbody>\n",
       "</table>\n",
       "</div>"
      ],
      "text/plain": [
       "   Gender    DOB  Lead_Creation_Date  City_Code  City_Category  Employer_Code  \\\n",
       "0       0   8112                  42          0              0          29284   \n",
       "1       1   2593                   9          2              0              0   \n",
       "2       1   3641                  54        124              2           5126   \n",
       "3       1  10256                  24        476              2           4079   \n",
       "4       1   6631                  57          1              0           1775   \n",
       "\n",
       "   Employer_Category1  Customer_Existing_Primary_Bank_Code  Primary_Bank_Type  \\\n",
       "0                   0                                    0                  1   \n",
       "1                   2                                    1                  1   \n",
       "2                   2                                    2                  0   \n",
       "3                   0                                    2                  0   \n",
       "4                   0                                    0                  1   \n",
       "\n",
       "   Contacted  Source  Source_Category  \n",
       "0          0       0                6  \n",
       "1          1       0                6  \n",
       "2          1      15                1  \n",
       "3          1      15                1  \n",
       "4          1       7                1  "
      ]
     },
     "execution_count": 271,
     "metadata": {},
     "output_type": "execute_result"
    }
   ],
   "source": [
    "mckensydata_cat1.head()"
   ]
  },
  {
   "cell_type": "code",
   "execution_count": 272,
   "metadata": {
    "collapsed": true
   },
   "outputs": [],
   "source": [
    "mckensydatadf=pd.concat([mckensydatavalues,mckensydatavalues1,mckensydata_num1,mckensydata_cat1],axis=1)"
   ]
  },
  {
   "cell_type": "code",
   "execution_count": 273,
   "metadata": {},
   "outputs": [
    {
     "data": {
      "text/html": [
       "<div>\n",
       "<style>\n",
       "    .dataframe thead tr:only-child th {\n",
       "        text-align: right;\n",
       "    }\n",
       "\n",
       "    .dataframe thead th {\n",
       "        text-align: left;\n",
       "    }\n",
       "\n",
       "    .dataframe tbody tr th {\n",
       "        vertical-align: top;\n",
       "    }\n",
       "</style>\n",
       "<table border=\"1\" class=\"dataframe\">\n",
       "  <thead>\n",
       "    <tr style=\"text-align: right;\">\n",
       "      <th></th>\n",
       "      <th>Approved</th>\n",
       "      <th>ID</th>\n",
       "      <th>Employer_Category2</th>\n",
       "      <th>Monthly_Income</th>\n",
       "      <th>Existing_EMI</th>\n",
       "      <th>Loan_Amount</th>\n",
       "      <th>Loan_Period</th>\n",
       "      <th>Interest_Rate</th>\n",
       "      <th>EMI</th>\n",
       "      <th>Var1</th>\n",
       "      <th>...</th>\n",
       "      <th>Lead_Creation_Date</th>\n",
       "      <th>City_Code</th>\n",
       "      <th>City_Category</th>\n",
       "      <th>Employer_Code</th>\n",
       "      <th>Employer_Category1</th>\n",
       "      <th>Customer_Existing_Primary_Bank_Code</th>\n",
       "      <th>Primary_Bank_Type</th>\n",
       "      <th>Contacted</th>\n",
       "      <th>Source</th>\n",
       "      <th>Source_Category</th>\n",
       "    </tr>\n",
       "  </thead>\n",
       "  <tbody>\n",
       "    <tr>\n",
       "      <th>0</th>\n",
       "      <td>0</td>\n",
       "      <td>APPC90493171225</td>\n",
       "      <td>4.0</td>\n",
       "      <td>2000.0</td>\n",
       "      <td>0.0</td>\n",
       "      <td>39429.982859</td>\n",
       "      <td>3.890629</td>\n",
       "      <td>19.21357</td>\n",
       "      <td>1101.466242</td>\n",
       "      <td>0</td>\n",
       "      <td>...</td>\n",
       "      <td>42</td>\n",
       "      <td>0</td>\n",
       "      <td>0</td>\n",
       "      <td>29284</td>\n",
       "      <td>0</td>\n",
       "      <td>0</td>\n",
       "      <td>1</td>\n",
       "      <td>0</td>\n",
       "      <td>0</td>\n",
       "      <td>6</td>\n",
       "    </tr>\n",
       "    <tr>\n",
       "      <th>1</th>\n",
       "      <td>0</td>\n",
       "      <td>APPD40611263344</td>\n",
       "      <td>1.0</td>\n",
       "      <td>3500.0</td>\n",
       "      <td>0.0</td>\n",
       "      <td>20000.000000</td>\n",
       "      <td>2.000000</td>\n",
       "      <td>13.25000</td>\n",
       "      <td>953.000000</td>\n",
       "      <td>10</td>\n",
       "      <td>...</td>\n",
       "      <td>9</td>\n",
       "      <td>2</td>\n",
       "      <td>0</td>\n",
       "      <td>0</td>\n",
       "      <td>2</td>\n",
       "      <td>1</td>\n",
       "      <td>1</td>\n",
       "      <td>1</td>\n",
       "      <td>0</td>\n",
       "      <td>6</td>\n",
       "    </tr>\n",
       "    <tr>\n",
       "      <th>2</th>\n",
       "      <td>0</td>\n",
       "      <td>APPE70289249423</td>\n",
       "      <td>4.0</td>\n",
       "      <td>2250.0</td>\n",
       "      <td>0.0</td>\n",
       "      <td>45000.000000</td>\n",
       "      <td>4.000000</td>\n",
       "      <td>19.21357</td>\n",
       "      <td>1101.466242</td>\n",
       "      <td>0</td>\n",
       "      <td>...</td>\n",
       "      <td>54</td>\n",
       "      <td>124</td>\n",
       "      <td>2</td>\n",
       "      <td>5126</td>\n",
       "      <td>2</td>\n",
       "      <td>2</td>\n",
       "      <td>0</td>\n",
       "      <td>1</td>\n",
       "      <td>15</td>\n",
       "      <td>1</td>\n",
       "    </tr>\n",
       "    <tr>\n",
       "      <th>3</th>\n",
       "      <td>0</td>\n",
       "      <td>APPF80273865537</td>\n",
       "      <td>4.0</td>\n",
       "      <td>3500.0</td>\n",
       "      <td>0.0</td>\n",
       "      <td>92000.000000</td>\n",
       "      <td>5.000000</td>\n",
       "      <td>19.21357</td>\n",
       "      <td>1101.466242</td>\n",
       "      <td>7</td>\n",
       "      <td>...</td>\n",
       "      <td>24</td>\n",
       "      <td>476</td>\n",
       "      <td>2</td>\n",
       "      <td>4079</td>\n",
       "      <td>0</td>\n",
       "      <td>2</td>\n",
       "      <td>0</td>\n",
       "      <td>1</td>\n",
       "      <td>15</td>\n",
       "      <td>1</td>\n",
       "    </tr>\n",
       "    <tr>\n",
       "      <th>4</th>\n",
       "      <td>0</td>\n",
       "      <td>APPG60994436641</td>\n",
       "      <td>4.0</td>\n",
       "      <td>10000.0</td>\n",
       "      <td>2500.0</td>\n",
       "      <td>50000.000000</td>\n",
       "      <td>2.000000</td>\n",
       "      <td>19.21357</td>\n",
       "      <td>1101.466242</td>\n",
       "      <td>10</td>\n",
       "      <td>...</td>\n",
       "      <td>57</td>\n",
       "      <td>1</td>\n",
       "      <td>0</td>\n",
       "      <td>1775</td>\n",
       "      <td>0</td>\n",
       "      <td>0</td>\n",
       "      <td>1</td>\n",
       "      <td>1</td>\n",
       "      <td>7</td>\n",
       "      <td>1</td>\n",
       "    </tr>\n",
       "  </tbody>\n",
       "</table>\n",
       "<p>5 rows × 22 columns</p>\n",
       "</div>"
      ],
      "text/plain": [
       "   Approved               ID  Employer_Category2  Monthly_Income  \\\n",
       "0         0  APPC90493171225                 4.0          2000.0   \n",
       "1         0  APPD40611263344                 1.0          3500.0   \n",
       "2         0  APPE70289249423                 4.0          2250.0   \n",
       "3         0  APPF80273865537                 4.0          3500.0   \n",
       "4         0  APPG60994436641                 4.0         10000.0   \n",
       "\n",
       "   Existing_EMI   Loan_Amount  Loan_Period  Interest_Rate          EMI  Var1  \\\n",
       "0           0.0  39429.982859     3.890629       19.21357  1101.466242     0   \n",
       "1           0.0  20000.000000     2.000000       13.25000   953.000000    10   \n",
       "2           0.0  45000.000000     4.000000       19.21357  1101.466242     0   \n",
       "3           0.0  92000.000000     5.000000       19.21357  1101.466242     7   \n",
       "4        2500.0  50000.000000     2.000000       19.21357  1101.466242    10   \n",
       "\n",
       "        ...         Lead_Creation_Date  City_Code  City_Category  \\\n",
       "0       ...                         42          0              0   \n",
       "1       ...                          9          2              0   \n",
       "2       ...                         54        124              2   \n",
       "3       ...                         24        476              2   \n",
       "4       ...                         57          1              0   \n",
       "\n",
       "   Employer_Code  Employer_Category1  Customer_Existing_Primary_Bank_Code  \\\n",
       "0          29284                   0                                    0   \n",
       "1              0                   2                                    1   \n",
       "2           5126                   2                                    2   \n",
       "3           4079                   0                                    2   \n",
       "4           1775                   0                                    0   \n",
       "\n",
       "   Primary_Bank_Type  Contacted  Source  Source_Category  \n",
       "0                  1          0       0                6  \n",
       "1                  1          1       0                6  \n",
       "2                  0          1      15                1  \n",
       "3                  0          1      15                1  \n",
       "4                  1          1       7                1  \n",
       "\n",
       "[5 rows x 22 columns]"
      ]
     },
     "execution_count": 273,
     "metadata": {},
     "output_type": "execute_result"
    }
   ],
   "source": [
    "mckensydatadf.head()"
   ]
  },
  {
   "cell_type": "code",
   "execution_count": 274,
   "metadata": {},
   "outputs": [
    {
     "data": {
      "text/plain": [
       "(69713, 22)"
      ]
     },
     "execution_count": 274,
     "metadata": {},
     "output_type": "execute_result"
    }
   ],
   "source": [
    "mckensydatadf.shape"
   ]
  },
  {
   "cell_type": "code",
   "execution_count": 275,
   "metadata": {},
   "outputs": [
    {
     "data": {
      "text/plain": [
       "Index(['Approved', 'ID', 'Employer_Category2', 'Monthly_Income',\n",
       "       'Existing_EMI', 'Loan_Amount', 'Loan_Period', 'Interest_Rate', 'EMI',\n",
       "       'Var1', 'Gender', 'DOB', 'Lead_Creation_Date', 'City_Code',\n",
       "       'City_Category', 'Employer_Code', 'Employer_Category1',\n",
       "       'Customer_Existing_Primary_Bank_Code', 'Primary_Bank_Type', 'Contacted',\n",
       "       'Source', 'Source_Category'],\n",
       "      dtype='object')"
      ]
     },
     "execution_count": 275,
     "metadata": {},
     "output_type": "execute_result"
    }
   ],
   "source": [
    "mckensydatadf.columns"
   ]
  },
  {
   "cell_type": "code",
   "execution_count": 289,
   "metadata": {
    "collapsed": true
   },
   "outputs": [],
   "source": [
    "mckensydatadf1=mckensydatadf.drop([\"Var1\",\"City_Code\",\"Employer_Category2\",\"Employer_Code\",\"Customer_Existing_Primary_Bank_Code\",\"Contacted\"],axis=1)"
   ]
  },
  {
   "cell_type": "code",
   "execution_count": 290,
   "metadata": {},
   "outputs": [
    {
     "data": {
      "text/html": [
       "<div>\n",
       "<style>\n",
       "    .dataframe thead tr:only-child th {\n",
       "        text-align: right;\n",
       "    }\n",
       "\n",
       "    .dataframe thead th {\n",
       "        text-align: left;\n",
       "    }\n",
       "\n",
       "    .dataframe tbody tr th {\n",
       "        vertical-align: top;\n",
       "    }\n",
       "</style>\n",
       "<table border=\"1\" class=\"dataframe\">\n",
       "  <thead>\n",
       "    <tr style=\"text-align: right;\">\n",
       "      <th></th>\n",
       "      <th>Approved</th>\n",
       "      <th>ID</th>\n",
       "      <th>Monthly_Income</th>\n",
       "      <th>Existing_EMI</th>\n",
       "      <th>Loan_Amount</th>\n",
       "      <th>Loan_Period</th>\n",
       "      <th>Interest_Rate</th>\n",
       "      <th>EMI</th>\n",
       "      <th>Gender</th>\n",
       "      <th>DOB</th>\n",
       "      <th>Lead_Creation_Date</th>\n",
       "      <th>City_Category</th>\n",
       "      <th>Employer_Category1</th>\n",
       "      <th>Primary_Bank_Type</th>\n",
       "      <th>Source</th>\n",
       "      <th>Source_Category</th>\n",
       "    </tr>\n",
       "  </thead>\n",
       "  <tbody>\n",
       "    <tr>\n",
       "      <th>0</th>\n",
       "      <td>0</td>\n",
       "      <td>APPC90493171225</td>\n",
       "      <td>2000.0</td>\n",
       "      <td>0.0</td>\n",
       "      <td>39429.982859</td>\n",
       "      <td>3.890629</td>\n",
       "      <td>19.21357</td>\n",
       "      <td>1101.466242</td>\n",
       "      <td>0</td>\n",
       "      <td>8112</td>\n",
       "      <td>42</td>\n",
       "      <td>0</td>\n",
       "      <td>0</td>\n",
       "      <td>1</td>\n",
       "      <td>0</td>\n",
       "      <td>6</td>\n",
       "    </tr>\n",
       "    <tr>\n",
       "      <th>1</th>\n",
       "      <td>0</td>\n",
       "      <td>APPD40611263344</td>\n",
       "      <td>3500.0</td>\n",
       "      <td>0.0</td>\n",
       "      <td>20000.000000</td>\n",
       "      <td>2.000000</td>\n",
       "      <td>13.25000</td>\n",
       "      <td>953.000000</td>\n",
       "      <td>1</td>\n",
       "      <td>2593</td>\n",
       "      <td>9</td>\n",
       "      <td>0</td>\n",
       "      <td>2</td>\n",
       "      <td>1</td>\n",
       "      <td>0</td>\n",
       "      <td>6</td>\n",
       "    </tr>\n",
       "    <tr>\n",
       "      <th>2</th>\n",
       "      <td>0</td>\n",
       "      <td>APPE70289249423</td>\n",
       "      <td>2250.0</td>\n",
       "      <td>0.0</td>\n",
       "      <td>45000.000000</td>\n",
       "      <td>4.000000</td>\n",
       "      <td>19.21357</td>\n",
       "      <td>1101.466242</td>\n",
       "      <td>1</td>\n",
       "      <td>3641</td>\n",
       "      <td>54</td>\n",
       "      <td>2</td>\n",
       "      <td>2</td>\n",
       "      <td>0</td>\n",
       "      <td>15</td>\n",
       "      <td>1</td>\n",
       "    </tr>\n",
       "    <tr>\n",
       "      <th>3</th>\n",
       "      <td>0</td>\n",
       "      <td>APPF80273865537</td>\n",
       "      <td>3500.0</td>\n",
       "      <td>0.0</td>\n",
       "      <td>92000.000000</td>\n",
       "      <td>5.000000</td>\n",
       "      <td>19.21357</td>\n",
       "      <td>1101.466242</td>\n",
       "      <td>1</td>\n",
       "      <td>10256</td>\n",
       "      <td>24</td>\n",
       "      <td>2</td>\n",
       "      <td>0</td>\n",
       "      <td>0</td>\n",
       "      <td>15</td>\n",
       "      <td>1</td>\n",
       "    </tr>\n",
       "    <tr>\n",
       "      <th>4</th>\n",
       "      <td>0</td>\n",
       "      <td>APPG60994436641</td>\n",
       "      <td>10000.0</td>\n",
       "      <td>2500.0</td>\n",
       "      <td>50000.000000</td>\n",
       "      <td>2.000000</td>\n",
       "      <td>19.21357</td>\n",
       "      <td>1101.466242</td>\n",
       "      <td>1</td>\n",
       "      <td>6631</td>\n",
       "      <td>57</td>\n",
       "      <td>0</td>\n",
       "      <td>0</td>\n",
       "      <td>1</td>\n",
       "      <td>7</td>\n",
       "      <td>1</td>\n",
       "    </tr>\n",
       "  </tbody>\n",
       "</table>\n",
       "</div>"
      ],
      "text/plain": [
       "   Approved               ID  Monthly_Income  Existing_EMI   Loan_Amount  \\\n",
       "0         0  APPC90493171225          2000.0           0.0  39429.982859   \n",
       "1         0  APPD40611263344          3500.0           0.0  20000.000000   \n",
       "2         0  APPE70289249423          2250.0           0.0  45000.000000   \n",
       "3         0  APPF80273865537          3500.0           0.0  92000.000000   \n",
       "4         0  APPG60994436641         10000.0        2500.0  50000.000000   \n",
       "\n",
       "   Loan_Period  Interest_Rate          EMI  Gender    DOB  Lead_Creation_Date  \\\n",
       "0     3.890629       19.21357  1101.466242       0   8112                  42   \n",
       "1     2.000000       13.25000   953.000000       1   2593                   9   \n",
       "2     4.000000       19.21357  1101.466242       1   3641                  54   \n",
       "3     5.000000       19.21357  1101.466242       1  10256                  24   \n",
       "4     2.000000       19.21357  1101.466242       1   6631                  57   \n",
       "\n",
       "   City_Category  Employer_Category1  Primary_Bank_Type  Source  \\\n",
       "0              0                   0                  1       0   \n",
       "1              0                   2                  1       0   \n",
       "2              2                   2                  0      15   \n",
       "3              2                   0                  0      15   \n",
       "4              0                   0                  1       7   \n",
       "\n",
       "   Source_Category  \n",
       "0                6  \n",
       "1                6  \n",
       "2                1  \n",
       "3                1  \n",
       "4                1  "
      ]
     },
     "execution_count": 290,
     "metadata": {},
     "output_type": "execute_result"
    }
   ],
   "source": [
    "mckensydatadf1.head()"
   ]
  },
  {
   "cell_type": "code",
   "execution_count": 291,
   "metadata": {
    "collapsed": true
   },
   "outputs": [],
   "source": [
    "y=mckensydatadf1.Approved\n",
    "X=mckensydatadf1.drop([\"Approved\",\"ID\"],axis=1)"
   ]
  },
  {
   "cell_type": "code",
   "execution_count": 185,
   "metadata": {
    "collapsed": true
   },
   "outputs": [],
   "source": [
    "from sklearn.naive_bayes import BernoulliNB"
   ]
  },
  {
   "cell_type": "code",
   "execution_count": 186,
   "metadata": {
    "collapsed": true
   },
   "outputs": [],
   "source": [
    "BNB=BernoulliNB().fit(X,y)"
   ]
  },
  {
   "cell_type": "code",
   "execution_count": 187,
   "metadata": {},
   "outputs": [
    {
     "data": {
      "text/plain": [
       "0.98536858261730231"
      ]
     },
     "execution_count": 187,
     "metadata": {},
     "output_type": "execute_result"
    }
   ],
   "source": [
    "BNB.score(X,y)"
   ]
  },
  {
   "cell_type": "code",
   "execution_count": 188,
   "metadata": {
    "collapsed": true
   },
   "outputs": [],
   "source": [
    "BNBpredict=BNB.predict(X)"
   ]
  },
  {
   "cell_type": "code",
   "execution_count": 189,
   "metadata": {
    "collapsed": true
   },
   "outputs": [],
   "source": [
    "BNBresidual=y-BNBpredict"
   ]
  },
  {
   "cell_type": "code",
   "execution_count": 190,
   "metadata": {},
   "outputs": [
    {
     "data": {
      "text/plain": [
       "0.12096039592650824"
      ]
     },
     "execution_count": 190,
     "metadata": {},
     "output_type": "execute_result"
    }
   ],
   "source": [
    "np.sqrt(np.mean((BNBresidual)**2))    #logorathmic error"
   ]
  },
  {
   "cell_type": "code",
   "execution_count": 197,
   "metadata": {
    "collapsed": true
   },
   "outputs": [],
   "source": [
    "from sklearn.svm import SVC      ## Support Vector Machine ##"
   ]
  },
  {
   "cell_type": "code",
   "execution_count": 198,
   "metadata": {
    "collapsed": true
   },
   "outputs": [],
   "source": [
    "supportvector=SVC(kernel='sigmoid')"
   ]
  },
  {
   "cell_type": "code",
   "execution_count": 199,
   "metadata": {},
   "outputs": [
    {
     "data": {
      "text/plain": [
       "SVC(C=1.0, cache_size=200, class_weight=None, coef0=0.0,\n",
       "  decision_function_shape='ovr', degree=3, gamma='auto', kernel='sigmoid',\n",
       "  max_iter=-1, probability=False, random_state=None, shrinking=True,\n",
       "  tol=0.001, verbose=False)"
      ]
     },
     "execution_count": 199,
     "metadata": {},
     "output_type": "execute_result"
    }
   ],
   "source": [
    "supportvector.fit(X,y)"
   ]
  },
  {
   "cell_type": "code",
   "execution_count": 200,
   "metadata": {},
   "outputs": [
    {
     "data": {
      "text/plain": [
       "0.98536858261730231"
      ]
     },
     "execution_count": 200,
     "metadata": {},
     "output_type": "execute_result"
    }
   ],
   "source": [
    "supportvector.score(X,y)"
   ]
  },
  {
   "cell_type": "code",
   "execution_count": 201,
   "metadata": {
    "collapsed": true
   },
   "outputs": [],
   "source": [
    "supportvectorpredict=supportvector.predict(X)"
   ]
  },
  {
   "cell_type": "code",
   "execution_count": 202,
   "metadata": {
    "collapsed": true
   },
   "outputs": [],
   "source": [
    "supportvectorresidual=y-supportvectorpredict"
   ]
  },
  {
   "cell_type": "code",
   "execution_count": 203,
   "metadata": {},
   "outputs": [
    {
     "data": {
      "text/plain": [
       "0.12096039592650824"
      ]
     },
     "execution_count": 203,
     "metadata": {},
     "output_type": "execute_result"
    }
   ],
   "source": [
    "np.sqrt(np.mean((supportvectorresidual)**2))    #logorathmic error"
   ]
  },
  {
   "cell_type": "code",
   "execution_count": 191,
   "metadata": {
    "collapsed": true
   },
   "outputs": [],
   "source": [
    "from sklearn.ensemble import GradientBoostingClassifier   ## Gradient Boosting Classifier ##"
   ]
  },
  {
   "cell_type": "code",
   "execution_count": 192,
   "metadata": {
    "collapsed": true
   },
   "outputs": [],
   "source": [
    "gbm = GradientBoostingClassifier().fit(X, y)"
   ]
  },
  {
   "cell_type": "code",
   "execution_count": 193,
   "metadata": {},
   "outputs": [
    {
     "data": {
      "text/plain": [
       "0.98561243957368061"
      ]
     },
     "execution_count": 193,
     "metadata": {},
     "output_type": "execute_result"
    }
   ],
   "source": [
    "gbm.score(X, y)"
   ]
  },
  {
   "cell_type": "code",
   "execution_count": 194,
   "metadata": {
    "collapsed": true
   },
   "outputs": [],
   "source": [
    "gbmpredict=gbm.predict(X)"
   ]
  },
  {
   "cell_type": "code",
   "execution_count": 195,
   "metadata": {
    "collapsed": true
   },
   "outputs": [],
   "source": [
    "gbmresidual=y-gbmpredict"
   ]
  },
  {
   "cell_type": "code",
   "execution_count": 196,
   "metadata": {},
   "outputs": [
    {
     "data": {
      "text/plain": [
       "0.11994815724436678"
      ]
     },
     "execution_count": 196,
     "metadata": {},
     "output_type": "execute_result"
    }
   ],
   "source": [
    "np.sqrt(np.mean((gbmresidual)**2))    #logorathmic error"
   ]
  },
  {
   "cell_type": "code",
   "execution_count": 292,
   "metadata": {
    "collapsed": true
   },
   "outputs": [],
   "source": [
    "from sklearn.naive_bayes import GaussianNB"
   ]
  },
  {
   "cell_type": "code",
   "execution_count": 293,
   "metadata": {
    "collapsed": true
   },
   "outputs": [],
   "source": [
    "gnb = GaussianNB()"
   ]
  },
  {
   "cell_type": "code",
   "execution_count": 294,
   "metadata": {},
   "outputs": [
    {
     "data": {
      "text/plain": [
       "GaussianNB(priors=None)"
      ]
     },
     "execution_count": 294,
     "metadata": {},
     "output_type": "execute_result"
    }
   ],
   "source": [
    "gnb.fit(X,y)"
   ]
  },
  {
   "cell_type": "code",
   "execution_count": 295,
   "metadata": {},
   "outputs": [
    {
     "data": {
      "text/plain": [
       "0.92972616298251398"
      ]
     },
     "execution_count": 295,
     "metadata": {},
     "output_type": "execute_result"
    }
   ],
   "source": [
    "gnb.score(X,y)"
   ]
  },
  {
   "cell_type": "code",
   "execution_count": 296,
   "metadata": {
    "collapsed": true
   },
   "outputs": [],
   "source": [
    "gnbpredict=gnb.predict(X)"
   ]
  },
  {
   "cell_type": "code",
   "execution_count": 297,
   "metadata": {
    "collapsed": true
   },
   "outputs": [],
   "source": [
    "gnbresidual=y-gnbpredict"
   ]
  },
  {
   "cell_type": "code",
   "execution_count": 298,
   "metadata": {},
   "outputs": [
    {
     "data": {
      "text/plain": [
       "0.2650921293012789"
      ]
     },
     "execution_count": 298,
     "metadata": {},
     "output_type": "execute_result"
    }
   ],
   "source": [
    "np.sqrt(np.mean((gnbresidual)**2))    #logorathmic error"
   ]
  },
  {
   "cell_type": "code",
   "execution_count": 388,
   "metadata": {
    "collapsed": true
   },
   "outputs": [],
   "source": [
    "from sklearn.linear_model import LinearRegression   # training data"
   ]
  },
  {
   "cell_type": "code",
   "execution_count": 389,
   "metadata": {
    "collapsed": true
   },
   "outputs": [],
   "source": [
    "Randfor=RandomForestRegressor(n_estimators=1000)"
   ]
  },
  {
   "cell_type": "code",
   "execution_count": 390,
   "metadata": {
    "collapsed": true
   },
   "outputs": [],
   "source": [
    "LinReg=LinearRegression()"
   ]
  },
  {
   "cell_type": "code",
   "execution_count": 391,
   "metadata": {},
   "outputs": [
    {
     "data": {
      "text/plain": [
       "LinearRegression(copy_X=True, fit_intercept=True, n_jobs=1, normalize=False)"
      ]
     },
     "execution_count": 391,
     "metadata": {},
     "output_type": "execute_result"
    }
   ],
   "source": [
    "LinReg.fit(X,y)"
   ]
  },
  {
   "cell_type": "code",
   "execution_count": 392,
   "metadata": {},
   "outputs": [
    {
     "data": {
      "text/plain": [
       "0.022189913845569009"
      ]
     },
     "execution_count": 392,
     "metadata": {},
     "output_type": "execute_result"
    }
   ],
   "source": [
    "LinReg.score(X,y)"
   ]
  },
  {
   "cell_type": "code",
   "execution_count": 279,
   "metadata": {
    "collapsed": true
   },
   "outputs": [],
   "source": [
    "from sklearn.ensemble import RandomForestRegressor   #Random Forest"
   ]
  },
  {
   "cell_type": "code",
   "execution_count": 286,
   "metadata": {
    "collapsed": true
   },
   "outputs": [],
   "source": [
    "Randfor=RandomForestRegressor(n_estimators=5000)"
   ]
  },
  {
   "cell_type": "code",
   "execution_count": 287,
   "metadata": {},
   "outputs": [
    {
     "data": {
      "text/plain": [
       "RandomForestRegressor(bootstrap=True, criterion='mse', max_depth=None,\n",
       "           max_features='auto', max_leaf_nodes=None,\n",
       "           min_impurity_decrease=0.0, min_impurity_split=None,\n",
       "           min_samples_leaf=1, min_samples_split=2,\n",
       "           min_weight_fraction_leaf=0.0, n_estimators=5000, n_jobs=1,\n",
       "           oob_score=False, random_state=None, verbose=0, warm_start=False)"
      ]
     },
     "execution_count": 287,
     "metadata": {},
     "output_type": "execute_result"
    }
   ],
   "source": [
    "Randfor.fit(X,y)"
   ]
  },
  {
   "cell_type": "code",
   "execution_count": 288,
   "metadata": {},
   "outputs": [
    {
     "data": {
      "text/plain": [
       "0.85575146291029869"
      ]
     },
     "execution_count": 288,
     "metadata": {},
     "output_type": "execute_result"
    }
   ],
   "source": [
    "Randfor.score(X,y)"
   ]
  },
  {
   "cell_type": "code",
   "execution_count": 635,
   "metadata": {
    "collapsed": true
   },
   "outputs": [],
   "source": [
    "Randforpredict=Randfor.predict(X)"
   ]
  },
  {
   "cell_type": "code",
   "execution_count": 636,
   "metadata": {
    "collapsed": true
   },
   "outputs": [],
   "source": [
    "randforresidual=y-Randforpredict"
   ]
  },
  {
   "cell_type": "code",
   "execution_count": 637,
   "metadata": {},
   "outputs": [
    {
     "data": {
      "text/plain": [
       "0.045273860987278355"
      ]
     },
     "execution_count": 637,
     "metadata": {},
     "output_type": "execute_result"
    }
   ],
   "source": [
    "np.sqrt(np.mean((randforresidual)**2))    #logorathmic error"
   ]
  },
  {
   "cell_type": "code",
   "execution_count": 676,
   "metadata": {
    "collapsed": true
   },
   "outputs": [],
   "source": [
    "from sklearn.linear_model import LogisticRegression"
   ]
  },
  {
   "cell_type": "code",
   "execution_count": 677,
   "metadata": {
    "collapsed": true
   },
   "outputs": [],
   "source": [
    "logreg = LogisticRegression() "
   ]
  },
  {
   "cell_type": "code",
   "execution_count": 678,
   "metadata": {},
   "outputs": [
    {
     "data": {
      "text/plain": [
       "LogisticRegression(C=1.0, class_weight=None, dual=False, fit_intercept=True,\n",
       "          intercept_scaling=1, max_iter=100, multi_class='ovr', n_jobs=1,\n",
       "          penalty='l2', random_state=None, solver='liblinear', tol=0.0001,\n",
       "          verbose=0, warm_start=False)"
      ]
     },
     "execution_count": 678,
     "metadata": {},
     "output_type": "execute_result"
    }
   ],
   "source": [
    "logreg.fit(X, y) "
   ]
  },
  {
   "cell_type": "code",
   "execution_count": 679,
   "metadata": {},
   "outputs": [
    {
     "data": {
      "text/plain": [
       "0.98532554903676506"
      ]
     },
     "execution_count": 679,
     "metadata": {},
     "output_type": "execute_result"
    }
   ],
   "source": [
    "logreg.score(X,y)   ## accuracy from Nural network model"
   ]
  },
  {
   "cell_type": "code",
   "execution_count": 680,
   "metadata": {
    "collapsed": true
   },
   "outputs": [],
   "source": [
    "logregpredict=logreg.predict(X)"
   ]
  },
  {
   "cell_type": "code",
   "execution_count": null,
   "metadata": {
    "collapsed": true
   },
   "outputs": [],
   "source": []
  },
  {
   "cell_type": "code",
   "execution_count": 299,
   "metadata": {
    "collapsed": true
   },
   "outputs": [],
   "source": [
    "mckensydata_test=pd.read_csv(\"D:/analytics/Hackathon/Mckensy/test.csv\")"
   ]
  },
  {
   "cell_type": "code",
   "execution_count": 300,
   "metadata": {},
   "outputs": [
    {
     "data": {
      "text/html": [
       "<div>\n",
       "<style>\n",
       "    .dataframe thead tr:only-child th {\n",
       "        text-align: right;\n",
       "    }\n",
       "\n",
       "    .dataframe thead th {\n",
       "        text-align: left;\n",
       "    }\n",
       "\n",
       "    .dataframe tbody tr th {\n",
       "        vertical-align: top;\n",
       "    }\n",
       "</style>\n",
       "<table border=\"1\" class=\"dataframe\">\n",
       "  <thead>\n",
       "    <tr style=\"text-align: right;\">\n",
       "      <th></th>\n",
       "      <th>ID</th>\n",
       "      <th>Gender</th>\n",
       "      <th>DOB</th>\n",
       "      <th>Lead_Creation_Date</th>\n",
       "      <th>City_Code</th>\n",
       "      <th>City_Category</th>\n",
       "      <th>Employer_Code</th>\n",
       "      <th>Employer_Category1</th>\n",
       "      <th>Employer_Category2</th>\n",
       "      <th>Monthly_Income</th>\n",
       "      <th>...</th>\n",
       "      <th>Primary_Bank_Type</th>\n",
       "      <th>Contacted</th>\n",
       "      <th>Source</th>\n",
       "      <th>Source_Category</th>\n",
       "      <th>Existing_EMI</th>\n",
       "      <th>Loan_Amount</th>\n",
       "      <th>Loan_Period</th>\n",
       "      <th>Interest_Rate</th>\n",
       "      <th>EMI</th>\n",
       "      <th>Var1</th>\n",
       "    </tr>\n",
       "  </thead>\n",
       "  <tbody>\n",
       "    <tr>\n",
       "      <th>0</th>\n",
       "      <td>APPA70109647212</td>\n",
       "      <td>Male</td>\n",
       "      <td>03/06/88</td>\n",
       "      <td>05/07/16</td>\n",
       "      <td>C10028</td>\n",
       "      <td>C</td>\n",
       "      <td>COM0002222</td>\n",
       "      <td>A</td>\n",
       "      <td>4.0</td>\n",
       "      <td>2150.0</td>\n",
       "      <td>...</td>\n",
       "      <td>P</td>\n",
       "      <td>Y</td>\n",
       "      <td>S122</td>\n",
       "      <td>B</td>\n",
       "      <td>0.0</td>\n",
       "      <td>10000.0</td>\n",
       "      <td>3.0</td>\n",
       "      <td>20.0</td>\n",
       "      <td>372.0</td>\n",
       "      <td>4</td>\n",
       "    </tr>\n",
       "    <tr>\n",
       "      <th>1</th>\n",
       "      <td>APPB10687939341</td>\n",
       "      <td>Male</td>\n",
       "      <td>13/07/81</td>\n",
       "      <td>01/07/16</td>\n",
       "      <td>C10003</td>\n",
       "      <td>A</td>\n",
       "      <td>COM0001784</td>\n",
       "      <td>C</td>\n",
       "      <td>4.0</td>\n",
       "      <td>4200.0</td>\n",
       "      <td>...</td>\n",
       "      <td>P</td>\n",
       "      <td>Y</td>\n",
       "      <td>S133</td>\n",
       "      <td>C</td>\n",
       "      <td>0.0</td>\n",
       "      <td>69000.0</td>\n",
       "      <td>5.0</td>\n",
       "      <td>24.0</td>\n",
       "      <td>1985.0</td>\n",
       "      <td>7</td>\n",
       "    </tr>\n",
       "    <tr>\n",
       "      <th>2</th>\n",
       "      <td>APPC80449411414</td>\n",
       "      <td>Female</td>\n",
       "      <td>19/11/90</td>\n",
       "      <td>01/07/16</td>\n",
       "      <td>C10009</td>\n",
       "      <td>B</td>\n",
       "      <td>COM0045260</td>\n",
       "      <td>B</td>\n",
       "      <td>4.0</td>\n",
       "      <td>1000.0</td>\n",
       "      <td>...</td>\n",
       "      <td>P</td>\n",
       "      <td>N</td>\n",
       "      <td>S133</td>\n",
       "      <td>B</td>\n",
       "      <td>0.0</td>\n",
       "      <td>NaN</td>\n",
       "      <td>NaN</td>\n",
       "      <td>NaN</td>\n",
       "      <td>NaN</td>\n",
       "      <td>0</td>\n",
       "    </tr>\n",
       "    <tr>\n",
       "      <th>3</th>\n",
       "      <td>APPD30665094501</td>\n",
       "      <td>Female</td>\n",
       "      <td>15/10/92</td>\n",
       "      <td>01/07/16</td>\n",
       "      <td>C10005</td>\n",
       "      <td>A</td>\n",
       "      <td>COM0000085</td>\n",
       "      <td>A</td>\n",
       "      <td>3.0</td>\n",
       "      <td>1465.0</td>\n",
       "      <td>...</td>\n",
       "      <td>P</td>\n",
       "      <td>N</td>\n",
       "      <td>S133</td>\n",
       "      <td>C</td>\n",
       "      <td>0.0</td>\n",
       "      <td>NaN</td>\n",
       "      <td>NaN</td>\n",
       "      <td>NaN</td>\n",
       "      <td>NaN</td>\n",
       "      <td>0</td>\n",
       "    </tr>\n",
       "    <tr>\n",
       "      <th>4</th>\n",
       "      <td>APPE80379821637</td>\n",
       "      <td>Male</td>\n",
       "      <td>21/09/88</td>\n",
       "      <td>01/07/16</td>\n",
       "      <td>C10005</td>\n",
       "      <td>A</td>\n",
       "      <td>COM0006422</td>\n",
       "      <td>A</td>\n",
       "      <td>4.0</td>\n",
       "      <td>2340.0</td>\n",
       "      <td>...</td>\n",
       "      <td>P</td>\n",
       "      <td>Y</td>\n",
       "      <td>S143</td>\n",
       "      <td>B</td>\n",
       "      <td>500.0</td>\n",
       "      <td>10000.0</td>\n",
       "      <td>2.0</td>\n",
       "      <td>NaN</td>\n",
       "      <td>NaN</td>\n",
       "      <td>0</td>\n",
       "    </tr>\n",
       "  </tbody>\n",
       "</table>\n",
       "<p>5 rows × 21 columns</p>\n",
       "</div>"
      ],
      "text/plain": [
       "                ID  Gender       DOB Lead_Creation_Date City_Code  \\\n",
       "0  APPA70109647212    Male  03/06/88           05/07/16    C10028   \n",
       "1  APPB10687939341    Male  13/07/81           01/07/16    C10003   \n",
       "2  APPC80449411414  Female  19/11/90           01/07/16    C10009   \n",
       "3  APPD30665094501  Female  15/10/92           01/07/16    C10005   \n",
       "4  APPE80379821637    Male  21/09/88           01/07/16    C10005   \n",
       "\n",
       "  City_Category Employer_Code Employer_Category1  Employer_Category2  \\\n",
       "0             C    COM0002222                  A                 4.0   \n",
       "1             A    COM0001784                  C                 4.0   \n",
       "2             B    COM0045260                  B                 4.0   \n",
       "3             A    COM0000085                  A                 3.0   \n",
       "4             A    COM0006422                  A                 4.0   \n",
       "\n",
       "   Monthly_Income  ...  Primary_Bank_Type Contacted Source Source_Category  \\\n",
       "0          2150.0  ...                  P         Y   S122               B   \n",
       "1          4200.0  ...                  P         Y   S133               C   \n",
       "2          1000.0  ...                  P         N   S133               B   \n",
       "3          1465.0  ...                  P         N   S133               C   \n",
       "4          2340.0  ...                  P         Y   S143               B   \n",
       "\n",
       "  Existing_EMI  Loan_Amount  Loan_Period  Interest_Rate     EMI  Var1  \n",
       "0          0.0      10000.0          3.0           20.0   372.0     4  \n",
       "1          0.0      69000.0          5.0           24.0  1985.0     7  \n",
       "2          0.0          NaN          NaN            NaN     NaN     0  \n",
       "3          0.0          NaN          NaN            NaN     NaN     0  \n",
       "4        500.0      10000.0          2.0            NaN     NaN     0  \n",
       "\n",
       "[5 rows x 21 columns]"
      ]
     },
     "execution_count": 300,
     "metadata": {},
     "output_type": "execute_result"
    }
   ],
   "source": [
    "mckensydata_test.head()"
   ]
  },
  {
   "cell_type": "code",
   "execution_count": 301,
   "metadata": {},
   "outputs": [
    {
     "data": {
      "text/html": [
       "<div>\n",
       "<style>\n",
       "    .dataframe thead tr:only-child th {\n",
       "        text-align: right;\n",
       "    }\n",
       "\n",
       "    .dataframe thead th {\n",
       "        text-align: left;\n",
       "    }\n",
       "\n",
       "    .dataframe tbody tr th {\n",
       "        vertical-align: top;\n",
       "    }\n",
       "</style>\n",
       "<table border=\"1\" class=\"dataframe\">\n",
       "  <thead>\n",
       "    <tr style=\"text-align: right;\">\n",
       "      <th></th>\n",
       "      <th>Employer_Category2</th>\n",
       "      <th>Monthly_Income</th>\n",
       "      <th>Existing_EMI</th>\n",
       "      <th>Loan_Amount</th>\n",
       "      <th>Loan_Period</th>\n",
       "      <th>Interest_Rate</th>\n",
       "      <th>EMI</th>\n",
       "      <th>Var1</th>\n",
       "    </tr>\n",
       "  </thead>\n",
       "  <tbody>\n",
       "    <tr>\n",
       "      <th>count</th>\n",
       "      <td>28342.000000</td>\n",
       "      <td>3.003700e+04</td>\n",
       "      <td>30005.000000</td>\n",
       "      <td>18166.000000</td>\n",
       "      <td>18166.000000</td>\n",
       "      <td>9652.000000</td>\n",
       "      <td>9652.000000</td>\n",
       "      <td>30037.000000</td>\n",
       "    </tr>\n",
       "    <tr>\n",
       "      <th>mean</th>\n",
       "      <td>3.728248</td>\n",
       "      <td>3.977139e+03</td>\n",
       "      <td>348.909060</td>\n",
       "      <td>39482.990201</td>\n",
       "      <td>3.903116</td>\n",
       "      <td>19.280537</td>\n",
       "      <td>1094.914836</td>\n",
       "      <td>3.962313</td>\n",
       "    </tr>\n",
       "    <tr>\n",
       "      <th>std</th>\n",
       "      <td>0.794883</td>\n",
       "      <td>2.328960e+04</td>\n",
       "      <td>1000.816847</td>\n",
       "      <td>30527.865594</td>\n",
       "      <td>1.150820</td>\n",
       "      <td>5.882246</td>\n",
       "      <td>727.452303</td>\n",
       "      <td>3.821020</td>\n",
       "    </tr>\n",
       "    <tr>\n",
       "      <th>min</th>\n",
       "      <td>1.000000</td>\n",
       "      <td>0.000000e+00</td>\n",
       "      <td>0.000000</td>\n",
       "      <td>5000.000000</td>\n",
       "      <td>1.000000</td>\n",
       "      <td>11.990000</td>\n",
       "      <td>118.000000</td>\n",
       "      <td>0.000000</td>\n",
       "    </tr>\n",
       "    <tr>\n",
       "      <th>25%</th>\n",
       "      <td>4.000000</td>\n",
       "      <td>1.650000e+03</td>\n",
       "      <td>0.000000</td>\n",
       "      <td>20000.000000</td>\n",
       "      <td>3.000000</td>\n",
       "      <td>15.250000</td>\n",
       "      <td>625.000000</td>\n",
       "      <td>0.000000</td>\n",
       "    </tr>\n",
       "    <tr>\n",
       "      <th>50%</th>\n",
       "      <td>4.000000</td>\n",
       "      <td>2.500000e+03</td>\n",
       "      <td>0.000000</td>\n",
       "      <td>30000.000000</td>\n",
       "      <td>4.000000</td>\n",
       "      <td>18.000000</td>\n",
       "      <td>946.000000</td>\n",
       "      <td>2.000000</td>\n",
       "    </tr>\n",
       "    <tr>\n",
       "      <th>75%</th>\n",
       "      <td>4.000000</td>\n",
       "      <td>4.000000e+03</td>\n",
       "      <td>350.000000</td>\n",
       "      <td>50000.000000</td>\n",
       "      <td>5.000000</td>\n",
       "      <td>20.000000</td>\n",
       "      <td>1291.000000</td>\n",
       "      <td>7.000000</td>\n",
       "    </tr>\n",
       "    <tr>\n",
       "      <th>max</th>\n",
       "      <td>4.000000</td>\n",
       "      <td>3.500000e+06</td>\n",
       "      <td>43000.000000</td>\n",
       "      <td>300000.000000</td>\n",
       "      <td>6.000000</td>\n",
       "      <td>37.000000</td>\n",
       "      <td>6979.000000</td>\n",
       "      <td>10.000000</td>\n",
       "    </tr>\n",
       "  </tbody>\n",
       "</table>\n",
       "</div>"
      ],
      "text/plain": [
       "       Employer_Category2  Monthly_Income  Existing_EMI    Loan_Amount  \\\n",
       "count        28342.000000    3.003700e+04  30005.000000   18166.000000   \n",
       "mean             3.728248    3.977139e+03    348.909060   39482.990201   \n",
       "std              0.794883    2.328960e+04   1000.816847   30527.865594   \n",
       "min              1.000000    0.000000e+00      0.000000    5000.000000   \n",
       "25%              4.000000    1.650000e+03      0.000000   20000.000000   \n",
       "50%              4.000000    2.500000e+03      0.000000   30000.000000   \n",
       "75%              4.000000    4.000000e+03    350.000000   50000.000000   \n",
       "max              4.000000    3.500000e+06  43000.000000  300000.000000   \n",
       "\n",
       "        Loan_Period  Interest_Rate          EMI          Var1  \n",
       "count  18166.000000    9652.000000  9652.000000  30037.000000  \n",
       "mean       3.903116      19.280537  1094.914836      3.962313  \n",
       "std        1.150820       5.882246   727.452303      3.821020  \n",
       "min        1.000000      11.990000   118.000000      0.000000  \n",
       "25%        3.000000      15.250000   625.000000      0.000000  \n",
       "50%        4.000000      18.000000   946.000000      2.000000  \n",
       "75%        5.000000      20.000000  1291.000000      7.000000  \n",
       "max        6.000000      37.000000  6979.000000     10.000000  "
      ]
     },
     "execution_count": 301,
     "metadata": {},
     "output_type": "execute_result"
    }
   ],
   "source": [
    "mckensydata_test.describe()"
   ]
  },
  {
   "cell_type": "code",
   "execution_count": 302,
   "metadata": {},
   "outputs": [
    {
     "data": {
      "text/plain": [
       "Interest_Rate                          20385\n",
       "EMI                                    20385\n",
       "Loan_Period                            11871\n",
       "Loan_Amount                            11871\n",
       "Customer_Existing_Primary_Bank_Code     4037\n",
       "Primary_Bank_Type                       4037\n",
       "Employer_Category2                      1695\n",
       "Employer_Category1                      1605\n",
       "Employer_Code                           1605\n",
       "City_Category                            314\n",
       "City_Code                                314\n",
       "Existing_EMI                              32\n",
       "DOB                                        3\n",
       "Gender                                     0\n",
       "Lead_Creation_Date                         0\n",
       "Var1                                       0\n",
       "Monthly_Income                             0\n",
       "Contacted                                  0\n",
       "Source                                     0\n",
       "Source_Category                            0\n",
       "ID                                         0\n",
       "dtype: int64"
      ]
     },
     "execution_count": 302,
     "metadata": {},
     "output_type": "execute_result"
    }
   ],
   "source": [
    "(mckensydata_test.isnull().sum()).sort_values(ascending=False)  ## to find out number of missing values(NA) columns"
   ]
  },
  {
   "cell_type": "code",
   "execution_count": 303,
   "metadata": {
    "collapsed": true
   },
   "outputs": [],
   "source": [
    "mckensydata_testnum=mckensydata_test.select_dtypes(include=[np.number]) # strategy 1 split the data frame into numeric and character data frame and values\n",
    "mckensydata_testcat=mckensydata_test.select_dtypes(include=[object])  # numeric variable colulmns"
   ]
  },
  {
   "cell_type": "code",
   "execution_count": 304,
   "metadata": {},
   "outputs": [
    {
     "data": {
      "text/plain": [
       "(30037, 8)"
      ]
     },
     "execution_count": 304,
     "metadata": {},
     "output_type": "execute_result"
    }
   ],
   "source": [
    "mckensydata_testnum.shape  # numeric variable colulmns"
   ]
  },
  {
   "cell_type": "code",
   "execution_count": 305,
   "metadata": {},
   "outputs": [
    {
     "data": {
      "text/plain": [
       "(30037, 13)"
      ]
     },
     "execution_count": 305,
     "metadata": {},
     "output_type": "execute_result"
    }
   ],
   "source": [
    "mckensydata_testcat.shape  # cat variable colulmns"
   ]
  },
  {
   "cell_type": "code",
   "execution_count": 306,
   "metadata": {
    "scrolled": true
   },
   "outputs": [
    {
     "data": {
      "text/html": [
       "<div>\n",
       "<style>\n",
       "    .dataframe thead tr:only-child th {\n",
       "        text-align: right;\n",
       "    }\n",
       "\n",
       "    .dataframe thead th {\n",
       "        text-align: left;\n",
       "    }\n",
       "\n",
       "    .dataframe tbody tr th {\n",
       "        vertical-align: top;\n",
       "    }\n",
       "</style>\n",
       "<table border=\"1\" class=\"dataframe\">\n",
       "  <thead>\n",
       "    <tr style=\"text-align: right;\">\n",
       "      <th></th>\n",
       "      <th>Employer_Category2</th>\n",
       "      <th>Monthly_Income</th>\n",
       "      <th>Existing_EMI</th>\n",
       "      <th>Loan_Amount</th>\n",
       "      <th>Loan_Period</th>\n",
       "      <th>Interest_Rate</th>\n",
       "      <th>EMI</th>\n",
       "      <th>Var1</th>\n",
       "    </tr>\n",
       "  </thead>\n",
       "  <tbody>\n",
       "    <tr>\n",
       "      <th>0</th>\n",
       "      <td>4.0</td>\n",
       "      <td>2150.0</td>\n",
       "      <td>0.0</td>\n",
       "      <td>10000.0</td>\n",
       "      <td>3.0</td>\n",
       "      <td>20.0</td>\n",
       "      <td>372.0</td>\n",
       "      <td>4</td>\n",
       "    </tr>\n",
       "    <tr>\n",
       "      <th>1</th>\n",
       "      <td>4.0</td>\n",
       "      <td>4200.0</td>\n",
       "      <td>0.0</td>\n",
       "      <td>69000.0</td>\n",
       "      <td>5.0</td>\n",
       "      <td>24.0</td>\n",
       "      <td>1985.0</td>\n",
       "      <td>7</td>\n",
       "    </tr>\n",
       "    <tr>\n",
       "      <th>2</th>\n",
       "      <td>4.0</td>\n",
       "      <td>1000.0</td>\n",
       "      <td>0.0</td>\n",
       "      <td>NaN</td>\n",
       "      <td>NaN</td>\n",
       "      <td>NaN</td>\n",
       "      <td>NaN</td>\n",
       "      <td>0</td>\n",
       "    </tr>\n",
       "    <tr>\n",
       "      <th>3</th>\n",
       "      <td>3.0</td>\n",
       "      <td>1465.0</td>\n",
       "      <td>0.0</td>\n",
       "      <td>NaN</td>\n",
       "      <td>NaN</td>\n",
       "      <td>NaN</td>\n",
       "      <td>NaN</td>\n",
       "      <td>0</td>\n",
       "    </tr>\n",
       "    <tr>\n",
       "      <th>4</th>\n",
       "      <td>4.0</td>\n",
       "      <td>2340.0</td>\n",
       "      <td>500.0</td>\n",
       "      <td>10000.0</td>\n",
       "      <td>2.0</td>\n",
       "      <td>NaN</td>\n",
       "      <td>NaN</td>\n",
       "      <td>0</td>\n",
       "    </tr>\n",
       "  </tbody>\n",
       "</table>\n",
       "</div>"
      ],
      "text/plain": [
       "   Employer_Category2  Monthly_Income  Existing_EMI  Loan_Amount  Loan_Period  \\\n",
       "0                 4.0          2150.0           0.0      10000.0          3.0   \n",
       "1                 4.0          4200.0           0.0      69000.0          5.0   \n",
       "2                 4.0          1000.0           0.0          NaN          NaN   \n",
       "3                 3.0          1465.0           0.0          NaN          NaN   \n",
       "4                 4.0          2340.0         500.0      10000.0          2.0   \n",
       "\n",
       "   Interest_Rate     EMI  Var1  \n",
       "0           20.0   372.0     4  \n",
       "1           24.0  1985.0     7  \n",
       "2            NaN     NaN     0  \n",
       "3            NaN     NaN     0  \n",
       "4            NaN     NaN     0  "
      ]
     },
     "execution_count": 306,
     "metadata": {},
     "output_type": "execute_result"
    }
   ],
   "source": [
    "mckensydata_testnum.head()"
   ]
  },
  {
   "cell_type": "code",
   "execution_count": 307,
   "metadata": {},
   "outputs": [
    {
     "data": {
      "text/plain": [
       "EMI                   20385\n",
       "Interest_Rate         20385\n",
       "Loan_Period           11871\n",
       "Loan_Amount           11871\n",
       "Employer_Category2     1695\n",
       "Existing_EMI             32\n",
       "Var1                      0\n",
       "Monthly_Income            0\n",
       "dtype: int64"
      ]
     },
     "execution_count": 307,
     "metadata": {},
     "output_type": "execute_result"
    }
   ],
   "source": [
    "(mckensydata_testnum.isnull().sum()).sort_values(ascending=False)  ## to find out number of missing values(NA) columns"
   ]
  },
  {
   "cell_type": "code",
   "execution_count": 308,
   "metadata": {
    "collapsed": true
   },
   "outputs": [],
   "source": [
    "mckensydata_testnum1=mckensydata_testnum.apply(lambda  mckensydata_testnum:  mckensydata_testnum.fillna( mckensydata_testnum.mean()),axis=0)"
   ]
  },
  {
   "cell_type": "code",
   "execution_count": 309,
   "metadata": {},
   "outputs": [
    {
     "data": {
      "text/plain": [
       "Var1                  0\n",
       "EMI                   0\n",
       "Interest_Rate         0\n",
       "Loan_Period           0\n",
       "Loan_Amount           0\n",
       "Existing_EMI          0\n",
       "Monthly_Income        0\n",
       "Employer_Category2    0\n",
       "dtype: int64"
      ]
     },
     "execution_count": 309,
     "metadata": {},
     "output_type": "execute_result"
    }
   ],
   "source": [
    "(mckensydata_testnum1.isnull().sum()).sort_values(ascending=False)  ## to find out number of missing values(NA) columns"
   ]
  },
  {
   "cell_type": "code",
   "execution_count": 310,
   "metadata": {},
   "outputs": [
    {
     "data": {
      "text/html": [
       "<div>\n",
       "<style>\n",
       "    .dataframe thead tr:only-child th {\n",
       "        text-align: right;\n",
       "    }\n",
       "\n",
       "    .dataframe thead th {\n",
       "        text-align: left;\n",
       "    }\n",
       "\n",
       "    .dataframe tbody tr th {\n",
       "        vertical-align: top;\n",
       "    }\n",
       "</style>\n",
       "<table border=\"1\" class=\"dataframe\">\n",
       "  <thead>\n",
       "    <tr style=\"text-align: right;\">\n",
       "      <th></th>\n",
       "      <th>Employer_Category2</th>\n",
       "      <th>Monthly_Income</th>\n",
       "      <th>Existing_EMI</th>\n",
       "      <th>Loan_Amount</th>\n",
       "      <th>Loan_Period</th>\n",
       "      <th>Interest_Rate</th>\n",
       "      <th>EMI</th>\n",
       "      <th>Var1</th>\n",
       "    </tr>\n",
       "  </thead>\n",
       "  <tbody>\n",
       "    <tr>\n",
       "      <th>0</th>\n",
       "      <td>4.0</td>\n",
       "      <td>2150.0</td>\n",
       "      <td>0.0</td>\n",
       "      <td>10000.000000</td>\n",
       "      <td>3.000000</td>\n",
       "      <td>20.000000</td>\n",
       "      <td>372.000000</td>\n",
       "      <td>4</td>\n",
       "    </tr>\n",
       "    <tr>\n",
       "      <th>1</th>\n",
       "      <td>4.0</td>\n",
       "      <td>4200.0</td>\n",
       "      <td>0.0</td>\n",
       "      <td>69000.000000</td>\n",
       "      <td>5.000000</td>\n",
       "      <td>24.000000</td>\n",
       "      <td>1985.000000</td>\n",
       "      <td>7</td>\n",
       "    </tr>\n",
       "    <tr>\n",
       "      <th>2</th>\n",
       "      <td>4.0</td>\n",
       "      <td>1000.0</td>\n",
       "      <td>0.0</td>\n",
       "      <td>39482.990201</td>\n",
       "      <td>3.903116</td>\n",
       "      <td>19.280537</td>\n",
       "      <td>1094.914836</td>\n",
       "      <td>0</td>\n",
       "    </tr>\n",
       "    <tr>\n",
       "      <th>3</th>\n",
       "      <td>3.0</td>\n",
       "      <td>1465.0</td>\n",
       "      <td>0.0</td>\n",
       "      <td>39482.990201</td>\n",
       "      <td>3.903116</td>\n",
       "      <td>19.280537</td>\n",
       "      <td>1094.914836</td>\n",
       "      <td>0</td>\n",
       "    </tr>\n",
       "    <tr>\n",
       "      <th>4</th>\n",
       "      <td>4.0</td>\n",
       "      <td>2340.0</td>\n",
       "      <td>500.0</td>\n",
       "      <td>10000.000000</td>\n",
       "      <td>2.000000</td>\n",
       "      <td>19.280537</td>\n",
       "      <td>1094.914836</td>\n",
       "      <td>0</td>\n",
       "    </tr>\n",
       "  </tbody>\n",
       "</table>\n",
       "</div>"
      ],
      "text/plain": [
       "   Employer_Category2  Monthly_Income  Existing_EMI   Loan_Amount  \\\n",
       "0                 4.0          2150.0           0.0  10000.000000   \n",
       "1                 4.0          4200.0           0.0  69000.000000   \n",
       "2                 4.0          1000.0           0.0  39482.990201   \n",
       "3                 3.0          1465.0           0.0  39482.990201   \n",
       "4                 4.0          2340.0         500.0  10000.000000   \n",
       "\n",
       "   Loan_Period  Interest_Rate          EMI  Var1  \n",
       "0     3.000000      20.000000   372.000000     4  \n",
       "1     5.000000      24.000000  1985.000000     7  \n",
       "2     3.903116      19.280537  1094.914836     0  \n",
       "3     3.903116      19.280537  1094.914836     0  \n",
       "4     2.000000      19.280537  1094.914836     0  "
      ]
     },
     "execution_count": 310,
     "metadata": {},
     "output_type": "execute_result"
    }
   ],
   "source": [
    "mckensydata_testnum1.head()"
   ]
  },
  {
   "cell_type": "code",
   "execution_count": 311,
   "metadata": {},
   "outputs": [
    {
     "data": {
      "text/plain": [
       "(30037, 8)"
      ]
     },
     "execution_count": 311,
     "metadata": {},
     "output_type": "execute_result"
    }
   ],
   "source": [
    "mckensydata_testnum1.shape"
   ]
  },
  {
   "cell_type": "code",
   "execution_count": 312,
   "metadata": {},
   "outputs": [
    {
     "data": {
      "text/html": [
       "<div>\n",
       "<style>\n",
       "    .dataframe thead tr:only-child th {\n",
       "        text-align: right;\n",
       "    }\n",
       "\n",
       "    .dataframe thead th {\n",
       "        text-align: left;\n",
       "    }\n",
       "\n",
       "    .dataframe tbody tr th {\n",
       "        vertical-align: top;\n",
       "    }\n",
       "</style>\n",
       "<table border=\"1\" class=\"dataframe\">\n",
       "  <thead>\n",
       "    <tr style=\"text-align: right;\">\n",
       "      <th></th>\n",
       "      <th>ID</th>\n",
       "      <th>Gender</th>\n",
       "      <th>DOB</th>\n",
       "      <th>Lead_Creation_Date</th>\n",
       "      <th>City_Code</th>\n",
       "      <th>City_Category</th>\n",
       "      <th>Employer_Code</th>\n",
       "      <th>Employer_Category1</th>\n",
       "      <th>Customer_Existing_Primary_Bank_Code</th>\n",
       "      <th>Primary_Bank_Type</th>\n",
       "      <th>Contacted</th>\n",
       "      <th>Source</th>\n",
       "      <th>Source_Category</th>\n",
       "    </tr>\n",
       "  </thead>\n",
       "  <tbody>\n",
       "    <tr>\n",
       "      <th>0</th>\n",
       "      <td>APPA70109647212</td>\n",
       "      <td>Male</td>\n",
       "      <td>03/06/88</td>\n",
       "      <td>05/07/16</td>\n",
       "      <td>C10028</td>\n",
       "      <td>C</td>\n",
       "      <td>COM0002222</td>\n",
       "      <td>A</td>\n",
       "      <td>B002</td>\n",
       "      <td>P</td>\n",
       "      <td>Y</td>\n",
       "      <td>S122</td>\n",
       "      <td>B</td>\n",
       "    </tr>\n",
       "    <tr>\n",
       "      <th>1</th>\n",
       "      <td>APPB10687939341</td>\n",
       "      <td>Male</td>\n",
       "      <td>13/07/81</td>\n",
       "      <td>01/07/16</td>\n",
       "      <td>C10003</td>\n",
       "      <td>A</td>\n",
       "      <td>COM0001784</td>\n",
       "      <td>C</td>\n",
       "      <td>B004</td>\n",
       "      <td>P</td>\n",
       "      <td>Y</td>\n",
       "      <td>S133</td>\n",
       "      <td>C</td>\n",
       "    </tr>\n",
       "    <tr>\n",
       "      <th>2</th>\n",
       "      <td>APPC80449411414</td>\n",
       "      <td>Female</td>\n",
       "      <td>19/11/90</td>\n",
       "      <td>01/07/16</td>\n",
       "      <td>C10009</td>\n",
       "      <td>B</td>\n",
       "      <td>COM0045260</td>\n",
       "      <td>B</td>\n",
       "      <td>B002</td>\n",
       "      <td>P</td>\n",
       "      <td>N</td>\n",
       "      <td>S133</td>\n",
       "      <td>B</td>\n",
       "    </tr>\n",
       "    <tr>\n",
       "      <th>3</th>\n",
       "      <td>APPD30665094501</td>\n",
       "      <td>Female</td>\n",
       "      <td>15/10/92</td>\n",
       "      <td>01/07/16</td>\n",
       "      <td>C10005</td>\n",
       "      <td>A</td>\n",
       "      <td>COM0000085</td>\n",
       "      <td>A</td>\n",
       "      <td>B001</td>\n",
       "      <td>P</td>\n",
       "      <td>N</td>\n",
       "      <td>S133</td>\n",
       "      <td>C</td>\n",
       "    </tr>\n",
       "    <tr>\n",
       "      <th>4</th>\n",
       "      <td>APPE80379821637</td>\n",
       "      <td>Male</td>\n",
       "      <td>21/09/88</td>\n",
       "      <td>01/07/16</td>\n",
       "      <td>C10005</td>\n",
       "      <td>A</td>\n",
       "      <td>COM0006422</td>\n",
       "      <td>A</td>\n",
       "      <td>B004</td>\n",
       "      <td>P</td>\n",
       "      <td>Y</td>\n",
       "      <td>S143</td>\n",
       "      <td>B</td>\n",
       "    </tr>\n",
       "  </tbody>\n",
       "</table>\n",
       "</div>"
      ],
      "text/plain": [
       "                ID  Gender       DOB Lead_Creation_Date City_Code  \\\n",
       "0  APPA70109647212    Male  03/06/88           05/07/16    C10028   \n",
       "1  APPB10687939341    Male  13/07/81           01/07/16    C10003   \n",
       "2  APPC80449411414  Female  19/11/90           01/07/16    C10009   \n",
       "3  APPD30665094501  Female  15/10/92           01/07/16    C10005   \n",
       "4  APPE80379821637    Male  21/09/88           01/07/16    C10005   \n",
       "\n",
       "  City_Category Employer_Code Employer_Category1  \\\n",
       "0             C    COM0002222                  A   \n",
       "1             A    COM0001784                  C   \n",
       "2             B    COM0045260                  B   \n",
       "3             A    COM0000085                  A   \n",
       "4             A    COM0006422                  A   \n",
       "\n",
       "  Customer_Existing_Primary_Bank_Code Primary_Bank_Type Contacted Source  \\\n",
       "0                                B002                 P         Y   S122   \n",
       "1                                B004                 P         Y   S133   \n",
       "2                                B002                 P         N   S133   \n",
       "3                                B001                 P         N   S133   \n",
       "4                                B004                 P         Y   S143   \n",
       "\n",
       "  Source_Category  \n",
       "0               B  \n",
       "1               C  \n",
       "2               B  \n",
       "3               C  \n",
       "4               B  "
      ]
     },
     "execution_count": 312,
     "metadata": {},
     "output_type": "execute_result"
    }
   ],
   "source": [
    "mckensydata_testcat.head()"
   ]
  },
  {
   "cell_type": "code",
   "execution_count": 313,
   "metadata": {
    "collapsed": true
   },
   "outputs": [],
   "source": [
    "mckensydatavaluestest=mckensydata_testcat[[\"ID\"]]"
   ]
  },
  {
   "cell_type": "code",
   "execution_count": 314,
   "metadata": {},
   "outputs": [
    {
     "data": {
      "text/html": [
       "<div>\n",
       "<style>\n",
       "    .dataframe thead tr:only-child th {\n",
       "        text-align: right;\n",
       "    }\n",
       "\n",
       "    .dataframe thead th {\n",
       "        text-align: left;\n",
       "    }\n",
       "\n",
       "    .dataframe tbody tr th {\n",
       "        vertical-align: top;\n",
       "    }\n",
       "</style>\n",
       "<table border=\"1\" class=\"dataframe\">\n",
       "  <thead>\n",
       "    <tr style=\"text-align: right;\">\n",
       "      <th></th>\n",
       "      <th>ID</th>\n",
       "    </tr>\n",
       "  </thead>\n",
       "  <tbody>\n",
       "    <tr>\n",
       "      <th>0</th>\n",
       "      <td>APPA70109647212</td>\n",
       "    </tr>\n",
       "    <tr>\n",
       "      <th>1</th>\n",
       "      <td>APPB10687939341</td>\n",
       "    </tr>\n",
       "    <tr>\n",
       "      <th>2</th>\n",
       "      <td>APPC80449411414</td>\n",
       "    </tr>\n",
       "    <tr>\n",
       "      <th>3</th>\n",
       "      <td>APPD30665094501</td>\n",
       "    </tr>\n",
       "    <tr>\n",
       "      <th>4</th>\n",
       "      <td>APPE80379821637</td>\n",
       "    </tr>\n",
       "  </tbody>\n",
       "</table>\n",
       "</div>"
      ],
      "text/plain": [
       "                ID\n",
       "0  APPA70109647212\n",
       "1  APPB10687939341\n",
       "2  APPC80449411414\n",
       "3  APPD30665094501\n",
       "4  APPE80379821637"
      ]
     },
     "execution_count": 314,
     "metadata": {},
     "output_type": "execute_result"
    }
   ],
   "source": [
    "mckensydatavaluestest.head()"
   ]
  },
  {
   "cell_type": "code",
   "execution_count": 315,
   "metadata": {},
   "outputs": [
    {
     "data": {
      "text/plain": [
       "(30037, 1)"
      ]
     },
     "execution_count": 315,
     "metadata": {},
     "output_type": "execute_result"
    }
   ],
   "source": [
    "mckensydatavaluestest.shape"
   ]
  },
  {
   "cell_type": "code",
   "execution_count": 316,
   "metadata": {
    "collapsed": true
   },
   "outputs": [],
   "source": [
    "mckensydata_testcat=mckensydata_testcat.drop([\"ID\"],axis=1)"
   ]
  },
  {
   "cell_type": "code",
   "execution_count": 317,
   "metadata": {},
   "outputs": [
    {
     "data": {
      "text/html": [
       "<div>\n",
       "<style>\n",
       "    .dataframe thead tr:only-child th {\n",
       "        text-align: right;\n",
       "    }\n",
       "\n",
       "    .dataframe thead th {\n",
       "        text-align: left;\n",
       "    }\n",
       "\n",
       "    .dataframe tbody tr th {\n",
       "        vertical-align: top;\n",
       "    }\n",
       "</style>\n",
       "<table border=\"1\" class=\"dataframe\">\n",
       "  <thead>\n",
       "    <tr style=\"text-align: right;\">\n",
       "      <th></th>\n",
       "      <th>Gender</th>\n",
       "      <th>DOB</th>\n",
       "      <th>Lead_Creation_Date</th>\n",
       "      <th>City_Code</th>\n",
       "      <th>City_Category</th>\n",
       "      <th>Employer_Code</th>\n",
       "      <th>Employer_Category1</th>\n",
       "      <th>Customer_Existing_Primary_Bank_Code</th>\n",
       "      <th>Primary_Bank_Type</th>\n",
       "      <th>Contacted</th>\n",
       "      <th>Source</th>\n",
       "      <th>Source_Category</th>\n",
       "    </tr>\n",
       "  </thead>\n",
       "  <tbody>\n",
       "    <tr>\n",
       "      <th>0</th>\n",
       "      <td>Male</td>\n",
       "      <td>03/06/88</td>\n",
       "      <td>05/07/16</td>\n",
       "      <td>C10028</td>\n",
       "      <td>C</td>\n",
       "      <td>COM0002222</td>\n",
       "      <td>A</td>\n",
       "      <td>B002</td>\n",
       "      <td>P</td>\n",
       "      <td>Y</td>\n",
       "      <td>S122</td>\n",
       "      <td>B</td>\n",
       "    </tr>\n",
       "    <tr>\n",
       "      <th>1</th>\n",
       "      <td>Male</td>\n",
       "      <td>13/07/81</td>\n",
       "      <td>01/07/16</td>\n",
       "      <td>C10003</td>\n",
       "      <td>A</td>\n",
       "      <td>COM0001784</td>\n",
       "      <td>C</td>\n",
       "      <td>B004</td>\n",
       "      <td>P</td>\n",
       "      <td>Y</td>\n",
       "      <td>S133</td>\n",
       "      <td>C</td>\n",
       "    </tr>\n",
       "    <tr>\n",
       "      <th>2</th>\n",
       "      <td>Female</td>\n",
       "      <td>19/11/90</td>\n",
       "      <td>01/07/16</td>\n",
       "      <td>C10009</td>\n",
       "      <td>B</td>\n",
       "      <td>COM0045260</td>\n",
       "      <td>B</td>\n",
       "      <td>B002</td>\n",
       "      <td>P</td>\n",
       "      <td>N</td>\n",
       "      <td>S133</td>\n",
       "      <td>B</td>\n",
       "    </tr>\n",
       "    <tr>\n",
       "      <th>3</th>\n",
       "      <td>Female</td>\n",
       "      <td>15/10/92</td>\n",
       "      <td>01/07/16</td>\n",
       "      <td>C10005</td>\n",
       "      <td>A</td>\n",
       "      <td>COM0000085</td>\n",
       "      <td>A</td>\n",
       "      <td>B001</td>\n",
       "      <td>P</td>\n",
       "      <td>N</td>\n",
       "      <td>S133</td>\n",
       "      <td>C</td>\n",
       "    </tr>\n",
       "    <tr>\n",
       "      <th>4</th>\n",
       "      <td>Male</td>\n",
       "      <td>21/09/88</td>\n",
       "      <td>01/07/16</td>\n",
       "      <td>C10005</td>\n",
       "      <td>A</td>\n",
       "      <td>COM0006422</td>\n",
       "      <td>A</td>\n",
       "      <td>B004</td>\n",
       "      <td>P</td>\n",
       "      <td>Y</td>\n",
       "      <td>S143</td>\n",
       "      <td>B</td>\n",
       "    </tr>\n",
       "  </tbody>\n",
       "</table>\n",
       "</div>"
      ],
      "text/plain": [
       "   Gender       DOB Lead_Creation_Date City_Code City_Category Employer_Code  \\\n",
       "0    Male  03/06/88           05/07/16    C10028             C    COM0002222   \n",
       "1    Male  13/07/81           01/07/16    C10003             A    COM0001784   \n",
       "2  Female  19/11/90           01/07/16    C10009             B    COM0045260   \n",
       "3  Female  15/10/92           01/07/16    C10005             A    COM0000085   \n",
       "4    Male  21/09/88           01/07/16    C10005             A    COM0006422   \n",
       "\n",
       "  Employer_Category1 Customer_Existing_Primary_Bank_Code Primary_Bank_Type  \\\n",
       "0                  A                                B002                 P   \n",
       "1                  C                                B004                 P   \n",
       "2                  B                                B002                 P   \n",
       "3                  A                                B001                 P   \n",
       "4                  A                                B004                 P   \n",
       "\n",
       "  Contacted Source Source_Category  \n",
       "0         Y   S122               B  \n",
       "1         Y   S133               C  \n",
       "2         N   S133               B  \n",
       "3         N   S133               C  \n",
       "4         Y   S143               B  "
      ]
     },
     "execution_count": 317,
     "metadata": {},
     "output_type": "execute_result"
    }
   ],
   "source": [
    "mckensydata_testcat.head()"
   ]
  },
  {
   "cell_type": "code",
   "execution_count": 318,
   "metadata": {},
   "outputs": [
    {
     "data": {
      "text/plain": [
       "Primary_Bank_Type                      4037\n",
       "Customer_Existing_Primary_Bank_Code    4037\n",
       "Employer_Category1                     1605\n",
       "Employer_Code                          1605\n",
       "City_Category                           314\n",
       "City_Code                               314\n",
       "DOB                                       3\n",
       "Source_Category                           0\n",
       "Source                                    0\n",
       "Contacted                                 0\n",
       "Lead_Creation_Date                        0\n",
       "Gender                                    0\n",
       "dtype: int64"
      ]
     },
     "execution_count": 318,
     "metadata": {},
     "output_type": "execute_result"
    }
   ],
   "source": [
    "(mckensydata_testcat.isnull().sum()).sort_values(ascending=False)  ## to find out number of missing values(NA) columns"
   ]
  },
  {
   "cell_type": "code",
   "execution_count": 319,
   "metadata": {
    "collapsed": true
   },
   "outputs": [],
   "source": [
    "mckensydata_testcat1=mckensydata_testcat.apply(lambda  mckensydata_testcat:  mckensydata_testcat.fillna( mckensydata_testcat.value_counts().index[0]),axis=0)"
   ]
  },
  {
   "cell_type": "code",
   "execution_count": 320,
   "metadata": {},
   "outputs": [
    {
     "data": {
      "text/html": [
       "<div>\n",
       "<style>\n",
       "    .dataframe thead tr:only-child th {\n",
       "        text-align: right;\n",
       "    }\n",
       "\n",
       "    .dataframe thead th {\n",
       "        text-align: left;\n",
       "    }\n",
       "\n",
       "    .dataframe tbody tr th {\n",
       "        vertical-align: top;\n",
       "    }\n",
       "</style>\n",
       "<table border=\"1\" class=\"dataframe\">\n",
       "  <thead>\n",
       "    <tr style=\"text-align: right;\">\n",
       "      <th></th>\n",
       "      <th>Gender</th>\n",
       "      <th>DOB</th>\n",
       "      <th>Lead_Creation_Date</th>\n",
       "      <th>City_Code</th>\n",
       "      <th>City_Category</th>\n",
       "      <th>Employer_Code</th>\n",
       "      <th>Employer_Category1</th>\n",
       "      <th>Customer_Existing_Primary_Bank_Code</th>\n",
       "      <th>Primary_Bank_Type</th>\n",
       "      <th>Contacted</th>\n",
       "      <th>Source</th>\n",
       "      <th>Source_Category</th>\n",
       "    </tr>\n",
       "  </thead>\n",
       "  <tbody>\n",
       "    <tr>\n",
       "      <th>0</th>\n",
       "      <td>Male</td>\n",
       "      <td>03/06/88</td>\n",
       "      <td>05/07/16</td>\n",
       "      <td>C10028</td>\n",
       "      <td>C</td>\n",
       "      <td>COM0002222</td>\n",
       "      <td>A</td>\n",
       "      <td>B002</td>\n",
       "      <td>P</td>\n",
       "      <td>Y</td>\n",
       "      <td>S122</td>\n",
       "      <td>B</td>\n",
       "    </tr>\n",
       "    <tr>\n",
       "      <th>1</th>\n",
       "      <td>Male</td>\n",
       "      <td>13/07/81</td>\n",
       "      <td>01/07/16</td>\n",
       "      <td>C10003</td>\n",
       "      <td>A</td>\n",
       "      <td>COM0001784</td>\n",
       "      <td>C</td>\n",
       "      <td>B004</td>\n",
       "      <td>P</td>\n",
       "      <td>Y</td>\n",
       "      <td>S133</td>\n",
       "      <td>C</td>\n",
       "    </tr>\n",
       "    <tr>\n",
       "      <th>2</th>\n",
       "      <td>Female</td>\n",
       "      <td>19/11/90</td>\n",
       "      <td>01/07/16</td>\n",
       "      <td>C10009</td>\n",
       "      <td>B</td>\n",
       "      <td>COM0045260</td>\n",
       "      <td>B</td>\n",
       "      <td>B002</td>\n",
       "      <td>P</td>\n",
       "      <td>N</td>\n",
       "      <td>S133</td>\n",
       "      <td>B</td>\n",
       "    </tr>\n",
       "    <tr>\n",
       "      <th>3</th>\n",
       "      <td>Female</td>\n",
       "      <td>15/10/92</td>\n",
       "      <td>01/07/16</td>\n",
       "      <td>C10005</td>\n",
       "      <td>A</td>\n",
       "      <td>COM0000085</td>\n",
       "      <td>A</td>\n",
       "      <td>B001</td>\n",
       "      <td>P</td>\n",
       "      <td>N</td>\n",
       "      <td>S133</td>\n",
       "      <td>C</td>\n",
       "    </tr>\n",
       "    <tr>\n",
       "      <th>4</th>\n",
       "      <td>Male</td>\n",
       "      <td>21/09/88</td>\n",
       "      <td>01/07/16</td>\n",
       "      <td>C10005</td>\n",
       "      <td>A</td>\n",
       "      <td>COM0006422</td>\n",
       "      <td>A</td>\n",
       "      <td>B004</td>\n",
       "      <td>P</td>\n",
       "      <td>Y</td>\n",
       "      <td>S143</td>\n",
       "      <td>B</td>\n",
       "    </tr>\n",
       "  </tbody>\n",
       "</table>\n",
       "</div>"
      ],
      "text/plain": [
       "   Gender       DOB Lead_Creation_Date City_Code City_Category Employer_Code  \\\n",
       "0    Male  03/06/88           05/07/16    C10028             C    COM0002222   \n",
       "1    Male  13/07/81           01/07/16    C10003             A    COM0001784   \n",
       "2  Female  19/11/90           01/07/16    C10009             B    COM0045260   \n",
       "3  Female  15/10/92           01/07/16    C10005             A    COM0000085   \n",
       "4    Male  21/09/88           01/07/16    C10005             A    COM0006422   \n",
       "\n",
       "  Employer_Category1 Customer_Existing_Primary_Bank_Code Primary_Bank_Type  \\\n",
       "0                  A                                B002                 P   \n",
       "1                  C                                B004                 P   \n",
       "2                  B                                B002                 P   \n",
       "3                  A                                B001                 P   \n",
       "4                  A                                B004                 P   \n",
       "\n",
       "  Contacted Source Source_Category  \n",
       "0         Y   S122               B  \n",
       "1         Y   S133               C  \n",
       "2         N   S133               B  \n",
       "3         N   S133               C  \n",
       "4         Y   S143               B  "
      ]
     },
     "execution_count": 320,
     "metadata": {},
     "output_type": "execute_result"
    }
   ],
   "source": [
    "mckensydata_testcat1.head()"
   ]
  },
  {
   "cell_type": "code",
   "execution_count": 321,
   "metadata": {},
   "outputs": [
    {
     "data": {
      "text/plain": [
       "Source_Category                        0\n",
       "Source                                 0\n",
       "Contacted                              0\n",
       "Primary_Bank_Type                      0\n",
       "Customer_Existing_Primary_Bank_Code    0\n",
       "Employer_Category1                     0\n",
       "Employer_Code                          0\n",
       "City_Category                          0\n",
       "City_Code                              0\n",
       "Lead_Creation_Date                     0\n",
       "DOB                                    0\n",
       "Gender                                 0\n",
       "dtype: int64"
      ]
     },
     "execution_count": 321,
     "metadata": {},
     "output_type": "execute_result"
    }
   ],
   "source": [
    "(mckensydata_testcat1.isnull().sum()).sort_values(ascending=False)  ## to find out number of missing values(NA) columns"
   ]
  },
  {
   "cell_type": "code",
   "execution_count": 322,
   "metadata": {},
   "outputs": [
    {
     "data": {
      "text/plain": [
       "(30037, 12)"
      ]
     },
     "execution_count": 322,
     "metadata": {},
     "output_type": "execute_result"
    }
   ],
   "source": [
    "mckensydata_testcat1.shape"
   ]
  },
  {
   "cell_type": "code",
   "execution_count": 323,
   "metadata": {
    "collapsed": true
   },
   "outputs": [],
   "source": [
    "from sklearn.preprocessing import LabelEncoder"
   ]
  },
  {
   "cell_type": "code",
   "execution_count": 324,
   "metadata": {
    "collapsed": true
   },
   "outputs": [],
   "source": [
    "le=LabelEncoder()"
   ]
  },
  {
   "cell_type": "code",
   "execution_count": 325,
   "metadata": {
    "collapsed": true
   },
   "outputs": [],
   "source": [
    "mckensydata_testcat1=mckensydata_testcat1.apply(le.fit_transform)"
   ]
  },
  {
   "cell_type": "code",
   "execution_count": 326,
   "metadata": {},
   "outputs": [
    {
     "data": {
      "text/html": [
       "<div>\n",
       "<style>\n",
       "    .dataframe thead tr:only-child th {\n",
       "        text-align: right;\n",
       "    }\n",
       "\n",
       "    .dataframe thead th {\n",
       "        text-align: left;\n",
       "    }\n",
       "\n",
       "    .dataframe tbody tr th {\n",
       "        vertical-align: top;\n",
       "    }\n",
       "</style>\n",
       "<table border=\"1\" class=\"dataframe\">\n",
       "  <thead>\n",
       "    <tr style=\"text-align: right;\">\n",
       "      <th></th>\n",
       "      <th>Gender</th>\n",
       "      <th>DOB</th>\n",
       "      <th>Lead_Creation_Date</th>\n",
       "      <th>City_Code</th>\n",
       "      <th>City_Category</th>\n",
       "      <th>Employer_Code</th>\n",
       "      <th>Employer_Category1</th>\n",
       "      <th>Customer_Existing_Primary_Bank_Code</th>\n",
       "      <th>Primary_Bank_Type</th>\n",
       "      <th>Contacted</th>\n",
       "      <th>Source</th>\n",
       "      <th>Source_Category</th>\n",
       "    </tr>\n",
       "  </thead>\n",
       "  <tbody>\n",
       "    <tr>\n",
       "      <th>0</th>\n",
       "      <td>1</td>\n",
       "      <td>778</td>\n",
       "      <td>12</td>\n",
       "      <td>27</td>\n",
       "      <td>2</td>\n",
       "      <td>2060</td>\n",
       "      <td>0</td>\n",
       "      <td>1</td>\n",
       "      <td>1</td>\n",
       "      <td>1</td>\n",
       "      <td>0</td>\n",
       "      <td>1</td>\n",
       "    </tr>\n",
       "    <tr>\n",
       "      <th>1</th>\n",
       "      <td>1</td>\n",
       "      <td>3640</td>\n",
       "      <td>0</td>\n",
       "      <td>2</td>\n",
       "      <td>0</td>\n",
       "      <td>1704</td>\n",
       "      <td>2</td>\n",
       "      <td>3</td>\n",
       "      <td>1</td>\n",
       "      <td>1</td>\n",
       "      <td>8</td>\n",
       "      <td>2</td>\n",
       "    </tr>\n",
       "    <tr>\n",
       "      <th>2</th>\n",
       "      <td>0</td>\n",
       "      <td>5436</td>\n",
       "      <td>0</td>\n",
       "      <td>8</td>\n",
       "      <td>1</td>\n",
       "      <td>15737</td>\n",
       "      <td>1</td>\n",
       "      <td>1</td>\n",
       "      <td>1</td>\n",
       "      <td>0</td>\n",
       "      <td>8</td>\n",
       "      <td>1</td>\n",
       "    </tr>\n",
       "    <tr>\n",
       "      <th>3</th>\n",
       "      <td>0</td>\n",
       "      <td>4313</td>\n",
       "      <td>0</td>\n",
       "      <td>4</td>\n",
       "      <td>0</td>\n",
       "      <td>83</td>\n",
       "      <td>0</td>\n",
       "      <td>0</td>\n",
       "      <td>1</td>\n",
       "      <td>0</td>\n",
       "      <td>8</td>\n",
       "      <td>2</td>\n",
       "    </tr>\n",
       "    <tr>\n",
       "      <th>4</th>\n",
       "      <td>1</td>\n",
       "      <td>5938</td>\n",
       "      <td>0</td>\n",
       "      <td>4</td>\n",
       "      <td>0</td>\n",
       "      <td>4788</td>\n",
       "      <td>0</td>\n",
       "      <td>3</td>\n",
       "      <td>1</td>\n",
       "      <td>1</td>\n",
       "      <td>16</td>\n",
       "      <td>1</td>\n",
       "    </tr>\n",
       "  </tbody>\n",
       "</table>\n",
       "</div>"
      ],
      "text/plain": [
       "   Gender   DOB  Lead_Creation_Date  City_Code  City_Category  Employer_Code  \\\n",
       "0       1   778                  12         27              2           2060   \n",
       "1       1  3640                   0          2              0           1704   \n",
       "2       0  5436                   0          8              1          15737   \n",
       "3       0  4313                   0          4              0             83   \n",
       "4       1  5938                   0          4              0           4788   \n",
       "\n",
       "   Employer_Category1  Customer_Existing_Primary_Bank_Code  Primary_Bank_Type  \\\n",
       "0                   0                                    1                  1   \n",
       "1                   2                                    3                  1   \n",
       "2                   1                                    1                  1   \n",
       "3                   0                                    0                  1   \n",
       "4                   0                                    3                  1   \n",
       "\n",
       "   Contacted  Source  Source_Category  \n",
       "0          1       0                1  \n",
       "1          1       8                2  \n",
       "2          0       8                1  \n",
       "3          0       8                2  \n",
       "4          1      16                1  "
      ]
     },
     "execution_count": 326,
     "metadata": {},
     "output_type": "execute_result"
    }
   ],
   "source": [
    "mckensydata_testcat1.head()"
   ]
  },
  {
   "cell_type": "code",
   "execution_count": 327,
   "metadata": {},
   "outputs": [
    {
     "data": {
      "text/plain": [
       "(30037, 12)"
      ]
     },
     "execution_count": 327,
     "metadata": {},
     "output_type": "execute_result"
    }
   ],
   "source": [
    "mckensydata_testcat1.shape"
   ]
  },
  {
   "cell_type": "code",
   "execution_count": 332,
   "metadata": {
    "collapsed": true
   },
   "outputs": [],
   "source": [
    "mckensydatadf_test=pd.concat([mckensydatavaluestest,mckensydata_testnum1,mckensydata_testcat1],axis=1)"
   ]
  },
  {
   "cell_type": "code",
   "execution_count": 333,
   "metadata": {},
   "outputs": [
    {
     "data": {
      "text/html": [
       "<div>\n",
       "<style>\n",
       "    .dataframe thead tr:only-child th {\n",
       "        text-align: right;\n",
       "    }\n",
       "\n",
       "    .dataframe thead th {\n",
       "        text-align: left;\n",
       "    }\n",
       "\n",
       "    .dataframe tbody tr th {\n",
       "        vertical-align: top;\n",
       "    }\n",
       "</style>\n",
       "<table border=\"1\" class=\"dataframe\">\n",
       "  <thead>\n",
       "    <tr style=\"text-align: right;\">\n",
       "      <th></th>\n",
       "      <th>ID</th>\n",
       "      <th>Employer_Category2</th>\n",
       "      <th>Monthly_Income</th>\n",
       "      <th>Existing_EMI</th>\n",
       "      <th>Loan_Amount</th>\n",
       "      <th>Loan_Period</th>\n",
       "      <th>Interest_Rate</th>\n",
       "      <th>EMI</th>\n",
       "      <th>Var1</th>\n",
       "      <th>Gender</th>\n",
       "      <th>...</th>\n",
       "      <th>Lead_Creation_Date</th>\n",
       "      <th>City_Code</th>\n",
       "      <th>City_Category</th>\n",
       "      <th>Employer_Code</th>\n",
       "      <th>Employer_Category1</th>\n",
       "      <th>Customer_Existing_Primary_Bank_Code</th>\n",
       "      <th>Primary_Bank_Type</th>\n",
       "      <th>Contacted</th>\n",
       "      <th>Source</th>\n",
       "      <th>Source_Category</th>\n",
       "    </tr>\n",
       "  </thead>\n",
       "  <tbody>\n",
       "    <tr>\n",
       "      <th>0</th>\n",
       "      <td>APPA70109647212</td>\n",
       "      <td>4.0</td>\n",
       "      <td>2150.0</td>\n",
       "      <td>0.0</td>\n",
       "      <td>10000.000000</td>\n",
       "      <td>3.000000</td>\n",
       "      <td>20.000000</td>\n",
       "      <td>372.000000</td>\n",
       "      <td>4</td>\n",
       "      <td>1</td>\n",
       "      <td>...</td>\n",
       "      <td>12</td>\n",
       "      <td>27</td>\n",
       "      <td>2</td>\n",
       "      <td>2060</td>\n",
       "      <td>0</td>\n",
       "      <td>1</td>\n",
       "      <td>1</td>\n",
       "      <td>1</td>\n",
       "      <td>0</td>\n",
       "      <td>1</td>\n",
       "    </tr>\n",
       "    <tr>\n",
       "      <th>1</th>\n",
       "      <td>APPB10687939341</td>\n",
       "      <td>4.0</td>\n",
       "      <td>4200.0</td>\n",
       "      <td>0.0</td>\n",
       "      <td>69000.000000</td>\n",
       "      <td>5.000000</td>\n",
       "      <td>24.000000</td>\n",
       "      <td>1985.000000</td>\n",
       "      <td>7</td>\n",
       "      <td>1</td>\n",
       "      <td>...</td>\n",
       "      <td>0</td>\n",
       "      <td>2</td>\n",
       "      <td>0</td>\n",
       "      <td>1704</td>\n",
       "      <td>2</td>\n",
       "      <td>3</td>\n",
       "      <td>1</td>\n",
       "      <td>1</td>\n",
       "      <td>8</td>\n",
       "      <td>2</td>\n",
       "    </tr>\n",
       "    <tr>\n",
       "      <th>2</th>\n",
       "      <td>APPC80449411414</td>\n",
       "      <td>4.0</td>\n",
       "      <td>1000.0</td>\n",
       "      <td>0.0</td>\n",
       "      <td>39482.990201</td>\n",
       "      <td>3.903116</td>\n",
       "      <td>19.280537</td>\n",
       "      <td>1094.914836</td>\n",
       "      <td>0</td>\n",
       "      <td>0</td>\n",
       "      <td>...</td>\n",
       "      <td>0</td>\n",
       "      <td>8</td>\n",
       "      <td>1</td>\n",
       "      <td>15737</td>\n",
       "      <td>1</td>\n",
       "      <td>1</td>\n",
       "      <td>1</td>\n",
       "      <td>0</td>\n",
       "      <td>8</td>\n",
       "      <td>1</td>\n",
       "    </tr>\n",
       "    <tr>\n",
       "      <th>3</th>\n",
       "      <td>APPD30665094501</td>\n",
       "      <td>3.0</td>\n",
       "      <td>1465.0</td>\n",
       "      <td>0.0</td>\n",
       "      <td>39482.990201</td>\n",
       "      <td>3.903116</td>\n",
       "      <td>19.280537</td>\n",
       "      <td>1094.914836</td>\n",
       "      <td>0</td>\n",
       "      <td>0</td>\n",
       "      <td>...</td>\n",
       "      <td>0</td>\n",
       "      <td>4</td>\n",
       "      <td>0</td>\n",
       "      <td>83</td>\n",
       "      <td>0</td>\n",
       "      <td>0</td>\n",
       "      <td>1</td>\n",
       "      <td>0</td>\n",
       "      <td>8</td>\n",
       "      <td>2</td>\n",
       "    </tr>\n",
       "    <tr>\n",
       "      <th>4</th>\n",
       "      <td>APPE80379821637</td>\n",
       "      <td>4.0</td>\n",
       "      <td>2340.0</td>\n",
       "      <td>500.0</td>\n",
       "      <td>10000.000000</td>\n",
       "      <td>2.000000</td>\n",
       "      <td>19.280537</td>\n",
       "      <td>1094.914836</td>\n",
       "      <td>0</td>\n",
       "      <td>1</td>\n",
       "      <td>...</td>\n",
       "      <td>0</td>\n",
       "      <td>4</td>\n",
       "      <td>0</td>\n",
       "      <td>4788</td>\n",
       "      <td>0</td>\n",
       "      <td>3</td>\n",
       "      <td>1</td>\n",
       "      <td>1</td>\n",
       "      <td>16</td>\n",
       "      <td>1</td>\n",
       "    </tr>\n",
       "  </tbody>\n",
       "</table>\n",
       "<p>5 rows × 21 columns</p>\n",
       "</div>"
      ],
      "text/plain": [
       "                ID  Employer_Category2  Monthly_Income  Existing_EMI  \\\n",
       "0  APPA70109647212                 4.0          2150.0           0.0   \n",
       "1  APPB10687939341                 4.0          4200.0           0.0   \n",
       "2  APPC80449411414                 4.0          1000.0           0.0   \n",
       "3  APPD30665094501                 3.0          1465.0           0.0   \n",
       "4  APPE80379821637                 4.0          2340.0         500.0   \n",
       "\n",
       "    Loan_Amount  Loan_Period  Interest_Rate          EMI  Var1  Gender  \\\n",
       "0  10000.000000     3.000000      20.000000   372.000000     4       1   \n",
       "1  69000.000000     5.000000      24.000000  1985.000000     7       1   \n",
       "2  39482.990201     3.903116      19.280537  1094.914836     0       0   \n",
       "3  39482.990201     3.903116      19.280537  1094.914836     0       0   \n",
       "4  10000.000000     2.000000      19.280537  1094.914836     0       1   \n",
       "\n",
       "        ...         Lead_Creation_Date  City_Code  City_Category  \\\n",
       "0       ...                         12         27              2   \n",
       "1       ...                          0          2              0   \n",
       "2       ...                          0          8              1   \n",
       "3       ...                          0          4              0   \n",
       "4       ...                          0          4              0   \n",
       "\n",
       "   Employer_Code  Employer_Category1  Customer_Existing_Primary_Bank_Code  \\\n",
       "0           2060                   0                                    1   \n",
       "1           1704                   2                                    3   \n",
       "2          15737                   1                                    1   \n",
       "3             83                   0                                    0   \n",
       "4           4788                   0                                    3   \n",
       "\n",
       "   Primary_Bank_Type  Contacted  Source  Source_Category  \n",
       "0                  1          1       0                1  \n",
       "1                  1          1       8                2  \n",
       "2                  1          0       8                1  \n",
       "3                  1          0       8                2  \n",
       "4                  1          1      16                1  \n",
       "\n",
       "[5 rows x 21 columns]"
      ]
     },
     "execution_count": 333,
     "metadata": {},
     "output_type": "execute_result"
    }
   ],
   "source": [
    "mckensydatadf_test.head()"
   ]
  },
  {
   "cell_type": "code",
   "execution_count": 334,
   "metadata": {},
   "outputs": [
    {
     "data": {
      "text/plain": [
       "(30037, 21)"
      ]
     },
     "execution_count": 334,
     "metadata": {},
     "output_type": "execute_result"
    }
   ],
   "source": [
    "mckensydatadf_test.shape"
   ]
  },
  {
   "cell_type": "code",
   "execution_count": 335,
   "metadata": {},
   "outputs": [
    {
     "data": {
      "text/plain": [
       "Source_Category                        0\n",
       "Gender                                 0\n",
       "Employer_Category2                     0\n",
       "Monthly_Income                         0\n",
       "Existing_EMI                           0\n",
       "Loan_Amount                            0\n",
       "Loan_Period                            0\n",
       "Interest_Rate                          0\n",
       "EMI                                    0\n",
       "Var1                                   0\n",
       "DOB                                    0\n",
       "Source                                 0\n",
       "Lead_Creation_Date                     0\n",
       "City_Code                              0\n",
       "City_Category                          0\n",
       "Employer_Code                          0\n",
       "Employer_Category1                     0\n",
       "Customer_Existing_Primary_Bank_Code    0\n",
       "Primary_Bank_Type                      0\n",
       "Contacted                              0\n",
       "ID                                     0\n",
       "dtype: int64"
      ]
     },
     "execution_count": 335,
     "metadata": {},
     "output_type": "execute_result"
    }
   ],
   "source": [
    "(mckensydatadf_test.isnull().sum()).sort_values(ascending=False)  ## to find out number of missing values(NA) columns"
   ]
  },
  {
   "cell_type": "code",
   "execution_count": 336,
   "metadata": {
    "collapsed": true
   },
   "outputs": [],
   "source": [
    "mckensydatadf_test1=mckensydatadf_test.drop([\"Var1\",\"City_Code\",\"Employer_Category2\",\"Employer_Code\",\"Customer_Existing_Primary_Bank_Code\",\"Contacted\"],axis=1)"
   ]
  },
  {
   "cell_type": "code",
   "execution_count": 337,
   "metadata": {},
   "outputs": [
    {
     "data": {
      "text/html": [
       "<div>\n",
       "<style>\n",
       "    .dataframe thead tr:only-child th {\n",
       "        text-align: right;\n",
       "    }\n",
       "\n",
       "    .dataframe thead th {\n",
       "        text-align: left;\n",
       "    }\n",
       "\n",
       "    .dataframe tbody tr th {\n",
       "        vertical-align: top;\n",
       "    }\n",
       "</style>\n",
       "<table border=\"1\" class=\"dataframe\">\n",
       "  <thead>\n",
       "    <tr style=\"text-align: right;\">\n",
       "      <th></th>\n",
       "      <th>ID</th>\n",
       "      <th>Monthly_Income</th>\n",
       "      <th>Existing_EMI</th>\n",
       "      <th>Loan_Amount</th>\n",
       "      <th>Loan_Period</th>\n",
       "      <th>Interest_Rate</th>\n",
       "      <th>EMI</th>\n",
       "      <th>Gender</th>\n",
       "      <th>DOB</th>\n",
       "      <th>Lead_Creation_Date</th>\n",
       "      <th>City_Category</th>\n",
       "      <th>Employer_Category1</th>\n",
       "      <th>Primary_Bank_Type</th>\n",
       "      <th>Source</th>\n",
       "      <th>Source_Category</th>\n",
       "    </tr>\n",
       "  </thead>\n",
       "  <tbody>\n",
       "    <tr>\n",
       "      <th>0</th>\n",
       "      <td>APPA70109647212</td>\n",
       "      <td>2150.0</td>\n",
       "      <td>0.0</td>\n",
       "      <td>10000.000000</td>\n",
       "      <td>3.000000</td>\n",
       "      <td>20.000000</td>\n",
       "      <td>372.000000</td>\n",
       "      <td>1</td>\n",
       "      <td>778</td>\n",
       "      <td>12</td>\n",
       "      <td>2</td>\n",
       "      <td>0</td>\n",
       "      <td>1</td>\n",
       "      <td>0</td>\n",
       "      <td>1</td>\n",
       "    </tr>\n",
       "    <tr>\n",
       "      <th>1</th>\n",
       "      <td>APPB10687939341</td>\n",
       "      <td>4200.0</td>\n",
       "      <td>0.0</td>\n",
       "      <td>69000.000000</td>\n",
       "      <td>5.000000</td>\n",
       "      <td>24.000000</td>\n",
       "      <td>1985.000000</td>\n",
       "      <td>1</td>\n",
       "      <td>3640</td>\n",
       "      <td>0</td>\n",
       "      <td>0</td>\n",
       "      <td>2</td>\n",
       "      <td>1</td>\n",
       "      <td>8</td>\n",
       "      <td>2</td>\n",
       "    </tr>\n",
       "    <tr>\n",
       "      <th>2</th>\n",
       "      <td>APPC80449411414</td>\n",
       "      <td>1000.0</td>\n",
       "      <td>0.0</td>\n",
       "      <td>39482.990201</td>\n",
       "      <td>3.903116</td>\n",
       "      <td>19.280537</td>\n",
       "      <td>1094.914836</td>\n",
       "      <td>0</td>\n",
       "      <td>5436</td>\n",
       "      <td>0</td>\n",
       "      <td>1</td>\n",
       "      <td>1</td>\n",
       "      <td>1</td>\n",
       "      <td>8</td>\n",
       "      <td>1</td>\n",
       "    </tr>\n",
       "    <tr>\n",
       "      <th>3</th>\n",
       "      <td>APPD30665094501</td>\n",
       "      <td>1465.0</td>\n",
       "      <td>0.0</td>\n",
       "      <td>39482.990201</td>\n",
       "      <td>3.903116</td>\n",
       "      <td>19.280537</td>\n",
       "      <td>1094.914836</td>\n",
       "      <td>0</td>\n",
       "      <td>4313</td>\n",
       "      <td>0</td>\n",
       "      <td>0</td>\n",
       "      <td>0</td>\n",
       "      <td>1</td>\n",
       "      <td>8</td>\n",
       "      <td>2</td>\n",
       "    </tr>\n",
       "    <tr>\n",
       "      <th>4</th>\n",
       "      <td>APPE80379821637</td>\n",
       "      <td>2340.0</td>\n",
       "      <td>500.0</td>\n",
       "      <td>10000.000000</td>\n",
       "      <td>2.000000</td>\n",
       "      <td>19.280537</td>\n",
       "      <td>1094.914836</td>\n",
       "      <td>1</td>\n",
       "      <td>5938</td>\n",
       "      <td>0</td>\n",
       "      <td>0</td>\n",
       "      <td>0</td>\n",
       "      <td>1</td>\n",
       "      <td>16</td>\n",
       "      <td>1</td>\n",
       "    </tr>\n",
       "  </tbody>\n",
       "</table>\n",
       "</div>"
      ],
      "text/plain": [
       "                ID  Monthly_Income  Existing_EMI   Loan_Amount  Loan_Period  \\\n",
       "0  APPA70109647212          2150.0           0.0  10000.000000     3.000000   \n",
       "1  APPB10687939341          4200.0           0.0  69000.000000     5.000000   \n",
       "2  APPC80449411414          1000.0           0.0  39482.990201     3.903116   \n",
       "3  APPD30665094501          1465.0           0.0  39482.990201     3.903116   \n",
       "4  APPE80379821637          2340.0         500.0  10000.000000     2.000000   \n",
       "\n",
       "   Interest_Rate          EMI  Gender   DOB  Lead_Creation_Date  \\\n",
       "0      20.000000   372.000000       1   778                  12   \n",
       "1      24.000000  1985.000000       1  3640                   0   \n",
       "2      19.280537  1094.914836       0  5436                   0   \n",
       "3      19.280537  1094.914836       0  4313                   0   \n",
       "4      19.280537  1094.914836       1  5938                   0   \n",
       "\n",
       "   City_Category  Employer_Category1  Primary_Bank_Type  Source  \\\n",
       "0              2                   0                  1       0   \n",
       "1              0                   2                  1       8   \n",
       "2              1                   1                  1       8   \n",
       "3              0                   0                  1       8   \n",
       "4              0                   0                  1      16   \n",
       "\n",
       "   Source_Category  \n",
       "0                1  \n",
       "1                2  \n",
       "2                1  \n",
       "3                2  \n",
       "4                1  "
      ]
     },
     "execution_count": 337,
     "metadata": {},
     "output_type": "execute_result"
    }
   ],
   "source": [
    "mckensydatadf_test1.head()"
   ]
  },
  {
   "cell_type": "code",
   "execution_count": 338,
   "metadata": {
    "collapsed": true
   },
   "outputs": [],
   "source": [
    "X=mckensydatadf_test1.drop([\"ID\"],axis=1)"
   ]
  },
  {
   "cell_type": "code",
   "execution_count": 238,
   "metadata": {
    "collapsed": true
   },
   "outputs": [],
   "source": [
    "supportvectorpredict_test=supportvector.predict(X)"
   ]
  },
  {
   "cell_type": "code",
   "execution_count": 150,
   "metadata": {
    "collapsed": true
   },
   "outputs": [],
   "source": [
    "BNBpredict_test=BNB.predict(X)"
   ]
  },
  {
   "cell_type": "code",
   "execution_count": 73,
   "metadata": {
    "collapsed": true
   },
   "outputs": [],
   "source": [
    "gbmpredict_test=gbm.predict(X)"
   ]
  },
  {
   "cell_type": "code",
   "execution_count": 339,
   "metadata": {
    "collapsed": true
   },
   "outputs": [],
   "source": [
    "gnbpredict_test=gnb.predict(X)"
   ]
  },
  {
   "cell_type": "code",
   "execution_count": 791,
   "metadata": {
    "collapsed": true
   },
   "outputs": [],
   "source": [
    "neighpredict_test=neigh.predict(X)"
   ]
  },
  {
   "cell_type": "code",
   "execution_count": 513,
   "metadata": {
    "collapsed": true
   },
   "outputs": [],
   "source": [
    "Randforpredict_test=Randfor.predict(X)"
   ]
  },
  {
   "cell_type": "code",
   "execution_count": 715,
   "metadata": {
    "collapsed": true
   },
   "outputs": [],
   "source": [
    "logreg_test=logreg.predict(X)"
   ]
  },
  {
   "cell_type": "code",
   "execution_count": 595,
   "metadata": {
    "collapsed": true
   },
   "outputs": [],
   "source": [
    "neuralpredict_test=neural.predict(X)"
   ]
  },
  {
   "cell_type": "code",
   "execution_count": 95,
   "metadata": {
    "collapsed": true
   },
   "outputs": [],
   "source": [
    "DecTreepredict1=DecTree.predict(X)"
   ]
  },
  {
   "cell_type": "code",
   "execution_count": 340,
   "metadata": {
    "collapsed": true
   },
   "outputs": [],
   "source": [
    "pd.DataFrame(gnbpredict_test).to_csv(\"D:/analytics/Hackathon/Mckensy/gnbpredict_test.csv\") #converting to csv download from home of jupyter notebook then convert the values in csv to exp in csv using exp() the file will ne in local folder"
   ]
  },
  {
   "cell_type": "code",
   "execution_count": null,
   "metadata": {
    "collapsed": true
   },
   "outputs": [],
   "source": []
  }
 ],
 "metadata": {
  "kernelspec": {
   "display_name": "Python 3",
   "language": "python",
   "name": "python3"
  },
  "language_info": {
   "codemirror_mode": {
    "name": "ipython",
    "version": 3
   },
   "file_extension": ".py",
   "mimetype": "text/x-python",
   "name": "python",
   "nbconvert_exporter": "python",
   "pygments_lexer": "ipython3",
   "version": "3.6.3"
  }
 },
 "nbformat": 4,
 "nbformat_minor": 2
}
